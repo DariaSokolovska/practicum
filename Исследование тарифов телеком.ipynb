{
 "cells": [
  {
   "cell_type": "markdown",
   "id": "c4b24a81",
   "metadata": {
    "toc": true
   },
   "source": [
    "<h1>Table of Contents<span class=\"tocSkip\"></span></h1>\n",
    "<div class=\"toc\"><ul class=\"toc-item\"><li><span><a href=\"#Изучение-данных\" data-toc-modified-id=\"Изучение-данных-1\"><span class=\"toc-item-num\">1&nbsp;&nbsp;</span>Изучение данных</a></span></li><li><span><a href=\"#Подготовка-данных\" data-toc-modified-id=\"Подготовка-данных-2\"><span class=\"toc-item-num\">2&nbsp;&nbsp;</span>Подготовка данных</a></span></li><li><span><a href=\"#Дополнительные-рассчеты\" data-toc-modified-id=\"Дополнительные-рассчеты-3\"><span class=\"toc-item-num\">3&nbsp;&nbsp;</span>Дополнительные рассчеты</a></span><ul class=\"toc-item\"><li><span><a href=\"#Количество-сделанных-звонков-и-израсходованных-минут-разговора-по-месяцам\" data-toc-modified-id=\"Количество-сделанных-звонков-и-израсходованных-минут-разговора-по-месяцам-3.1\"><span class=\"toc-item-num\">3.1&nbsp;&nbsp;</span>Количество сделанных звонков и израсходованных минут разговора по месяцам</a></span></li><li><span><a href=\"#Количество-отправленных-сообщений-по-месяцам\" data-toc-modified-id=\"Количество-отправленных-сообщений-по-месяцам-3.2\"><span class=\"toc-item-num\">3.2&nbsp;&nbsp;</span>Количество отправленных сообщений по месяцам</a></span></li><li><span><a href=\"#Объем-израсходованного-интернет-трафика-по-месяцам\" data-toc-modified-id=\"Объем-израсходованного-интернет-трафика-по-месяцам-3.3\"><span class=\"toc-item-num\">3.3&nbsp;&nbsp;</span>Объем израсходованного интернет-трафика по месяцам</a></span></li><li><span><a href=\"#Помесячную-выручку-с-каждого-пользователя\" data-toc-modified-id=\"Помесячную-выручку-с-каждого-пользователя-3.4\"><span class=\"toc-item-num\">3.4&nbsp;&nbsp;</span>Помесячную выручку с каждого пользователя</a></span></li></ul></li><li><span><a href=\"#Анализ-данных\" data-toc-modified-id=\"Анализ-данных-4\"><span class=\"toc-item-num\">4&nbsp;&nbsp;</span>Анализ данных</a></span><ul class=\"toc-item\"><li><span><a href=\"#Сколько-минут-разговора-требуется-пользователям-каждого-тарифа-в-месяц?\" data-toc-modified-id=\"Сколько-минут-разговора-требуется-пользователям-каждого-тарифа-в-месяц?-4.1\"><span class=\"toc-item-num\">4.1&nbsp;&nbsp;</span>Сколько минут разговора требуется пользователям каждого тарифа в месяц?</a></span></li><li><span><a href=\"#Сколько-сообщений-требуется-пользователям-каждого-тарифа-в-месяц?\" data-toc-modified-id=\"Сколько-сообщений-требуется-пользователям-каждого-тарифа-в-месяц?-4.2\"><span class=\"toc-item-num\">4.2&nbsp;&nbsp;</span>Сколько сообщений требуется пользователям каждого тарифа в месяц?</a></span></li><li><span><a href=\"#Сколько-интернет-трафика-требуется-пользователям-каждого-тарифа-в-месяц?\" data-toc-modified-id=\"Сколько-интернет-трафика-требуется-пользователям-каждого-тарифа-в-месяц?-4.3\"><span class=\"toc-item-num\">4.3&nbsp;&nbsp;</span>Сколько интернет-трафика требуется пользователям каждого тарифа в месяц?</a></span></li></ul></li><li><span><a href=\"#Проверка-гипотез\" data-toc-modified-id=\"Проверка-гипотез-5\"><span class=\"toc-item-num\">5&nbsp;&nbsp;</span>Проверка гипотез</a></span><ul class=\"toc-item\"><li><span><a href=\"#Cредняя-выручка-пользователей-тарифов-«Ультра»-и-«Смарт»-различаются\" data-toc-modified-id=\"Cредняя-выручка-пользователей-тарифов-«Ультра»-и-«Смарт»-различаются-5.1\"><span class=\"toc-item-num\">5.1&nbsp;&nbsp;</span>Cредняя выручка пользователей тарифов «Ультра» и «Смарт» различаются</a></span></li><li><span><a href=\"#Cредняя-выручка-пользователей-из-Москвы-отличается-от-выручки-пользователей-из-других-регионов\" data-toc-modified-id=\"Cредняя-выручка-пользователей-из-Москвы-отличается-от-выручки-пользователей-из-других-регионов-5.2\"><span class=\"toc-item-num\">5.2&nbsp;&nbsp;</span>Cредняя выручка пользователей из Москвы отличается от выручки пользователей из других регионов</a></span></li></ul></li><li><span><a href=\"#Вывод\" data-toc-modified-id=\"Вывод-6\"><span class=\"toc-item-num\">6&nbsp;&nbsp;</span>Вывод</a></span></li></ul></div>"
   ]
  },
  {
   "cell_type": "markdown",
   "id": "70aa3f3f",
   "metadata": {},
   "source": [
    "# Описание проекта"
   ]
  },
  {
   "cell_type": "markdown",
   "id": "fb065472",
   "metadata": {},
   "source": [
    "Клиентам предлагают два тарифных плана: «Смарт» и «Ультра». Чтобы скорректировать рекламный бюджет, необходимо понять, какой тариф приносит больше денег.\n",
    "Необходимо сделать предварительный анализ тарифов на небольшой выборке клиентов. "
   ]
  },
  {
   "cell_type": "markdown",
   "id": "42fece33",
   "metadata": {},
   "source": [
    "**Описание тарифов**\n",
    "\n",
    "Тариф «Смарт»:\n",
    "\n",
    "- Ежемесячная плата: 550 рублей\n",
    "- Включено 500 минут разговора, 50 сообщений и 15 Гб интернет-трафика\n",
    "- Стоимость услуг сверх тарифного пакета:\n",
    "- Минута разговора: 3 рубля\n",
    "- Сообщение: 3 рубля\n",
    "- 1 Гб интернет-трафика: 200 рублей\n",
    "\n",
    "Тариф «Ультра»:\n",
    "\n",
    "- Ежемесячная плата: 1950 рублей\n",
    "- Включено 3000 минут разговора, 1000 сообщений и 30 Гб интернет-трафика\n",
    "- Стоимость услуг сверх тарифного пакета:\n",
    "- Минута разговора: 1 рубль\n",
    "- Сообщение: 1 рубль\n",
    "- 1 Гб интернет-трафика: 150 рублей"
   ]
  },
  {
   "cell_type": "markdown",
   "id": "16bfce0e",
   "metadata": {},
   "source": [
    "## Изучение данных"
   ]
  },
  {
   "cell_type": "code",
   "execution_count": 1,
   "id": "e19ecd2e",
   "metadata": {},
   "outputs": [],
   "source": [
    "#импортирую необходимые библиотеки\n",
    "import pandas as pd\n",
    "import math\n",
    "import numpy as np\n",
    "import matplotlib.pyplot as plt\n",
    "from scipy import stats as st\n",
    "import seaborn as sns\n",
    "import warnings\n",
    "import plotly.express as px\n",
    "#warnings.filterwarnnings('ignore')"
   ]
  },
  {
   "cell_type": "code",
   "execution_count": 2,
   "id": "240b8497",
   "metadata": {},
   "outputs": [],
   "source": [
    "try:\n",
    "    calls = pd.read_csv('/datasets/calls.csv')\n",
    "    internet = pd.read_csv('/datasets/internet.csv')\n",
    "    messages = pd.read_csv('/datasets/messages.csv')\n",
    "    tariffs = pd.read_csv('/datasets/tariffs.csv')\n",
    "    users = pd.read_csv('/datasets/users.csv')\n",
    "except:\n",
    "    users = pd.read_csv('/Users/evgeniyognevoy/Downloads/users.csv')\n",
    "    calls = pd.read_csv('/Users/evgeniyognevoy/Downloads/calls.csv')\n",
    "    internet = pd.read_csv('/Users/evgeniyognevoy/Downloads/internet.csv')\n",
    "    messages = pd.read_csv('/Users/evgeniyognevoy/Downloads/messages.csv')\n",
    "    tariffs = pd.read_csv('/Users/evgeniyognevoy/Downloads/tariffs.csv')\n",
    "    \n",
    "    "
   ]
  },
  {
   "cell_type": "code",
   "execution_count": 3,
   "id": "6033ec27",
   "metadata": {},
   "outputs": [
    {
     "data": {
      "text/html": [
       "<div>\n",
       "<style scoped>\n",
       "    .dataframe tbody tr th:only-of-type {\n",
       "        vertical-align: middle;\n",
       "    }\n",
       "\n",
       "    .dataframe tbody tr th {\n",
       "        vertical-align: top;\n",
       "    }\n",
       "\n",
       "    .dataframe thead th {\n",
       "        text-align: right;\n",
       "    }\n",
       "</style>\n",
       "<table border=\"1\" class=\"dataframe\">\n",
       "  <thead>\n",
       "    <tr style=\"text-align: right;\">\n",
       "      <th></th>\n",
       "      <th>user_id</th>\n",
       "      <th>age</th>\n",
       "      <th>churn_date</th>\n",
       "      <th>city</th>\n",
       "      <th>first_name</th>\n",
       "      <th>last_name</th>\n",
       "      <th>reg_date</th>\n",
       "      <th>tariff</th>\n",
       "    </tr>\n",
       "  </thead>\n",
       "  <tbody>\n",
       "    <tr>\n",
       "      <th>0</th>\n",
       "      <td>1000</td>\n",
       "      <td>52</td>\n",
       "      <td>NaN</td>\n",
       "      <td>Краснодар</td>\n",
       "      <td>Рафаил</td>\n",
       "      <td>Верещагин</td>\n",
       "      <td>2018-05-25</td>\n",
       "      <td>ultra</td>\n",
       "    </tr>\n",
       "    <tr>\n",
       "      <th>1</th>\n",
       "      <td>1001</td>\n",
       "      <td>41</td>\n",
       "      <td>NaN</td>\n",
       "      <td>Москва</td>\n",
       "      <td>Иван</td>\n",
       "      <td>Ежов</td>\n",
       "      <td>2018-11-01</td>\n",
       "      <td>smart</td>\n",
       "    </tr>\n",
       "    <tr>\n",
       "      <th>2</th>\n",
       "      <td>1002</td>\n",
       "      <td>59</td>\n",
       "      <td>NaN</td>\n",
       "      <td>Стерлитамак</td>\n",
       "      <td>Евгений</td>\n",
       "      <td>Абрамович</td>\n",
       "      <td>2018-06-17</td>\n",
       "      <td>smart</td>\n",
       "    </tr>\n",
       "    <tr>\n",
       "      <th>3</th>\n",
       "      <td>1003</td>\n",
       "      <td>23</td>\n",
       "      <td>NaN</td>\n",
       "      <td>Москва</td>\n",
       "      <td>Белла</td>\n",
       "      <td>Белякова</td>\n",
       "      <td>2018-08-17</td>\n",
       "      <td>ultra</td>\n",
       "    </tr>\n",
       "    <tr>\n",
       "      <th>4</th>\n",
       "      <td>1004</td>\n",
       "      <td>68</td>\n",
       "      <td>NaN</td>\n",
       "      <td>Новокузнецк</td>\n",
       "      <td>Татьяна</td>\n",
       "      <td>Авдеенко</td>\n",
       "      <td>2018-05-14</td>\n",
       "      <td>ultra</td>\n",
       "    </tr>\n",
       "  </tbody>\n",
       "</table>\n",
       "</div>"
      ],
      "text/plain": [
       "   user_id  age churn_date         city first_name  last_name    reg_date  \\\n",
       "0     1000   52        NaN    Краснодар     Рафаил  Верещагин  2018-05-25   \n",
       "1     1001   41        NaN       Москва       Иван       Ежов  2018-11-01   \n",
       "2     1002   59        NaN  Стерлитамак    Евгений  Абрамович  2018-06-17   \n",
       "3     1003   23        NaN       Москва      Белла   Белякова  2018-08-17   \n",
       "4     1004   68        NaN  Новокузнецк    Татьяна   Авдеенко  2018-05-14   \n",
       "\n",
       "  tariff  \n",
       "0  ultra  \n",
       "1  smart  \n",
       "2  smart  \n",
       "3  ultra  \n",
       "4  ultra  "
      ]
     },
     "metadata": {},
     "output_type": "display_data"
    },
    {
     "name": "stdout",
     "output_type": "stream",
     "text": [
      "<class 'pandas.core.frame.DataFrame'>\n",
      "RangeIndex: 500 entries, 0 to 499\n",
      "Data columns (total 8 columns):\n",
      " #   Column      Non-Null Count  Dtype \n",
      "---  ------      --------------  ----- \n",
      " 0   user_id     500 non-null    int64 \n",
      " 1   age         500 non-null    int64 \n",
      " 2   churn_date  38 non-null     object\n",
      " 3   city        500 non-null    object\n",
      " 4   first_name  500 non-null    object\n",
      " 5   last_name   500 non-null    object\n",
      " 6   reg_date    500 non-null    object\n",
      " 7   tariff      500 non-null    object\n",
      "dtypes: int64(2), object(6)\n",
      "memory usage: 31.4+ KB\n"
     ]
    }
   ],
   "source": [
    "#ознакамливаюсь с файлом 'users'\n",
    "##users = pd.read_csv('/Users/evgeniyognevoy/Downloads/users.csv')\n",
    "display(users.head())\n",
    "users.info()"
   ]
  },
  {
   "cell_type": "code",
   "execution_count": 4,
   "id": "dc937578",
   "metadata": {},
   "outputs": [
    {
     "data": {
      "text/html": [
       "<div>\n",
       "<style scoped>\n",
       "    .dataframe tbody tr th:only-of-type {\n",
       "        vertical-align: middle;\n",
       "    }\n",
       "\n",
       "    .dataframe tbody tr th {\n",
       "        vertical-align: top;\n",
       "    }\n",
       "\n",
       "    .dataframe thead th {\n",
       "        text-align: right;\n",
       "    }\n",
       "</style>\n",
       "<table border=\"1\" class=\"dataframe\">\n",
       "  <thead>\n",
       "    <tr style=\"text-align: right;\">\n",
       "      <th></th>\n",
       "      <th>id</th>\n",
       "      <th>call_date</th>\n",
       "      <th>duration</th>\n",
       "      <th>user_id</th>\n",
       "    </tr>\n",
       "  </thead>\n",
       "  <tbody>\n",
       "    <tr>\n",
       "      <th>0</th>\n",
       "      <td>1000_0</td>\n",
       "      <td>2018-07-25</td>\n",
       "      <td>0.00</td>\n",
       "      <td>1000</td>\n",
       "    </tr>\n",
       "    <tr>\n",
       "      <th>1</th>\n",
       "      <td>1000_1</td>\n",
       "      <td>2018-08-17</td>\n",
       "      <td>0.00</td>\n",
       "      <td>1000</td>\n",
       "    </tr>\n",
       "    <tr>\n",
       "      <th>2</th>\n",
       "      <td>1000_2</td>\n",
       "      <td>2018-06-11</td>\n",
       "      <td>2.85</td>\n",
       "      <td>1000</td>\n",
       "    </tr>\n",
       "    <tr>\n",
       "      <th>3</th>\n",
       "      <td>1000_3</td>\n",
       "      <td>2018-09-21</td>\n",
       "      <td>13.80</td>\n",
       "      <td>1000</td>\n",
       "    </tr>\n",
       "    <tr>\n",
       "      <th>4</th>\n",
       "      <td>1000_4</td>\n",
       "      <td>2018-12-15</td>\n",
       "      <td>5.18</td>\n",
       "      <td>1000</td>\n",
       "    </tr>\n",
       "  </tbody>\n",
       "</table>\n",
       "</div>"
      ],
      "text/plain": [
       "       id   call_date  duration  user_id\n",
       "0  1000_0  2018-07-25      0.00     1000\n",
       "1  1000_1  2018-08-17      0.00     1000\n",
       "2  1000_2  2018-06-11      2.85     1000\n",
       "3  1000_3  2018-09-21     13.80     1000\n",
       "4  1000_4  2018-12-15      5.18     1000"
      ]
     },
     "metadata": {},
     "output_type": "display_data"
    },
    {
     "name": "stdout",
     "output_type": "stream",
     "text": [
      "<class 'pandas.core.frame.DataFrame'>\n",
      "RangeIndex: 202607 entries, 0 to 202606\n",
      "Data columns (total 4 columns):\n",
      " #   Column     Non-Null Count   Dtype  \n",
      "---  ------     --------------   -----  \n",
      " 0   id         202607 non-null  object \n",
      " 1   call_date  202607 non-null  object \n",
      " 2   duration   202607 non-null  float64\n",
      " 3   user_id    202607 non-null  int64  \n",
      "dtypes: float64(1), int64(1), object(2)\n",
      "memory usage: 6.2+ MB\n"
     ]
    }
   ],
   "source": [
    "#ознакамливаюсь с файлом 'calls'\n",
    "##calls = pd.read_csv('/Users/evgeniyognevoy/Downloads/calls.csv')\n",
    "display(calls.head())\n",
    "calls.info()"
   ]
  },
  {
   "cell_type": "code",
   "execution_count": 5,
   "id": "3f57684a",
   "metadata": {},
   "outputs": [
    {
     "data": {
      "text/html": [
       "<div>\n",
       "<style scoped>\n",
       "    .dataframe tbody tr th:only-of-type {\n",
       "        vertical-align: middle;\n",
       "    }\n",
       "\n",
       "    .dataframe tbody tr th {\n",
       "        vertical-align: top;\n",
       "    }\n",
       "\n",
       "    .dataframe thead th {\n",
       "        text-align: right;\n",
       "    }\n",
       "</style>\n",
       "<table border=\"1\" class=\"dataframe\">\n",
       "  <thead>\n",
       "    <tr style=\"text-align: right;\">\n",
       "      <th></th>\n",
       "      <th>Unnamed: 0</th>\n",
       "      <th>id</th>\n",
       "      <th>mb_used</th>\n",
       "      <th>session_date</th>\n",
       "      <th>user_id</th>\n",
       "    </tr>\n",
       "  </thead>\n",
       "  <tbody>\n",
       "    <tr>\n",
       "      <th>0</th>\n",
       "      <td>0</td>\n",
       "      <td>1000_0</td>\n",
       "      <td>112.95</td>\n",
       "      <td>2018-11-25</td>\n",
       "      <td>1000</td>\n",
       "    </tr>\n",
       "    <tr>\n",
       "      <th>1</th>\n",
       "      <td>1</td>\n",
       "      <td>1000_1</td>\n",
       "      <td>1052.81</td>\n",
       "      <td>2018-09-07</td>\n",
       "      <td>1000</td>\n",
       "    </tr>\n",
       "    <tr>\n",
       "      <th>2</th>\n",
       "      <td>2</td>\n",
       "      <td>1000_2</td>\n",
       "      <td>1197.26</td>\n",
       "      <td>2018-06-25</td>\n",
       "      <td>1000</td>\n",
       "    </tr>\n",
       "    <tr>\n",
       "      <th>3</th>\n",
       "      <td>3</td>\n",
       "      <td>1000_3</td>\n",
       "      <td>550.27</td>\n",
       "      <td>2018-08-22</td>\n",
       "      <td>1000</td>\n",
       "    </tr>\n",
       "    <tr>\n",
       "      <th>4</th>\n",
       "      <td>4</td>\n",
       "      <td>1000_4</td>\n",
       "      <td>302.56</td>\n",
       "      <td>2018-09-24</td>\n",
       "      <td>1000</td>\n",
       "    </tr>\n",
       "  </tbody>\n",
       "</table>\n",
       "</div>"
      ],
      "text/plain": [
       "   Unnamed: 0      id  mb_used session_date  user_id\n",
       "0           0  1000_0   112.95   2018-11-25     1000\n",
       "1           1  1000_1  1052.81   2018-09-07     1000\n",
       "2           2  1000_2  1197.26   2018-06-25     1000\n",
       "3           3  1000_3   550.27   2018-08-22     1000\n",
       "4           4  1000_4   302.56   2018-09-24     1000"
      ]
     },
     "metadata": {},
     "output_type": "display_data"
    },
    {
     "name": "stdout",
     "output_type": "stream",
     "text": [
      "<class 'pandas.core.frame.DataFrame'>\n",
      "RangeIndex: 149396 entries, 0 to 149395\n",
      "Data columns (total 5 columns):\n",
      " #   Column        Non-Null Count   Dtype  \n",
      "---  ------        --------------   -----  \n",
      " 0   Unnamed: 0    149396 non-null  int64  \n",
      " 1   id            149396 non-null  object \n",
      " 2   mb_used       149396 non-null  float64\n",
      " 3   session_date  149396 non-null  object \n",
      " 4   user_id       149396 non-null  int64  \n",
      "dtypes: float64(1), int64(2), object(2)\n",
      "memory usage: 5.7+ MB\n"
     ]
    }
   ],
   "source": [
    "#ознакамливаюсь с файлом 'internet'\n",
    "##internet = pd.read_csv('/Users/evgeniyognevoy/Downloads/internet.csv')\n",
    "display(internet.head())\n",
    "internet.info()"
   ]
  },
  {
   "cell_type": "code",
   "execution_count": 6,
   "id": "5b3cfcb2",
   "metadata": {},
   "outputs": [
    {
     "data": {
      "text/html": [
       "<div>\n",
       "<style scoped>\n",
       "    .dataframe tbody tr th:only-of-type {\n",
       "        vertical-align: middle;\n",
       "    }\n",
       "\n",
       "    .dataframe tbody tr th {\n",
       "        vertical-align: top;\n",
       "    }\n",
       "\n",
       "    .dataframe thead th {\n",
       "        text-align: right;\n",
       "    }\n",
       "</style>\n",
       "<table border=\"1\" class=\"dataframe\">\n",
       "  <thead>\n",
       "    <tr style=\"text-align: right;\">\n",
       "      <th></th>\n",
       "      <th>id</th>\n",
       "      <th>message_date</th>\n",
       "      <th>user_id</th>\n",
       "    </tr>\n",
       "  </thead>\n",
       "  <tbody>\n",
       "    <tr>\n",
       "      <th>0</th>\n",
       "      <td>1000_0</td>\n",
       "      <td>2018-06-27</td>\n",
       "      <td>1000</td>\n",
       "    </tr>\n",
       "    <tr>\n",
       "      <th>1</th>\n",
       "      <td>1000_1</td>\n",
       "      <td>2018-10-08</td>\n",
       "      <td>1000</td>\n",
       "    </tr>\n",
       "    <tr>\n",
       "      <th>2</th>\n",
       "      <td>1000_2</td>\n",
       "      <td>2018-08-04</td>\n",
       "      <td>1000</td>\n",
       "    </tr>\n",
       "    <tr>\n",
       "      <th>3</th>\n",
       "      <td>1000_3</td>\n",
       "      <td>2018-06-16</td>\n",
       "      <td>1000</td>\n",
       "    </tr>\n",
       "    <tr>\n",
       "      <th>4</th>\n",
       "      <td>1000_4</td>\n",
       "      <td>2018-12-05</td>\n",
       "      <td>1000</td>\n",
       "    </tr>\n",
       "  </tbody>\n",
       "</table>\n",
       "</div>"
      ],
      "text/plain": [
       "       id message_date  user_id\n",
       "0  1000_0   2018-06-27     1000\n",
       "1  1000_1   2018-10-08     1000\n",
       "2  1000_2   2018-08-04     1000\n",
       "3  1000_3   2018-06-16     1000\n",
       "4  1000_4   2018-12-05     1000"
      ]
     },
     "metadata": {},
     "output_type": "display_data"
    },
    {
     "name": "stdout",
     "output_type": "stream",
     "text": [
      "<class 'pandas.core.frame.DataFrame'>\n",
      "RangeIndex: 123036 entries, 0 to 123035\n",
      "Data columns (total 3 columns):\n",
      " #   Column        Non-Null Count   Dtype \n",
      "---  ------        --------------   ----- \n",
      " 0   id            123036 non-null  object\n",
      " 1   message_date  123036 non-null  object\n",
      " 2   user_id       123036 non-null  int64 \n",
      "dtypes: int64(1), object(2)\n",
      "memory usage: 2.8+ MB\n"
     ]
    }
   ],
   "source": [
    "#ознакамливаюсь с файлом 'messages'\n",
    "##messages = pd.read_csv('/Users/evgeniyognevoy/Downloads/messages.csv')\n",
    "display(messages.head())\n",
    "messages.info()"
   ]
  },
  {
   "cell_type": "code",
   "execution_count": 7,
   "id": "131387a7",
   "metadata": {},
   "outputs": [
    {
     "data": {
      "text/html": [
       "<div>\n",
       "<style scoped>\n",
       "    .dataframe tbody tr th:only-of-type {\n",
       "        vertical-align: middle;\n",
       "    }\n",
       "\n",
       "    .dataframe tbody tr th {\n",
       "        vertical-align: top;\n",
       "    }\n",
       "\n",
       "    .dataframe thead th {\n",
       "        text-align: right;\n",
       "    }\n",
       "</style>\n",
       "<table border=\"1\" class=\"dataframe\">\n",
       "  <thead>\n",
       "    <tr style=\"text-align: right;\">\n",
       "      <th></th>\n",
       "      <th>messages_included</th>\n",
       "      <th>mb_per_month_included</th>\n",
       "      <th>minutes_included</th>\n",
       "      <th>rub_monthly_fee</th>\n",
       "      <th>rub_per_gb</th>\n",
       "      <th>rub_per_message</th>\n",
       "      <th>rub_per_minute</th>\n",
       "      <th>tariff_name</th>\n",
       "    </tr>\n",
       "  </thead>\n",
       "  <tbody>\n",
       "    <tr>\n",
       "      <th>0</th>\n",
       "      <td>50</td>\n",
       "      <td>15360</td>\n",
       "      <td>500</td>\n",
       "      <td>550</td>\n",
       "      <td>200</td>\n",
       "      <td>3</td>\n",
       "      <td>3</td>\n",
       "      <td>smart</td>\n",
       "    </tr>\n",
       "    <tr>\n",
       "      <th>1</th>\n",
       "      <td>1000</td>\n",
       "      <td>30720</td>\n",
       "      <td>3000</td>\n",
       "      <td>1950</td>\n",
       "      <td>150</td>\n",
       "      <td>1</td>\n",
       "      <td>1</td>\n",
       "      <td>ultra</td>\n",
       "    </tr>\n",
       "  </tbody>\n",
       "</table>\n",
       "</div>"
      ],
      "text/plain": [
       "   messages_included  mb_per_month_included  minutes_included  \\\n",
       "0                 50                  15360               500   \n",
       "1               1000                  30720              3000   \n",
       "\n",
       "   rub_monthly_fee  rub_per_gb  rub_per_message  rub_per_minute tariff_name  \n",
       "0              550         200                3               3       smart  \n",
       "1             1950         150                1               1       ultra  "
      ]
     },
     "metadata": {},
     "output_type": "display_data"
    }
   ],
   "source": [
    "#ознакамливаюсь с файлом 'tariffs'\n",
    "##tariffs = pd.read_csv('/Users/evgeniyognevoy/Downloads/tariffs.csv')\n",
    "display(tariffs.head())"
   ]
  },
  {
   "cell_type": "markdown",
   "id": "8c2e76ab",
   "metadata": {},
   "source": [
    "## Подготовка данных"
   ]
  },
  {
   "cell_type": "code",
   "execution_count": 8,
   "id": "1218da82",
   "metadata": {},
   "outputs": [
    {
     "data": {
      "text/html": [
       "<div>\n",
       "<style scoped>\n",
       "    .dataframe tbody tr th:only-of-type {\n",
       "        vertical-align: middle;\n",
       "    }\n",
       "\n",
       "    .dataframe tbody tr th {\n",
       "        vertical-align: top;\n",
       "    }\n",
       "\n",
       "    .dataframe thead th {\n",
       "        text-align: right;\n",
       "    }\n",
       "</style>\n",
       "<table border=\"1\" class=\"dataframe\">\n",
       "  <thead>\n",
       "    <tr style=\"text-align: right;\">\n",
       "      <th></th>\n",
       "      <th>user_id</th>\n",
       "      <th>age</th>\n",
       "      <th>churn_date</th>\n",
       "      <th>city</th>\n",
       "      <th>first_name</th>\n",
       "      <th>last_name</th>\n",
       "      <th>reg_date</th>\n",
       "      <th>tariff</th>\n",
       "    </tr>\n",
       "  </thead>\n",
       "  <tbody>\n",
       "    <tr>\n",
       "      <th>0</th>\n",
       "      <td>1000</td>\n",
       "      <td>52</td>\n",
       "      <td>NaN</td>\n",
       "      <td>Краснодар</td>\n",
       "      <td>Рафаил</td>\n",
       "      <td>Верещагин</td>\n",
       "      <td>2018-05-25</td>\n",
       "      <td>ultra</td>\n",
       "    </tr>\n",
       "    <tr>\n",
       "      <th>1</th>\n",
       "      <td>1001</td>\n",
       "      <td>41</td>\n",
       "      <td>NaN</td>\n",
       "      <td>Москва</td>\n",
       "      <td>Иван</td>\n",
       "      <td>Ежов</td>\n",
       "      <td>2018-11-01</td>\n",
       "      <td>smart</td>\n",
       "    </tr>\n",
       "    <tr>\n",
       "      <th>2</th>\n",
       "      <td>1002</td>\n",
       "      <td>59</td>\n",
       "      <td>NaN</td>\n",
       "      <td>Стерлитамак</td>\n",
       "      <td>Евгений</td>\n",
       "      <td>Абрамович</td>\n",
       "      <td>2018-06-17</td>\n",
       "      <td>smart</td>\n",
       "    </tr>\n",
       "    <tr>\n",
       "      <th>3</th>\n",
       "      <td>1003</td>\n",
       "      <td>23</td>\n",
       "      <td>NaN</td>\n",
       "      <td>Москва</td>\n",
       "      <td>Белла</td>\n",
       "      <td>Белякова</td>\n",
       "      <td>2018-08-17</td>\n",
       "      <td>ultra</td>\n",
       "    </tr>\n",
       "    <tr>\n",
       "      <th>4</th>\n",
       "      <td>1004</td>\n",
       "      <td>68</td>\n",
       "      <td>NaN</td>\n",
       "      <td>Новокузнецк</td>\n",
       "      <td>Татьяна</td>\n",
       "      <td>Авдеенко</td>\n",
       "      <td>2018-05-14</td>\n",
       "      <td>ultra</td>\n",
       "    </tr>\n",
       "  </tbody>\n",
       "</table>\n",
       "</div>"
      ],
      "text/plain": [
       "   user_id  age churn_date         city first_name  last_name    reg_date  \\\n",
       "0     1000   52        NaN    Краснодар     Рафаил  Верещагин  2018-05-25   \n",
       "1     1001   41        NaN       Москва       Иван       Ежов  2018-11-01   \n",
       "2     1002   59        NaN  Стерлитамак    Евгений  Абрамович  2018-06-17   \n",
       "3     1003   23        NaN       Москва      Белла   Белякова  2018-08-17   \n",
       "4     1004   68        NaN  Новокузнецк    Татьяна   Авдеенко  2018-05-14   \n",
       "\n",
       "  tariff  \n",
       "0  ultra  \n",
       "1  smart  \n",
       "2  smart  \n",
       "3  ultra  \n",
       "4  ultra  "
      ]
     },
     "metadata": {},
     "output_type": "display_data"
    },
    {
     "name": "stdout",
     "output_type": "stream",
     "text": [
      "<class 'pandas.core.frame.DataFrame'>\n",
      "RangeIndex: 500 entries, 0 to 499\n",
      "Data columns (total 8 columns):\n",
      " #   Column      Non-Null Count  Dtype \n",
      "---  ------      --------------  ----- \n",
      " 0   user_id     500 non-null    int64 \n",
      " 1   age         500 non-null    int64 \n",
      " 2   churn_date  38 non-null     object\n",
      " 3   city        500 non-null    object\n",
      " 4   first_name  500 non-null    object\n",
      " 5   last_name   500 non-null    object\n",
      " 6   reg_date    500 non-null    object\n",
      " 7   tariff      500 non-null    object\n",
      "dtypes: int64(2), object(6)\n",
      "memory usage: 31.4+ KB\n"
     ]
    },
    {
     "data": {
      "text/plain": [
       "0"
      ]
     },
     "execution_count": 8,
     "metadata": {},
     "output_type": "execute_result"
    }
   ],
   "source": [
    "display(users.head())\n",
    "users.info()\n",
    "#привожу данные к нужному типу\n",
    "users['reg_date'] = pd.to_datetime(users['reg_date'])\n",
    "#проверяю наличие дубликатов\n",
    "users.duplicated().sum()"
   ]
  },
  {
   "cell_type": "code",
   "execution_count": 9,
   "id": "c760a179",
   "metadata": {},
   "outputs": [
    {
     "data": {
      "text/html": [
       "<div>\n",
       "<style scoped>\n",
       "    .dataframe tbody tr th:only-of-type {\n",
       "        vertical-align: middle;\n",
       "    }\n",
       "\n",
       "    .dataframe tbody tr th {\n",
       "        vertical-align: top;\n",
       "    }\n",
       "\n",
       "    .dataframe thead th {\n",
       "        text-align: right;\n",
       "    }\n",
       "</style>\n",
       "<table border=\"1\" class=\"dataframe\">\n",
       "  <thead>\n",
       "    <tr style=\"text-align: right;\">\n",
       "      <th></th>\n",
       "      <th>id</th>\n",
       "      <th>call_date</th>\n",
       "      <th>duration</th>\n",
       "      <th>user_id</th>\n",
       "    </tr>\n",
       "  </thead>\n",
       "  <tbody>\n",
       "    <tr>\n",
       "      <th>0</th>\n",
       "      <td>1000_0</td>\n",
       "      <td>2018-07-25</td>\n",
       "      <td>0.00</td>\n",
       "      <td>1000</td>\n",
       "    </tr>\n",
       "    <tr>\n",
       "      <th>1</th>\n",
       "      <td>1000_1</td>\n",
       "      <td>2018-08-17</td>\n",
       "      <td>0.00</td>\n",
       "      <td>1000</td>\n",
       "    </tr>\n",
       "    <tr>\n",
       "      <th>2</th>\n",
       "      <td>1000_2</td>\n",
       "      <td>2018-06-11</td>\n",
       "      <td>2.85</td>\n",
       "      <td>1000</td>\n",
       "    </tr>\n",
       "    <tr>\n",
       "      <th>3</th>\n",
       "      <td>1000_3</td>\n",
       "      <td>2018-09-21</td>\n",
       "      <td>13.80</td>\n",
       "      <td>1000</td>\n",
       "    </tr>\n",
       "    <tr>\n",
       "      <th>4</th>\n",
       "      <td>1000_4</td>\n",
       "      <td>2018-12-15</td>\n",
       "      <td>5.18</td>\n",
       "      <td>1000</td>\n",
       "    </tr>\n",
       "  </tbody>\n",
       "</table>\n",
       "</div>"
      ],
      "text/plain": [
       "       id   call_date  duration  user_id\n",
       "0  1000_0  2018-07-25      0.00     1000\n",
       "1  1000_1  2018-08-17      0.00     1000\n",
       "2  1000_2  2018-06-11      2.85     1000\n",
       "3  1000_3  2018-09-21     13.80     1000\n",
       "4  1000_4  2018-12-15      5.18     1000"
      ]
     },
     "metadata": {},
     "output_type": "display_data"
    },
    {
     "name": "stdout",
     "output_type": "stream",
     "text": [
      "<class 'pandas.core.frame.DataFrame'>\n",
      "RangeIndex: 202607 entries, 0 to 202606\n",
      "Data columns (total 4 columns):\n",
      " #   Column     Non-Null Count   Dtype  \n",
      "---  ------     --------------   -----  \n",
      " 0   id         202607 non-null  object \n",
      " 1   call_date  202607 non-null  object \n",
      " 2   duration   202607 non-null  float64\n",
      " 3   user_id    202607 non-null  int64  \n",
      "dtypes: float64(1), int64(1), object(2)\n",
      "memory usage: 6.2+ MB\n"
     ]
    },
    {
     "data": {
      "text/plain": [
       "0"
      ]
     },
     "execution_count": 9,
     "metadata": {},
     "output_type": "execute_result"
    },
    {
     "data": {
      "image/png": "[encoded data removed]",
      "text/plain": [
       "<Figure size 432x288 with 1 Axes>"
      ]
     },
     "metadata": {
      "needs_background": "light"
     },
     "output_type": "display_data"
    }
   ],
   "source": [
    "display(calls.head())\n",
    "calls.info()\n",
    "#привожу данные к нужному типу\n",
    "calls['call_date'] = pd.to_datetime(calls['call_date'])\n",
    "calls['duration'].unique()\n",
    "#нулями обозначены пропущенные звонки, поэтому их не нужно удалять\n",
    "calls['duration'].hist(bins=100)\n",
    "#проверяю наличие дубликатов\n",
    "calls.duplicated().sum()"
   ]
  },
  {
   "cell_type": "markdown",
   "id": "d72b773c",
   "metadata": {},
   "source": [
    "«Мегалайн» всегда округляет секунды до минут. Каждый звонок округляется отдельно: даже если он длился всего 1 секунду, будет засчитан как 1 минута.\n",
    "Для этого нужно написать функцию для округления значений вверх, и применить для столбца 'duration'"
   ]
  },
  {
   "cell_type": "code",
   "execution_count": 10,
   "id": "84674192",
   "metadata": {},
   "outputs": [],
   "source": [
    "calls['duration'] = np.ceil(calls['duration'])"
   ]
  },
  {
   "cell_type": "code",
   "execution_count": 11,
   "id": "61d1faec",
   "metadata": {},
   "outputs": [
    {
     "data": {
      "text/html": [
       "<div>\n",
       "<style scoped>\n",
       "    .dataframe tbody tr th:only-of-type {\n",
       "        vertical-align: middle;\n",
       "    }\n",
       "\n",
       "    .dataframe tbody tr th {\n",
       "        vertical-align: top;\n",
       "    }\n",
       "\n",
       "    .dataframe thead th {\n",
       "        text-align: right;\n",
       "    }\n",
       "</style>\n",
       "<table border=\"1\" class=\"dataframe\">\n",
       "  <thead>\n",
       "    <tr style=\"text-align: right;\">\n",
       "      <th></th>\n",
       "      <th>Unnamed: 0</th>\n",
       "      <th>id</th>\n",
       "      <th>mb_used</th>\n",
       "      <th>session_date</th>\n",
       "      <th>user_id</th>\n",
       "    </tr>\n",
       "  </thead>\n",
       "  <tbody>\n",
       "    <tr>\n",
       "      <th>0</th>\n",
       "      <td>0</td>\n",
       "      <td>1000_0</td>\n",
       "      <td>112.95</td>\n",
       "      <td>2018-11-25</td>\n",
       "      <td>1000</td>\n",
       "    </tr>\n",
       "    <tr>\n",
       "      <th>1</th>\n",
       "      <td>1</td>\n",
       "      <td>1000_1</td>\n",
       "      <td>1052.81</td>\n",
       "      <td>2018-09-07</td>\n",
       "      <td>1000</td>\n",
       "    </tr>\n",
       "    <tr>\n",
       "      <th>2</th>\n",
       "      <td>2</td>\n",
       "      <td>1000_2</td>\n",
       "      <td>1197.26</td>\n",
       "      <td>2018-06-25</td>\n",
       "      <td>1000</td>\n",
       "    </tr>\n",
       "    <tr>\n",
       "      <th>3</th>\n",
       "      <td>3</td>\n",
       "      <td>1000_3</td>\n",
       "      <td>550.27</td>\n",
       "      <td>2018-08-22</td>\n",
       "      <td>1000</td>\n",
       "    </tr>\n",
       "    <tr>\n",
       "      <th>4</th>\n",
       "      <td>4</td>\n",
       "      <td>1000_4</td>\n",
       "      <td>302.56</td>\n",
       "      <td>2018-09-24</td>\n",
       "      <td>1000</td>\n",
       "    </tr>\n",
       "  </tbody>\n",
       "</table>\n",
       "</div>"
      ],
      "text/plain": [
       "   Unnamed: 0      id  mb_used session_date  user_id\n",
       "0           0  1000_0   112.95   2018-11-25     1000\n",
       "1           1  1000_1  1052.81   2018-09-07     1000\n",
       "2           2  1000_2  1197.26   2018-06-25     1000\n",
       "3           3  1000_3   550.27   2018-08-22     1000\n",
       "4           4  1000_4   302.56   2018-09-24     1000"
      ]
     },
     "metadata": {},
     "output_type": "display_data"
    },
    {
     "name": "stdout",
     "output_type": "stream",
     "text": [
      "<class 'pandas.core.frame.DataFrame'>\n",
      "RangeIndex: 149396 entries, 0 to 149395\n",
      "Data columns (total 5 columns):\n",
      " #   Column        Non-Null Count   Dtype  \n",
      "---  ------        --------------   -----  \n",
      " 0   Unnamed: 0    149396 non-null  int64  \n",
      " 1   id            149396 non-null  object \n",
      " 2   mb_used       149396 non-null  float64\n",
      " 3   session_date  149396 non-null  object \n",
      " 4   user_id       149396 non-null  int64  \n",
      "dtypes: float64(1), int64(2), object(2)\n",
      "memory usage: 5.7+ MB\n"
     ]
    },
    {
     "data": {
      "text/plain": [
       "0"
      ]
     },
     "execution_count": 11,
     "metadata": {},
     "output_type": "execute_result"
    },
    {
     "data": {
      "image/png": "[encoded data removed]",
      "text/plain": [
       "<Figure size 432x288 with 1 Axes>"
      ]
     },
     "metadata": {
      "needs_background": "light"
     },
     "output_type": "display_data"
    }
   ],
   "source": [
    "display(internet.head())\n",
    "internet.info()\n",
    "#привожу данные к нужному типу\n",
    "internet['session_date'] = pd.to_datetime(internet['session_date'])\n",
    "internet['mb_used'].value_counts()\n",
    "#19598 строк из 149396 содержат 0 в столбце. Это 13% всех значений, а это слишком много что бы удалять эти строки.\n",
    "#Так же я предположила, что удалять нулевые значения трафика также не стоит, \n",
    "#потому что тариф может быть у клиента с кнопочным телефоном, \n",
    "#который или не выходит в интернет в принципе или тратит минимум трафика \n",
    "internet['mb_used'].hist(bins=100)\n",
    "#проверяю наличие дубликатов\n",
    "internet.duplicated().sum()"
   ]
  },
  {
   "cell_type": "code",
   "execution_count": 12,
   "id": "44ae0aa3",
   "metadata": {},
   "outputs": [
    {
     "data": {
      "text/html": [
       "<div>\n",
       "<style scoped>\n",
       "    .dataframe tbody tr th:only-of-type {\n",
       "        vertical-align: middle;\n",
       "    }\n",
       "\n",
       "    .dataframe tbody tr th {\n",
       "        vertical-align: top;\n",
       "    }\n",
       "\n",
       "    .dataframe thead th {\n",
       "        text-align: right;\n",
       "    }\n",
       "</style>\n",
       "<table border=\"1\" class=\"dataframe\">\n",
       "  <thead>\n",
       "    <tr style=\"text-align: right;\">\n",
       "      <th></th>\n",
       "      <th>id</th>\n",
       "      <th>message_date</th>\n",
       "      <th>user_id</th>\n",
       "    </tr>\n",
       "  </thead>\n",
       "  <tbody>\n",
       "    <tr>\n",
       "      <th>0</th>\n",
       "      <td>1000_0</td>\n",
       "      <td>2018-06-27</td>\n",
       "      <td>1000</td>\n",
       "    </tr>\n",
       "    <tr>\n",
       "      <th>1</th>\n",
       "      <td>1000_1</td>\n",
       "      <td>2018-10-08</td>\n",
       "      <td>1000</td>\n",
       "    </tr>\n",
       "    <tr>\n",
       "      <th>2</th>\n",
       "      <td>1000_2</td>\n",
       "      <td>2018-08-04</td>\n",
       "      <td>1000</td>\n",
       "    </tr>\n",
       "    <tr>\n",
       "      <th>3</th>\n",
       "      <td>1000_3</td>\n",
       "      <td>2018-06-16</td>\n",
       "      <td>1000</td>\n",
       "    </tr>\n",
       "    <tr>\n",
       "      <th>4</th>\n",
       "      <td>1000_4</td>\n",
       "      <td>2018-12-05</td>\n",
       "      <td>1000</td>\n",
       "    </tr>\n",
       "  </tbody>\n",
       "</table>\n",
       "</div>"
      ],
      "text/plain": [
       "       id message_date  user_id\n",
       "0  1000_0   2018-06-27     1000\n",
       "1  1000_1   2018-10-08     1000\n",
       "2  1000_2   2018-08-04     1000\n",
       "3  1000_3   2018-06-16     1000\n",
       "4  1000_4   2018-12-05     1000"
      ]
     },
     "metadata": {},
     "output_type": "display_data"
    },
    {
     "name": "stdout",
     "output_type": "stream",
     "text": [
      "<class 'pandas.core.frame.DataFrame'>\n",
      "RangeIndex: 123036 entries, 0 to 123035\n",
      "Data columns (total 3 columns):\n",
      " #   Column        Non-Null Count   Dtype \n",
      "---  ------        --------------   ----- \n",
      " 0   id            123036 non-null  object\n",
      " 1   message_date  123036 non-null  object\n",
      " 2   user_id       123036 non-null  int64 \n",
      "dtypes: int64(1), object(2)\n",
      "memory usage: 2.8+ MB\n"
     ]
    },
    {
     "data": {
      "text/plain": [
       "0"
      ]
     },
     "execution_count": 12,
     "metadata": {},
     "output_type": "execute_result"
    }
   ],
   "source": [
    "display(messages.head())\n",
    "messages.info()\n",
    "#привожу данные к нужному типу\n",
    "messages['message_date'] = pd.to_datetime(messages['message_date'])\n",
    "#проверяю наличие дубликатов\n",
    "messages.duplicated().sum()"
   ]
  },
  {
   "cell_type": "markdown",
   "id": "423bdc60",
   "metadata": {},
   "source": [
    "## Дополнительные рассчеты"
   ]
  },
  {
   "cell_type": "markdown",
   "id": "0054238d",
   "metadata": {},
   "source": [
    "### Количество сделанных звонков и израсходованных минут разговора по месяцам"
   ]
  },
  {
   "cell_type": "code",
   "execution_count": 13,
   "id": "3c6b7631",
   "metadata": {},
   "outputs": [],
   "source": [
    "#создаем столбец с номером месяца\n",
    "calls['month'] = pd.DatetimeIndex(calls['call_date']).month\n",
    "\n",
    "#создаем сводную таблицу, считаем количество звонков сделанных одним абонентом и их суммарную продолжительность за один месяц\n",
    "pvt_calls = calls.pivot_table(index = ['user_id', 'month'], values = 'duration', aggfunc = ['count', 'sum']).reset_index()\n",
    "\n",
    "#переименовываем столбцы\n",
    "pvt_calls = pvt_calls.rename(columns={\"duration\":\"\"})\n",
    "pvt_calls = pvt_calls.rename(columns={\"sum\":\"spent_minutes\", \"count\":\"made_calls\"})"
   ]
  },
  {
   "cell_type": "markdown",
   "id": "22ab98d0",
   "metadata": {},
   "source": [
    "### Количество отправленных сообщений по месяцам"
   ]
  },
  {
   "cell_type": "code",
   "execution_count": 14,
   "id": "aa8fae86",
   "metadata": {},
   "outputs": [],
   "source": [
    "#создаем столбец с номером месяца\n",
    "messages['month'] = pd.DatetimeIndex(messages['message_date']).month\n",
    "\n",
    "#создаем сводную таблицу считаем количество смс отправленных каждым абнентом в каждом месяце\n",
    "pvt_messages = messages.pivot_table(index = ['user_id', 'month'], values = 'id',  aggfunc = 'count').reset_index()\n",
    "\n",
    "#переименовываем столбцы\n",
    "pvt_messages = pvt_messages.rename(columns={\"id\":\"sent_messages\"})\n"
   ]
  },
  {
   "cell_type": "markdown",
   "id": "8156e99f",
   "metadata": {},
   "source": [
    "### Объем израсходованного интернет-трафика по месяцам"
   ]
  },
  {
   "cell_type": "code",
   "execution_count": 15,
   "id": "ba7d1b77",
   "metadata": {},
   "outputs": [],
   "source": [
    "#создаем столбец с номером месяца\n",
    "internet['month'] = pd.DatetimeIndex(internet['session_date']).month\n",
    "\n",
    "#создаем сводную таблицу считаем количество мб использованных каждым клиентом в каждом месяце\n",
    "pvt_internet = internet.pivot_table(index = ['user_id', 'month'], values = 'mb_used',  aggfunc = 'sum').reset_index()\n"
   ]
  },
  {
   "cell_type": "markdown",
   "id": "961fd6f0",
   "metadata": {},
   "source": [
    "### Помесячную выручку с каждого пользователя "
   ]
  },
  {
   "cell_type": "code",
   "execution_count": 16,
   "id": "d42fe2a7",
   "metadata": {},
   "outputs": [
    {
     "data": {
      "text/html": [
       "<div>\n",
       "<style scoped>\n",
       "    .dataframe tbody tr th:only-of-type {\n",
       "        vertical-align: middle;\n",
       "    }\n",
       "\n",
       "    .dataframe tbody tr th {\n",
       "        vertical-align: top;\n",
       "    }\n",
       "\n",
       "    .dataframe thead th {\n",
       "        text-align: right;\n",
       "    }\n",
       "</style>\n",
       "<table border=\"1\" class=\"dataframe\">\n",
       "  <thead>\n",
       "    <tr style=\"text-align: right;\">\n",
       "      <th></th>\n",
       "      <th>user_id</th>\n",
       "      <th>tariff_name</th>\n",
       "    </tr>\n",
       "  </thead>\n",
       "  <tbody>\n",
       "    <tr>\n",
       "      <th>0</th>\n",
       "      <td>1000</td>\n",
       "      <td>ultra</td>\n",
       "    </tr>\n",
       "    <tr>\n",
       "      <th>1</th>\n",
       "      <td>1001</td>\n",
       "      <td>smart</td>\n",
       "    </tr>\n",
       "    <tr>\n",
       "      <th>2</th>\n",
       "      <td>1002</td>\n",
       "      <td>smart</td>\n",
       "    </tr>\n",
       "    <tr>\n",
       "      <th>3</th>\n",
       "      <td>1003</td>\n",
       "      <td>ultra</td>\n",
       "    </tr>\n",
       "    <tr>\n",
       "      <th>4</th>\n",
       "      <td>1004</td>\n",
       "      <td>ultra</td>\n",
       "    </tr>\n",
       "    <tr>\n",
       "      <th>...</th>\n",
       "      <td>...</td>\n",
       "      <td>...</td>\n",
       "    </tr>\n",
       "    <tr>\n",
       "      <th>495</th>\n",
       "      <td>1495</td>\n",
       "      <td>ultra</td>\n",
       "    </tr>\n",
       "    <tr>\n",
       "      <th>496</th>\n",
       "      <td>1496</td>\n",
       "      <td>smart</td>\n",
       "    </tr>\n",
       "    <tr>\n",
       "      <th>497</th>\n",
       "      <td>1497</td>\n",
       "      <td>smart</td>\n",
       "    </tr>\n",
       "    <tr>\n",
       "      <th>498</th>\n",
       "      <td>1498</td>\n",
       "      <td>smart</td>\n",
       "    </tr>\n",
       "    <tr>\n",
       "      <th>499</th>\n",
       "      <td>1499</td>\n",
       "      <td>smart</td>\n",
       "    </tr>\n",
       "  </tbody>\n",
       "</table>\n",
       "<p>500 rows × 2 columns</p>\n",
       "</div>"
      ],
      "text/plain": [
       "     user_id tariff_name\n",
       "0       1000       ultra\n",
       "1       1001       smart\n",
       "2       1002       smart\n",
       "3       1003       ultra\n",
       "4       1004       ultra\n",
       "..       ...         ...\n",
       "495     1495       ultra\n",
       "496     1496       smart\n",
       "497     1497       smart\n",
       "498     1498       smart\n",
       "499     1499       smart\n",
       "\n",
       "[500 rows x 2 columns]"
      ]
     },
     "metadata": {},
     "output_type": "display_data"
    }
   ],
   "source": [
    "#создаем словарь user_id - tariff\n",
    "tarriffs_by_id = pd.DataFrame()\n",
    "tarriffs_by_id['user_id'] = users['user_id']\n",
    "tarriffs_by_id['tariff'] = users['tariff']\n",
    "tarriffs_by_id = tarriffs_by_id.rename(columns={\"tariff\":\"tariff_name\"})\n",
    "display(tarriffs_by_id)"
   ]
  },
  {
   "cell_type": "code",
   "execution_count": 17,
   "id": "c76e805d",
   "metadata": {},
   "outputs": [],
   "source": [
    "#создаем новую таблицу\n",
    "monthly_revenue = pd.DataFrame()\n"
   ]
  },
  {
   "cell_type": "code",
   "execution_count": 18,
   "id": "7fa8a11b",
   "metadata": {},
   "outputs": [],
   "source": [
    "#создаем сводную таблицу из pvt_calls1 с нужными столбцами для дальнейших рассчетов\n",
    "pvt_calls1 = calls.pivot_table(index = ['user_id', 'month'], values = 'duration', aggfunc = 'sum').reset_index()\n",
    "pvt_calls1 = pvt_calls1.rename(columns={\"duration\":\"total_minutes\"})\n"
   ]
  },
  {
   "cell_type": "code",
   "execution_count": 19,
   "id": "e6a9f165",
   "metadata": {
    "scrolled": true
   },
   "outputs": [],
   "source": [
    "#обьеденяем таблицы\n",
    "monthly_revenue = pvt_messages\n",
    "monthly_revenue = monthly_revenue.merge(pvt_internet, on = ['user_id', 'month'], how = 'outer')\n",
    "monthly_revenue = monthly_revenue.merge(pvt_calls1, on = ['user_id', 'month'], how = 'outer')\n",
    "monthly_revenue = monthly_revenue.merge(tarriffs_by_id, on = ['user_id'], how = 'left')\n",
    "monthly_revenue = monthly_revenue.merge(tariffs, on='tariff_name', how = 'left')"
   ]
  },
  {
   "cell_type": "markdown",
   "id": "94b7e53f",
   "metadata": {},
   "source": [
    "В результате слияния таблиц, в некоторых строках пояились значения NаN. Так как они по факту означают, что абонент в этом месяце не пользовался одним из сервисов, заменяем данные на 0"
   ]
  },
  {
   "cell_type": "code",
   "execution_count": 20,
   "id": "69f1168f",
   "metadata": {},
   "outputs": [],
   "source": [
    "monthly_revenue['sent_messages'].isna().sum()\n",
    "monthly_revenue['sent_messages'] = monthly_revenue['sent_messages'].fillna(0)\n",
    "monthly_revenue['mb_used'].isna().sum()\n",
    "monthly_revenue['mb_used'] = monthly_revenue['mb_used'].fillna(0)\n",
    "monthly_revenue['total_minutes'].isna().sum()\n",
    "monthly_revenue['total_minutes'] = monthly_revenue['total_minutes'].fillna(0)"
   ]
  },
  {
   "cell_type": "code",
   "execution_count": 21,
   "id": "2a174bb3",
   "metadata": {},
   "outputs": [],
   "source": [
    "#создаем функцию для рассчета потраченных минут сверх тарифа\n",
    "def unpayed_minutes (row):\n",
    "    total_minutes = row['total_minutes']\n",
    "    minutes_included = row['minutes_included']\n",
    "    if total_minutes > minutes_included:\n",
    "        return total_minutes - minutes_included\n",
    "    else:\n",
    "        return 0\n",
    "    \n",
    "#применяем функцию\n",
    "monthly_revenue['unpayed_minutes'] = monthly_revenue.apply(unpayed_minutes, axis=1)"
   ]
  },
  {
   "cell_type": "code",
   "execution_count": 22,
   "id": "7e1ecf3a",
   "metadata": {},
   "outputs": [],
   "source": [
    "#создаем функцию для рассчета потраченных сообщений сверх тарифа\n",
    "def unpayed_messages (row):\n",
    "    total_messages = row['sent_messages']\n",
    "    messages_included = row['messages_included']\n",
    "    if total_messages > messages_included:\n",
    "        return total_messages - messages_included\n",
    "    else:\n",
    "        return 0\n",
    "\n",
    "#применяем функцию\n",
    "monthly_revenue['unpayed_messages'] = monthly_revenue.apply(unpayed_messages, axis=1)"
   ]
  },
  {
   "cell_type": "code",
   "execution_count": 23,
   "id": "d915b574",
   "metadata": {},
   "outputs": [],
   "source": [
    "#создаем функцию для рассчета потраченных мб сверх тарифа\n",
    "def unpayed_traffic (row):\n",
    "    total_traffic = row['mb_used']\n",
    "    traffic_included = row['mb_per_month_included']\n",
    "    if total_traffic > traffic_included:\n",
    "        return total_traffic - traffic_included\n",
    "    else:\n",
    "        return 0\n",
    "    \n",
    "#применяем функцию\n",
    "monthly_revenue['unpayed_traffic_mb'] = monthly_revenue.apply(unpayed_traffic, axis=1)\n",
    "\n",
    "#конвертируем мб в гб\n",
    "monthly_revenue['unpayed_traffic_gb'] = monthly_revenue['unpayed_traffic_mb']/1024\n",
    "\n",
    "#Так как для веб-трафика отдельные сессии не считаются, а вместо этого общая сумма за месяц округляется \n",
    "#в бо́льшую сторону, я создала функцию для корректного огругледия данных об израсходованном трафике сверх тарифа\n",
    "monthly_revenue['unpayed_traffic_gb'] = np.ceil(monthly_revenue['unpayed_traffic_gb'])"
   ]
  },
  {
   "cell_type": "code",
   "execution_count": 24,
   "id": "e5553d71",
   "metadata": {},
   "outputs": [],
   "source": [
    "#рассчитываем дополнительный доход с каждого абонента сверх тарифной платы\n",
    "monthly_revenue['sum_for_minutes'] = monthly_revenue['unpayed_minutes'] * monthly_revenue['rub_per_minute']\n",
    "monthly_revenue['sum_for_messages'] = monthly_revenue['unpayed_messages'] * monthly_revenue['rub_per_message']\n",
    "monthly_revenue['sum_for_traffic'] = monthly_revenue['unpayed_traffic_gb'] * monthly_revenue['rub_per_gb']"
   ]
  },
  {
   "cell_type": "code",
   "execution_count": 25,
   "id": "710c0f62",
   "metadata": {},
   "outputs": [],
   "source": [
    "#рассчитываем помесячную выручку с каждого пользователя \n",
    "monthly_revenue['total_revenue'] = monthly_revenue['rub_monthly_fee'] + monthly_revenue['sum_for_minutes'] + monthly_revenue['sum_for_messages'] + monthly_revenue['sum_for_traffic']"
   ]
  },
  {
   "cell_type": "markdown",
   "id": "8478a54f",
   "metadata": {},
   "source": [
    "## Анализ данных"
   ]
  },
  {
   "cell_type": "markdown",
   "id": "adb259de",
   "metadata": {},
   "source": [
    "### Сколько минут разговора требуется пользователям каждого тарифа в месяц? "
   ]
  },
  {
   "cell_type": "code",
   "execution_count": 26,
   "id": "06df246c",
   "metadata": {},
   "outputs": [],
   "source": [
    "#создаем таблицы с данными по 2 тарифам раздельно\n",
    "ultra = monthly_revenue.query('tariff_name == \"ultra\"')\n",
    "smart = monthly_revenue.query('tariff_name == \"smart\"')"
   ]
  },
  {
   "cell_type": "code",
   "execution_count": 27,
   "id": "42679fc3",
   "metadata": {},
   "outputs": [
    {
     "data": {
      "text/plain": [
       "<AxesSubplot:title={'center':'Количество минут разговора использованных пользователями тарифа \"Ультра\" в месяц'}, xlabel='month', ylabel='minutes_per_user'>"
      ]
     },
     "execution_count": 27,
     "metadata": {},
     "output_type": "execute_result"
    },
    {
     "data": {
      "image/png": "[encoded data removed]",
      "text/plain": [
       "<Figure size 432x288 with 1 Axes>"
      ]
     },
     "metadata": {
      "needs_background": "light"
     },
     "output_type": "display_data"
    }
   ],
   "source": [
    "#группируем количество потраченных минут пользователями по месяцам\n",
    "ultra_monthly_calls = ultra.pivot_table(index = 'month', values = ['total_minutes', 'user_id'], aggfunc = {'total_minutes':'sum','user_id':'count'}).reset_index()\n",
    "ultra_monthly_calls = ultra_monthly_calls.rename(columns = {\"user_id\":\"users\"})\n",
    "\n",
    "#вычисляем среднее количество потраченных минут одним пользователем в каждом месяце\n",
    "ultra_monthly_calls['minutes_per_user'] = ultra_monthly_calls['total_minutes'] / ultra_monthly_calls['users']\n",
    "ultra_monthly_calls['minutes_per_user'] = np.ceil(ultra_monthly_calls['minutes_per_user'])\n",
    "ultra_monthly_calls['minutes_per_user'].plot(kind = 'bar', xlabel = 'month', ylabel = 'minutes_per_user', \n",
    "                                             title = 'Количество минут разговора использованных пользователями тарифа \"Ультра\" в месяц')"
   ]
  },
  {
   "cell_type": "code",
   "execution_count": 28,
   "id": "e517dd9c",
   "metadata": {},
   "outputs": [
    {
     "name": "stdout",
     "output_type": "stream",
     "text": [
      "Дисперсия: 100873.63339730098\n",
      "Стандартное отклонение: 317.6060978591264\n",
      "Среднее значение: 526.6233502538071\n"
     ]
    },
    {
     "data": {
      "image/png": "[encoded data removed]",
      "text/plain": [
       "<Figure size 432x288 with 1 Axes>"
      ]
     },
     "metadata": {
      "needs_background": "light"
     },
     "output_type": "display_data"
    }
   ],
   "source": [
    "#строим гистаграмму\n",
    "plt.hist(ultra['total_minutes'], bins=100, range = (1,1673))\n",
    "plt.title('Распределение утилизации минут по пользователям', fontsize = 10)\n",
    "plt.xlabel('total_minutes', fontsize = 10) \n",
    "plt.ylabel('users', fontsize = 10) \n",
    "\n",
    "# рассчитываем среднее количество, дисперсию и стандартное отклонение\n",
    "print('Дисперсия:', np.var(ultra['total_minutes'], ddof = 1))\n",
    "print('Стандартное отклонение:', np.std(ultra['total_minutes'], ddof = 1))\n",
    "print('Среднее значение:', ultra['total_minutes'].mean())"
   ]
  },
  {
   "cell_type": "code",
   "execution_count": 29,
   "id": "a2abdb01",
   "metadata": {},
   "outputs": [
    {
     "data": {
      "text/plain": [
       "<AxesSubplot:title={'center':'Количество минут разговора использованных пользователями тарифа \"Смарт\" в месяц'}, xlabel='month', ylabel='minutes_per_user'>"
      ]
     },
     "execution_count": 29,
     "metadata": {},
     "output_type": "execute_result"
    },
    {
     "data": {
      "image/png": "[encoded data removed]",
      "text/plain": [
       "<Figure size 432x288 with 1 Axes>"
      ]
     },
     "metadata": {
      "needs_background": "light"
     },
     "output_type": "display_data"
    }
   ],
   "source": [
    "#группируем количество потраченных минут пользователями по месяцам\n",
    "smart_monthly_calls = smart.pivot_table(index = 'month', values = ['total_minutes', 'user_id'], aggfunc = {'total_minutes':'sum','user_id':'count'}).reset_index()\n",
    "smart_monthly_calls = smart_monthly_calls.rename(columns = {\"user_id\":\"users\"})\n",
    "\n",
    "#вычисляем среднее количество потраченных минут одним пользователем в каждом месяце\n",
    "smart_monthly_calls['minutes_per_user'] = smart_monthly_calls['total_minutes'] / smart_monthly_calls['users']\n",
    "smart_monthly_calls['minutes_per_user'] = np.ceil(smart_monthly_calls['minutes_per_user'])\n",
    "smart_monthly_calls['minutes_per_user'].plot(kind = 'bar', xlabel = 'month', ylabel = 'minutes_per_user', \n",
    "                                             title = 'Количество минут разговора использованных пользователями тарифа \"Смарт\" в месяц')"
   ]
  },
  {
   "cell_type": "code",
   "execution_count": 30,
   "id": "cc6d24ae",
   "metadata": {},
   "outputs": [
    {
     "name": "stdout",
     "output_type": "stream",
     "text": [
      "Дисперсия: 36219.31578434428\n",
      "Стандартное отклонение: 190.31372988921288\n",
      "Среднее значение: 417.9349484073576\n"
     ]
    },
    {
     "data": {
      "image/png": "[encoded data removed]",
      "text/plain": [
       "<Figure size 432x288 with 1 Axes>"
      ]
     },
     "metadata": {
      "needs_background": "light"
     },
     "output_type": "display_data"
    }
   ],
   "source": [
    "#строим гистаграмму\n",
    "smart['total_minutes'].hist(bins=100, range = (1,1435))\n",
    "plt.title('Распределение утилизации минут по пользователям', fontsize = 10)\n",
    "plt.xlabel('total_minutes', fontsize = 10) \n",
    "plt.ylabel('users', fontsize = 10) \n",
    "\n",
    "#вычисляем среднее количество потраченных минут одним пользователем в каждом месяце\n",
    "print('Дисперсия:', np.var(smart['total_minutes'], ddof = 1))\n",
    "print('Стандартное отклонение:', np.std(smart['total_minutes'], ddof = 1))\n",
    "print('Среднее значение:', smart['total_minutes'].mean())"
   ]
  },
  {
   "cell_type": "markdown",
   "id": "25a451a0",
   "metadata": {},
   "source": [
    "Исходя из выборки можно сказать, что в среднем абоненты тратят меньше минут в начале года (январь, февраль), и потребление увеличивается к концу года.\n",
    "В среднем клиентам тарифа «Смарт» необходимо 418 минут разговора в месяц. \n",
    "Абонентам тарифа «Ультра» в среднем необходимо 527 минут разговора в месяц. \n",
    "Изучая гистограммы, я могу предположить, что распределение близко к нормальному для двух тарифов."
   ]
  },
  {
   "cell_type": "markdown",
   "id": "afd169ba",
   "metadata": {},
   "source": [
    "### Сколько сообщений требуется пользователям каждого тарифа в месяц? "
   ]
  },
  {
   "cell_type": "code",
   "execution_count": 31,
   "id": "5a3b079c",
   "metadata": {},
   "outputs": [
    {
     "data": {
      "text/plain": [
       "<AxesSubplot:>"
      ]
     },
     "execution_count": 31,
     "metadata": {},
     "output_type": "execute_result"
    },
    {
     "data": {
      "image/png": "[encoded data removed]",
      "text/plain": [
       "<Figure size 432x288 with 1 Axes>"
      ]
     },
     "metadata": {
      "needs_background": "light"
     },
     "output_type": "display_data"
    }
   ],
   "source": [
    "#группируем количество потраченных сообщений пользователями по месяцам\n",
    "ultra_monthly_messages = ultra.pivot_table(index = 'month', values = ['sent_messages', 'user_id'], aggfunc = {'sent_messages':'sum','user_id':'count'}).reset_index()\n",
    "ultra_monthly_messages = ultra_monthly_messages.rename(columns = {\"user_id\":\"users\"})\n",
    "\n",
    "#вычисляем среднее количество потраченных сообщений одним пользователем в каждом месяце\n",
    "ultra_monthly_messages['messages_per_user'] = ultra_monthly_messages['sent_messages'] / ultra_monthly_messages['users']\n",
    "ultra_monthly_messages['messages_per_user'] = np.ceil(ultra_monthly_messages['messages_per_user'])\n",
    "ultra_monthly_messages['messages_per_user'].plot(kind = 'bar')"
   ]
  },
  {
   "cell_type": "code",
   "execution_count": 32,
   "id": "e92923b1",
   "metadata": {},
   "outputs": [
    {
     "name": "stdout",
     "output_type": "stream",
     "text": [
      "Дисперсия: 2285.266142544674\n",
      "Стандартное отклонение: 47.80445735017472\n",
      "Среднее значение: 49.36345177664975\n"
     ]
    },
    {
     "data": {
      "image/png": "[encoded data removed]",
      "text/plain": [
       "<Figure size 432x288 with 1 Axes>"
      ]
     },
     "metadata": {
      "needs_background": "light"
     },
     "output_type": "display_data"
    }
   ],
   "source": [
    "#строим гистаграмму\n",
    "ultra['sent_messages'].hist(bins=100, range = (1,224))\n",
    "\n",
    "#вычисляем среднее количество потраченных сообщений одним пользователем в каждом месяце\n",
    "print('Дисперсия:', np.var(ultra['sent_messages'], ddof = 1))\n",
    "print('Стандартное отклонение:', np.std(ultra['sent_messages'], ddof = 1))\n",
    "print('Среднее значение:', ultra['sent_messages'].mean())"
   ]
  },
  {
   "cell_type": "code",
   "execution_count": 33,
   "id": "963a9b7f",
   "metadata": {},
   "outputs": [
    {
     "data": {
      "text/plain": [
       "<AxesSubplot:>"
      ]
     },
     "execution_count": 33,
     "metadata": {},
     "output_type": "execute_result"
    },
    {
     "data": {
      "image/png": "[encoded data removed]",
      "text/plain": [
       "<Figure size 432x288 with 1 Axes>"
      ]
     },
     "metadata": {
      "needs_background": "light"
     },
     "output_type": "display_data"
    }
   ],
   "source": [
    "#группируем количество потраченных сообщений пользователями по месяцам\n",
    "smart_monthly_messages = smart.pivot_table(index = 'month', values = ['sent_messages', 'user_id'], aggfunc = {'sent_messages':'sum','user_id':'count'}).reset_index()\n",
    "smart_monthly_messages = smart_monthly_messages.rename(columns = {\"user_id\":\"users\"})\n",
    "\n",
    "#вычисляем среднее количество потраченных сообщений одним пользователем в каждом месяце\n",
    "smart_monthly_messages['messages_per_user'] = smart_monthly_messages['sent_messages'] / smart_monthly_messages['users']\n",
    "smart_monthly_messages['messages_per_user'] = np.ceil(smart_monthly_messages['messages_per_user'])\n",
    "smart_monthly_messages['messages_per_user'].plot(kind = 'bar')"
   ]
  },
  {
   "cell_type": "code",
   "execution_count": 34,
   "id": "e6d59820",
   "metadata": {},
   "outputs": [
    {
     "name": "stdout",
     "output_type": "stream",
     "text": [
      "Дисперсия: 796.8129584480083\n",
      "Стандартное отклонение: 28.22787555676141\n",
      "Среднее значение: 33.384028712427096\n"
     ]
    },
    {
     "data": {
      "image/png": "[encoded data removed]",
      "text/plain": [
       "<Figure size 432x288 with 1 Axes>"
      ]
     },
     "metadata": {
      "needs_background": "light"
     },
     "output_type": "display_data"
    }
   ],
   "source": [
    "#строим гистаграмму\n",
    "smart['sent_messages'].hist(bins=100, range = (1,143))\n",
    "\n",
    "#вычисляем среднее количество потраченных сообщений одним пользователем в каждом месяце\n",
    "print('Дисперсия:', np.var(smart['sent_messages'], ddof = 1))\n",
    "print('Стандартное отклонение:', np.std(smart['sent_messages'], ddof = 1))\n",
    "print('Среднее значение:', smart['sent_messages'].mean())"
   ]
  },
  {
   "cell_type": "markdown",
   "id": "b5529143",
   "metadata": {},
   "source": [
    "Исходя из выборки можно сказать, что в среднем абоненты отправляют меньше сообщений в начале года (январь - апрель), и количество увеличивается к концу года. В среднем клиентам тарифа «Смарт» необходимо 34 сообщения в месяц. Абонентам тарифа «Ультра» в среднем необходимо 50 сообщений в месяц. Изучая гистограммы, я могу предположить, что распределение близко к экспоненциальному для двух тарифов."
   ]
  },
  {
   "cell_type": "markdown",
   "id": "51b53519",
   "metadata": {},
   "source": [
    "### Сколько интернет-трафика требуется пользователям каждого тарифа в месяц? "
   ]
  },
  {
   "cell_type": "code",
   "execution_count": 35,
   "id": "894374ad",
   "metadata": {},
   "outputs": [
    {
     "data": {
      "text/plain": [
       "<AxesSubplot:>"
      ]
     },
     "execution_count": 35,
     "metadata": {},
     "output_type": "execute_result"
    },
    {
     "data": {
      "image/png": "[encoded data removed]",
      "text/plain": [
       "<Figure size 432x288 with 1 Axes>"
      ]
     },
     "metadata": {
      "needs_background": "light"
     },
     "output_type": "display_data"
    }
   ],
   "source": [
    "#группируем количество использованного трафика пользователями по месяцам\n",
    "ultra_monthly_traffic = ultra.pivot_table(index = 'month', values = ['mb_used', 'user_id'], aggfunc = {'mb_used':'sum','user_id':'count'}).reset_index()\n",
    "ultra_monthly_traffic = ultra_monthly_traffic.rename(columns = {\"user_id\":\"users\"})\n",
    "\n",
    "#вычисляем среднее количество использованого трафика одним пользователем в каждом месяце\n",
    "ultra_monthly_traffic['mb_used_per_user'] = ultra_monthly_traffic['mb_used'] / ultra_monthly_traffic['users']\n",
    "ultra_monthly_traffic['mb_used_per_user'] = np.ceil(ultra_monthly_traffic['mb_used_per_user'])\n",
    "ultra_monthly_traffic['mb_used_per_user'].plot(kind = 'bar')"
   ]
  },
  {
   "cell_type": "code",
   "execution_count": 36,
   "id": "69871951",
   "metadata": {},
   "outputs": [
    {
     "name": "stdout",
     "output_type": "stream",
     "text": [
      "Дисперсия: 101751013.78335385\n",
      "Стандартное отклонение: 10087.170752166034\n",
      "Среднее значение: 19468.80520812183\n"
     ]
    },
    {
     "data": {
      "image/png": "[encoded data removed]",
      "text/plain": [
       "<Figure size 432x288 with 1 Axes>"
      ]
     },
     "metadata": {
      "needs_background": "light"
     },
     "output_type": "display_data"
    }
   ],
   "source": [
    "#строим гистаграмму\n",
    "ultra['mb_used'].hist(bins=100, range = (1,49746))\n",
    "\n",
    "#вычисляем среднее количество использованного трафика одним пользователем в каждом месяце\n",
    "print('Дисперсия:', np.var(ultra['mb_used'], ddof = 1))\n",
    "print('Стандартное отклонение:', np.std(ultra['mb_used'], ddof = 1))\n",
    "print('Среднее значение:', ultra['mb_used'].mean())"
   ]
  },
  {
   "cell_type": "code",
   "execution_count": 37,
   "id": "d1c1c23c",
   "metadata": {},
   "outputs": [
    {
     "data": {
      "text/plain": [
       "<AxesSubplot:>"
      ]
     },
     "execution_count": 37,
     "metadata": {},
     "output_type": "execute_result"
    },
    {
     "data": {
      "image/png": "[encoded data removed]",
      "text/plain": [
       "<Figure size 432x288 with 1 Axes>"
      ]
     },
     "metadata": {
      "needs_background": "light"
     },
     "output_type": "display_data"
    }
   ],
   "source": [
    "#группируем количество использованного трафика пользователями по месяцам\n",
    "smart_monthly_traffic = smart.pivot_table(index = 'month', values = ['mb_used', 'user_id'], aggfunc = {'mb_used':'sum','user_id':'count'}).reset_index()\n",
    "smart_monthly_traffic = smart_monthly_traffic.rename(columns = {\"user_id\":\"users\"})\n",
    "\n",
    "#вычисляем среднее количество использованого трафика одним пользователем в каждом месяце\n",
    "smart_monthly_traffic['mb_used_per_user'] = smart_monthly_traffic['mb_used'] / smart_monthly_traffic['users']\n",
    "smart_monthly_traffic['mb_used_per_user'] = np.ceil(smart_monthly_traffic['mb_used_per_user'])\n",
    "smart_monthly_traffic['mb_used_per_user'].plot(kind = 'bar')"
   ]
  },
  {
   "cell_type": "code",
   "execution_count": 38,
   "id": "0174bf4e",
   "metadata": {},
   "outputs": [
    {
     "name": "stdout",
     "output_type": "stream",
     "text": [
      "Дисперсия: 34462496.46274242\n",
      "Стандартное отклонение: 5870.476681049199\n",
      "Среднее значение: 16208.386989681469\n"
     ]
    },
    {
     "data": {
      "image/png": "[encoded data removed]",
      "text/plain": [
       "<Figure size 432x288 with 1 Axes>"
      ]
     },
     "metadata": {
      "needs_background": "light"
     },
     "output_type": "display_data"
    }
   ],
   "source": [
    "#строим гистаграмму\n",
    "smart['mb_used'].hist(bins=100, range = (1,38553))\n",
    "\n",
    "#вычисляем среднее количество использованного трафика одним пользователем в каждом месяце\n",
    "print('Дисперсия:', np.var(smart['mb_used'], ddof = 1))\n",
    "print('Стандартное отклонение:', np.std(smart['mb_used'], ddof = 1))\n",
    "print('Среднее значение:', smart['mb_used'].mean())"
   ]
  },
  {
   "cell_type": "markdown",
   "id": "bd5e3e04",
   "metadata": {},
   "source": [
    "Исходя из выборки можно сказать, что в среднем абоненты используют меньше в начале года (январь, февраль), и потребление увеличивается к концу года.\n",
    "В среднем клиентам тарифа «Смарт» необходимо 16209 мегабайт(16 гигабайт) в месяц. \n",
    "Абонентам тарифа «Ультра» в среднем необходимо 19496 мегабайт(20 гигабайт) в месяц. \n",
    "Изучая гистограммы, я могу предположить, что распределение близко к нормальному для двух тарифов."
   ]
  },
  {
   "cell_type": "markdown",
   "id": "08b90bda",
   "metadata": {},
   "source": [
    "## Проверка гипотез"
   ]
  },
  {
   "cell_type": "markdown",
   "id": "9f259706",
   "metadata": {},
   "source": [
    "### Cредняя выручка пользователей тарифов «Ультра» и «Смарт» различаются"
   ]
  },
  {
   "cell_type": "markdown",
   "id": "a47a62f4",
   "metadata": {},
   "source": [
    "Сформулируем нулевую и альтернативную гипотезы.\n",
    "Нулевой гипотезой будет равенство среднего двух совокуностей, то есть средняя выручка пользователей тарифов «Ультра» и «Смарт» совпадают.\n",
    "Альтернативной гипотезой будет противоположное, то есть средняя выручка пользователей тарифов «Ультра» и «Смарт» различаются"
   ]
  },
  {
   "cell_type": "code",
   "execution_count": 39,
   "id": "4f7d316b",
   "metadata": {},
   "outputs": [],
   "source": [
    "#получаем данные о выручке пользователей тарифа «Смарт»\n",
    "smart_revenue = monthly_revenue.query('tariff_name == \"smart\"')\n",
    "smart_revenue = smart_revenue['total_revenue']\n",
    "\n",
    "#получаем данные о выручке пользователей тарифа «Ультра»\n",
    "ultra_revenue = monthly_revenue.query('tariff_name == \"ultra\"')\n",
    "ultra_revenue = ultra_revenue['total_revenue']"
   ]
  },
  {
   "cell_type": "code",
   "execution_count": 40,
   "id": "dd499edc",
   "metadata": {},
   "outputs": [
    {
     "data": {
      "text/plain": [
       "669785.7080064242"
      ]
     },
     "execution_count": 40,
     "metadata": {},
     "output_type": "execute_result"
    }
   ],
   "source": [
    "np.var(smart_revenue, ddof = 1)"
   ]
  },
  {
   "cell_type": "code",
   "execution_count": 41,
   "id": "ca3cb709",
   "metadata": {
    "scrolled": true
   },
   "outputs": [
    {
     "data": {
      "text/plain": [
       "141516.7450786183"
      ]
     },
     "execution_count": 41,
     "metadata": {},
     "output_type": "execute_result"
    }
   ],
   "source": [
    "np.var(ultra_revenue, ddof = 1)"
   ]
  },
  {
   "cell_type": "markdown",
   "id": "06692570",
   "metadata": {},
   "source": [
    "Для сравнения совокупностей необходимо сравнить дисперсии. В этом случае они не равны, и далеки от этого. По этому 'equal_var' будет равно 'False'."
   ]
  },
  {
   "cell_type": "code",
   "execution_count": 42,
   "id": "df21faba",
   "metadata": {},
   "outputs": [
    {
     "name": "stdout",
     "output_type": "stream",
     "text": [
      "p-значение:  4.2606313931076085e-250\n",
      "Отвергаем нулевую гипотезу\n"
     ]
    }
   ],
   "source": [
    "# задаю критический уровень статистической значимости\n",
    "alpha = .05\n",
    "\n",
    "result = st.ttest_ind(smart_revenue, ultra_revenue, equal_var = False)\n",
    "\n",
    "print('p-значение: ', result.pvalue)\n",
    "\n",
    "if result.pvalue < alpha:\n",
    "    print(\"Отвергаем нулевую гипотезу\")\n",
    "else:\n",
    "    print(\"Не получилось отвергнуть нулевую гипотезу\")"
   ]
  },
  {
   "cell_type": "code",
   "execution_count": 43,
   "id": "559b4f26",
   "metadata": {},
   "outputs": [
    {
     "name": "stdout",
     "output_type": "stream",
     "text": [
      "1289.9735307312696\n",
      "2070.1522842639592\n"
     ]
    }
   ],
   "source": [
    "print(smart_revenue.mean())\n",
    "print(ultra_revenue.mean())"
   ]
  },
  {
   "cell_type": "markdown",
   "id": "44845479",
   "metadata": {},
   "source": [
    "Так как p-значение в разы меньше заданного мной критического уровеня статистической значимости, мы можем отвергнуть нулевую гипотезу. Так как нулевая гипотеза не подтвердилась, а альтернативная гипотеза гласит протвоположное, то я делаю вывод о том, что ее можно считать верной. По этому могу сказать, что средняя выручка пользователей тарифов «Ультра» и «Смарт» различаются. Посмотрев на среднюю прибыль с 1 абонента, я могу сделать вывод, что клиенты тарифа «Ультра» приносят большую выручку чем клиенты тарифа «Смарт»."
   ]
  },
  {
   "cell_type": "markdown",
   "id": "20220959",
   "metadata": {},
   "source": [
    "### Cредняя выручка пользователей из Москвы отличается от выручки пользователей из других регионов"
   ]
  },
  {
   "cell_type": "markdown",
   "id": "b4e4f705",
   "metadata": {},
   "source": [
    "Сформулируем нулевую и альтернативную гипотезы.\n",
    "Нулевой гипотезой будет равенство среднего двух совокуностей, то есть средняя выручка пользователей из Москвы не отличается от выручки пользователей из других регионов.\n",
    "Альтернативной гипотезой будет противоположное, то есть средняя выручка пользователей из Москвы отличается от выручки пользователей из других регионов"
   ]
  },
  {
   "cell_type": "code",
   "execution_count": 44,
   "id": "e6fa285f",
   "metadata": {},
   "outputs": [],
   "source": [
    "#добавляем в таблицу с выручкой данные о пользователях\n",
    "monthly_revenue = monthly_revenue.merge(users, on = 'user_id', how = 'left')"
   ]
  },
  {
   "cell_type": "code",
   "execution_count": 45,
   "id": "ab20d28d",
   "metadata": {},
   "outputs": [],
   "source": [
    "#получаем данные о выручке пользователей из Москвы\n",
    "moscow_users = monthly_revenue.query('city == \"Москва\"')\n",
    "moscow_users = moscow_users['total_revenue']\n",
    "\n",
    "#получаем данные о выручке пользователей из других регионов\n",
    "other_users = monthly_revenue.query('city != \"Москва\"')\n",
    "other_users = other_users['total_revenue']"
   ]
  },
  {
   "cell_type": "markdown",
   "id": "dcf63f6b",
   "metadata": {},
   "source": [
    "Для сравнения совокупностей необходимо сравнить дисперсии. В этом случае они не равны, и далеки от этого. По этому 'equal_var' будет равно 'False'."
   ]
  },
  {
   "cell_type": "code",
   "execution_count": 46,
   "id": "3a54d1b4",
   "metadata": {},
   "outputs": [
    {
     "data": {
      "text/plain": [
       "565636.467011886"
      ]
     },
     "execution_count": 46,
     "metadata": {},
     "output_type": "execute_result"
    }
   ],
   "source": [
    "np.var(moscow_users, ddof = 1)"
   ]
  },
  {
   "cell_type": "code",
   "execution_count": 47,
   "id": "c85eff5b",
   "metadata": {},
   "outputs": [
    {
     "data": {
      "text/plain": [
       "654137.6285218114"
      ]
     },
     "execution_count": 47,
     "metadata": {},
     "output_type": "execute_result"
    }
   ],
   "source": [
    "np.var(other_users, ddof = 1)"
   ]
  },
  {
   "cell_type": "code",
   "execution_count": 48,
   "id": "289b9e27",
   "metadata": {},
   "outputs": [
    {
     "name": "stdout",
     "output_type": "stream",
     "text": [
      "p-значение:  0.5257376663729298\n",
      "Не получилось отвергнуть нулевую гипотезу\n"
     ]
    }
   ],
   "source": [
    "# задаю критический уровень статистической значимости\n",
    "alpha = .05\n",
    "\n",
    "result = st.ttest_ind(moscow_users, other_users, equal_var = False)\n",
    "\n",
    "print('p-значение: ', result.pvalue)\n",
    "\n",
    "if result.pvalue < alpha:\n",
    "    print(\"Отвергаем нулевую гипотезу\")\n",
    "else:\n",
    "    print(\"Не получилось отвергнуть нулевую гипотезу\")"
   ]
  },
  {
   "cell_type": "code",
   "execution_count": 49,
   "id": "11fbae1b",
   "metadata": {},
   "outputs": [
    {
     "name": "stdout",
     "output_type": "stream",
     "text": [
      "1546.7135842880523\n",
      "1524.9362274298885\n"
     ]
    }
   ],
   "source": [
    "print(moscow_users.mean())\n",
    "print(other_users.mean())"
   ]
  },
  {
   "cell_type": "markdown",
   "id": "89ea56dc",
   "metadata": {},
   "source": [
    "Так как p-значение больше 50%, мы не можем отвергнуть нулевую гипотезу. Изучив средние значения выборок я таж же убедилась, что их значения близки, по этому могу сделать вывод, что средняя выручка пользователей из Москвы не сильно отличается от выручки пользователей из других регионов"
   ]
  },
  {
   "cell_type": "markdown",
   "id": "97ed1bfa",
   "metadata": {},
   "source": [
    "## Вывод"
   ]
  },
  {
   "cell_type": "markdown",
   "id": "48fc6573",
   "metadata": {},
   "source": [
    "В данном проекте мне необходимо было проанализировать поведение клиентов и сделать вывод — какой тариф экономически предпочтительнее, чтобы коммерческий департамент мог скорректировать рекламный бюджет.\n",
    "Я сделала предварительный анализ тарифов на небольшой выборке клиентов. В моем распоряжении были данные 500 пользователей «Мегалайна»: кто они, откуда, каким тарифом пользуются, сколько звонков и сообщений каждый отправил за 2018 год. \n",
    "В результате проведенной работы я выяснила, что что клиенты тарифа «Ультра» приносят большую среднюю выручку чем клиенты тарифа «Смарт».\n",
    "Поэтому моя рекомендация - увеличить рекламный бюджет для тарифа «Ультра»"
   ]
  }
 ],
 "metadata": {
  "ExecuteTimeLog": [
   {
    "duration": 209,
    "start_time": "2022-03-30T17:28:02.981Z"
   },
   {
    "duration": 70,
    "start_time": "2022-03-30T17:31:23.239Z"
   },
   {
    "duration": 2011,
    "start_time": "2022-03-30T17:31:29.015Z"
   },
   {
    "duration": 562,
    "start_time": "2022-03-30T17:31:31.030Z"
   },
   {
    "duration": 72,
    "start_time": "2022-03-30T17:31:54.541Z"
   },
   {
    "duration": 1634,
    "start_time": "2022-03-30T17:32:08.185Z"
   },
   {
    "duration": 531,
    "start_time": "2022-03-30T17:32:09.822Z"
   },
   {
    "duration": 32,
    "start_time": "2022-03-30T17:32:10.399Z"
   },
   {
    "duration": 43,
    "start_time": "2022-03-30T17:32:22.662Z"
   },
   {
    "duration": 41,
    "start_time": "2022-03-30T17:32:30.476Z"
   },
   {
    "duration": 34,
    "start_time": "2022-03-30T17:32:38.799Z"
   },
   {
    "duration": 14,
    "start_time": "2022-03-30T17:32:46.677Z"
   },
   {
    "duration": 1654,
    "start_time": "2022-03-30T17:34:56.871Z"
   },
   {
    "duration": 535,
    "start_time": "2022-03-30T17:34:58.528Z"
   },
   {
    "duration": 35,
    "start_time": "2022-03-30T17:34:59.066Z"
   },
   {
    "duration": 50,
    "start_time": "2022-03-30T17:34:59.105Z"
   },
   {
    "duration": 42,
    "start_time": "2022-03-30T17:34:59.157Z"
   },
   {
    "duration": 52,
    "start_time": "2022-03-30T17:34:59.202Z"
   },
   {
    "duration": 12,
    "start_time": "2022-03-30T17:34:59.257Z"
   },
   {
    "duration": 31,
    "start_time": "2022-03-30T17:34:59.271Z"
   },
   {
    "duration": 576,
    "start_time": "2022-03-30T17:34:59.305Z"
   },
   {
    "duration": 5,
    "start_time": "2022-03-30T17:34:59.887Z"
   },
   {
    "duration": 496,
    "start_time": "2022-03-30T17:34:59.894Z"
   },
   {
    "duration": 82,
    "start_time": "2022-03-30T17:35:00.392Z"
   },
   {
    "duration": 124,
    "start_time": "2022-03-30T17:35:00.477Z"
   },
   {
    "duration": 61,
    "start_time": "2022-03-30T17:35:00.603Z"
   },
   {
    "duration": 60,
    "start_time": "2022-03-30T17:35:00.667Z"
   },
   {
    "duration": 27,
    "start_time": "2022-03-30T17:35:00.729Z"
   },
   {
    "duration": 30,
    "start_time": "2022-03-30T17:35:00.759Z"
   },
   {
    "duration": 52,
    "start_time": "2022-03-30T17:35:00.792Z"
   },
   {
    "duration": 27,
    "start_time": "2022-03-30T17:35:00.846Z"
   },
   {
    "duration": 8,
    "start_time": "2022-03-30T17:35:00.875Z"
   },
   {
    "duration": 82,
    "start_time": "2022-03-30T17:35:00.886Z"
   },
   {
    "duration": 88,
    "start_time": "2022-03-30T17:35:00.970Z"
   },
   {
    "duration": 59,
    "start_time": "2022-03-30T17:35:01.062Z"
   },
   {
    "duration": 41,
    "start_time": "2022-03-30T17:35:01.123Z"
   },
   {
    "duration": 41,
    "start_time": "2022-03-30T17:35:01.166Z"
   },
   {
    "duration": 64,
    "start_time": "2022-03-30T17:35:01.209Z"
   },
   {
    "duration": 270,
    "start_time": "2022-03-30T17:35:01.275Z"
   },
   {
    "duration": 411,
    "start_time": "2022-03-30T17:35:01.553Z"
   },
   {
    "duration": 243,
    "start_time": "2022-03-30T17:35:01.966Z"
   },
   {
    "duration": 464,
    "start_time": "2022-03-30T17:35:02.212Z"
   },
   {
    "duration": 253,
    "start_time": "2022-03-30T17:35:02.679Z"
   },
   {
    "duration": 367,
    "start_time": "2022-03-30T17:35:02.935Z"
   },
   {
    "duration": 252,
    "start_time": "2022-03-30T17:35:03.304Z"
   },
   {
    "duration": 377,
    "start_time": "2022-03-30T17:35:03.559Z"
   },
   {
    "duration": 246,
    "start_time": "2022-03-30T17:35:03.942Z"
   },
   {
    "duration": 378,
    "start_time": "2022-03-30T17:35:04.190Z"
   },
   {
    "duration": 354,
    "start_time": "2022-03-30T17:35:04.570Z"
   },
   {
    "duration": 405,
    "start_time": "2022-03-30T17:35:04.926Z"
   },
   {
    "duration": 14,
    "start_time": "2022-03-30T17:35:05.342Z"
   },
   {
    "duration": 26,
    "start_time": "2022-03-30T17:35:05.358Z"
   },
   {
    "duration": 21,
    "start_time": "2022-03-30T17:35:05.386Z"
   },
   {
    "duration": 14,
    "start_time": "2022-03-30T17:35:05.409Z"
   },
   {
    "duration": 19,
    "start_time": "2022-03-30T17:35:05.425Z"
   },
   {
    "duration": 28,
    "start_time": "2022-03-30T17:35:05.446Z"
   },
   {
    "duration": 18,
    "start_time": "2022-03-30T17:35:05.476Z"
   },
   {
    "duration": 18,
    "start_time": "2022-03-30T17:35:05.496Z"
   },
   {
    "duration": 10,
    "start_time": "2022-03-30T17:35:05.517Z"
   },
   {
    "duration": 14,
    "start_time": "2022-03-30T17:35:05.529Z"
   },
   {
    "duration": 19,
    "start_time": "2022-03-30T17:35:05.545Z"
   },
   {
    "duration": 14,
    "start_time": "2022-03-30T17:35:05.566Z"
   },
   {
    "duration": 59,
    "start_time": "2022-03-30T17:37:31.385Z"
   },
   {
    "duration": 1504,
    "start_time": "2022-03-30T17:37:50.620Z"
   },
   {
    "duration": 520,
    "start_time": "2022-03-30T17:37:52.126Z"
   },
   {
    "duration": 35,
    "start_time": "2022-03-30T17:37:52.648Z"
   },
   {
    "duration": 70,
    "start_time": "2022-03-30T17:37:52.687Z"
   },
   {
    "duration": 39,
    "start_time": "2022-03-30T17:37:52.760Z"
   },
   {
    "duration": 58,
    "start_time": "2022-03-30T17:37:52.802Z"
   },
   {
    "duration": 13,
    "start_time": "2022-03-30T17:37:52.863Z"
   },
   {
    "duration": 29,
    "start_time": "2022-03-30T17:37:52.878Z"
   },
   {
    "duration": 619,
    "start_time": "2022-03-30T17:37:52.942Z"
   },
   {
    "duration": 5,
    "start_time": "2022-03-30T17:37:53.567Z"
   },
   {
    "duration": 496,
    "start_time": "2022-03-30T17:37:53.574Z"
   },
   {
    "duration": 75,
    "start_time": "2022-03-30T17:37:54.072Z"
   },
   {
    "duration": 111,
    "start_time": "2022-03-30T17:37:54.149Z"
   },
   {
    "duration": 50,
    "start_time": "2022-03-30T17:37:54.262Z"
   },
   {
    "duration": 67,
    "start_time": "2022-03-30T17:37:54.314Z"
   },
   {
    "duration": 17,
    "start_time": "2022-03-30T17:37:54.383Z"
   },
   {
    "duration": 4,
    "start_time": "2022-03-30T17:37:54.402Z"
   },
   {
    "duration": 59,
    "start_time": "2022-03-30T17:37:54.409Z"
   },
   {
    "duration": 25,
    "start_time": "2022-03-30T17:37:54.470Z"
   },
   {
    "duration": 9,
    "start_time": "2022-03-30T17:37:54.497Z"
   },
   {
    "duration": 77,
    "start_time": "2022-03-30T17:37:54.508Z"
   },
   {
    "duration": 70,
    "start_time": "2022-03-30T17:37:54.587Z"
   },
   {
    "duration": 55,
    "start_time": "2022-03-30T17:37:54.659Z"
   },
   {
    "duration": 9,
    "start_time": "2022-03-30T17:37:54.716Z"
   },
   {
    "duration": 7,
    "start_time": "2022-03-30T17:37:54.742Z"
   },
   {
    "duration": 18,
    "start_time": "2022-03-30T17:37:54.751Z"
   },
   {
    "duration": 241,
    "start_time": "2022-03-30T17:37:54.771Z"
   },
   {
    "duration": 391,
    "start_time": "2022-03-30T17:37:55.017Z"
   },
   {
    "duration": 255,
    "start_time": "2022-03-30T17:37:55.410Z"
   },
   {
    "duration": 482,
    "start_time": "2022-03-30T17:37:55.667Z"
   },
   {
    "duration": 248,
    "start_time": "2022-03-30T17:37:56.152Z"
   },
   {
    "duration": 356,
    "start_time": "2022-03-30T17:37:56.402Z"
   },
   {
    "duration": 245,
    "start_time": "2022-03-30T17:37:56.760Z"
   },
   {
    "duration": 473,
    "start_time": "2022-03-30T17:37:57.007Z"
   },
   {
    "duration": 241,
    "start_time": "2022-03-30T17:37:57.483Z"
   },
   {
    "duration": 353,
    "start_time": "2022-03-30T17:37:57.726Z"
   },
   {
    "duration": 349,
    "start_time": "2022-03-30T17:37:58.082Z"
   },
   {
    "duration": 399,
    "start_time": "2022-03-30T17:37:58.433Z"
   },
   {
    "duration": 19,
    "start_time": "2022-03-30T17:37:58.834Z"
   },
   {
    "duration": 13,
    "start_time": "2022-03-30T17:37:58.856Z"
   },
   {
    "duration": 8,
    "start_time": "2022-03-30T17:37:58.872Z"
   },
   {
    "duration": 9,
    "start_time": "2022-03-30T17:37:58.883Z"
   },
   {
    "duration": 48,
    "start_time": "2022-03-30T17:37:58.895Z"
   },
   {
    "duration": 13,
    "start_time": "2022-03-30T17:37:58.945Z"
   },
   {
    "duration": 10,
    "start_time": "2022-03-30T17:37:58.961Z"
   },
   {
    "duration": 12,
    "start_time": "2022-03-30T17:37:58.973Z"
   },
   {
    "duration": 7,
    "start_time": "2022-03-30T17:37:58.987Z"
   },
   {
    "duration": 48,
    "start_time": "2022-03-30T17:37:58.996Z"
   },
   {
    "duration": 6,
    "start_time": "2022-03-30T17:37:59.046Z"
   },
   {
    "duration": 11,
    "start_time": "2022-03-30T17:37:59.054Z"
   },
   {
    "duration": 26,
    "start_time": "2022-03-30T18:04:59.254Z"
   },
   {
    "duration": 8,
    "start_time": "2022-03-30T18:05:37.326Z"
   },
   {
    "duration": 54,
    "start_time": "2022-03-30T18:05:45.835Z"
   },
   {
    "duration": 1430,
    "start_time": "2022-03-30T22:27:23.415Z"
   },
   {
    "duration": 445,
    "start_time": "2022-03-30T22:27:24.847Z"
   },
   {
    "duration": 26,
    "start_time": "2022-03-30T22:27:25.294Z"
   },
   {
    "duration": 34,
    "start_time": "2022-03-30T22:27:25.323Z"
   },
   {
    "duration": 30,
    "start_time": "2022-03-30T22:27:25.359Z"
   },
   {
    "duration": 25,
    "start_time": "2022-03-30T22:27:25.914Z"
   },
   {
    "duration": 8,
    "start_time": "2022-03-30T22:27:26.374Z"
   },
   {
    "duration": 21,
    "start_time": "2022-03-30T22:27:27.631Z"
   },
   {
    "duration": 355,
    "start_time": "2022-03-30T22:27:28.645Z"
   },
   {
    "duration": 4,
    "start_time": "2022-03-30T22:27:29.710Z"
   },
   {
    "duration": 344,
    "start_time": "2022-03-30T22:27:30.133Z"
   },
   {
    "duration": 47,
    "start_time": "2022-03-30T22:27:33.225Z"
   },
   {
    "duration": 83,
    "start_time": "2022-03-30T22:27:35.339Z"
   },
   {
    "duration": 15,
    "start_time": "2022-03-30T22:27:42.826Z"
   },
   {
    "duration": 1196,
    "start_time": "2022-03-30T22:58:27.148Z"
   },
   {
    "duration": 423,
    "start_time": "2022-03-30T22:58:28.346Z"
   },
   {
    "duration": 24,
    "start_time": "2022-03-30T22:58:28.771Z"
   },
   {
    "duration": 32,
    "start_time": "2022-03-30T22:58:28.797Z"
   },
   {
    "duration": 29,
    "start_time": "2022-03-30T22:58:28.831Z"
   },
   {
    "duration": 26,
    "start_time": "2022-03-30T22:58:28.862Z"
   },
   {
    "duration": 9,
    "start_time": "2022-03-30T22:58:28.890Z"
   },
   {
    "duration": 48,
    "start_time": "2022-03-30T22:58:28.900Z"
   },
   {
    "duration": 350,
    "start_time": "2022-03-30T22:58:28.949Z"
   },
   {
    "duration": 4,
    "start_time": "2022-03-30T22:58:29.302Z"
   },
   {
    "duration": 335,
    "start_time": "2022-03-30T22:58:29.308Z"
   },
   {
    "duration": 42,
    "start_time": "2022-03-30T22:58:29.645Z"
   },
   {
    "duration": 98,
    "start_time": "2022-03-30T22:58:29.689Z"
   },
   {
    "duration": 42,
    "start_time": "2022-03-30T22:58:29.789Z"
   },
   {
    "duration": 40,
    "start_time": "2022-03-30T22:58:29.833Z"
   },
   {
    "duration": 12,
    "start_time": "2022-03-30T22:58:29.875Z"
   },
   {
    "duration": 6,
    "start_time": "2022-03-30T22:58:29.889Z"
   },
   {
    "duration": 49,
    "start_time": "2022-03-30T22:58:29.897Z"
   },
   {
    "duration": 21,
    "start_time": "2022-03-30T22:58:29.947Z"
   },
   {
    "duration": 7,
    "start_time": "2022-03-30T22:58:29.970Z"
   },
   {
    "duration": 68,
    "start_time": "2022-03-30T22:58:29.979Z"
   },
   {
    "duration": 41,
    "start_time": "2022-03-30T22:58:30.049Z"
   },
   {
    "duration": 58,
    "start_time": "2022-03-30T22:58:30.092Z"
   },
   {
    "duration": 7,
    "start_time": "2022-03-30T22:58:30.152Z"
   },
   {
    "duration": 12,
    "start_time": "2022-03-30T22:58:30.161Z"
   },
   {
    "duration": 24,
    "start_time": "2022-03-30T22:58:30.174Z"
   },
   {
    "duration": 164,
    "start_time": "2022-03-30T22:58:30.200Z"
   },
   {
    "duration": 270,
    "start_time": "2022-03-30T22:58:30.367Z"
   },
   {
    "duration": 170,
    "start_time": "2022-03-30T22:58:30.639Z"
   },
   {
    "duration": 358,
    "start_time": "2022-03-30T22:58:30.811Z"
   },
   {
    "duration": 173,
    "start_time": "2022-03-30T22:58:31.171Z"
   },
   {
    "duration": 243,
    "start_time": "2022-03-30T22:58:31.346Z"
   },
   {
    "duration": 171,
    "start_time": "2022-03-30T22:58:31.591Z"
   },
   {
    "duration": 263,
    "start_time": "2022-03-30T22:58:31.763Z"
   },
   {
    "duration": 161,
    "start_time": "2022-03-30T22:58:32.031Z"
   },
   {
    "duration": 267,
    "start_time": "2022-03-30T22:58:32.194Z"
   },
   {
    "duration": 277,
    "start_time": "2022-03-30T22:58:32.462Z"
   },
   {
    "duration": 268,
    "start_time": "2022-03-30T22:58:32.740Z"
   },
   {
    "duration": 8,
    "start_time": "2022-03-30T22:58:33.010Z"
   },
   {
    "duration": 9,
    "start_time": "2022-03-30T22:58:33.031Z"
   },
   {
    "duration": 26,
    "start_time": "2022-03-30T22:58:33.042Z"
   },
   {
    "duration": 28,
    "start_time": "2022-03-30T22:58:33.070Z"
   },
   {
    "duration": 36,
    "start_time": "2022-03-30T22:58:33.100Z"
   },
   {
    "duration": 30,
    "start_time": "2022-03-30T22:58:33.138Z"
   },
   {
    "duration": 30,
    "start_time": "2022-03-30T22:58:33.170Z"
   },
   {
    "duration": 30,
    "start_time": "2022-03-30T22:58:33.202Z"
   },
   {
    "duration": 18,
    "start_time": "2022-03-30T22:58:33.234Z"
   },
   {
    "duration": 26,
    "start_time": "2022-03-30T22:58:33.255Z"
   },
   {
    "duration": 9,
    "start_time": "2022-03-30T22:58:33.283Z"
   },
   {
    "duration": 23,
    "start_time": "2022-03-30T22:58:33.294Z"
   },
   {
    "duration": 73,
    "start_time": "2022-03-31T04:12:04.305Z"
   },
   {
    "duration": 1801,
    "start_time": "2022-03-31T04:12:48.147Z"
   },
   {
    "duration": 538,
    "start_time": "2022-03-31T04:12:49.951Z"
   },
   {
    "duration": 34,
    "start_time": "2022-03-31T04:12:50.491Z"
   },
   {
    "duration": 63,
    "start_time": "2022-03-31T04:12:50.527Z"
   },
   {
    "duration": 40,
    "start_time": "2022-03-31T04:12:50.593Z"
   },
   {
    "duration": 60,
    "start_time": "2022-03-31T04:12:50.635Z"
   },
   {
    "duration": 13,
    "start_time": "2022-03-31T04:12:50.697Z"
   },
   {
    "duration": 39,
    "start_time": "2022-03-31T04:12:50.713Z"
   },
   {
    "duration": 543,
    "start_time": "2022-03-31T04:12:50.784Z"
   },
   {
    "duration": 7,
    "start_time": "2022-03-31T04:12:51.330Z"
   },
   {
    "duration": 543,
    "start_time": "2022-03-31T04:12:51.340Z"
   },
   {
    "duration": 59,
    "start_time": "2022-03-31T04:12:51.886Z"
   },
   {
    "duration": 133,
    "start_time": "2022-03-31T04:12:51.947Z"
   },
   {
    "duration": 54,
    "start_time": "2022-03-31T04:12:52.084Z"
   },
   {
    "duration": 69,
    "start_time": "2022-03-31T04:12:52.140Z"
   },
   {
    "duration": 17,
    "start_time": "2022-03-31T04:12:52.212Z"
   },
   {
    "duration": 6,
    "start_time": "2022-03-31T04:12:52.231Z"
   },
   {
    "duration": 65,
    "start_time": "2022-03-31T04:12:52.239Z"
   },
   {
    "duration": 27,
    "start_time": "2022-03-31T04:12:52.306Z"
   },
   {
    "duration": 8,
    "start_time": "2022-03-31T04:12:52.335Z"
   },
   {
    "duration": 85,
    "start_time": "2022-03-31T04:12:52.346Z"
   },
   {
    "duration": 65,
    "start_time": "2022-03-31T04:12:52.433Z"
   },
   {
    "duration": 59,
    "start_time": "2022-03-31T04:12:52.500Z"
   },
   {
    "duration": 26,
    "start_time": "2022-03-31T04:12:52.561Z"
   },
   {
    "duration": 9,
    "start_time": "2022-03-31T04:12:52.589Z"
   },
   {
    "duration": 29,
    "start_time": "2022-03-31T04:12:52.601Z"
   },
   {
    "duration": 246,
    "start_time": "2022-03-31T04:12:52.632Z"
   },
   {
    "duration": 385,
    "start_time": "2022-03-31T04:12:52.883Z"
   },
   {
    "duration": 249,
    "start_time": "2022-03-31T04:12:53.270Z"
   },
   {
    "duration": 505,
    "start_time": "2022-03-31T04:12:53.521Z"
   },
   {
    "duration": 398,
    "start_time": "2022-03-31T04:12:54.028Z"
   },
   {
    "duration": 1230,
    "start_time": "2022-03-31T04:12:54.483Z"
   },
   {
    "duration": 780,
    "start_time": "2022-03-31T04:12:55.716Z"
   },
   {
    "duration": 901,
    "start_time": "2022-03-31T04:12:56.499Z"
   },
   {
    "duration": 435,
    "start_time": "2022-03-31T04:12:57.402Z"
   },
   {
    "duration": 397,
    "start_time": "2022-03-31T04:12:57.839Z"
   },
   {
    "duration": 401,
    "start_time": "2022-03-31T04:12:58.238Z"
   },
   {
    "duration": 416,
    "start_time": "2022-03-31T04:12:58.641Z"
   },
   {
    "duration": 24,
    "start_time": "2022-03-31T04:12:59.059Z"
   },
   {
    "duration": 6,
    "start_time": "2022-03-31T04:12:59.086Z"
   },
   {
    "duration": 7,
    "start_time": "2022-03-31T04:12:59.097Z"
   },
   {
    "duration": 8,
    "start_time": "2022-03-31T04:12:59.106Z"
   },
   {
    "duration": 12,
    "start_time": "2022-03-31T04:12:59.116Z"
   },
   {
    "duration": 22,
    "start_time": "2022-03-31T04:12:59.130Z"
   },
   {
    "duration": 11,
    "start_time": "2022-03-31T04:12:59.183Z"
   },
   {
    "duration": 20,
    "start_time": "2022-03-31T04:12:59.196Z"
   },
   {
    "duration": 11,
    "start_time": "2022-03-31T04:12:59.218Z"
   },
   {
    "duration": 12,
    "start_time": "2022-03-31T04:12:59.231Z"
   },
   {
    "duration": 17,
    "start_time": "2022-03-31T04:12:59.245Z"
   },
   {
    "duration": 27,
    "start_time": "2022-03-31T04:12:59.264Z"
   },
   {
    "duration": 611,
    "start_time": "2022-03-31T04:13:09.156Z"
   },
   {
    "duration": 586,
    "start_time": "2022-03-31T04:13:33.271Z"
   },
   {
    "duration": 108,
    "start_time": "2022-03-31T04:14:00.029Z"
   },
   {
    "duration": 1565,
    "start_time": "2022-03-31T04:16:09.366Z"
   },
   {
    "duration": 524,
    "start_time": "2022-03-31T04:16:10.934Z"
   },
   {
    "duration": 33,
    "start_time": "2022-03-31T04:16:11.460Z"
   },
   {
    "duration": 45,
    "start_time": "2022-03-31T04:16:11.497Z"
   },
   {
    "duration": 54,
    "start_time": "2022-03-31T04:16:11.545Z"
   },
   {
    "duration": 33,
    "start_time": "2022-03-31T04:16:11.601Z"
   },
   {
    "duration": 12,
    "start_time": "2022-03-31T04:16:11.636Z"
   },
   {
    "duration": 65,
    "start_time": "2022-03-31T04:16:11.650Z"
   },
   {
    "duration": 713,
    "start_time": "2022-03-31T04:16:11.717Z"
   },
   {
    "duration": 6,
    "start_time": "2022-03-31T04:16:12.434Z"
   },
   {
    "duration": 776,
    "start_time": "2022-03-31T04:16:12.443Z"
   },
   {
    "duration": 276,
    "start_time": "2022-03-31T04:16:13.222Z"
   },
   {
    "duration": 205,
    "start_time": "2022-03-31T04:16:13.501Z"
   },
   {
    "duration": 101,
    "start_time": "2022-03-31T04:16:13.709Z"
   },
   {
    "duration": 105,
    "start_time": "2022-03-31T04:16:13.813Z"
   },
   {
    "duration": 72,
    "start_time": "2022-03-31T04:16:13.921Z"
   },
   {
    "duration": 5,
    "start_time": "2022-03-31T04:16:13.996Z"
   },
   {
    "duration": 93,
    "start_time": "2022-03-31T04:16:14.003Z"
   },
   {
    "duration": 27,
    "start_time": "2022-03-31T04:16:14.098Z"
   },
   {
    "duration": 62,
    "start_time": "2022-03-31T04:16:14.127Z"
   },
   {
    "duration": 110,
    "start_time": "2022-03-31T04:16:14.191Z"
   },
   {
    "duration": 106,
    "start_time": "2022-03-31T04:16:14.303Z"
   },
   {
    "duration": 108,
    "start_time": "2022-03-31T04:16:14.411Z"
   },
   {
    "duration": 64,
    "start_time": "2022-03-31T04:16:14.521Z"
   },
   {
    "duration": 13,
    "start_time": "2022-03-31T04:16:14.588Z"
   },
   {
    "duration": 24,
    "start_time": "2022-03-31T04:16:14.603Z"
   },
   {
    "duration": 491,
    "start_time": "2022-03-31T04:16:14.629Z"
   },
   {
    "duration": 795,
    "start_time": "2022-03-31T04:16:15.125Z"
   },
   {
    "duration": 255,
    "start_time": "2022-03-31T04:16:15.923Z"
   },
   {
    "duration": 510,
    "start_time": "2022-03-31T04:16:16.184Z"
   },
   {
    "duration": 260,
    "start_time": "2022-03-31T04:16:16.696Z"
   },
   {
    "duration": 385,
    "start_time": "2022-03-31T04:16:16.958Z"
   },
   {
    "duration": 257,
    "start_time": "2022-03-31T04:16:17.346Z"
   },
   {
    "duration": 404,
    "start_time": "2022-03-31T04:16:17.605Z"
   },
   {
    "duration": 245,
    "start_time": "2022-03-31T04:16:18.012Z"
   },
   {
    "duration": 387,
    "start_time": "2022-03-31T04:16:18.259Z"
   },
   {
    "duration": 381,
    "start_time": "2022-03-31T04:16:18.648Z"
   },
   {
    "duration": 427,
    "start_time": "2022-03-31T04:16:19.031Z"
   },
   {
    "duration": 24,
    "start_time": "2022-03-31T04:16:19.460Z"
   },
   {
    "duration": 7,
    "start_time": "2022-03-31T04:16:19.486Z"
   },
   {
    "duration": 7,
    "start_time": "2022-03-31T04:16:19.495Z"
   },
   {
    "duration": 7,
    "start_time": "2022-03-31T04:16:19.504Z"
   },
   {
    "duration": 9,
    "start_time": "2022-03-31T04:16:19.513Z"
   },
   {
    "duration": 16,
    "start_time": "2022-03-31T04:16:19.524Z"
   },
   {
    "duration": 48,
    "start_time": "2022-03-31T04:16:19.542Z"
   },
   {
    "duration": 14,
    "start_time": "2022-03-31T04:16:19.592Z"
   },
   {
    "duration": 6,
    "start_time": "2022-03-31T04:16:19.608Z"
   },
   {
    "duration": 7,
    "start_time": "2022-03-31T04:16:19.616Z"
   },
   {
    "duration": 8,
    "start_time": "2022-03-31T04:16:19.625Z"
   },
   {
    "duration": 50,
    "start_time": "2022-03-31T04:16:19.635Z"
   },
   {
    "duration": 601,
    "start_time": "2022-03-31T04:44:24.562Z"
   },
   {
    "duration": 623,
    "start_time": "2022-03-31T04:45:08.205Z"
   },
   {
    "duration": 547,
    "start_time": "2022-03-31T04:45:19.929Z"
   },
   {
    "duration": 1713,
    "start_time": "2022-03-31T04:45:37.724Z"
   },
   {
    "duration": 539,
    "start_time": "2022-03-31T04:45:39.439Z"
   },
   {
    "duration": 34,
    "start_time": "2022-03-31T04:45:39.980Z"
   },
   {
    "duration": 43,
    "start_time": "2022-03-31T04:45:40.017Z"
   },
   {
    "duration": 57,
    "start_time": "2022-03-31T04:45:40.062Z"
   },
   {
    "duration": 33,
    "start_time": "2022-03-31T04:45:40.121Z"
   },
   {
    "duration": 12,
    "start_time": "2022-03-31T04:45:40.184Z"
   },
   {
    "duration": 37,
    "start_time": "2022-03-31T04:45:40.199Z"
   },
   {
    "duration": 706,
    "start_time": "2022-03-31T04:45:40.238Z"
   },
   {
    "duration": 6,
    "start_time": "2022-03-31T04:45:40.948Z"
   },
   {
    "duration": 602,
    "start_time": "2022-03-31T04:45:40.956Z"
   },
   {
    "duration": 132,
    "start_time": "2022-03-31T04:45:41.561Z"
   },
   {
    "duration": 124,
    "start_time": "2022-03-31T04:45:41.696Z"
   },
   {
    "duration": 63,
    "start_time": "2022-03-31T04:45:41.822Z"
   },
   {
    "duration": 56,
    "start_time": "2022-03-31T04:45:41.887Z"
   },
   {
    "duration": 17,
    "start_time": "2022-03-31T04:45:41.945Z"
   },
   {
    "duration": 4,
    "start_time": "2022-03-31T04:45:41.984Z"
   },
   {
    "duration": 41,
    "start_time": "2022-03-31T04:45:41.990Z"
   },
   {
    "duration": 28,
    "start_time": "2022-03-31T04:45:42.033Z"
   },
   {
    "duration": 8,
    "start_time": "2022-03-31T04:45:42.084Z"
   },
   {
    "duration": 62,
    "start_time": "2022-03-31T04:45:42.094Z"
   },
   {
    "duration": 77,
    "start_time": "2022-03-31T04:45:42.158Z"
   },
   {
    "duration": 78,
    "start_time": "2022-03-31T04:45:42.237Z"
   },
   {
    "duration": 10,
    "start_time": "2022-03-31T04:45:42.317Z"
   },
   {
    "duration": 9,
    "start_time": "2022-03-31T04:45:42.330Z"
   },
   {
    "duration": 16,
    "start_time": "2022-03-31T04:45:42.341Z"
   },
   {
    "duration": 260,
    "start_time": "2022-03-31T04:45:42.385Z"
   },
   {
    "duration": 399,
    "start_time": "2022-03-31T04:45:42.652Z"
   },
   {
    "duration": 254,
    "start_time": "2022-03-31T04:45:43.054Z"
   },
   {
    "duration": 516,
    "start_time": "2022-03-31T04:45:43.311Z"
   },
   {
    "duration": 271,
    "start_time": "2022-03-31T04:45:43.830Z"
   },
   {
    "duration": 383,
    "start_time": "2022-03-31T04:45:44.104Z"
   },
   {
    "duration": 269,
    "start_time": "2022-03-31T04:45:44.489Z"
   },
   {
    "duration": 400,
    "start_time": "2022-03-31T04:45:44.761Z"
   },
   {
    "duration": 262,
    "start_time": "2022-03-31T04:45:45.164Z"
   },
   {
    "duration": 377,
    "start_time": "2022-03-31T04:45:45.428Z"
   },
   {
    "duration": 381,
    "start_time": "2022-03-31T04:45:45.808Z"
   },
   {
    "duration": 410,
    "start_time": "2022-03-31T04:45:46.192Z"
   },
   {
    "duration": 13,
    "start_time": "2022-03-31T04:45:46.605Z"
   },
   {
    "duration": 8,
    "start_time": "2022-03-31T04:45:46.621Z"
   },
   {
    "duration": 9,
    "start_time": "2022-03-31T04:45:46.632Z"
   },
   {
    "duration": 45,
    "start_time": "2022-03-31T04:45:46.643Z"
   },
   {
    "duration": 9,
    "start_time": "2022-03-31T04:45:46.691Z"
   },
   {
    "duration": 15,
    "start_time": "2022-03-31T04:45:46.703Z"
   },
   {
    "duration": 11,
    "start_time": "2022-03-31T04:45:46.720Z"
   },
   {
    "duration": 50,
    "start_time": "2022-03-31T04:45:46.734Z"
   },
   {
    "duration": 7,
    "start_time": "2022-03-31T04:45:46.787Z"
   },
   {
    "duration": 8,
    "start_time": "2022-03-31T04:45:46.797Z"
   },
   {
    "duration": 8,
    "start_time": "2022-03-31T04:45:46.807Z"
   },
   {
    "duration": 7,
    "start_time": "2022-03-31T04:45:46.818Z"
   },
   {
    "duration": 1512,
    "start_time": "2022-03-31T05:15:58.924Z"
   },
   {
    "duration": 538,
    "start_time": "2022-03-31T05:16:00.439Z"
   },
   {
    "duration": 32,
    "start_time": "2022-03-31T05:16:00.979Z"
   },
   {
    "duration": 53,
    "start_time": "2022-03-31T05:16:01.014Z"
   },
   {
    "duration": 48,
    "start_time": "2022-03-31T05:16:01.069Z"
   },
   {
    "duration": 32,
    "start_time": "2022-03-31T05:16:01.120Z"
   },
   {
    "duration": 37,
    "start_time": "2022-03-31T05:16:01.154Z"
   },
   {
    "duration": 35,
    "start_time": "2022-03-31T05:16:01.193Z"
   },
   {
    "duration": 706,
    "start_time": "2022-03-31T05:16:01.230Z"
   },
   {
    "duration": 8,
    "start_time": "2022-03-31T05:16:01.940Z"
   },
   {
    "duration": 649,
    "start_time": "2022-03-31T05:16:01.950Z"
   },
   {
    "duration": 141,
    "start_time": "2022-03-31T05:16:02.602Z"
   },
   {
    "duration": 124,
    "start_time": "2022-03-31T05:16:02.745Z"
   },
   {
    "duration": 58,
    "start_time": "2022-03-31T05:16:02.871Z"
   },
   {
    "duration": 68,
    "start_time": "2022-03-31T05:16:02.932Z"
   },
   {
    "duration": 17,
    "start_time": "2022-03-31T05:16:03.003Z"
   },
   {
    "duration": 18,
    "start_time": "2022-03-31T05:16:03.022Z"
   },
   {
    "duration": 50,
    "start_time": "2022-03-31T05:16:03.042Z"
   },
   {
    "duration": 51,
    "start_time": "2022-03-31T05:16:03.095Z"
   },
   {
    "duration": 9,
    "start_time": "2022-03-31T05:16:03.148Z"
   },
   {
    "duration": 83,
    "start_time": "2022-03-31T05:16:03.159Z"
   },
   {
    "duration": 74,
    "start_time": "2022-03-31T05:16:03.245Z"
   },
   {
    "duration": 68,
    "start_time": "2022-03-31T05:16:03.321Z"
   },
   {
    "duration": 9,
    "start_time": "2022-03-31T05:16:03.392Z"
   },
   {
    "duration": 13,
    "start_time": "2022-03-31T05:16:03.404Z"
   },
   {
    "duration": 25,
    "start_time": "2022-03-31T05:16:03.419Z"
   },
   {
    "duration": 272,
    "start_time": "2022-03-31T05:16:03.446Z"
   },
   {
    "duration": 413,
    "start_time": "2022-03-31T05:16:03.724Z"
   },
   {
    "duration": 258,
    "start_time": "2022-03-31T05:16:04.140Z"
   },
   {
    "duration": 520,
    "start_time": "2022-03-31T05:16:04.401Z"
   },
   {
    "duration": 262,
    "start_time": "2022-03-31T05:16:04.924Z"
   },
   {
    "duration": 378,
    "start_time": "2022-03-31T05:16:05.188Z"
   },
   {
    "duration": 261,
    "start_time": "2022-03-31T05:16:05.568Z"
   },
   {
    "duration": 406,
    "start_time": "2022-03-31T05:16:05.831Z"
   },
   {
    "duration": 256,
    "start_time": "2022-03-31T05:16:06.239Z"
   },
   {
    "duration": 385,
    "start_time": "2022-03-31T05:16:06.498Z"
   },
   {
    "duration": 374,
    "start_time": "2022-03-31T05:16:06.885Z"
   },
   {
    "duration": 425,
    "start_time": "2022-03-31T05:16:07.261Z"
   },
   {
    "duration": 13,
    "start_time": "2022-03-31T05:16:07.688Z"
   },
   {
    "duration": 8,
    "start_time": "2022-03-31T05:16:07.703Z"
   },
   {
    "duration": 8,
    "start_time": "2022-03-31T05:16:07.713Z"
   },
   {
    "duration": 8,
    "start_time": "2022-03-31T05:16:07.723Z"
   },
   {
    "duration": 15,
    "start_time": "2022-03-31T05:16:07.733Z"
   },
   {
    "duration": 47,
    "start_time": "2022-03-31T05:16:07.750Z"
   },
   {
    "duration": 11,
    "start_time": "2022-03-31T05:16:07.799Z"
   },
   {
    "duration": 13,
    "start_time": "2022-03-31T05:16:07.812Z"
   },
   {
    "duration": 6,
    "start_time": "2022-03-31T05:16:07.828Z"
   },
   {
    "duration": 7,
    "start_time": "2022-03-31T05:16:07.836Z"
   },
   {
    "duration": 6,
    "start_time": "2022-03-31T05:16:07.885Z"
   },
   {
    "duration": 7,
    "start_time": "2022-03-31T05:16:07.893Z"
   },
   {
    "duration": 24,
    "start_time": "2022-03-31T05:18:21.522Z"
   },
   {
    "duration": 31,
    "start_time": "2022-03-31T05:19:25.989Z"
   },
   {
    "duration": 18,
    "start_time": "2022-03-31T05:22:08.605Z"
   },
   {
    "duration": 27,
    "start_time": "2022-03-31T05:27:07.667Z"
   },
   {
    "duration": 233,
    "start_time": "2022-03-31T05:33:47.647Z"
   },
   {
    "duration": 385,
    "start_time": "2022-03-31T05:34:52.649Z"
   },
   {
    "duration": 264,
    "start_time": "2022-03-31T05:37:19.898Z"
   },
   {
    "duration": 204,
    "start_time": "2022-03-31T05:38:32.116Z"
   },
   {
    "duration": 260,
    "start_time": "2022-03-31T05:38:44.929Z"
   },
   {
    "duration": 281,
    "start_time": "2022-03-31T05:40:49.705Z"
   },
   {
    "duration": 133,
    "start_time": "2022-03-31T05:41:19.574Z"
   },
   {
    "duration": 293,
    "start_time": "2022-03-31T05:41:22.856Z"
   },
   {
    "duration": 329,
    "start_time": "2022-03-31T05:42:43.401Z"
   },
   {
    "duration": 237,
    "start_time": "2022-03-31T05:44:11.575Z"
   },
   {
    "duration": 286,
    "start_time": "2022-03-31T05:49:49.207Z"
   },
   {
    "duration": 388,
    "start_time": "2022-03-31T05:51:06.855Z"
   },
   {
    "duration": 399,
    "start_time": "2022-03-31T05:52:14.688Z"
   },
   {
    "duration": 388,
    "start_time": "2022-03-31T05:55:48.716Z"
   },
   {
    "duration": 392,
    "start_time": "2022-03-31T05:56:13.174Z"
   },
   {
    "duration": 524,
    "start_time": "2022-03-31T05:56:29.386Z"
   },
   {
    "duration": 393,
    "start_time": "2022-03-31T05:56:35.490Z"
   },
   {
    "duration": 391,
    "start_time": "2022-03-31T05:57:43.613Z"
   },
   {
    "duration": 614,
    "start_time": "2022-03-31T05:59:11.993Z"
   },
   {
    "duration": 1809,
    "start_time": "2022-03-31T06:00:10.940Z"
   },
   {
    "duration": 534,
    "start_time": "2022-03-31T06:00:12.752Z"
   },
   {
    "duration": 37,
    "start_time": "2022-03-31T06:00:13.288Z"
   },
   {
    "duration": 72,
    "start_time": "2022-03-31T06:00:13.330Z"
   },
   {
    "duration": 38,
    "start_time": "2022-03-31T06:00:13.404Z"
   },
   {
    "duration": 58,
    "start_time": "2022-03-31T06:00:13.444Z"
   },
   {
    "duration": 12,
    "start_time": "2022-03-31T06:00:13.504Z"
   },
   {
    "duration": 67,
    "start_time": "2022-03-31T06:00:13.518Z"
   },
   {
    "duration": 680,
    "start_time": "2022-03-31T06:00:13.588Z"
   },
   {
    "duration": 13,
    "start_time": "2022-03-31T06:00:14.274Z"
   },
   {
    "duration": 597,
    "start_time": "2022-03-31T06:00:14.289Z"
   },
   {
    "duration": 139,
    "start_time": "2022-03-31T06:00:14.889Z"
   },
   {
    "duration": 120,
    "start_time": "2022-03-31T06:00:15.030Z"
   },
   {
    "duration": 62,
    "start_time": "2022-03-31T06:00:15.152Z"
   },
   {
    "duration": 53,
    "start_time": "2022-03-31T06:00:15.217Z"
   },
   {
    "duration": 18,
    "start_time": "2022-03-31T06:00:15.285Z"
   },
   {
    "duration": 7,
    "start_time": "2022-03-31T06:00:15.306Z"
   },
   {
    "duration": 39,
    "start_time": "2022-03-31T06:00:15.315Z"
   },
   {
    "duration": 50,
    "start_time": "2022-03-31T06:00:15.356Z"
   },
   {
    "duration": 8,
    "start_time": "2022-03-31T06:00:15.409Z"
   },
   {
    "duration": 76,
    "start_time": "2022-03-31T06:00:15.419Z"
   },
   {
    "duration": 55,
    "start_time": "2022-03-31T06:00:15.497Z"
   },
   {
    "duration": 73,
    "start_time": "2022-03-31T06:00:15.555Z"
   },
   {
    "duration": 9,
    "start_time": "2022-03-31T06:00:15.630Z"
   },
   {
    "duration": 10,
    "start_time": "2022-03-31T06:00:15.641Z"
   },
   {
    "duration": 34,
    "start_time": "2022-03-31T06:00:15.653Z"
   },
   {
    "duration": 284,
    "start_time": "2022-03-31T06:00:15.689Z"
   },
   {
    "duration": 375,
    "start_time": "2022-03-31T06:00:15.983Z"
   },
   {
    "duration": 399,
    "start_time": "2022-03-31T06:00:16.360Z"
   },
   {
    "duration": 408,
    "start_time": "2022-03-31T06:00:16.761Z"
   },
   {
    "duration": 253,
    "start_time": "2022-03-31T06:00:17.171Z"
   },
   {
    "duration": 372,
    "start_time": "2022-03-31T06:00:17.426Z"
   },
   {
    "duration": 263,
    "start_time": "2022-03-31T06:00:17.800Z"
   },
   {
    "duration": 392,
    "start_time": "2022-03-31T06:00:18.065Z"
   },
   {
    "duration": 335,
    "start_time": "2022-03-31T06:00:18.460Z"
   },
   {
    "duration": 924,
    "start_time": "2022-03-31T06:00:18.797Z"
   },
   {
    "duration": 496,
    "start_time": "2022-03-31T06:00:19.724Z"
   },
   {
    "duration": 800,
    "start_time": "2022-03-31T06:00:20.222Z"
   },
   {
    "duration": 66,
    "start_time": "2022-03-31T06:00:21.024Z"
   },
   {
    "duration": 11,
    "start_time": "2022-03-31T06:00:21.093Z"
   },
   {
    "duration": 10,
    "start_time": "2022-03-31T06:00:21.108Z"
   },
   {
    "duration": 65,
    "start_time": "2022-03-31T06:00:21.120Z"
   },
   {
    "duration": 6,
    "start_time": "2022-03-31T06:00:21.188Z"
   },
   {
    "duration": 22,
    "start_time": "2022-03-31T06:00:21.197Z"
   },
   {
    "duration": 65,
    "start_time": "2022-03-31T06:00:21.222Z"
   },
   {
    "duration": 33,
    "start_time": "2022-03-31T06:00:21.290Z"
   },
   {
    "duration": 8,
    "start_time": "2022-03-31T06:00:21.326Z"
   },
   {
    "duration": 8,
    "start_time": "2022-03-31T06:00:21.385Z"
   },
   {
    "duration": 7,
    "start_time": "2022-03-31T06:00:21.395Z"
   },
   {
    "duration": 15,
    "start_time": "2022-03-31T06:00:21.404Z"
   },
   {
    "duration": 394,
    "start_time": "2022-03-31T06:02:38.100Z"
   },
   {
    "duration": 427,
    "start_time": "2022-03-31T06:02:47.080Z"
   },
   {
    "duration": 48,
    "start_time": "2022-03-31T06:05:05.755Z"
   },
   {
    "duration": 13,
    "start_time": "2022-03-31T06:07:38.679Z"
   },
   {
    "duration": 53,
    "start_time": "2022-03-31T06:07:44.609Z"
   },
   {
    "duration": 30,
    "start_time": "2022-03-31T06:08:21.840Z"
   },
   {
    "duration": 7,
    "start_time": "2022-03-31T06:09:07.005Z"
   },
   {
    "duration": 6,
    "start_time": "2022-03-31T06:09:08.710Z"
   },
   {
    "duration": 7,
    "start_time": "2022-03-31T06:09:11.331Z"
   },
   {
    "duration": 6,
    "start_time": "2022-03-31T06:09:13.354Z"
   },
   {
    "duration": 1674,
    "start_time": "2022-03-31T06:17:03.970Z"
   },
   {
    "duration": 518,
    "start_time": "2022-03-31T06:17:05.647Z"
   },
   {
    "duration": 34,
    "start_time": "2022-03-31T06:17:06.167Z"
   },
   {
    "duration": 41,
    "start_time": "2022-03-31T06:17:06.205Z"
   },
   {
    "duration": 60,
    "start_time": "2022-03-31T06:17:06.248Z"
   },
   {
    "duration": 32,
    "start_time": "2022-03-31T06:17:06.310Z"
   },
   {
    "duration": 40,
    "start_time": "2022-03-31T06:17:06.345Z"
   },
   {
    "duration": 105,
    "start_time": "2022-03-31T06:17:06.388Z"
   },
   {
    "duration": 662,
    "start_time": "2022-03-31T06:17:06.495Z"
   },
   {
    "duration": 6,
    "start_time": "2022-03-31T06:17:07.162Z"
   },
   {
    "duration": 596,
    "start_time": "2022-03-31T06:17:07.170Z"
   },
   {
    "duration": 144,
    "start_time": "2022-03-31T06:17:07.768Z"
   },
   {
    "duration": 122,
    "start_time": "2022-03-31T06:17:07.914Z"
   },
   {
    "duration": 60,
    "start_time": "2022-03-31T06:17:08.038Z"
   },
   {
    "duration": 53,
    "start_time": "2022-03-31T06:17:08.100Z"
   },
   {
    "duration": 29,
    "start_time": "2022-03-31T06:17:08.156Z"
   },
   {
    "duration": 7,
    "start_time": "2022-03-31T06:17:08.188Z"
   },
   {
    "duration": 35,
    "start_time": "2022-03-31T06:17:08.196Z"
   },
   {
    "duration": 56,
    "start_time": "2022-03-31T06:17:08.233Z"
   },
   {
    "duration": 9,
    "start_time": "2022-03-31T06:17:08.291Z"
   },
   {
    "duration": 59,
    "start_time": "2022-03-31T06:17:08.303Z"
   },
   {
    "duration": 73,
    "start_time": "2022-03-31T06:17:08.364Z"
   },
   {
    "duration": 72,
    "start_time": "2022-03-31T06:17:08.440Z"
   },
   {
    "duration": 8,
    "start_time": "2022-03-31T06:17:08.514Z"
   },
   {
    "duration": 11,
    "start_time": "2022-03-31T06:17:08.524Z"
   },
   {
    "duration": 23,
    "start_time": "2022-03-31T06:17:08.537Z"
   },
   {
    "duration": 303,
    "start_time": "2022-03-31T06:17:08.562Z"
   },
   {
    "duration": 414,
    "start_time": "2022-03-31T06:17:08.870Z"
   },
   {
    "duration": 378,
    "start_time": "2022-03-31T06:17:09.287Z"
   },
   {
    "duration": 421,
    "start_time": "2022-03-31T06:17:09.667Z"
   },
   {
    "duration": 255,
    "start_time": "2022-03-31T06:17:10.090Z"
   },
   {
    "duration": 371,
    "start_time": "2022-03-31T06:17:10.348Z"
   },
   {
    "duration": 263,
    "start_time": "2022-03-31T06:17:10.721Z"
   },
   {
    "duration": 412,
    "start_time": "2022-03-31T06:17:10.987Z"
   },
   {
    "duration": 276,
    "start_time": "2022-03-31T06:17:11.401Z"
   },
   {
    "duration": 509,
    "start_time": "2022-03-31T06:17:11.680Z"
   },
   {
    "duration": 268,
    "start_time": "2022-03-31T06:17:12.191Z"
   },
   {
    "duration": 465,
    "start_time": "2022-03-31T06:17:12.462Z"
   },
   {
    "duration": 14,
    "start_time": "2022-03-31T06:17:12.929Z"
   },
   {
    "duration": 8,
    "start_time": "2022-03-31T06:17:12.945Z"
   },
   {
    "duration": 35,
    "start_time": "2022-03-31T06:17:12.955Z"
   },
   {
    "duration": 17,
    "start_time": "2022-03-31T06:17:12.993Z"
   },
   {
    "duration": 14,
    "start_time": "2022-03-31T06:17:13.013Z"
   },
   {
    "duration": 14,
    "start_time": "2022-03-31T06:17:13.030Z"
   },
   {
    "duration": 46,
    "start_time": "2022-03-31T06:17:13.047Z"
   },
   {
    "duration": 8,
    "start_time": "2022-03-31T06:17:13.095Z"
   },
   {
    "duration": 8,
    "start_time": "2022-03-31T06:17:13.106Z"
   },
   {
    "duration": 9,
    "start_time": "2022-03-31T06:17:13.117Z"
   },
   {
    "duration": 12,
    "start_time": "2022-03-31T06:17:13.128Z"
   },
   {
    "duration": 2062,
    "start_time": "2022-03-31T16:41:43.103Z"
   },
   {
    "duration": 552,
    "start_time": "2022-03-31T16:41:45.168Z"
   },
   {
    "duration": 33,
    "start_time": "2022-03-31T16:41:45.723Z"
   },
   {
    "duration": 49,
    "start_time": "2022-03-31T16:41:45.758Z"
   },
   {
    "duration": 41,
    "start_time": "2022-03-31T16:41:45.809Z"
   },
   {
    "duration": 26,
    "start_time": "2022-03-31T16:41:45.927Z"
   },
   {
    "duration": 8,
    "start_time": "2022-03-31T16:41:46.444Z"
   },
   {
    "duration": 23,
    "start_time": "2022-03-31T16:41:49.604Z"
   },
   {
    "duration": 667,
    "start_time": "2022-03-31T16:41:51.858Z"
   },
   {
    "duration": 6,
    "start_time": "2022-03-31T16:41:54.927Z"
   },
   {
    "duration": 592,
    "start_time": "2022-03-31T16:41:55.220Z"
   },
   {
    "duration": 124,
    "start_time": "2022-03-31T16:41:57.618Z"
   },
   {
    "duration": 76,
    "start_time": "2022-03-31T16:42:10.380Z"
   },
   {
    "duration": 40,
    "start_time": "2022-03-31T16:42:11.052Z"
   },
   {
    "duration": 39,
    "start_time": "2022-03-31T16:42:12.027Z"
   },
   {
    "duration": 13,
    "start_time": "2022-03-31T16:42:15.087Z"
   },
   {
    "duration": 3,
    "start_time": "2022-03-31T16:42:17.359Z"
   },
   {
    "duration": 37,
    "start_time": "2022-03-31T16:42:17.744Z"
   },
   {
    "duration": 30,
    "start_time": "2022-03-31T16:42:19.058Z"
   },
   {
    "duration": 6,
    "start_time": "2022-03-31T16:42:43.539Z"
   },
   {
    "duration": 1224,
    "start_time": "2022-03-31T16:43:37.745Z"
   },
   {
    "duration": 377,
    "start_time": "2022-03-31T16:43:38.971Z"
   },
   {
    "duration": 21,
    "start_time": "2022-03-31T16:43:39.349Z"
   },
   {
    "duration": 30,
    "start_time": "2022-03-31T16:43:39.373Z"
   },
   {
    "duration": 26,
    "start_time": "2022-03-31T16:43:39.404Z"
   },
   {
    "duration": 23,
    "start_time": "2022-03-31T16:43:39.431Z"
   },
   {
    "duration": 8,
    "start_time": "2022-03-31T16:43:39.455Z"
   },
   {
    "duration": 51,
    "start_time": "2022-03-31T16:43:39.465Z"
   },
   {
    "duration": 397,
    "start_time": "2022-03-31T16:43:39.518Z"
   },
   {
    "duration": 5,
    "start_time": "2022-03-31T16:43:39.918Z"
   },
   {
    "duration": 354,
    "start_time": "2022-03-31T16:43:39.924Z"
   },
   {
    "duration": 142,
    "start_time": "2022-03-31T16:43:40.280Z"
   },
   {
    "duration": 107,
    "start_time": "2022-03-31T16:43:40.424Z"
   },
   {
    "duration": 52,
    "start_time": "2022-03-31T16:43:40.534Z"
   },
   {
    "duration": 57,
    "start_time": "2022-03-31T16:43:40.588Z"
   },
   {
    "duration": 17,
    "start_time": "2022-03-31T16:43:40.647Z"
   },
   {
    "duration": 4,
    "start_time": "2022-03-31T16:43:40.666Z"
   },
   {
    "duration": 54,
    "start_time": "2022-03-31T16:43:40.672Z"
   },
   {
    "duration": 26,
    "start_time": "2022-03-31T16:43:40.729Z"
   },
   {
    "duration": 8,
    "start_time": "2022-03-31T16:43:40.757Z"
   },
   {
    "duration": 75,
    "start_time": "2022-03-31T16:43:40.767Z"
   },
   {
    "duration": 60,
    "start_time": "2022-03-31T16:43:40.845Z"
   },
   {
    "duration": 58,
    "start_time": "2022-03-31T16:43:40.908Z"
   },
   {
    "duration": 8,
    "start_time": "2022-03-31T16:43:40.968Z"
   },
   {
    "duration": 25,
    "start_time": "2022-03-31T16:43:40.978Z"
   },
   {
    "duration": 15,
    "start_time": "2022-03-31T16:43:41.005Z"
   },
   {
    "duration": 288,
    "start_time": "2022-03-31T16:43:41.022Z"
   },
   {
    "duration": 229,
    "start_time": "2022-03-31T16:43:41.313Z"
   },
   {
    "duration": 240,
    "start_time": "2022-03-31T16:43:41.544Z"
   },
   {
    "duration": 235,
    "start_time": "2022-03-31T16:43:41.785Z"
   },
   {
    "duration": 145,
    "start_time": "2022-03-31T16:43:42.022Z"
   },
   {
    "duration": 307,
    "start_time": "2022-03-31T16:43:42.169Z"
   },
   {
    "duration": 153,
    "start_time": "2022-03-31T16:43:42.477Z"
   },
   {
    "duration": 217,
    "start_time": "2022-03-31T16:43:42.632Z"
   },
   {
    "duration": 145,
    "start_time": "2022-03-31T16:43:42.851Z"
   },
   {
    "duration": 276,
    "start_time": "2022-03-31T16:43:43.000Z"
   },
   {
    "duration": 158,
    "start_time": "2022-03-31T16:43:43.278Z"
   },
   {
    "duration": 223,
    "start_time": "2022-03-31T16:43:43.438Z"
   },
   {
    "duration": 8,
    "start_time": "2022-03-31T16:43:43.663Z"
   },
   {
    "duration": 6,
    "start_time": "2022-03-31T16:43:43.673Z"
   },
   {
    "duration": 21,
    "start_time": "2022-03-31T16:43:43.681Z"
   },
   {
    "duration": 4,
    "start_time": "2022-03-31T16:43:43.703Z"
   },
   {
    "duration": 6,
    "start_time": "2022-03-31T16:43:43.709Z"
   },
   {
    "duration": 9,
    "start_time": "2022-03-31T16:43:43.717Z"
   },
   {
    "duration": 12,
    "start_time": "2022-03-31T16:43:43.728Z"
   },
   {
    "duration": 5,
    "start_time": "2022-03-31T16:43:43.742Z"
   },
   {
    "duration": 7,
    "start_time": "2022-03-31T16:43:43.749Z"
   },
   {
    "duration": 7,
    "start_time": "2022-03-31T16:43:43.758Z"
   },
   {
    "duration": 38,
    "start_time": "2022-03-31T16:43:43.767Z"
   },
   {
    "duration": 1278,
    "start_time": "2022-03-31T19:53:19.409Z"
   },
   {
    "duration": 416,
    "start_time": "2022-03-31T19:53:20.690Z"
   },
   {
    "duration": 24,
    "start_time": "2022-03-31T19:53:21.108Z"
   },
   {
    "duration": 31,
    "start_time": "2022-03-31T19:53:21.135Z"
   },
   {
    "duration": 49,
    "start_time": "2022-03-31T19:53:21.168Z"
   },
   {
    "duration": 25,
    "start_time": "2022-03-31T19:53:21.219Z"
   },
   {
    "duration": 8,
    "start_time": "2022-03-31T19:53:21.245Z"
   },
   {
    "duration": 51,
    "start_time": "2022-03-31T19:53:21.255Z"
   },
   {
    "duration": 408,
    "start_time": "2022-03-31T19:53:21.307Z"
   },
   {
    "duration": 5,
    "start_time": "2022-03-31T19:53:21.718Z"
   },
   {
    "duration": 340,
    "start_time": "2022-03-31T19:53:21.725Z"
   },
   {
    "duration": 93,
    "start_time": "2022-03-31T19:53:22.067Z"
   },
   {
    "duration": 76,
    "start_time": "2022-03-31T19:53:22.162Z"
   },
   {
    "duration": 34,
    "start_time": "2022-03-31T19:53:22.240Z"
   },
   {
    "duration": 43,
    "start_time": "2022-03-31T19:53:22.275Z"
   },
   {
    "duration": 11,
    "start_time": "2022-03-31T19:53:22.319Z"
   },
   {
    "duration": 4,
    "start_time": "2022-03-31T19:53:22.331Z"
   },
   {
    "duration": 27,
    "start_time": "2022-03-31T19:53:22.336Z"
   },
   {
    "duration": 37,
    "start_time": "2022-03-31T19:53:22.365Z"
   },
   {
    "duration": 6,
    "start_time": "2022-03-31T19:53:22.404Z"
   },
   {
    "duration": 34,
    "start_time": "2022-03-31T19:53:22.412Z"
   },
   {
    "duration": 32,
    "start_time": "2022-03-31T19:53:22.448Z"
   },
   {
    "duration": 52,
    "start_time": "2022-03-31T19:53:22.482Z"
   },
   {
    "duration": 5,
    "start_time": "2022-03-31T19:53:22.536Z"
   },
   {
    "duration": 6,
    "start_time": "2022-03-31T19:53:22.543Z"
   },
   {
    "duration": 11,
    "start_time": "2022-03-31T19:53:22.550Z"
   },
   {
    "duration": 179,
    "start_time": "2022-03-31T19:53:22.563Z"
   },
   {
    "duration": 224,
    "start_time": "2022-03-31T19:53:22.747Z"
   },
   {
    "duration": 241,
    "start_time": "2022-03-31T19:53:22.972Z"
   },
   {
    "duration": 230,
    "start_time": "2022-03-31T19:53:23.214Z"
   },
   {
    "duration": 158,
    "start_time": "2022-03-31T19:53:23.445Z"
   },
   {
    "duration": 198,
    "start_time": "2022-03-31T19:53:23.604Z"
   },
   {
    "duration": 148,
    "start_time": "2022-03-31T19:53:23.804Z"
   },
   {
    "duration": 220,
    "start_time": "2022-03-31T19:53:23.953Z"
   },
   {
    "duration": 154,
    "start_time": "2022-03-31T19:53:24.175Z"
   },
   {
    "duration": 286,
    "start_time": "2022-03-31T19:53:24.330Z"
   },
   {
    "duration": 148,
    "start_time": "2022-03-31T19:53:24.617Z"
   },
   {
    "duration": 234,
    "start_time": "2022-03-31T19:53:24.767Z"
   },
   {
    "duration": 9,
    "start_time": "2022-03-31T19:53:25.002Z"
   },
   {
    "duration": 7,
    "start_time": "2022-03-31T19:53:25.012Z"
   },
   {
    "duration": 6,
    "start_time": "2022-03-31T19:53:25.020Z"
   },
   {
    "duration": 5,
    "start_time": "2022-03-31T19:53:25.027Z"
   },
   {
    "duration": 7,
    "start_time": "2022-03-31T19:53:25.034Z"
   },
   {
    "duration": 10,
    "start_time": "2022-03-31T19:53:25.042Z"
   },
   {
    "duration": 12,
    "start_time": "2022-03-31T19:53:25.053Z"
   },
   {
    "duration": 5,
    "start_time": "2022-03-31T19:53:25.066Z"
   },
   {
    "duration": 4,
    "start_time": "2022-03-31T19:53:25.102Z"
   },
   {
    "duration": 6,
    "start_time": "2022-03-31T19:53:25.107Z"
   },
   {
    "duration": 7,
    "start_time": "2022-03-31T19:53:25.114Z"
   },
   {
    "duration": 1271,
    "start_time": "2022-03-31T20:17:50.592Z"
   },
   {
    "duration": 396,
    "start_time": "2022-03-31T20:17:51.865Z"
   },
   {
    "duration": 23,
    "start_time": "2022-03-31T20:17:52.263Z"
   },
   {
    "duration": 30,
    "start_time": "2022-03-31T20:17:52.289Z"
   },
   {
    "duration": 26,
    "start_time": "2022-03-31T20:17:52.320Z"
   },
   {
    "duration": 22,
    "start_time": "2022-03-31T20:17:52.347Z"
   },
   {
    "duration": 7,
    "start_time": "2022-03-31T20:17:52.370Z"
   },
   {
    "duration": 22,
    "start_time": "2022-03-31T20:17:52.401Z"
   },
   {
    "duration": 408,
    "start_time": "2022-03-31T20:17:52.425Z"
   },
   {
    "duration": 5,
    "start_time": "2022-03-31T20:17:52.836Z"
   },
   {
    "duration": 340,
    "start_time": "2022-03-31T20:17:52.842Z"
   },
   {
    "duration": 80,
    "start_time": "2022-03-31T20:17:53.184Z"
   },
   {
    "duration": 75,
    "start_time": "2022-03-31T20:17:53.266Z"
   },
   {
    "duration": 35,
    "start_time": "2022-03-31T20:17:53.343Z"
   },
   {
    "duration": 47,
    "start_time": "2022-03-31T20:17:53.379Z"
   },
   {
    "duration": 11,
    "start_time": "2022-03-31T20:17:53.427Z"
   },
   {
    "duration": 6,
    "start_time": "2022-03-31T20:17:53.439Z"
   },
   {
    "duration": 23,
    "start_time": "2022-03-31T20:17:53.446Z"
   },
   {
    "duration": 34,
    "start_time": "2022-03-31T20:17:53.470Z"
   },
   {
    "duration": 6,
    "start_time": "2022-03-31T20:17:53.506Z"
   },
   {
    "duration": 38,
    "start_time": "2022-03-31T20:17:53.514Z"
   },
   {
    "duration": 49,
    "start_time": "2022-03-31T20:17:53.554Z"
   },
   {
    "duration": 37,
    "start_time": "2022-03-31T20:17:53.604Z"
   },
   {
    "duration": 6,
    "start_time": "2022-03-31T20:17:53.642Z"
   },
   {
    "duration": 7,
    "start_time": "2022-03-31T20:17:53.650Z"
   },
   {
    "duration": 14,
    "start_time": "2022-03-31T20:17:53.658Z"
   },
   {
    "duration": 173,
    "start_time": "2022-03-31T20:17:53.674Z"
   },
   {
    "duration": 220,
    "start_time": "2022-03-31T20:17:53.851Z"
   },
   {
    "duration": 239,
    "start_time": "2022-03-31T20:17:54.073Z"
   },
   {
    "duration": 236,
    "start_time": "2022-03-31T20:17:54.314Z"
   },
   {
    "duration": 162,
    "start_time": "2022-03-31T20:17:54.552Z"
   },
   {
    "duration": 202,
    "start_time": "2022-03-31T20:17:54.715Z"
   },
   {
    "duration": 152,
    "start_time": "2022-03-31T20:17:54.919Z"
   },
   {
    "duration": 220,
    "start_time": "2022-03-31T20:17:55.072Z"
   },
   {
    "duration": 156,
    "start_time": "2022-03-31T20:17:55.302Z"
   },
   {
    "duration": 299,
    "start_time": "2022-03-31T20:17:55.460Z"
   },
   {
    "duration": 153,
    "start_time": "2022-03-31T20:17:55.761Z"
   },
   {
    "duration": 226,
    "start_time": "2022-03-31T20:17:55.915Z"
   },
   {
    "duration": 7,
    "start_time": "2022-03-31T20:17:56.143Z"
   },
   {
    "duration": 3,
    "start_time": "2022-03-31T20:17:56.152Z"
   },
   {
    "duration": 6,
    "start_time": "2022-03-31T20:17:56.157Z"
   },
   {
    "duration": 8,
    "start_time": "2022-03-31T20:17:56.164Z"
   },
   {
    "duration": 28,
    "start_time": "2022-03-31T20:17:56.173Z"
   },
   {
    "duration": 8,
    "start_time": "2022-03-31T20:17:56.203Z"
   },
   {
    "duration": 11,
    "start_time": "2022-03-31T20:17:56.212Z"
   },
   {
    "duration": 3,
    "start_time": "2022-03-31T20:17:56.225Z"
   },
   {
    "duration": 8,
    "start_time": "2022-03-31T20:17:56.230Z"
   },
   {
    "duration": 9,
    "start_time": "2022-03-31T20:17:56.239Z"
   },
   {
    "duration": 7,
    "start_time": "2022-03-31T20:17:56.250Z"
   }
  ],
  "kernelspec": {
   "display_name": "Python 3 (ipykernel)",
   "language": "python",
   "name": "python3"
  },
  "language_info": {
   "codemirror_mode": {
    "name": "ipython",
    "version": 3
   },
   "file_extension": ".py",
   "mimetype": "text/x-python",
   "name": "python",
   "nbconvert_exporter": "python",
   "pygments_lexer": "ipython3",
   "version": "3.9.13"
  },
  "toc": {
   "base_numbering": 1,
   "nav_menu": {
    "height": "160px",
    "width": "226px"
   },
   "number_sections": true,
   "sideBar": true,
   "skip_h1_title": true,
   "title_cell": "Table of Contents",
   "title_sidebar": "Contents",
   "toc_cell": true,
   "toc_position": {
    "height": "calc(100% - 180px)",
    "left": "10px",
    "top": "150px",
    "width": "288px"
   },
   "toc_section_display": true,
   "toc_window_display": true
  }
 },
 "nbformat": 4,
 "nbformat_minor": 5
}
