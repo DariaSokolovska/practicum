{
 "cells": [
  {
   "cell_type": "markdown",
   "id": "524f709a",
   "metadata": {
    "toc": true
   },
   "source": [
    "<h1>Table of Contents<span class=\"tocSkip\"></span></h1>\n",
    "<div class=\"toc\"><ul class=\"toc-item\"><li><span><a href=\"#Загрузка-и-подготовка-данных\" data-toc-modified-id=\"Загрузка-и-подготовка-данных-1\"><span class=\"toc-item-num\">1&nbsp;&nbsp;</span>Загрузка и подготовка данных</a></span></li><li><span><a href=\"#Обучение-моделей\" data-toc-modified-id=\"Обучение-моделей-2\"><span class=\"toc-item-num\">2&nbsp;&nbsp;</span>Обучение моделей</a></span><ul class=\"toc-item\"><li><span><a href=\"#LogisticRegression\" data-toc-modified-id=\"LogisticRegression-2.1\"><span class=\"toc-item-num\">2.1&nbsp;&nbsp;</span>LogisticRegression</a></span></li><li><span><a href=\"#LGBMClassifier\" data-toc-modified-id=\"LGBMClassifier-2.2\"><span class=\"toc-item-num\">2.2&nbsp;&nbsp;</span>LGBMClassifier</a></span></li><li><span><a href=\"#RandomForestClassifier\" data-toc-modified-id=\"RandomForestClassifier-2.3\"><span class=\"toc-item-num\">2.3&nbsp;&nbsp;</span>RandomForestClassifier</a></span></li><li><span><a href=\"#Проверка-на-тестовой-выборке\" data-toc-modified-id=\"Проверка-на-тестовой-выборке-2.4\"><span class=\"toc-item-num\">2.4&nbsp;&nbsp;</span>Проверка на тестовой выборке</a></span></li></ul></li><li><span><a href=\"#Вывод\" data-toc-modified-id=\"Вывод-3\"><span class=\"toc-item-num\">3&nbsp;&nbsp;</span>Вывод</a></span></li></ul></div>"
   ]
  },
  {
   "cell_type": "markdown",
   "id": "6d4197c5",
   "metadata": {},
   "source": [
    "# Описание проекта"
   ]
  },
  {
   "cell_type": "markdown",
   "id": "f9fd91ad",
   "metadata": {},
   "source": [
    "Интернет-магазин «Викишоп» запускает новый сервис. Теперь пользователи могут редактировать и дополнять описания товаров, как в вики-сообществах. То есть клиенты предлагают свои правки и комментируют изменения других. Магазину нужен инструмент, который будет искать токсичные комментарии и отправлять их на модерацию.\n",
    "\n",
    "Необходимо:\n",
    "\n",
    "- обучить модель классифицировать комментарии на позитивные и негативные\n",
    "- построить модель со значением метрики качества F1 не меньше 0.75."
   ]
  },
  {
   "cell_type": "markdown",
   "id": "7ff4e8ff",
   "metadata": {},
   "source": [
    "## Загрузка и подготовка данных"
   ]
  },
  {
   "cell_type": "code",
   "execution_count": 1,
   "id": "577fefe7",
   "metadata": {
    "scrolled": true
   },
   "outputs": [],
   "source": [
    "# !pip install pymystem3"
   ]
  },
  {
   "cell_type": "code",
   "execution_count": 2,
   "id": "6fa3ba5a",
   "metadata": {
    "scrolled": true
   },
   "outputs": [],
   "source": [
    "import pandas as pd\n",
    "import numpy as np\n",
    "from pymystem3 import Mystem\n",
    "from nltk.corpus import stopwords as nltk_stopwords\n",
    "from sklearn.feature_extraction.text import TfidfVectorizer\n",
    "import nltk\n",
    "import re\n",
    "from sklearn.model_selection import train_test_split\n",
    "from sklearn.metrics import f1_score\n",
    "from sklearn.linear_model import LogisticRegression\n",
    "from lightgbm import LGBMClassifier\n",
    "from sklearn.model_selection import RepeatedKFold\n",
    "from sklearn.model_selection import cross_val_score\n",
    "from sklearn.ensemble import RandomForestClassifier\n",
    "from sklearn.model_selection import GridSearchCV\n",
    "from nltk.stem import WordNetLemmatizer\n",
    "from nltk.corpus import wordnet\n",
    "from sklearn.utils import resample"
   ]
  },
  {
   "cell_type": "code",
   "execution_count": 3,
   "id": "b0cd0924",
   "metadata": {
    "scrolled": true
   },
   "outputs": [],
   "source": [
    "try:\n",
    "    df = pd.read_csv('/Users/dariasokolovska/Downloads/toxic_comments.csv')\n",
    "except:\n",
    "    df = pd.read_csv('/datasets/toxic_comments.csv')"
   ]
  },
  {
   "cell_type": "code",
   "execution_count": 4,
   "id": "875dd38b",
   "metadata": {
    "scrolled": true
   },
   "outputs": [
    {
     "data": {
      "text/html": [
       "<div>\n",
       "<style scoped>\n",
       "    .dataframe tbody tr th:only-of-type {\n",
       "        vertical-align: middle;\n",
       "    }\n",
       "\n",
       "    .dataframe tbody tr th {\n",
       "        vertical-align: top;\n",
       "    }\n",
       "\n",
       "    .dataframe thead th {\n",
       "        text-align: right;\n",
       "    }\n",
       "</style>\n",
       "<table border=\"1\" class=\"dataframe\">\n",
       "  <thead>\n",
       "    <tr style=\"text-align: right;\">\n",
       "      <th></th>\n",
       "      <th>text</th>\n",
       "      <th>toxic</th>\n",
       "    </tr>\n",
       "  </thead>\n",
       "  <tbody>\n",
       "    <tr>\n",
       "      <th>0</th>\n",
       "      <td>Explanation\\nWhy the edits made under my usern...</td>\n",
       "      <td>0</td>\n",
       "    </tr>\n",
       "    <tr>\n",
       "      <th>1</th>\n",
       "      <td>D'aww! He matches this background colour I'm s...</td>\n",
       "      <td>0</td>\n",
       "    </tr>\n",
       "    <tr>\n",
       "      <th>2</th>\n",
       "      <td>Hey man, I'm really not trying to edit war. It...</td>\n",
       "      <td>0</td>\n",
       "    </tr>\n",
       "    <tr>\n",
       "      <th>3</th>\n",
       "      <td>\"\\nMore\\nI can't make any real suggestions on ...</td>\n",
       "      <td>0</td>\n",
       "    </tr>\n",
       "    <tr>\n",
       "      <th>4</th>\n",
       "      <td>You, sir, are my hero. Any chance you remember...</td>\n",
       "      <td>0</td>\n",
       "    </tr>\n",
       "    <tr>\n",
       "      <th>...</th>\n",
       "      <td>...</td>\n",
       "      <td>...</td>\n",
       "    </tr>\n",
       "    <tr>\n",
       "      <th>159566</th>\n",
       "      <td>\":::::And for the second time of asking, when ...</td>\n",
       "      <td>0</td>\n",
       "    </tr>\n",
       "    <tr>\n",
       "      <th>159567</th>\n",
       "      <td>You should be ashamed of yourself \\n\\nThat is ...</td>\n",
       "      <td>0</td>\n",
       "    </tr>\n",
       "    <tr>\n",
       "      <th>159568</th>\n",
       "      <td>Spitzer \\n\\nUmm, theres no actual article for ...</td>\n",
       "      <td>0</td>\n",
       "    </tr>\n",
       "    <tr>\n",
       "      <th>159569</th>\n",
       "      <td>And it looks like it was actually you who put ...</td>\n",
       "      <td>0</td>\n",
       "    </tr>\n",
       "    <tr>\n",
       "      <th>159570</th>\n",
       "      <td>\"\\nAnd ... I really don't think you understand...</td>\n",
       "      <td>0</td>\n",
       "    </tr>\n",
       "  </tbody>\n",
       "</table>\n",
       "<p>159571 rows × 2 columns</p>\n",
       "</div>"
      ],
      "text/plain": [
       "                                                     text  toxic\n",
       "0       Explanation\\nWhy the edits made under my usern...      0\n",
       "1       D'aww! He matches this background colour I'm s...      0\n",
       "2       Hey man, I'm really not trying to edit war. It...      0\n",
       "3       \"\\nMore\\nI can't make any real suggestions on ...      0\n",
       "4       You, sir, are my hero. Any chance you remember...      0\n",
       "...                                                   ...    ...\n",
       "159566  \":::::And for the second time of asking, when ...      0\n",
       "159567  You should be ashamed of yourself \\n\\nThat is ...      0\n",
       "159568  Spitzer \\n\\nUmm, theres no actual article for ...      0\n",
       "159569  And it looks like it was actually you who put ...      0\n",
       "159570  \"\\nAnd ... I really don't think you understand...      0\n",
       "\n",
       "[159571 rows x 2 columns]"
      ]
     },
     "execution_count": 4,
     "metadata": {},
     "output_type": "execute_result"
    }
   ],
   "source": [
    "df"
   ]
  },
  {
   "cell_type": "code",
   "execution_count": 5,
   "id": "4a1c407c",
   "metadata": {
    "scrolled": true
   },
   "outputs": [
    {
     "name": "stdout",
     "output_type": "stream",
     "text": [
      "<class 'pandas.core.frame.DataFrame'>\n",
      "RangeIndex: 159571 entries, 0 to 159570\n",
      "Data columns (total 2 columns):\n",
      " #   Column  Non-Null Count   Dtype \n",
      "---  ------  --------------   ----- \n",
      " 0   text    159571 non-null  object\n",
      " 1   toxic   159571 non-null  int64 \n",
      "dtypes: int64(1), object(1)\n",
      "memory usage: 2.4+ MB\n"
     ]
    }
   ],
   "source": [
    "df.info()"
   ]
  },
  {
   "cell_type": "code",
   "execution_count": 6,
   "id": "247a3638",
   "metadata": {
    "scrolled": true
   },
   "outputs": [
    {
     "data": {
      "text/plain": [
       "0"
      ]
     },
     "execution_count": 6,
     "metadata": {},
     "output_type": "execute_result"
    }
   ],
   "source": [
    "df.duplicated().sum()"
   ]
  },
  {
   "cell_type": "code",
   "execution_count": 7,
   "id": "785a147e",
   "metadata": {
    "scrolled": true
   },
   "outputs": [
    {
     "data": {
      "text/plain": [
       "<AxesSubplot:>"
      ]
     },
     "execution_count": 7,
     "metadata": {},
     "output_type": "execute_result"
    },
    {
     "data": {
      "image/png": "[encoded data removed]",
      "text/plain": [
       "<Figure size 432x288 with 1 Axes>"
      ]
     },
     "metadata": {
      "needs_background": "light"
     },
     "output_type": "display_data"
    }
   ],
   "source": [
    "df.toxic.hist()"
   ]
  },
  {
   "cell_type": "code",
   "execution_count": 8,
   "id": "f483427f",
   "metadata": {
    "scrolled": true
   },
   "outputs": [
    {
     "name": "stdout",
     "output_type": "stream",
     "text": [
      "(16225, 2)\n",
      "(143346, 2)\n"
     ]
    }
   ],
   "source": [
    "toxic_messages = df[df.toxic == 1]\n",
    "not_toxic_messages  = df[df.toxic == 0]\n",
    "print(toxic_messages.shape)\n",
    "print(not_toxic_messages.shape)"
   ]
  },
  {
   "cell_type": "markdown",
   "id": "983ae914",
   "metadata": {},
   "source": [
    "По данным выше видно, что классы не сбалансированны. Исправим это выполнив балансировку. Для начала разделим данные на тренировочную и тестовую выборки"
   ]
  },
  {
   "cell_type": "code",
   "execution_count": 9,
   "id": "2ee9c3fd",
   "metadata": {
    "scrolled": true
   },
   "outputs": [],
   "source": [
    "train, test = train_test_split(df, test_size = 0.25, random_state = 12345)"
   ]
  },
  {
   "cell_type": "code",
   "execution_count": 10,
   "id": "ac74dfa2",
   "metadata": {
    "scrolled": true
   },
   "outputs": [
    {
     "name": "stdout",
     "output_type": "stream",
     "text": [
      "(12138, 2)\n",
      "(107540, 2)\n"
     ]
    }
   ],
   "source": [
    "toxic_messages = train[train.toxic == 1]\n",
    "not_toxic_messages  = train[train.toxic == 0]\n",
    "print(toxic_messages.shape)\n",
    "print(not_toxic_messages.shape)"
   ]
  },
  {
   "cell_type": "code",
   "execution_count": 11,
   "id": "96a764dc",
   "metadata": {
    "scrolled": true
   },
   "outputs": [
    {
     "name": "stdout",
     "output_type": "stream",
     "text": [
      "(12138, 2)\n"
     ]
    }
   ],
   "source": [
    "not_toxic_downsample = resample(not_toxic_messages,\n",
    "             replace=True,\n",
    "             n_samples=len(toxic_messages),\n",
    "             random_state=12345)\n",
    "\n",
    "print(not_toxic_downsample.shape)"
   ]
  },
  {
   "cell_type": "code",
   "execution_count": 12,
   "id": "132af0f3",
   "metadata": {
    "scrolled": true
   },
   "outputs": [],
   "source": [
    "train_downsampled = pd.concat([toxic_messages, not_toxic_downsample])"
   ]
  },
  {
   "cell_type": "code",
   "execution_count": 13,
   "id": "cb64db2c",
   "metadata": {
    "scrolled": true
   },
   "outputs": [
    {
     "name": "stdout",
     "output_type": "stream",
     "text": [
      "(107540, 2)\n"
     ]
    }
   ],
   "source": [
    "toxic_upsample = resample(toxic_messages,\n",
    "             replace=True,\n",
    "             n_samples=len(not_toxic_messages),\n",
    "             random_state=12345)\n",
    "\n",
    "print(toxic_upsample.shape)"
   ]
  },
  {
   "cell_type": "code",
   "execution_count": 14,
   "id": "67433a2f",
   "metadata": {
    "scrolled": true
   },
   "outputs": [],
   "source": [
    "train_upsampled = pd.concat([not_toxic_messages, toxic_upsample])"
   ]
  },
  {
   "cell_type": "markdown",
   "id": "b09b68b7",
   "metadata": {},
   "source": [
    "В данных есть разделители строки, заглавные символы, и прочие \"помехи\", по этому двнные необходимо очистить"
   ]
  },
  {
   "cell_type": "code",
   "execution_count": 15,
   "id": "b5ccbd22",
   "metadata": {
    "scrolled": true
   },
   "outputs": [
    {
     "name": "stderr",
     "output_type": "stream",
     "text": [
      "/tmp/ipykernel_398/2505177120.py:8: SettingWithCopyWarning: \n",
      "A value is trying to be set on a copy of a slice from a DataFrame.\n",
      "Try using .loc[row_indexer,col_indexer] = value instead\n",
      "\n",
      "See the caveats in the documentation: https://pandas.pydata.org/pandas-docs/stable/user_guide/indexing.html#returning-a-view-versus-a-copy\n",
      "  test['text'] = test['text'].apply(cleaning)\n"
     ]
    }
   ],
   "source": [
    "def cleaning(text):\n",
    "    text = re.sub(r\"(?:\\n|\\r)\", \" \", text)\n",
    "    text = re.sub(r\"[^a-zA-Z ]+\", \"\", text).strip()\n",
    "    text = text.lower()\n",
    "    return text\n",
    "\n",
    "train_downsampled['text'] = train_downsampled['text'].apply(cleaning)\n",
    "test['text'] = test['text'].apply(cleaning)"
   ]
  },
  {
   "cell_type": "markdown",
   "id": "708daed6",
   "metadata": {},
   "source": [
    "Так же необходимо выполнить лемматизацию"
   ]
  },
  {
   "cell_type": "code",
   "execution_count": 16,
   "id": "03fb955e",
   "metadata": {
    "scrolled": true
   },
   "outputs": [
    {
     "name": "stderr",
     "output_type": "stream",
     "text": [
      "[nltk_data] Downloading package wordnet to /home/jovyan/nltk_data...\n",
      "[nltk_data]   Package wordnet is already up-to-date!\n"
     ]
    },
    {
     "data": {
      "text/plain": [
       "True"
      ]
     },
     "execution_count": 16,
     "metadata": {},
     "output_type": "execute_result"
    }
   ],
   "source": [
    "import nltk\n",
    "nltk.download('wordnet')"
   ]
  },
  {
   "cell_type": "code",
   "execution_count": 17,
   "id": "f99402b4",
   "metadata": {
    "scrolled": true
   },
   "outputs": [],
   "source": [
    "def get_wordnet_pos(word):\n",
    "    tag = nltk.pos_tag([word])[0][1][0].upper()\n",
    "    tag_dict = {\"J\": wordnet.ADJ,\n",
    "                \"N\": wordnet.NOUN,\n",
    "                \"V\": wordnet.VERB,\n",
    "                \"R\": wordnet.ADV}\n",
    "    return tag_dict.get(tag, wordnet.NOUN)"
   ]
  },
  {
   "cell_type": "code",
   "execution_count": 18,
   "id": "056011d9",
   "metadata": {
    "scrolled": true
   },
   "outputs": [
    {
     "name": "stdout",
     "output_type": "stream",
     "text": [
      "The text to be tokenized is a None type. Defaulting to blank string.\n"
     ]
    }
   ],
   "source": [
    "def custom_tokenize(text):\n",
    "    if not text:\n",
    "        print('The text to be tokenized is a None type. Defaulting to blank string.')\n",
    "        text = ''\n",
    "    return nltk.word_tokenize(text)\n",
    "\n",
    "corpus_train = train_downsampled.text.apply(custom_tokenize)\n",
    "corpus_test = test.text.apply(custom_tokenize)"
   ]
  },
  {
   "cell_type": "code",
   "execution_count": 19,
   "id": "169902e1",
   "metadata": {
    "scrolled": true
   },
   "outputs": [],
   "source": [
    "#type(corpus[0])"
   ]
  },
  {
   "cell_type": "code",
   "execution_count": 21,
   "id": "19947152",
   "metadata": {
    "scrolled": true
   },
   "outputs": [
    {
     "name": "stderr",
     "output_type": "stream",
     "text": [
      "[nltk_data] Downloading package averaged_perceptron_tagger to\n",
      "[nltk_data]     /home/jovyan/nltk_data...\n",
      "[nltk_data]   Package averaged_perceptron_tagger is already up-to-\n",
      "[nltk_data]       date!\n"
     ]
    }
   ],
   "source": [
    "nltk.download('averaged_perceptron_tagger')\n",
    "def lemmatize(text):\n",
    "    lemmatizer = WordNetLemmatizer()\n",
    "    #lemm_list = lemmatizer.lemmatize(text, get_wordnet_pos(text))\n",
    "    lemm_list = [lemmatizer.lemmatize(w, get_wordnet_pos(w)) for w in text]\n",
    "    #lemm_list = [lemmatizer.lemmatize(w) for w in text]\n",
    "    return \" \".join(lemm_list)"
   ]
  },
  {
   "cell_type": "code",
   "execution_count": 22,
   "id": "4905b426",
   "metadata": {
    "scrolled": true
   },
   "outputs": [],
   "source": [
    "corpus_train = corpus_train.apply(lemmatize)"
   ]
  },
  {
   "cell_type": "code",
   "execution_count": 23,
   "id": "673d3465",
   "metadata": {
    "scrolled": true
   },
   "outputs": [],
   "source": [
    "corpus_test = corpus_test.apply(lemmatize)"
   ]
  },
  {
   "cell_type": "markdown",
   "id": "64857895",
   "metadata": {},
   "source": [
    "Выполним TFIDF векторизацию"
   ]
  },
  {
   "cell_type": "code",
   "execution_count": 24,
   "id": "700b826f",
   "metadata": {
    "scrolled": true
   },
   "outputs": [
    {
     "name": "stderr",
     "output_type": "stream",
     "text": [
      "[nltk_data] Downloading package stopwords to /home/jovyan/nltk_data...\n",
      "[nltk_data]   Package stopwords is already up-to-date!\n"
     ]
    },
    {
     "data": {
      "text/plain": [
       "True"
      ]
     },
     "execution_count": 24,
     "metadata": {},
     "output_type": "execute_result"
    }
   ],
   "source": [
    "nltk.download('stopwords')"
   ]
  },
  {
   "cell_type": "code",
   "execution_count": 25,
   "id": "b593c090",
   "metadata": {
    "scrolled": true
   },
   "outputs": [],
   "source": [
    "stopwords = set(nltk_stopwords.words('english'))\n",
    "count_tf_idf = TfidfVectorizer(stop_words=stopwords)"
   ]
  },
  {
   "cell_type": "markdown",
   "id": "2634850d",
   "metadata": {},
   "source": [
    "Разделим данные на обучающую и тестовую выборки"
   ]
  },
  {
   "cell_type": "code",
   "execution_count": 27,
   "id": "098f1e1c",
   "metadata": {
    "scrolled": true
   },
   "outputs": [],
   "source": [
    "tf_idf_train = count_tf_idf.fit_transform(corpus_train)\n",
    "tf_idf_test = count_tf_idf.transform(corpus_test)"
   ]
  },
  {
   "cell_type": "markdown",
   "id": "01cb8a0c",
   "metadata": {},
   "source": [
    "Вывод:\n",
    "\n",
    "Полученные данные от заказчика чистые, без дубликатов и пропусков.\n",
    "В предобработке был удален \"шум\" в виде различных знаков припинания и прочего, выполнены лемматизация и TFIDF векторизация.\n",
    "\n",
    "Данные готовы для создания моделей"
   ]
  },
  {
   "cell_type": "markdown",
   "id": "475ef9eb",
   "metadata": {},
   "source": [
    "## Обучение моделей"
   ]
  },
  {
   "cell_type": "markdown",
   "id": "788e663a",
   "metadata": {},
   "source": [
    "### LogisticRegression"
   ]
  },
  {
   "cell_type": "code",
   "execution_count": 22,
   "id": "11579ca8",
   "metadata": {
    "scrolled": true
   },
   "outputs": [
    {
     "name": "stdout",
     "output_type": "stream",
     "text": [
      "F1 =  0.88\n"
     ]
    }
   ],
   "source": [
    "model = LogisticRegression(random_state=12345)\n",
    "scores =  cross_val_score(model, tf_idf_train, train_downsampled['toxic'], cv = 5, scoring = 'f1')\n",
    "final_score = scores.mean()\n",
    "print('F1 = ', \"{:.2f}\".format(final_score))"
   ]
  },
  {
   "cell_type": "markdown",
   "id": "900924bf",
   "metadata": {},
   "source": [
    "### LGBMClassifier"
   ]
  },
  {
   "cell_type": "code",
   "execution_count": 26,
   "id": "bec13aa6",
   "metadata": {
    "scrolled": true
   },
   "outputs": [
    {
     "data": {
      "text/plain": [
       "{'max_depth': 30, 'n_estimators': 45}"
      ]
     },
     "execution_count": 26,
     "metadata": {},
     "output_type": "execute_result"
    }
   ],
   "source": [
    "# Подберем гиперпараметры\n",
    "model = LGBMClassifier(random_state=12345)\n",
    "parametrs = {'n_estimators': range (36, 46, 1), 'max_depth': range (26, 36, 1)}\n",
    "grid = GridSearchCV(model, parametrs, cv = 5, scoring = 'f1')\n",
    "grid.fit(tf_idf_train, train_downsampled['toxic'])\n",
    "grid.best_params_"
   ]
  },
  {
   "cell_type": "code",
   "execution_count": 27,
   "id": "2151ea27",
   "metadata": {
    "scrolled": true
   },
   "outputs": [
    {
     "name": "stdout",
     "output_type": "stream",
     "text": [
      "F1 =  0.85\n"
     ]
    }
   ],
   "source": [
    "# Результат модели с гиперпараметрами\n",
    "print('F1 = ', \"{:.2f}\".format(grid.best_score_))"
   ]
  },
  {
   "cell_type": "code",
   "execution_count": 28,
   "id": "d42aa4e8",
   "metadata": {
    "scrolled": true
   },
   "outputs": [
    {
     "name": "stdout",
     "output_type": "stream",
     "text": [
      "F1 =  0.88\n"
     ]
    }
   ],
   "source": [
    "# Обучим модель без гиперпараметров\n",
    "model = LGBMClassifier(random_state=12345)\n",
    "scores =  cross_val_score(model, tf_idf_train, train_downsampled['toxic'], cv = 5, scoring = 'f1')\n",
    "final_score = scores.mean()\n",
    "print('F1 = ', \"{:.2f}\".format(final_score))"
   ]
  },
  {
   "cell_type": "markdown",
   "id": "b714bd42",
   "metadata": {},
   "source": [
    "### RandomForestClassifier"
   ]
  },
  {
   "cell_type": "code",
   "execution_count": null,
   "id": "490ff006",
   "metadata": {
    "scrolled": true
   },
   "outputs": [],
   "source": [
    "# Подберем гиперпараметры\n",
    "model = RandomForestClassifier(random_state=12345)\n",
    "parametrs = {'n_estimators': range (6, 16, 1), 'min_samples_leaf': range (1, 11, 1)}\n",
    "grid = GridSearchCV(model, parametrs, cv = 5, scoring = 'f1')\n",
    "grid.fit(tf_idf_train, target_train)\n",
    "grid.best_params_"
   ]
  },
  {
   "cell_type": "code",
   "execution_count": null,
   "id": "f4dc2253",
   "metadata": {
    "scrolled": true
   },
   "outputs": [],
   "source": [
    "# Результат модели с гиперпараметрами\n",
    "print('F1 = ', \"{:.2f}\".format(grid.best_score_))"
   ]
  },
  {
   "cell_type": "code",
   "execution_count": null,
   "id": "74bdfbbd",
   "metadata": {
    "scrolled": true
   },
   "outputs": [],
   "source": [
    "# Обучим модель без гиперпараметров\n",
    "model = RandomForestClassifier(random_state = 12345)\n",
    "scores =  cross_val_score(model, tf_idf_train, target_train, cv = 5, scoring = 'f1')\n",
    "final_score = scores.mean()\n",
    "print('F1 = ', \"{:.2f}\".format(final_score))"
   ]
  },
  {
   "cell_type": "markdown",
   "id": "60c99e75",
   "metadata": {},
   "source": [
    "### Проверка на тестовой выборке"
   ]
  },
  {
   "cell_type": "code",
   "execution_count": 33,
   "id": "b882918c",
   "metadata": {
    "scrolled": true
   },
   "outputs": [
    {
     "name": "stdout",
     "output_type": "stream",
     "text": [
      "F1 =  0.69\n"
     ]
    }
   ],
   "source": [
    "model = LGBMClassifier(random_state=12345)\n",
    "model.fit(tf_idf_train, train_downsampled['toxic'])\n",
    "predictions = model.predict(tf_idf_test)\n",
    "print('F1 = ', \"{:.2f}\".format(f1_score(predictions, test['toxic'])))"
   ]
  },
  {
   "cell_type": "code",
   "execution_count": 30,
   "id": "34e4cdf6",
   "metadata": {
    "scrolled": false
   },
   "outputs": [
    {
     "name": "stdout",
     "output_type": "stream",
     "text": [
      "F1 =  0.76\n"
     ]
    }
   ],
   "source": [
    "model = LogisticRegression(random_state = 12345)\n",
    "model.fit(tf_idf_train, train_downsampled['toxic'])\n",
    "predictions = model.predict(tf_idf_test)\n",
    "print('F1 = ', \"{:.2f}\".format(f1_score(predictions, test['toxic'])))"
   ]
  },
  {
   "cell_type": "markdown",
   "id": "66ce8cef",
   "metadata": {},
   "source": [
    "## Вывод"
   ]
  },
  {
   "cell_type": "markdown",
   "id": "abfa0fc5",
   "metadata": {},
   "source": [
    "Лучший результат показала модель логистической регрессии с значением f1 - 0.75."
   ]
  }
 ],
 "metadata": {
  "ExecuteTimeLog": [
   {
    "duration": 2647,
    "start_time": "2022-07-15T09:20:32.330Z"
   },
   {
    "duration": 815,
    "start_time": "2022-07-15T09:20:34.980Z"
   },
   {
    "duration": 16,
    "start_time": "2022-07-15T09:20:35.797Z"
   },
   {
    "duration": 47,
    "start_time": "2022-07-15T09:20:35.815Z"
   },
   {
    "duration": 230,
    "start_time": "2022-07-15T09:20:35.863Z"
   },
   {
    "duration": 2468,
    "start_time": "2022-07-15T09:20:36.094Z"
   },
   {
    "duration": 1746,
    "start_time": "2022-07-15T09:21:03.769Z"
   },
   {
    "duration": 2534,
    "start_time": "2022-07-15T09:21:05.517Z"
   },
   {
    "duration": 17,
    "start_time": "2022-07-15T09:21:08.053Z"
   },
   {
    "duration": 37,
    "start_time": "2022-07-15T09:21:08.072Z"
   },
   {
    "duration": 259,
    "start_time": "2022-07-15T09:21:08.111Z"
   },
   {
    "duration": 2594,
    "start_time": "2022-07-15T09:21:08.372Z"
   },
   {
    "duration": 1822,
    "start_time": "2022-07-15T09:21:56.805Z"
   },
   {
    "duration": 2523,
    "start_time": "2022-07-15T09:21:58.629Z"
   },
   {
    "duration": 18,
    "start_time": "2022-07-15T09:22:01.154Z"
   },
   {
    "duration": 45,
    "start_time": "2022-07-15T09:22:01.173Z"
   },
   {
    "duration": 234,
    "start_time": "2022-07-15T09:22:01.221Z"
   },
   {
    "duration": 2507,
    "start_time": "2022-07-15T09:22:01.457Z"
   },
   {
    "duration": 129,
    "start_time": "2022-07-15T09:22:03.965Z"
   },
   {
    "duration": 0,
    "start_time": "2022-07-15T09:22:04.095Z"
   },
   {
    "duration": 4,
    "start_time": "2022-07-15T09:22:27.784Z"
   },
   {
    "duration": 743,
    "start_time": "2022-07-15T09:22:27.790Z"
   },
   {
    "duration": 10,
    "start_time": "2022-07-15T09:22:28.536Z"
   },
   {
    "duration": 34,
    "start_time": "2022-07-15T09:22:28.548Z"
   },
   {
    "duration": 239,
    "start_time": "2022-07-15T09:22:28.584Z"
   },
   {
    "duration": 2485,
    "start_time": "2022-07-15T09:22:28.825Z"
   },
   {
    "duration": 754,
    "start_time": "2022-07-15T09:22:31.312Z"
   },
   {
    "duration": 4,
    "start_time": "2022-07-15T09:22:32.068Z"
   },
   {
    "duration": 48,
    "start_time": "2022-07-15T11:18:03.574Z"
   },
   {
    "duration": 1437,
    "start_time": "2022-07-15T11:18:09.875Z"
   },
   {
    "duration": 2393,
    "start_time": "2022-07-15T11:18:13.296Z"
   },
   {
    "duration": 15,
    "start_time": "2022-07-15T11:18:15.691Z"
   },
   {
    "duration": 38,
    "start_time": "2022-07-15T11:18:15.708Z"
   },
   {
    "duration": 215,
    "start_time": "2022-07-15T11:18:16.020Z"
   },
   {
    "duration": 563,
    "start_time": "2022-07-15T11:18:19.297Z"
   },
   {
    "duration": 101,
    "start_time": "2022-07-15T11:20:12.685Z"
   },
   {
    "duration": 2470,
    "start_time": "2022-07-15T11:20:33.289Z"
   },
   {
    "duration": 145,
    "start_time": "2022-07-15T11:20:55.083Z"
   },
   {
    "duration": 21,
    "start_time": "2022-07-15T11:21:27.723Z"
   },
   {
    "duration": 777,
    "start_time": "2022-07-15T11:21:44.487Z"
   },
   {
    "duration": 704,
    "start_time": "2022-07-15T11:21:52.689Z"
   },
   {
    "duration": 53,
    "start_time": "2022-07-15T11:21:59.153Z"
   },
   {
    "duration": 58,
    "start_time": "2022-07-15T11:22:02.761Z"
   },
   {
    "duration": 21,
    "start_time": "2022-07-15T11:22:05.350Z"
   },
   {
    "duration": 4,
    "start_time": "2022-07-15T11:26:10.078Z"
   },
   {
    "duration": 16,
    "start_time": "2022-07-15T11:26:22.661Z"
   },
   {
    "duration": 34,
    "start_time": "2022-07-15T11:28:34.951Z"
   },
   {
    "duration": 22,
    "start_time": "2022-07-15T11:28:42.498Z"
   },
   {
    "duration": 1265,
    "start_time": "2022-07-15T11:28:47.411Z"
   },
   {
    "duration": 21,
    "start_time": "2022-07-15T11:28:57.138Z"
   },
   {
    "duration": 1413,
    "start_time": "2022-07-15T11:29:05.656Z"
   },
   {
    "duration": 838,
    "start_time": "2022-07-15T11:29:07.072Z"
   },
   {
    "duration": 16,
    "start_time": "2022-07-15T11:29:07.912Z"
   },
   {
    "duration": 37,
    "start_time": "2022-07-15T11:29:07.930Z"
   },
   {
    "duration": 232,
    "start_time": "2022-07-15T11:29:07.969Z"
   },
   {
    "duration": 336,
    "start_time": "2022-07-15T11:29:08.204Z"
   },
   {
    "duration": 3516,
    "start_time": "2022-07-15T11:29:08.542Z"
   },
   {
    "duration": 1425,
    "start_time": "2022-07-15T11:29:12.060Z"
   },
   {
    "duration": 0,
    "start_time": "2022-07-15T11:29:13.488Z"
   },
   {
    "duration": 0,
    "start_time": "2022-07-15T11:29:13.490Z"
   },
   {
    "duration": 0,
    "start_time": "2022-07-15T11:29:13.491Z"
   },
   {
    "duration": 0,
    "start_time": "2022-07-15T11:29:13.492Z"
   },
   {
    "duration": 0,
    "start_time": "2022-07-15T11:29:13.500Z"
   },
   {
    "duration": 0,
    "start_time": "2022-07-15T11:29:13.502Z"
   },
   {
    "duration": 0,
    "start_time": "2022-07-15T11:29:13.503Z"
   },
   {
    "duration": 0,
    "start_time": "2022-07-15T11:29:13.505Z"
   },
   {
    "duration": 0,
    "start_time": "2022-07-15T11:29:13.507Z"
   },
   {
    "duration": 0,
    "start_time": "2022-07-15T11:29:13.508Z"
   },
   {
    "duration": 0,
    "start_time": "2022-07-15T11:29:13.508Z"
   },
   {
    "duration": 0,
    "start_time": "2022-07-15T11:29:13.510Z"
   },
   {
    "duration": 27,
    "start_time": "2022-07-15T11:35:43.153Z"
   },
   {
    "duration": 23,
    "start_time": "2022-07-15T11:35:56.220Z"
   },
   {
    "duration": 1333,
    "start_time": "2022-07-15T11:36:06.902Z"
   },
   {
    "duration": 787,
    "start_time": "2022-07-15T11:36:08.237Z"
   },
   {
    "duration": 21,
    "start_time": "2022-07-15T11:36:09.026Z"
   },
   {
    "duration": 56,
    "start_time": "2022-07-15T11:36:09.049Z"
   },
   {
    "duration": 417,
    "start_time": "2022-07-15T11:36:09.107Z"
   },
   {
    "duration": 714,
    "start_time": "2022-07-15T11:36:09.525Z"
   },
   {
    "duration": 2609,
    "start_time": "2022-07-15T11:36:10.240Z"
   },
   {
    "duration": 150,
    "start_time": "2022-07-15T11:36:12.852Z"
   },
   {
    "duration": 0,
    "start_time": "2022-07-15T11:36:13.004Z"
   },
   {
    "duration": 0,
    "start_time": "2022-07-15T11:36:13.005Z"
   },
   {
    "duration": 0,
    "start_time": "2022-07-15T11:36:13.006Z"
   },
   {
    "duration": 0,
    "start_time": "2022-07-15T11:36:13.007Z"
   },
   {
    "duration": 0,
    "start_time": "2022-07-15T11:36:13.008Z"
   },
   {
    "duration": 0,
    "start_time": "2022-07-15T11:36:13.009Z"
   },
   {
    "duration": 0,
    "start_time": "2022-07-15T11:36:13.010Z"
   },
   {
    "duration": 0,
    "start_time": "2022-07-15T11:36:13.011Z"
   },
   {
    "duration": 0,
    "start_time": "2022-07-15T11:36:13.012Z"
   },
   {
    "duration": 0,
    "start_time": "2022-07-15T11:36:13.014Z"
   },
   {
    "duration": 0,
    "start_time": "2022-07-15T11:36:13.015Z"
   },
   {
    "duration": 0,
    "start_time": "2022-07-15T11:36:13.016Z"
   },
   {
    "duration": 20,
    "start_time": "2022-07-15T11:37:25.273Z"
   },
   {
    "duration": 22,
    "start_time": "2022-07-15T11:37:35.395Z"
   },
   {
    "duration": 67,
    "start_time": "2022-07-15T11:40:44.750Z"
   },
   {
    "duration": 1207,
    "start_time": "2022-07-15T11:41:06.964Z"
   },
   {
    "duration": 1360,
    "start_time": "2022-07-15T11:44:19.069Z"
   },
   {
    "duration": 774,
    "start_time": "2022-07-15T11:44:20.430Z"
   },
   {
    "duration": 15,
    "start_time": "2022-07-15T11:44:21.206Z"
   },
   {
    "duration": 31,
    "start_time": "2022-07-15T11:44:21.223Z"
   },
   {
    "duration": 235,
    "start_time": "2022-07-15T11:44:21.256Z"
   },
   {
    "duration": 299,
    "start_time": "2022-07-15T11:44:21.493Z"
   },
   {
    "duration": 2364,
    "start_time": "2022-07-15T11:44:21.794Z"
   },
   {
    "duration": 1373,
    "start_time": "2022-07-15T11:45:08.225Z"
   },
   {
    "duration": 784,
    "start_time": "2022-07-15T11:45:09.600Z"
   },
   {
    "duration": 16,
    "start_time": "2022-07-15T11:45:10.385Z"
   },
   {
    "duration": 31,
    "start_time": "2022-07-15T11:45:10.403Z"
   },
   {
    "duration": 236,
    "start_time": "2022-07-15T11:45:10.436Z"
   },
   {
    "duration": 335,
    "start_time": "2022-07-15T11:45:10.673Z"
   },
   {
    "duration": 2255,
    "start_time": "2022-07-15T11:45:11.010Z"
   },
   {
    "duration": 2188,
    "start_time": "2022-07-15T11:45:13.267Z"
   },
   {
    "duration": 0,
    "start_time": "2022-07-15T11:45:15.456Z"
   },
   {
    "duration": 0,
    "start_time": "2022-07-15T11:45:15.458Z"
   },
   {
    "duration": 0,
    "start_time": "2022-07-15T11:45:15.459Z"
   },
   {
    "duration": 0,
    "start_time": "2022-07-15T11:45:15.460Z"
   },
   {
    "duration": 1,
    "start_time": "2022-07-15T11:45:15.462Z"
   },
   {
    "duration": 0,
    "start_time": "2022-07-15T11:45:15.464Z"
   },
   {
    "duration": 0,
    "start_time": "2022-07-15T11:45:15.465Z"
   },
   {
    "duration": 0,
    "start_time": "2022-07-15T11:45:15.466Z"
   },
   {
    "duration": 0,
    "start_time": "2022-07-15T11:45:15.467Z"
   },
   {
    "duration": 0,
    "start_time": "2022-07-15T11:45:15.468Z"
   },
   {
    "duration": 0,
    "start_time": "2022-07-15T11:45:15.469Z"
   },
   {
    "duration": 0,
    "start_time": "2022-07-15T11:45:15.470Z"
   },
   {
    "duration": 1320,
    "start_time": "2022-07-15T11:48:11.093Z"
   },
   {
    "duration": 780,
    "start_time": "2022-07-15T11:48:12.415Z"
   },
   {
    "duration": 17,
    "start_time": "2022-07-15T11:48:13.196Z"
   },
   {
    "duration": 37,
    "start_time": "2022-07-15T11:48:13.215Z"
   },
   {
    "duration": 223,
    "start_time": "2022-07-15T11:48:13.253Z"
   },
   {
    "duration": 359,
    "start_time": "2022-07-15T11:48:13.478Z"
   },
   {
    "duration": 2390,
    "start_time": "2022-07-15T11:48:13.839Z"
   },
   {
    "duration": 129,
    "start_time": "2022-07-15T11:48:16.231Z"
   },
   {
    "duration": 0,
    "start_time": "2022-07-15T11:48:16.361Z"
   },
   {
    "duration": 1,
    "start_time": "2022-07-15T11:48:16.362Z"
   },
   {
    "duration": 0,
    "start_time": "2022-07-15T11:48:16.364Z"
   },
   {
    "duration": 0,
    "start_time": "2022-07-15T11:48:16.364Z"
   },
   {
    "duration": 0,
    "start_time": "2022-07-15T11:48:16.365Z"
   },
   {
    "duration": 0,
    "start_time": "2022-07-15T11:48:16.366Z"
   },
   {
    "duration": 0,
    "start_time": "2022-07-15T11:48:16.367Z"
   },
   {
    "duration": 0,
    "start_time": "2022-07-15T11:48:16.368Z"
   },
   {
    "duration": 0,
    "start_time": "2022-07-15T11:48:16.369Z"
   },
   {
    "duration": 0,
    "start_time": "2022-07-15T11:48:16.370Z"
   },
   {
    "duration": 0,
    "start_time": "2022-07-15T11:48:16.371Z"
   },
   {
    "duration": 0,
    "start_time": "2022-07-15T11:48:16.373Z"
   },
   {
    "duration": 1323,
    "start_time": "2022-07-15T11:51:09.497Z"
   },
   {
    "duration": 773,
    "start_time": "2022-07-15T11:51:10.823Z"
   },
   {
    "duration": 14,
    "start_time": "2022-07-15T11:51:11.598Z"
   },
   {
    "duration": 38,
    "start_time": "2022-07-15T11:51:11.614Z"
   },
   {
    "duration": 221,
    "start_time": "2022-07-15T11:51:11.654Z"
   },
   {
    "duration": 335,
    "start_time": "2022-07-15T11:51:11.877Z"
   },
   {
    "duration": 2306,
    "start_time": "2022-07-15T11:51:12.215Z"
   },
   {
    "duration": 140,
    "start_time": "2022-07-15T11:51:14.523Z"
   },
   {
    "duration": 0,
    "start_time": "2022-07-15T11:51:14.666Z"
   },
   {
    "duration": 0,
    "start_time": "2022-07-15T11:51:14.667Z"
   },
   {
    "duration": 0,
    "start_time": "2022-07-15T11:51:14.668Z"
   },
   {
    "duration": 0,
    "start_time": "2022-07-15T11:51:14.669Z"
   },
   {
    "duration": 0,
    "start_time": "2022-07-15T11:51:14.670Z"
   },
   {
    "duration": 0,
    "start_time": "2022-07-15T11:51:14.671Z"
   },
   {
    "duration": 0,
    "start_time": "2022-07-15T11:51:14.672Z"
   },
   {
    "duration": 0,
    "start_time": "2022-07-15T11:51:14.673Z"
   },
   {
    "duration": 0,
    "start_time": "2022-07-15T11:51:14.674Z"
   },
   {
    "duration": 0,
    "start_time": "2022-07-15T11:51:14.675Z"
   },
   {
    "duration": 0,
    "start_time": "2022-07-15T11:51:14.676Z"
   },
   {
    "duration": 0,
    "start_time": "2022-07-15T11:51:14.677Z"
   },
   {
    "duration": 100,
    "start_time": "2022-07-15T11:51:43.724Z"
   },
   {
    "duration": 1264,
    "start_time": "2022-07-15T11:53:01.446Z"
   },
   {
    "duration": 775,
    "start_time": "2022-07-15T11:53:02.712Z"
   },
   {
    "duration": 19,
    "start_time": "2022-07-15T11:53:03.489Z"
   },
   {
    "duration": 72,
    "start_time": "2022-07-15T11:53:03.510Z"
   },
   {
    "duration": 222,
    "start_time": "2022-07-15T11:53:03.584Z"
   },
   {
    "duration": 357,
    "start_time": "2022-07-15T11:53:03.808Z"
   },
   {
    "duration": 2935,
    "start_time": "2022-07-15T11:53:04.166Z"
   },
   {
    "duration": 1625,
    "start_time": "2022-07-15T11:53:07.103Z"
   },
   {
    "duration": 130,
    "start_time": "2022-07-15T11:53:08.730Z"
   },
   {
    "duration": 0,
    "start_time": "2022-07-15T11:53:08.862Z"
   },
   {
    "duration": 0,
    "start_time": "2022-07-15T11:53:08.864Z"
   },
   {
    "duration": 0,
    "start_time": "2022-07-15T11:53:08.865Z"
   },
   {
    "duration": 0,
    "start_time": "2022-07-15T11:53:08.867Z"
   },
   {
    "duration": 0,
    "start_time": "2022-07-15T11:53:08.868Z"
   },
   {
    "duration": 0,
    "start_time": "2022-07-15T11:53:08.869Z"
   },
   {
    "duration": 0,
    "start_time": "2022-07-15T11:53:08.870Z"
   },
   {
    "duration": 0,
    "start_time": "2022-07-15T11:53:08.871Z"
   },
   {
    "duration": 0,
    "start_time": "2022-07-15T11:53:08.873Z"
   },
   {
    "duration": 0,
    "start_time": "2022-07-15T11:53:08.874Z"
   },
   {
    "duration": 0,
    "start_time": "2022-07-15T11:53:08.875Z"
   },
   {
    "duration": 11,
    "start_time": "2022-07-15T11:53:17.796Z"
   },
   {
    "duration": 12,
    "start_time": "2022-07-15T11:53:28.751Z"
   },
   {
    "duration": 3044,
    "start_time": "2022-07-15T11:55:57.652Z"
   },
   {
    "duration": 1260,
    "start_time": "2022-07-15T11:56:07.449Z"
   },
   {
    "duration": 795,
    "start_time": "2022-07-15T11:56:08.711Z"
   },
   {
    "duration": 15,
    "start_time": "2022-07-15T11:56:09.508Z"
   },
   {
    "duration": 40,
    "start_time": "2022-07-15T11:56:09.524Z"
   },
   {
    "duration": 235,
    "start_time": "2022-07-15T11:56:09.566Z"
   },
   {
    "duration": 342,
    "start_time": "2022-07-15T11:56:09.803Z"
   },
   {
    "duration": 2247,
    "start_time": "2022-07-15T11:56:10.147Z"
   },
   {
    "duration": 5013,
    "start_time": "2022-07-15T11:56:12.396Z"
   },
   {
    "duration": 6182,
    "start_time": "2022-07-15T11:56:17.411Z"
   },
   {
    "duration": 118,
    "start_time": "2022-07-15T11:56:23.594Z"
   },
   {
    "duration": 0,
    "start_time": "2022-07-15T11:56:23.714Z"
   },
   {
    "duration": 0,
    "start_time": "2022-07-15T11:56:23.716Z"
   },
   {
    "duration": 0,
    "start_time": "2022-07-15T11:56:23.717Z"
   },
   {
    "duration": 0,
    "start_time": "2022-07-15T11:56:23.718Z"
   },
   {
    "duration": 0,
    "start_time": "2022-07-15T11:56:23.719Z"
   },
   {
    "duration": 0,
    "start_time": "2022-07-15T11:56:23.720Z"
   },
   {
    "duration": 0,
    "start_time": "2022-07-15T11:56:23.721Z"
   },
   {
    "duration": 0,
    "start_time": "2022-07-15T11:56:23.722Z"
   },
   {
    "duration": 0,
    "start_time": "2022-07-15T11:56:23.723Z"
   },
   {
    "duration": 0,
    "start_time": "2022-07-15T11:56:23.724Z"
   },
   {
    "duration": 0,
    "start_time": "2022-07-15T11:56:23.725Z"
   },
   {
    "duration": 1321,
    "start_time": "2022-07-15T11:56:39.083Z"
   },
   {
    "duration": 804,
    "start_time": "2022-07-15T11:56:40.407Z"
   },
   {
    "duration": 15,
    "start_time": "2022-07-15T11:56:41.213Z"
   },
   {
    "duration": 30,
    "start_time": "2022-07-15T11:56:41.230Z"
   },
   {
    "duration": 236,
    "start_time": "2022-07-15T11:56:41.263Z"
   },
   {
    "duration": 538,
    "start_time": "2022-07-15T11:56:41.501Z"
   },
   {
    "duration": 3003,
    "start_time": "2022-07-15T11:56:42.041Z"
   },
   {
    "duration": 2567,
    "start_time": "2022-07-15T11:56:45.046Z"
   },
   {
    "duration": 6218,
    "start_time": "2022-07-15T11:56:47.615Z"
   },
   {
    "duration": 141,
    "start_time": "2022-07-15T11:56:53.835Z"
   },
   {
    "duration": 0,
    "start_time": "2022-07-15T11:56:53.979Z"
   },
   {
    "duration": 0,
    "start_time": "2022-07-15T11:56:53.980Z"
   },
   {
    "duration": 0,
    "start_time": "2022-07-15T11:56:53.981Z"
   },
   {
    "duration": 0,
    "start_time": "2022-07-15T11:56:53.982Z"
   },
   {
    "duration": 0,
    "start_time": "2022-07-15T11:56:53.984Z"
   },
   {
    "duration": 0,
    "start_time": "2022-07-15T11:56:54.001Z"
   },
   {
    "duration": 0,
    "start_time": "2022-07-15T11:56:54.002Z"
   },
   {
    "duration": 0,
    "start_time": "2022-07-15T11:56:54.004Z"
   },
   {
    "duration": 0,
    "start_time": "2022-07-15T11:56:54.005Z"
   },
   {
    "duration": 0,
    "start_time": "2022-07-15T11:56:54.006Z"
   },
   {
    "duration": 0,
    "start_time": "2022-07-15T11:56:54.006Z"
   },
   {
    "duration": 1334,
    "start_time": "2022-07-15T11:57:09.196Z"
   },
   {
    "duration": 765,
    "start_time": "2022-07-15T11:57:10.532Z"
   },
   {
    "duration": 16,
    "start_time": "2022-07-15T11:57:11.299Z"
   },
   {
    "duration": 34,
    "start_time": "2022-07-15T11:57:11.317Z"
   },
   {
    "duration": 232,
    "start_time": "2022-07-15T11:57:11.353Z"
   },
   {
    "duration": 277,
    "start_time": "2022-07-15T11:57:11.587Z"
   },
   {
    "duration": 2275,
    "start_time": "2022-07-15T11:57:11.866Z"
   },
   {
    "duration": 2578,
    "start_time": "2022-07-15T11:57:14.144Z"
   },
   {
    "duration": 127,
    "start_time": "2022-07-15T11:57:16.724Z"
   },
   {
    "duration": 0,
    "start_time": "2022-07-15T11:57:16.854Z"
   },
   {
    "duration": 0,
    "start_time": "2022-07-15T11:57:16.856Z"
   },
   {
    "duration": 0,
    "start_time": "2022-07-15T11:57:16.857Z"
   },
   {
    "duration": 0,
    "start_time": "2022-07-15T11:57:16.858Z"
   },
   {
    "duration": 0,
    "start_time": "2022-07-15T11:57:16.860Z"
   },
   {
    "duration": 0,
    "start_time": "2022-07-15T11:57:16.862Z"
   },
   {
    "duration": 0,
    "start_time": "2022-07-15T11:57:16.863Z"
   },
   {
    "duration": 0,
    "start_time": "2022-07-15T11:57:16.865Z"
   },
   {
    "duration": 0,
    "start_time": "2022-07-15T11:57:16.867Z"
   },
   {
    "duration": 0,
    "start_time": "2022-07-15T11:57:16.868Z"
   },
   {
    "duration": 0,
    "start_time": "2022-07-15T11:57:16.870Z"
   },
   {
    "duration": 1319,
    "start_time": "2022-07-15T11:57:56.212Z"
   },
   {
    "duration": 4,
    "start_time": "2022-07-15T11:57:59.630Z"
   },
   {
    "duration": 46,
    "start_time": "2022-07-15T11:58:57.487Z"
   },
   {
    "duration": 5,
    "start_time": "2022-07-15T12:01:20.333Z"
   },
   {
    "duration": 31,
    "start_time": "2022-07-15T12:06:26.116Z"
   },
   {
    "duration": 6562,
    "start_time": "2022-07-15T12:07:12.535Z"
   },
   {
    "duration": 57,
    "start_time": "2022-07-15T12:08:14.230Z"
   },
   {
    "duration": 89,
    "start_time": "2022-07-15T12:09:52.592Z"
   },
   {
    "duration": 1298,
    "start_time": "2022-07-15T12:11:50.639Z"
   },
   {
    "duration": 774,
    "start_time": "2022-07-15T12:11:51.939Z"
   },
   {
    "duration": 15,
    "start_time": "2022-07-15T12:11:52.715Z"
   },
   {
    "duration": 31,
    "start_time": "2022-07-15T12:11:52.732Z"
   },
   {
    "duration": 237,
    "start_time": "2022-07-15T12:11:52.766Z"
   },
   {
    "duration": 341,
    "start_time": "2022-07-15T12:11:53.005Z"
   },
   {
    "duration": 2342,
    "start_time": "2022-07-15T12:11:53.347Z"
   },
   {
    "duration": 2544,
    "start_time": "2022-07-15T12:11:55.690Z"
   },
   {
    "duration": 4,
    "start_time": "2022-07-15T12:11:58.236Z"
   },
   {
    "duration": 300,
    "start_time": "2022-07-15T12:11:58.242Z"
   },
   {
    "duration": 4,
    "start_time": "2022-07-15T12:11:58.544Z"
   },
   {
    "duration": 39,
    "start_time": "2022-07-15T12:11:58.549Z"
   },
   {
    "duration": 6666,
    "start_time": "2022-07-15T12:11:58.589Z"
   },
   {
    "duration": 5,
    "start_time": "2022-07-15T12:12:05.258Z"
   },
   {
    "duration": 172348,
    "start_time": "2022-07-15T12:12:05.265Z"
   },
   {
    "duration": 9023,
    "start_time": "2022-07-15T12:14:57.615Z"
   },
   {
    "duration": 0,
    "start_time": "2022-07-15T12:15:06.640Z"
   },
   {
    "duration": 0,
    "start_time": "2022-07-15T12:15:06.641Z"
   },
   {
    "duration": 0,
    "start_time": "2022-07-15T12:15:06.642Z"
   },
   {
    "duration": 0,
    "start_time": "2022-07-15T12:15:06.643Z"
   },
   {
    "duration": 0,
    "start_time": "2022-07-15T12:15:06.644Z"
   },
   {
    "duration": 1420,
    "start_time": "2022-07-15T12:19:57.304Z"
   },
   {
    "duration": 826,
    "start_time": "2022-07-15T12:19:58.726Z"
   },
   {
    "duration": 17,
    "start_time": "2022-07-15T12:19:59.554Z"
   },
   {
    "duration": 44,
    "start_time": "2022-07-15T12:19:59.572Z"
   },
   {
    "duration": 239,
    "start_time": "2022-07-15T12:19:59.618Z"
   },
   {
    "duration": 375,
    "start_time": "2022-07-15T12:19:59.859Z"
   },
   {
    "duration": 2311,
    "start_time": "2022-07-15T12:20:00.236Z"
   },
   {
    "duration": 2593,
    "start_time": "2022-07-15T12:20:02.549Z"
   },
   {
    "duration": 4,
    "start_time": "2022-07-15T12:20:05.144Z"
   },
   {
    "duration": 167,
    "start_time": "2022-07-15T12:20:05.149Z"
   },
   {
    "duration": 4,
    "start_time": "2022-07-15T12:20:05.318Z"
   },
   {
    "duration": 43,
    "start_time": "2022-07-15T12:20:05.324Z"
   },
   {
    "duration": 6508,
    "start_time": "2022-07-15T12:20:05.370Z"
   },
   {
    "duration": 172842,
    "start_time": "2022-07-15T12:20:11.880Z"
   },
   {
    "duration": 1602,
    "start_time": "2022-07-15T18:59:05.880Z"
   },
   {
    "duration": 5395,
    "start_time": "2022-07-15T18:59:07.484Z"
   },
   {
    "duration": 17,
    "start_time": "2022-07-15T18:59:12.881Z"
   },
   {
    "duration": 32,
    "start_time": "2022-07-15T18:59:12.900Z"
   },
   {
    "duration": 258,
    "start_time": "2022-07-15T18:59:12.935Z"
   },
   {
    "duration": 693,
    "start_time": "2022-07-15T18:59:13.195Z"
   },
   {
    "duration": 3209,
    "start_time": "2022-07-15T18:59:13.890Z"
   },
   {
    "duration": 3398,
    "start_time": "2022-07-15T18:59:17.101Z"
   },
   {
    "duration": 5,
    "start_time": "2022-07-15T18:59:20.501Z"
   },
   {
    "duration": 619,
    "start_time": "2022-07-15T18:59:20.509Z"
   },
   {
    "duration": 4,
    "start_time": "2022-07-15T18:59:21.130Z"
   },
   {
    "duration": 69,
    "start_time": "2022-07-15T18:59:21.136Z"
   },
   {
    "duration": 9250,
    "start_time": "2022-07-15T18:59:21.206Z"
   },
   {
    "duration": 219300,
    "start_time": "2022-07-15T18:59:30.464Z"
   },
   {
    "duration": 2419,
    "start_time": "2022-07-18T13:08:20.271Z"
   },
   {
    "duration": 67799,
    "start_time": "2022-07-18T13:08:22.692Z"
   },
   {
    "duration": 1567,
    "start_time": "2022-07-18T13:09:30.494Z"
   },
   {
    "duration": 2262,
    "start_time": "2022-07-18T13:09:32.063Z"
   },
   {
    "duration": 18,
    "start_time": "2022-07-18T13:09:34.327Z"
   },
   {
    "duration": 33,
    "start_time": "2022-07-18T13:09:34.347Z"
   },
   {
    "duration": 230,
    "start_time": "2022-07-18T13:09:34.382Z"
   },
   {
    "duration": 355,
    "start_time": "2022-07-18T13:09:34.614Z"
   },
   {
    "duration": 2426,
    "start_time": "2022-07-18T13:09:34.971Z"
   },
   {
    "duration": 215,
    "start_time": "2022-07-18T13:09:37.400Z"
   },
   {
    "duration": 4,
    "start_time": "2022-07-18T13:09:37.617Z"
   },
   {
    "duration": 25,
    "start_time": "2022-07-18T13:09:37.622Z"
   },
   {
    "duration": 43958,
    "start_time": "2022-07-18T13:10:19.900Z"
   },
   {
    "duration": 25,
    "start_time": "2022-07-18T13:11:08.241Z"
   },
   {
    "duration": 6,
    "start_time": "2022-07-18T13:18:09.948Z"
   },
   {
    "duration": 5,
    "start_time": "2022-07-18T13:18:40.432Z"
   },
   {
    "duration": 4,
    "start_time": "2022-07-18T13:19:08.082Z"
   },
   {
    "duration": 79,
    "start_time": "2022-07-18T13:20:38.755Z"
   },
   {
    "duration": 45907,
    "start_time": "2022-07-18T13:21:02.636Z"
   },
   {
    "duration": 5,
    "start_time": "2022-07-18T13:22:00.060Z"
   },
   {
    "duration": 625,
    "start_time": "2022-07-18T13:46:33.872Z"
   },
   {
    "duration": 2012,
    "start_time": "2022-07-18T13:48:02.807Z"
   },
   {
    "duration": 19340,
    "start_time": "2022-07-18T13:48:04.821Z"
   },
   {
    "duration": 1401,
    "start_time": "2022-07-18T13:48:24.163Z"
   },
   {
    "duration": 796,
    "start_time": "2022-07-18T13:48:25.566Z"
   },
   {
    "duration": 15,
    "start_time": "2022-07-18T13:48:26.364Z"
   },
   {
    "duration": 46,
    "start_time": "2022-07-18T13:48:26.381Z"
   },
   {
    "duration": 227,
    "start_time": "2022-07-18T13:48:26.428Z"
   },
   {
    "duration": 350,
    "start_time": "2022-07-18T13:48:26.657Z"
   },
   {
    "duration": 1965,
    "start_time": "2022-07-18T13:48:27.009Z"
   },
   {
    "duration": 167,
    "start_time": "2022-07-18T13:48:28.978Z"
   },
   {
    "duration": 4,
    "start_time": "2022-07-18T13:48:29.146Z"
   },
   {
    "duration": 5,
    "start_time": "2022-07-18T13:48:51.214Z"
   },
   {
    "duration": 115,
    "start_time": "2022-07-18T13:48:54.982Z"
   },
   {
    "duration": 10,
    "start_time": "2022-07-18T13:50:02.279Z"
   },
   {
    "duration": 77832,
    "start_time": "2022-07-18T13:50:19.102Z"
   },
   {
    "duration": 4,
    "start_time": "2022-07-18T13:52:54.666Z"
   },
   {
    "duration": 5,
    "start_time": "2022-07-18T13:53:17.735Z"
   },
   {
    "duration": 2039,
    "start_time": "2022-07-18T13:54:22.948Z"
   },
   {
    "duration": 11441,
    "start_time": "2022-07-18T13:54:24.989Z"
   },
   {
    "duration": 1610,
    "start_time": "2022-07-18T13:54:36.432Z"
   },
   {
    "duration": 814,
    "start_time": "2022-07-18T13:54:38.045Z"
   },
   {
    "duration": 21,
    "start_time": "2022-07-18T13:54:38.862Z"
   },
   {
    "duration": 50,
    "start_time": "2022-07-18T13:54:38.885Z"
   },
   {
    "duration": 283,
    "start_time": "2022-07-18T13:54:38.937Z"
   },
   {
    "duration": 352,
    "start_time": "2022-07-18T13:54:39.224Z"
   },
   {
    "duration": 2591,
    "start_time": "2022-07-18T13:54:39.578Z"
   },
   {
    "duration": 148,
    "start_time": "2022-07-18T13:54:42.172Z"
   },
   {
    "duration": 4,
    "start_time": "2022-07-18T13:54:42.321Z"
   },
   {
    "duration": 2073,
    "start_time": "2022-07-18T13:55:11.546Z"
   },
   {
    "duration": 10931,
    "start_time": "2022-07-18T13:55:13.622Z"
   },
   {
    "duration": 1535,
    "start_time": "2022-07-18T13:55:24.554Z"
   },
   {
    "duration": 799,
    "start_time": "2022-07-18T13:55:26.092Z"
   },
   {
    "duration": 16,
    "start_time": "2022-07-18T13:55:26.893Z"
   },
   {
    "duration": 50,
    "start_time": "2022-07-18T13:55:26.911Z"
   },
   {
    "duration": 238,
    "start_time": "2022-07-18T13:55:26.964Z"
   },
   {
    "duration": 349,
    "start_time": "2022-07-18T13:55:27.204Z"
   },
   {
    "duration": 2038,
    "start_time": "2022-07-18T13:55:27.554Z"
   },
   {
    "duration": 173,
    "start_time": "2022-07-18T13:55:29.595Z"
   },
   {
    "duration": 5,
    "start_time": "2022-07-18T13:55:29.770Z"
   },
   {
    "duration": 47678,
    "start_time": "2022-07-18T13:55:29.777Z"
   },
   {
    "duration": 5,
    "start_time": "2022-07-18T13:56:17.456Z"
   },
   {
    "duration": 2086,
    "start_time": "2022-07-18T13:57:29.638Z"
   },
   {
    "duration": 11759,
    "start_time": "2022-07-18T13:57:31.726Z"
   },
   {
    "duration": 1447,
    "start_time": "2022-07-18T13:57:43.487Z"
   },
   {
    "duration": 849,
    "start_time": "2022-07-18T13:57:44.937Z"
   },
   {
    "duration": 15,
    "start_time": "2022-07-18T13:57:45.788Z"
   },
   {
    "duration": 41,
    "start_time": "2022-07-18T13:57:45.804Z"
   },
   {
    "duration": 249,
    "start_time": "2022-07-18T13:57:45.848Z"
   },
   {
    "duration": 362,
    "start_time": "2022-07-18T13:57:46.099Z"
   },
   {
    "duration": 2499,
    "start_time": "2022-07-18T13:57:46.463Z"
   },
   {
    "duration": 231,
    "start_time": "2022-07-18T13:57:48.968Z"
   },
   {
    "duration": 4,
    "start_time": "2022-07-18T13:57:49.201Z"
   },
   {
    "duration": 47519,
    "start_time": "2022-07-18T13:57:49.207Z"
   },
   {
    "duration": 5,
    "start_time": "2022-07-18T13:58:36.727Z"
   },
   {
    "duration": 2139,
    "start_time": "2022-07-18T13:59:13.549Z"
   },
   {
    "duration": 11706,
    "start_time": "2022-07-18T13:59:15.691Z"
   },
   {
    "duration": 1570,
    "start_time": "2022-07-18T13:59:27.399Z"
   },
   {
    "duration": 911,
    "start_time": "2022-07-18T13:59:28.972Z"
   },
   {
    "duration": 16,
    "start_time": "2022-07-18T13:59:29.885Z"
   },
   {
    "duration": 41,
    "start_time": "2022-07-18T13:59:29.902Z"
   },
   {
    "duration": 248,
    "start_time": "2022-07-18T13:59:29.945Z"
   },
   {
    "duration": 399,
    "start_time": "2022-07-18T13:59:30.195Z"
   },
   {
    "duration": 2494,
    "start_time": "2022-07-18T13:59:30.596Z"
   },
   {
    "duration": 213,
    "start_time": "2022-07-18T13:59:33.092Z"
   },
   {
    "duration": 3,
    "start_time": "2022-07-18T13:59:33.306Z"
   },
   {
    "duration": 5,
    "start_time": "2022-07-18T13:59:42.123Z"
   },
   {
    "duration": 2131,
    "start_time": "2022-07-18T14:01:12.274Z"
   },
   {
    "duration": 11653,
    "start_time": "2022-07-18T14:01:14.407Z"
   },
   {
    "duration": 1442,
    "start_time": "2022-07-18T14:01:26.062Z"
   },
   {
    "duration": 840,
    "start_time": "2022-07-18T14:01:27.506Z"
   },
   {
    "duration": 24,
    "start_time": "2022-07-18T14:01:28.349Z"
   },
   {
    "duration": 43,
    "start_time": "2022-07-18T14:01:28.375Z"
   },
   {
    "duration": 237,
    "start_time": "2022-07-18T14:01:28.424Z"
   },
   {
    "duration": 385,
    "start_time": "2022-07-18T14:01:28.662Z"
   },
   {
    "duration": 2493,
    "start_time": "2022-07-18T14:01:29.050Z"
   },
   {
    "duration": 221,
    "start_time": "2022-07-18T14:01:31.546Z"
   },
   {
    "duration": 4,
    "start_time": "2022-07-18T14:01:31.769Z"
   },
   {
    "duration": 47488,
    "start_time": "2022-07-18T14:01:31.775Z"
   },
   {
    "duration": 5,
    "start_time": "2022-07-18T14:02:19.265Z"
   },
   {
    "duration": 2161,
    "start_time": "2022-07-18T14:07:01.104Z"
   },
   {
    "duration": 11904,
    "start_time": "2022-07-18T14:07:03.268Z"
   },
   {
    "duration": 1411,
    "start_time": "2022-07-18T14:07:15.174Z"
   },
   {
    "duration": 823,
    "start_time": "2022-07-18T14:07:16.587Z"
   },
   {
    "duration": 22,
    "start_time": "2022-07-18T14:07:17.411Z"
   },
   {
    "duration": 34,
    "start_time": "2022-07-18T14:07:17.434Z"
   },
   {
    "duration": 244,
    "start_time": "2022-07-18T14:07:17.471Z"
   },
   {
    "duration": 359,
    "start_time": "2022-07-18T14:07:17.723Z"
   },
   {
    "duration": 2556,
    "start_time": "2022-07-18T14:07:18.083Z"
   },
   {
    "duration": 254,
    "start_time": "2022-07-18T14:07:20.642Z"
   },
   {
    "duration": 3,
    "start_time": "2022-07-18T14:07:20.898Z"
   },
   {
    "duration": 47751,
    "start_time": "2022-07-18T14:07:20.903Z"
   },
   {
    "duration": 531,
    "start_time": "2022-07-18T14:08:08.656Z"
   },
   {
    "duration": 4,
    "start_time": "2022-07-18T14:09:25.190Z"
   },
   {
    "duration": 6,
    "start_time": "2022-07-18T14:09:37.645Z"
   },
   {
    "duration": 1271,
    "start_time": "2022-07-18T15:09:31.480Z"
   },
   {
    "duration": 2312,
    "start_time": "2022-07-18T15:09:33.895Z"
   },
   {
    "duration": 15,
    "start_time": "2022-07-18T15:09:36.209Z"
   },
   {
    "duration": 33,
    "start_time": "2022-07-18T15:09:36.225Z"
   },
   {
    "duration": 217,
    "start_time": "2022-07-18T15:09:36.260Z"
   },
   {
    "duration": 567,
    "start_time": "2022-07-18T15:09:36.480Z"
   },
   {
    "duration": 2349,
    "start_time": "2022-07-18T15:09:38.998Z"
   },
   {
    "duration": 141,
    "start_time": "2022-07-18T15:09:43.143Z"
   },
   {
    "duration": 3,
    "start_time": "2022-07-18T15:09:43.697Z"
   },
   {
    "duration": 45906,
    "start_time": "2022-07-18T15:09:44.146Z"
   },
   {
    "duration": 5,
    "start_time": "2022-07-18T15:10:30.059Z"
   },
   {
    "duration": 58,
    "start_time": "2022-07-18T15:10:30.067Z"
   },
   {
    "duration": 369,
    "start_time": "2022-07-18T15:11:52.589Z"
   },
   {
    "duration": 3183,
    "start_time": "2022-07-19T10:29:26.204Z"
   },
   {
    "duration": 3120,
    "start_time": "2022-07-19T10:29:29.390Z"
   },
   {
    "duration": 2222,
    "start_time": "2022-07-19T10:29:32.512Z"
   },
   {
    "duration": 17,
    "start_time": "2022-07-19T10:29:34.736Z"
   },
   {
    "duration": 35,
    "start_time": "2022-07-19T10:29:34.755Z"
   },
   {
    "duration": 227,
    "start_time": "2022-07-19T10:29:34.792Z"
   },
   {
    "duration": 589,
    "start_time": "2022-07-19T10:29:35.022Z"
   },
   {
    "duration": 36,
    "start_time": "2022-07-19T10:29:35.612Z"
   },
   {
    "duration": 7,
    "start_time": "2022-07-19T10:29:35.649Z"
   },
   {
    "duration": 17,
    "start_time": "2022-07-19T10:29:35.658Z"
   },
   {
    "duration": 29,
    "start_time": "2022-07-19T10:29:35.676Z"
   },
   {
    "duration": 16,
    "start_time": "2022-07-19T10:29:35.706Z"
   },
   {
    "duration": 3597,
    "start_time": "2022-07-19T10:29:35.723Z"
   },
   {
    "duration": 225,
    "start_time": "2022-07-19T10:29:39.322Z"
   },
   {
    "duration": 4,
    "start_time": "2022-07-19T10:29:39.548Z"
   },
   {
    "duration": 38902,
    "start_time": "2022-07-19T10:29:39.554Z"
   },
   {
    "duration": 0,
    "start_time": "2022-07-19T10:30:18.458Z"
   },
   {
    "duration": 0,
    "start_time": "2022-07-19T10:30:18.459Z"
   },
   {
    "duration": 0,
    "start_time": "2022-07-19T10:30:18.460Z"
   },
   {
    "duration": 526,
    "start_time": "2022-07-19T10:30:24.963Z"
   },
   {
    "duration": 1894,
    "start_time": "2022-07-19T10:31:18.261Z"
   },
   {
    "duration": 1735,
    "start_time": "2022-07-19T10:31:20.157Z"
   },
   {
    "duration": 807,
    "start_time": "2022-07-19T10:31:21.894Z"
   },
   {
    "duration": 16,
    "start_time": "2022-07-19T10:31:22.704Z"
   },
   {
    "duration": 31,
    "start_time": "2022-07-19T10:31:22.722Z"
   },
   {
    "duration": 242,
    "start_time": "2022-07-19T10:31:22.755Z"
   },
   {
    "duration": 345,
    "start_time": "2022-07-19T10:31:23.001Z"
   },
   {
    "duration": 19,
    "start_time": "2022-07-19T10:31:23.349Z"
   },
   {
    "duration": 8,
    "start_time": "2022-07-19T10:31:23.370Z"
   },
   {
    "duration": 24,
    "start_time": "2022-07-19T10:31:23.381Z"
   },
   {
    "duration": 28,
    "start_time": "2022-07-19T10:31:23.407Z"
   },
   {
    "duration": 18,
    "start_time": "2022-07-19T10:31:23.436Z"
   },
   {
    "duration": 3714,
    "start_time": "2022-07-19T10:31:23.456Z"
   },
   {
    "duration": 189,
    "start_time": "2022-07-19T10:31:27.171Z"
   },
   {
    "duration": 4,
    "start_time": "2022-07-19T10:31:27.362Z"
   },
   {
    "duration": 79950,
    "start_time": "2022-07-19T10:31:27.368Z"
   },
   {
    "duration": 2,
    "start_time": "2022-07-19T10:32:47.320Z"
   },
   {
    "duration": 1636319,
    "start_time": "2022-07-19T10:32:47.323Z"
   },
   {
    "duration": 6,
    "start_time": "2022-07-19T11:24:22.497Z"
   },
   {
    "duration": 379,
    "start_time": "2022-07-19T11:33:07.180Z"
   },
   {
    "duration": 4,
    "start_time": "2022-07-19T11:33:08.888Z"
   },
   {
    "duration": 57,
    "start_time": "2022-07-19T11:33:12.465Z"
   },
   {
    "duration": 10124,
    "start_time": "2022-07-19T11:33:13.653Z"
   },
   {
    "duration": 275242,
    "start_time": "2022-07-19T11:33:23.778Z"
   },
   {
    "duration": 1416801,
    "start_time": "2022-07-19T11:49:48.003Z"
   },
   {
    "duration": 4,
    "start_time": "2022-07-20T09:15:26.483Z"
   },
   {
    "duration": 2073,
    "start_time": "2022-07-20T09:15:26.493Z"
   },
   {
    "duration": 944,
    "start_time": "2022-07-20T09:15:28.568Z"
   },
   {
    "duration": 16,
    "start_time": "2022-07-20T09:15:29.514Z"
   },
   {
    "duration": 31,
    "start_time": "2022-07-20T09:15:29.532Z"
   },
   {
    "duration": 258,
    "start_time": "2022-07-20T09:15:29.564Z"
   },
   {
    "duration": 307,
    "start_time": "2022-07-20T09:15:29.824Z"
   },
   {
    "duration": 18,
    "start_time": "2022-07-20T09:15:30.133Z"
   },
   {
    "duration": 34,
    "start_time": "2022-07-20T09:15:30.153Z"
   },
   {
    "duration": 32,
    "start_time": "2022-07-20T09:15:30.188Z"
   },
   {
    "duration": 8,
    "start_time": "2022-07-20T09:15:30.223Z"
   },
   {
    "duration": 36,
    "start_time": "2022-07-20T09:15:30.233Z"
   },
   {
    "duration": 22,
    "start_time": "2022-07-20T09:15:30.271Z"
   },
   {
    "duration": 19,
    "start_time": "2022-07-20T09:15:30.294Z"
   },
   {
    "duration": 1146,
    "start_time": "2022-07-20T09:15:30.315Z"
   },
   {
    "duration": 286,
    "start_time": "2022-07-20T09:15:31.463Z"
   },
   {
    "duration": 4,
    "start_time": "2022-07-20T09:15:31.751Z"
   },
   {
    "duration": 20573,
    "start_time": "2022-07-20T09:15:31.756Z"
   },
   {
    "duration": 2,
    "start_time": "2022-07-20T09:15:52.331Z"
   },
   {
    "duration": 335,
    "start_time": "2022-07-20T09:15:52.335Z"
   },
   {
    "duration": 154901,
    "start_time": "2022-07-20T09:15:52.672Z"
   },
   {
    "duration": 265706,
    "start_time": "2022-07-20T09:18:27.575Z"
   },
   {
    "duration": 5,
    "start_time": "2022-07-20T09:26:56.300Z"
   },
   {
    "duration": 4,
    "start_time": "2022-07-20T09:26:57.617Z"
   },
   {
    "duration": 2659,
    "start_time": "2022-07-20T09:27:00.313Z"
   },
   {
    "duration": 11277,
    "start_time": "2022-07-20T09:27:20.658Z"
   },
   {
    "duration": 137,
    "start_time": "2022-07-20T09:29:31.293Z"
   },
   {
    "duration": 8855,
    "start_time": "2022-07-20T09:30:12.663Z"
   },
   {
    "duration": 7,
    "start_time": "2022-07-20T09:33:03.758Z"
   },
   {
    "duration": 6245,
    "start_time": "2022-07-20T09:33:06.285Z"
   },
   {
    "duration": 29556,
    "start_time": "2022-07-20T09:33:26.583Z"
   },
   {
    "duration": 29607,
    "start_time": "2022-07-20T09:35:26.339Z"
   },
   {
    "duration": 67733,
    "start_time": "2022-07-20T09:37:32.316Z"
   },
   {
    "duration": 42,
    "start_time": "2022-07-20T09:42:27.638Z"
   },
   {
    "duration": 5910,
    "start_time": "2022-07-20T09:42:30.678Z"
   },
   {
    "duration": 232,
    "start_time": "2022-07-20T09:42:47.007Z"
   },
   {
    "duration": 40,
    "start_time": "2022-07-20T09:43:08.687Z"
   },
   {
    "duration": 6081,
    "start_time": "2022-07-20T09:43:11.494Z"
   },
   {
    "duration": 7244,
    "start_time": "2022-07-20T09:43:27.276Z"
   },
   {
    "duration": 40,
    "start_time": "2022-07-20T09:43:46.697Z"
   },
   {
    "duration": 4664,
    "start_time": "2022-07-20T09:43:49.439Z"
   },
   {
    "duration": 10146,
    "start_time": "2022-07-20T09:44:02.271Z"
   },
   {
    "duration": 39,
    "start_time": "2022-07-20T09:44:52.609Z"
   },
   {
    "duration": 2619,
    "start_time": "2022-07-20T09:44:54.815Z"
   },
   {
    "duration": 10132,
    "start_time": "2022-07-20T09:45:06.592Z"
   },
   {
    "duration": 9655,
    "start_time": "2022-07-20T09:46:02.861Z"
   },
   {
    "duration": 109,
    "start_time": "2022-07-20T09:50:52.230Z"
   },
   {
    "duration": 12284,
    "start_time": "2022-07-20T09:51:19.827Z"
   },
   {
    "duration": 7,
    "start_time": "2022-07-20T09:52:38.002Z"
   },
   {
    "duration": 2552,
    "start_time": "2022-07-20T09:52:40.227Z"
   },
   {
    "duration": 213,
    "start_time": "2022-07-20T09:52:52.042Z"
   },
   {
    "duration": 21576,
    "start_time": "2022-07-20T09:53:01.240Z"
   },
   {
    "duration": 28920,
    "start_time": "2022-07-20T09:54:54.011Z"
   },
   {
    "duration": 15650,
    "start_time": "2022-07-20T09:56:37.270Z"
   },
   {
    "duration": 13435,
    "start_time": "2022-07-20T09:57:12.285Z"
   },
   {
    "duration": 18815,
    "start_time": "2022-07-20T09:57:39.007Z"
   },
   {
    "duration": 4,
    "start_time": "2022-07-20T10:01:51.580Z"
   },
   {
    "duration": 2031,
    "start_time": "2022-07-20T10:01:51.586Z"
   },
   {
    "duration": 986,
    "start_time": "2022-07-20T10:01:53.619Z"
   },
   {
    "duration": 24,
    "start_time": "2022-07-20T10:01:54.607Z"
   },
   {
    "duration": 39,
    "start_time": "2022-07-20T10:01:54.633Z"
   },
   {
    "duration": 246,
    "start_time": "2022-07-20T10:01:54.674Z"
   },
   {
    "duration": 323,
    "start_time": "2022-07-20T10:01:54.921Z"
   },
   {
    "duration": 21,
    "start_time": "2022-07-20T10:01:55.247Z"
   },
   {
    "duration": 57,
    "start_time": "2022-07-20T10:01:55.271Z"
   },
   {
    "duration": 26,
    "start_time": "2022-07-20T10:01:55.330Z"
   },
   {
    "duration": 19,
    "start_time": "2022-07-20T10:01:55.359Z"
   },
   {
    "duration": 11,
    "start_time": "2022-07-20T10:01:55.381Z"
   },
   {
    "duration": 17,
    "start_time": "2022-07-20T10:01:55.394Z"
   },
   {
    "duration": 16,
    "start_time": "2022-07-20T10:01:55.414Z"
   },
   {
    "duration": 120,
    "start_time": "2022-07-20T10:01:55.432Z"
   },
   {
    "duration": 2847,
    "start_time": "2022-07-20T10:01:55.554Z"
   },
   {
    "duration": 265,
    "start_time": "2022-07-20T10:01:58.403Z"
   },
   {
    "duration": 4,
    "start_time": "2022-07-20T10:01:58.669Z"
   },
   {
    "duration": 50868,
    "start_time": "2022-07-20T10:01:58.675Z"
   },
   {
    "duration": 3,
    "start_time": "2022-07-20T10:02:49.545Z"
   },
   {
    "duration": 16,
    "start_time": "2022-07-20T10:02:49.549Z"
   },
   {
    "duration": 826555,
    "start_time": "2022-07-20T10:02:49.567Z"
   },
   {
    "duration": 281950,
    "start_time": "2022-07-20T10:16:36.125Z"
   },
   {
    "duration": 7,
    "start_time": "2022-07-20T10:21:18.077Z"
   },
   {
    "duration": 5,
    "start_time": "2022-07-20T10:21:18.086Z"
   },
   {
    "duration": 7989,
    "start_time": "2022-07-20T10:21:18.092Z"
   },
   {
    "duration": 7378,
    "start_time": "2022-07-20T10:24:01.423Z"
   },
   {
    "duration": 43364,
    "start_time": "2022-07-20T10:24:36.864Z"
   },
   {
    "duration": 53735,
    "start_time": "2022-07-20T10:25:44.090Z"
   },
   {
    "duration": 130846,
    "start_time": "2022-07-20T10:26:55.778Z"
   },
   {
    "duration": 4,
    "start_time": "2022-07-20T10:30:35.639Z"
   },
   {
    "duration": 2251,
    "start_time": "2022-07-20T10:30:35.647Z"
   },
   {
    "duration": 1006,
    "start_time": "2022-07-20T10:30:37.901Z"
   },
   {
    "duration": 29,
    "start_time": "2022-07-20T10:30:38.909Z"
   },
   {
    "duration": 44,
    "start_time": "2022-07-20T10:30:38.942Z"
   },
   {
    "duration": 310,
    "start_time": "2022-07-20T10:30:38.989Z"
   },
   {
    "duration": 365,
    "start_time": "2022-07-20T10:30:39.301Z"
   },
   {
    "duration": 28,
    "start_time": "2022-07-20T10:30:39.668Z"
   },
   {
    "duration": 39,
    "start_time": "2022-07-20T10:30:39.711Z"
   },
   {
    "duration": 28,
    "start_time": "2022-07-20T10:30:39.753Z"
   },
   {
    "duration": 28,
    "start_time": "2022-07-20T10:30:39.785Z"
   },
   {
    "duration": 10,
    "start_time": "2022-07-20T10:30:39.823Z"
   },
   {
    "duration": 19,
    "start_time": "2022-07-20T10:30:39.835Z"
   },
   {
    "duration": 17,
    "start_time": "2022-07-20T10:30:39.855Z"
   },
   {
    "duration": 1344,
    "start_time": "2022-07-20T10:30:39.874Z"
   },
   {
    "duration": 298,
    "start_time": "2022-07-20T10:30:41.227Z"
   },
   {
    "duration": 6,
    "start_time": "2022-07-20T10:30:41.527Z"
   },
   {
    "duration": 23962,
    "start_time": "2022-07-20T10:30:41.535Z"
   },
   {
    "duration": 24,
    "start_time": "2022-07-20T10:31:05.499Z"
   },
   {
    "duration": 3,
    "start_time": "2022-07-20T10:32:25.343Z"
   },
   {
    "duration": 17,
    "start_time": "2022-07-20T10:32:25.353Z"
   },
   {
    "duration": 886,
    "start_time": "2022-07-20T10:32:25.377Z"
   },
   {
    "duration": 11,
    "start_time": "2022-07-20T10:32:26.266Z"
   },
   {
    "duration": 54,
    "start_time": "2022-07-20T10:32:26.279Z"
   },
   {
    "duration": 298,
    "start_time": "2022-07-20T10:32:26.335Z"
   },
   {
    "duration": 170,
    "start_time": "2022-07-20T10:32:26.636Z"
   },
   {
    "duration": 28,
    "start_time": "2022-07-20T10:32:26.810Z"
   },
   {
    "duration": 36,
    "start_time": "2022-07-20T10:32:26.840Z"
   },
   {
    "duration": 42,
    "start_time": "2022-07-20T10:32:26.878Z"
   },
   {
    "duration": 12,
    "start_time": "2022-07-20T10:32:26.922Z"
   },
   {
    "duration": 10,
    "start_time": "2022-07-20T10:32:26.937Z"
   },
   {
    "duration": 13,
    "start_time": "2022-07-20T10:32:26.949Z"
   },
   {
    "duration": 17,
    "start_time": "2022-07-20T10:32:26.964Z"
   },
   {
    "duration": 1244,
    "start_time": "2022-07-20T10:32:27.010Z"
   },
   {
    "duration": 5,
    "start_time": "2022-07-20T10:32:28.258Z"
   },
   {
    "duration": 8,
    "start_time": "2022-07-20T10:32:28.265Z"
   },
   {
    "duration": 24018,
    "start_time": "2022-07-20T10:32:28.275Z"
   },
   {
    "duration": 4,
    "start_time": "2022-07-20T10:33:11.667Z"
   },
   {
    "duration": 2146,
    "start_time": "2022-07-20T10:33:11.673Z"
   },
   {
    "duration": 999,
    "start_time": "2022-07-20T10:33:13.821Z"
   },
   {
    "duration": 21,
    "start_time": "2022-07-20T10:33:14.824Z"
   },
   {
    "duration": 33,
    "start_time": "2022-07-20T10:33:14.848Z"
   },
   {
    "duration": 268,
    "start_time": "2022-07-20T10:33:14.883Z"
   },
   {
    "duration": 392,
    "start_time": "2022-07-20T10:33:15.153Z"
   },
   {
    "duration": 31,
    "start_time": "2022-07-20T10:33:15.548Z"
   },
   {
    "duration": 51,
    "start_time": "2022-07-20T10:33:15.582Z"
   },
   {
    "duration": 28,
    "start_time": "2022-07-20T10:33:15.635Z"
   },
   {
    "duration": 25,
    "start_time": "2022-07-20T10:33:15.666Z"
   },
   {
    "duration": 24,
    "start_time": "2022-07-20T10:33:15.694Z"
   },
   {
    "duration": 32,
    "start_time": "2022-07-20T10:33:15.728Z"
   },
   {
    "duration": 17,
    "start_time": "2022-07-20T10:33:15.762Z"
   },
   {
    "duration": 1320,
    "start_time": "2022-07-20T10:33:15.781Z"
   },
   {
    "duration": 222,
    "start_time": "2022-07-20T10:33:17.103Z"
   },
   {
    "duration": 4,
    "start_time": "2022-07-20T10:33:17.327Z"
   },
   {
    "duration": 23289,
    "start_time": "2022-07-20T10:33:17.333Z"
   }
  ],
  "kernelspec": {
   "display_name": "Python 3 (ipykernel)",
   "language": "python",
   "name": "python3"
  },
  "language_info": {
   "codemirror_mode": {
    "name": "ipython",
    "version": 3
   },
   "file_extension": ".py",
   "mimetype": "text/x-python",
   "name": "python",
   "nbconvert_exporter": "python",
   "pygments_lexer": "ipython3",
   "version": "3.9.13"
  },
  "toc": {
   "base_numbering": 1,
   "nav_menu": {},
   "number_sections": true,
   "sideBar": true,
   "skip_h1_title": true,
   "title_cell": "Table of Contents",
   "title_sidebar": "Contents",
   "toc_cell": true,
   "toc_position": {
    "height": "calc(100% - 180px)",
    "left": "10px",
    "top": "150px",
    "width": "288px"
   },
   "toc_section_display": true,
   "toc_window_display": true
  }
 },
 "nbformat": 4,
 "nbformat_minor": 5
}
