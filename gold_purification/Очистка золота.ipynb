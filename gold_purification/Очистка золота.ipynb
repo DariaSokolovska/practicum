{
 "cells": [
  {
   "cell_type": "markdown",
   "id": "d69ccf13",
   "metadata": {
    "toc": true
   },
   "source": [
    "<h1>Table of Contents<span class=\"tocSkip\"></span></h1>\n",
    "<div class=\"toc\"><ul class=\"toc-item\"><li><span><a href=\"#Подготовка-данных\" data-toc-modified-id=\"Подготовка-данных-1\"><span class=\"toc-item-num\">1&nbsp;&nbsp;</span>Подготовка данных</a></span><ul class=\"toc-item\"><li><span><a href=\"#Проверка-рассчета-эфективности-обогащения\" data-toc-modified-id=\"Проверка-рассчета-эфективности-обогащения-1.1\"><span class=\"toc-item-num\">1.1&nbsp;&nbsp;</span>Проверка рассчета эфективности обогащения</a></span></li><li><span><a href=\"#Анализ-признаков,-недоступных-в-тестовой-выборке\" data-toc-modified-id=\"Анализ-признаков,-недоступных-в-тестовой-выборке-1.2\"><span class=\"toc-item-num\">1.2&nbsp;&nbsp;</span>Анализ признаков, недоступных в тестовой выборке</a></span></li><li><span><a href=\"#Предобработка-данных\" data-toc-modified-id=\"Предобработка-данных-1.3\"><span class=\"toc-item-num\">1.3&nbsp;&nbsp;</span>Предобработка данных</a></span></li></ul></li><li><span><a href=\"#Анализ-данных\" data-toc-modified-id=\"Анализ-данных-2\"><span class=\"toc-item-num\">2&nbsp;&nbsp;</span>Анализ данных</a></span><ul class=\"toc-item\"><li><span><a href=\"#Изучение-изменения-концентрации-металлов-(Au,-Ag,-Pb)-на-различных-этапах-очистки\" data-toc-modified-id=\"Изучение-изменения-концентрации-металлов-(Au,-Ag,-Pb)-на-различных-этапах-очистки-2.1\"><span class=\"toc-item-num\">2.1&nbsp;&nbsp;</span>Изучение изменения концентрации металлов (Au, Ag, Pb) на различных этапах очистки</a></span></li><li><span><a href=\"#Сравнение-распределения-размеров-гранул-сырья-на-обучающей-и-тестовой-выборках.\" data-toc-modified-id=\"Сравнение-распределения-размеров-гранул-сырья-на-обучающей-и-тестовой-выборках.-2.2\"><span class=\"toc-item-num\">2.2&nbsp;&nbsp;</span>Сравнение распределения размеров гранул сырья на обучающей и тестовой выборках.</a></span></li><li><span><a href=\"#Исследование-суммарной-концентрации-всех-веществ-на-разных-стадиях:-в-сырье,-в-черновом-и-финальном-концентратах.\" data-toc-modified-id=\"Исследование-суммарной-концентрации-всех-веществ-на-разных-стадиях:-в-сырье,-в-черновом-и-финальном-концентратах.-2.3\"><span class=\"toc-item-num\">2.3&nbsp;&nbsp;</span>Исследование суммарной концентрации всех веществ на разных стадиях: в сырье, в черновом и финальном концентратах.</a></span></li></ul></li><li><span><a href=\"#Построение-модели\" data-toc-modified-id=\"Построение-модели-3\"><span class=\"toc-item-num\">3&nbsp;&nbsp;</span>Построение модели</a></span><ul class=\"toc-item\"><li><span><a href=\"#Создание-функции-для-вычисления-итоговой-sMAPE\" data-toc-modified-id=\"Создание-функции-для-вычисления-итоговой-sMAPE-3.1\"><span class=\"toc-item-num\">3.1&nbsp;&nbsp;</span>Создание функции для вычисления итоговой sMAPE</a></span></li><li><span><a href=\"#Обучение-модели\" data-toc-modified-id=\"Обучение-модели-3.2\"><span class=\"toc-item-num\">3.2&nbsp;&nbsp;</span>Обучение модели</a></span><ul class=\"toc-item\"><li><span><a href=\"#Для-целевого-признака-'final.output.recovery'\" data-toc-modified-id=\"Для-целевого-признака-'final.output.recovery'-3.2.1\"><span class=\"toc-item-num\">3.2.1&nbsp;&nbsp;</span>Для целевого признака 'final.output.recovery'</a></span></li><li><span><a href=\"#Для-целевого-признака-'rougher.output.recovery'\" data-toc-modified-id=\"Для-целевого-признака-'rougher.output.recovery'-3.2.2\"><span class=\"toc-item-num\">3.2.2&nbsp;&nbsp;</span>Для целевого признака 'rougher.output.recovery'</a></span></li></ul></li></ul></li><li><span><a href=\"#Вывод\" data-toc-modified-id=\"Вывод-4\"><span class=\"toc-item-num\">4&nbsp;&nbsp;</span>Вывод</a></span></li></ul></div>"
   ]
  },
  {
   "cell_type": "markdown",
   "id": "ccd11499",
   "metadata": {},
   "source": [
    "# Восстановление золота из руды"
   ]
  },
  {
   "cell_type": "markdown",
   "id": "cc4b976b",
   "metadata": {},
   "source": [
    "Необходимо подготовить прототип модели машинного обучения для «Цифры». Компания разрабатывает решения для эффективной работы промышленных предприятий.\n",
    "\n",
    "Модель должна предсказать коэффициент восстановления золота из золотосодержащей руды и поможет оптимизировать производство, чтобы не запускать предприятие с убыточными характеристиками."
   ]
  },
  {
   "cell_type": "markdown",
   "id": "93321a15",
   "metadata": {},
   "source": [
    "## Подготовка данных"
   ]
  },
  {
   "cell_type": "code",
   "execution_count": 1,
   "id": "7f62166f",
   "metadata": {},
   "outputs": [],
   "source": [
    "# импортирую библиотеки\n",
    "import pandas as pd\n",
    "from sklearn.metrics import mean_absolute_error\n",
    "import matplotlib.pyplot as plt\n",
    "import numpy as np\n",
    "from scipy import stats as st\n",
    "from sklearn.linear_model import LinearRegression\n",
    "from sklearn.model_selection import train_test_split\n",
    "from sklearn.tree import DecisionTreeRegressor\n",
    "from sklearn.metrics import f1_score\n",
    "from sklearn.model_selection import cross_val_score\n",
    "from sklearn.ensemble import RandomForestRegressor\n",
    "from sklearn.model_selection import GridSearchCV\n",
    "from sklearn.metrics import make_scorer\n",
    "from sklearn.dummy import DummyRegressor"
   ]
  },
  {
   "cell_type": "code",
   "execution_count": 2,
   "id": "4aa8b66d",
   "metadata": {},
   "outputs": [],
   "source": [
    "# загружаю данные\n",
    "try:\n",
    "    df_full = pd.read_csv('/Users/dariasokolovska/Downloads/gold_recovery_full_new.csv')\n",
    "    df_test = pd.read_csv('/Users/dariasokolovska/Downloads/gold_recovery_test_new.csv')\n",
    "    df_train = pd.read_csv('/Users/dariasokolovska/Downloads/gold_recovery_train_new.csv')\n",
    "except:\n",
    "    df_full = pd.read_csv('/datasets/gold_recovery_full_new.csv')\n",
    "    df_test = pd.read_csv('/datasets/gold_recovery_test_new.csv')\n",
    "    df_train = pd.read_csv('/datasets/gold_recovery_train_new.csv')"
   ]
  },
  {
   "cell_type": "code",
   "execution_count": 3,
   "id": "61ed9e6a",
   "metadata": {},
   "outputs": [
    {
     "data": {
      "text/html": [
       "<div>\n",
       "<style scoped>\n",
       "    .dataframe tbody tr th:only-of-type {\n",
       "        vertical-align: middle;\n",
       "    }\n",
       "\n",
       "    .dataframe tbody tr th {\n",
       "        vertical-align: top;\n",
       "    }\n",
       "\n",
       "    .dataframe thead th {\n",
       "        text-align: right;\n",
       "    }\n",
       "</style>\n",
       "<table border=\"1\" class=\"dataframe\">\n",
       "  <thead>\n",
       "    <tr style=\"text-align: right;\">\n",
       "      <th></th>\n",
       "      <th>date</th>\n",
       "      <th>final.output.concentrate_ag</th>\n",
       "      <th>final.output.concentrate_pb</th>\n",
       "      <th>final.output.concentrate_sol</th>\n",
       "      <th>final.output.concentrate_au</th>\n",
       "      <th>final.output.recovery</th>\n",
       "      <th>final.output.tail_ag</th>\n",
       "      <th>final.output.tail_pb</th>\n",
       "      <th>final.output.tail_sol</th>\n",
       "      <th>final.output.tail_au</th>\n",
       "      <th>...</th>\n",
       "      <th>secondary_cleaner.state.floatbank4_a_air</th>\n",
       "      <th>secondary_cleaner.state.floatbank4_a_level</th>\n",
       "      <th>secondary_cleaner.state.floatbank4_b_air</th>\n",
       "      <th>secondary_cleaner.state.floatbank4_b_level</th>\n",
       "      <th>secondary_cleaner.state.floatbank5_a_air</th>\n",
       "      <th>secondary_cleaner.state.floatbank5_a_level</th>\n",
       "      <th>secondary_cleaner.state.floatbank5_b_air</th>\n",
       "      <th>secondary_cleaner.state.floatbank5_b_level</th>\n",
       "      <th>secondary_cleaner.state.floatbank6_a_air</th>\n",
       "      <th>secondary_cleaner.state.floatbank6_a_level</th>\n",
       "    </tr>\n",
       "  </thead>\n",
       "  <tbody>\n",
       "    <tr>\n",
       "      <th>0</th>\n",
       "      <td>2016-01-15 00:00:00</td>\n",
       "      <td>6.055403</td>\n",
       "      <td>9.889648</td>\n",
       "      <td>5.507324</td>\n",
       "      <td>42.192020</td>\n",
       "      <td>70.541216</td>\n",
       "      <td>10.411962</td>\n",
       "      <td>0.895447</td>\n",
       "      <td>16.904297</td>\n",
       "      <td>2.143149</td>\n",
       "      <td>...</td>\n",
       "      <td>14.016835</td>\n",
       "      <td>-502.488007</td>\n",
       "      <td>12.099931</td>\n",
       "      <td>-504.715942</td>\n",
       "      <td>9.925633</td>\n",
       "      <td>-498.310211</td>\n",
       "      <td>8.079666</td>\n",
       "      <td>-500.470978</td>\n",
       "      <td>14.151341</td>\n",
       "      <td>-605.841980</td>\n",
       "    </tr>\n",
       "    <tr>\n",
       "      <th>1</th>\n",
       "      <td>2016-01-15 01:00:00</td>\n",
       "      <td>6.029369</td>\n",
       "      <td>9.968944</td>\n",
       "      <td>5.257781</td>\n",
       "      <td>42.701629</td>\n",
       "      <td>69.266198</td>\n",
       "      <td>10.462676</td>\n",
       "      <td>0.927452</td>\n",
       "      <td>16.634514</td>\n",
       "      <td>2.224930</td>\n",
       "      <td>...</td>\n",
       "      <td>13.992281</td>\n",
       "      <td>-505.503262</td>\n",
       "      <td>11.950531</td>\n",
       "      <td>-501.331529</td>\n",
       "      <td>10.039245</td>\n",
       "      <td>-500.169983</td>\n",
       "      <td>7.984757</td>\n",
       "      <td>-500.582168</td>\n",
       "      <td>13.998353</td>\n",
       "      <td>-599.787184</td>\n",
       "    </tr>\n",
       "    <tr>\n",
       "      <th>2</th>\n",
       "      <td>2016-01-15 02:00:00</td>\n",
       "      <td>6.055926</td>\n",
       "      <td>10.213995</td>\n",
       "      <td>5.383759</td>\n",
       "      <td>42.657501</td>\n",
       "      <td>68.116445</td>\n",
       "      <td>10.507046</td>\n",
       "      <td>0.953716</td>\n",
       "      <td>16.208849</td>\n",
       "      <td>2.257889</td>\n",
       "      <td>...</td>\n",
       "      <td>14.015015</td>\n",
       "      <td>-502.520901</td>\n",
       "      <td>11.912783</td>\n",
       "      <td>-501.133383</td>\n",
       "      <td>10.070913</td>\n",
       "      <td>-500.129135</td>\n",
       "      <td>8.013877</td>\n",
       "      <td>-500.517572</td>\n",
       "      <td>14.028663</td>\n",
       "      <td>-601.427363</td>\n",
       "    </tr>\n",
       "    <tr>\n",
       "      <th>3</th>\n",
       "      <td>2016-01-15 03:00:00</td>\n",
       "      <td>6.047977</td>\n",
       "      <td>9.977019</td>\n",
       "      <td>4.858634</td>\n",
       "      <td>42.689819</td>\n",
       "      <td>68.347543</td>\n",
       "      <td>10.422762</td>\n",
       "      <td>0.883763</td>\n",
       "      <td>16.532835</td>\n",
       "      <td>2.146849</td>\n",
       "      <td>...</td>\n",
       "      <td>14.036510</td>\n",
       "      <td>-500.857308</td>\n",
       "      <td>11.999550</td>\n",
       "      <td>-501.193686</td>\n",
       "      <td>9.970366</td>\n",
       "      <td>-499.201640</td>\n",
       "      <td>7.977324</td>\n",
       "      <td>-500.255908</td>\n",
       "      <td>14.005551</td>\n",
       "      <td>-599.996129</td>\n",
       "    </tr>\n",
       "    <tr>\n",
       "      <th>4</th>\n",
       "      <td>2016-01-15 04:00:00</td>\n",
       "      <td>6.148599</td>\n",
       "      <td>10.142511</td>\n",
       "      <td>4.939416</td>\n",
       "      <td>42.774141</td>\n",
       "      <td>66.927016</td>\n",
       "      <td>10.360302</td>\n",
       "      <td>0.792826</td>\n",
       "      <td>16.525686</td>\n",
       "      <td>2.055292</td>\n",
       "      <td>...</td>\n",
       "      <td>14.027298</td>\n",
       "      <td>-499.838632</td>\n",
       "      <td>11.953070</td>\n",
       "      <td>-501.053894</td>\n",
       "      <td>9.925709</td>\n",
       "      <td>-501.686727</td>\n",
       "      <td>7.894242</td>\n",
       "      <td>-500.356035</td>\n",
       "      <td>13.996647</td>\n",
       "      <td>-601.496691</td>\n",
       "    </tr>\n",
       "  </tbody>\n",
       "</table>\n",
       "<p>5 rows × 87 columns</p>\n",
       "</div>"
      ],
      "text/plain": [
       "                  date  final.output.concentrate_ag  \\\n",
       "0  2016-01-15 00:00:00                     6.055403   \n",
       "1  2016-01-15 01:00:00                     6.029369   \n",
       "2  2016-01-15 02:00:00                     6.055926   \n",
       "3  2016-01-15 03:00:00                     6.047977   \n",
       "4  2016-01-15 04:00:00                     6.148599   \n",
       "\n",
       "   final.output.concentrate_pb  final.output.concentrate_sol  \\\n",
       "0                     9.889648                      5.507324   \n",
       "1                     9.968944                      5.257781   \n",
       "2                    10.213995                      5.383759   \n",
       "3                     9.977019                      4.858634   \n",
       "4                    10.142511                      4.939416   \n",
       "\n",
       "   final.output.concentrate_au  final.output.recovery  final.output.tail_ag  \\\n",
       "0                    42.192020              70.541216             10.411962   \n",
       "1                    42.701629              69.266198             10.462676   \n",
       "2                    42.657501              68.116445             10.507046   \n",
       "3                    42.689819              68.347543             10.422762   \n",
       "4                    42.774141              66.927016             10.360302   \n",
       "\n",
       "   final.output.tail_pb  final.output.tail_sol  final.output.tail_au  ...  \\\n",
       "0              0.895447              16.904297              2.143149  ...   \n",
       "1              0.927452              16.634514              2.224930  ...   \n",
       "2              0.953716              16.208849              2.257889  ...   \n",
       "3              0.883763              16.532835              2.146849  ...   \n",
       "4              0.792826              16.525686              2.055292  ...   \n",
       "\n",
       "   secondary_cleaner.state.floatbank4_a_air  \\\n",
       "0                                 14.016835   \n",
       "1                                 13.992281   \n",
       "2                                 14.015015   \n",
       "3                                 14.036510   \n",
       "4                                 14.027298   \n",
       "\n",
       "   secondary_cleaner.state.floatbank4_a_level  \\\n",
       "0                                 -502.488007   \n",
       "1                                 -505.503262   \n",
       "2                                 -502.520901   \n",
       "3                                 -500.857308   \n",
       "4                                 -499.838632   \n",
       "\n",
       "   secondary_cleaner.state.floatbank4_b_air  \\\n",
       "0                                 12.099931   \n",
       "1                                 11.950531   \n",
       "2                                 11.912783   \n",
       "3                                 11.999550   \n",
       "4                                 11.953070   \n",
       "\n",
       "   secondary_cleaner.state.floatbank4_b_level  \\\n",
       "0                                 -504.715942   \n",
       "1                                 -501.331529   \n",
       "2                                 -501.133383   \n",
       "3                                 -501.193686   \n",
       "4                                 -501.053894   \n",
       "\n",
       "   secondary_cleaner.state.floatbank5_a_air  \\\n",
       "0                                  9.925633   \n",
       "1                                 10.039245   \n",
       "2                                 10.070913   \n",
       "3                                  9.970366   \n",
       "4                                  9.925709   \n",
       "\n",
       "   secondary_cleaner.state.floatbank5_a_level  \\\n",
       "0                                 -498.310211   \n",
       "1                                 -500.169983   \n",
       "2                                 -500.129135   \n",
       "3                                 -499.201640   \n",
       "4                                 -501.686727   \n",
       "\n",
       "   secondary_cleaner.state.floatbank5_b_air  \\\n",
       "0                                  8.079666   \n",
       "1                                  7.984757   \n",
       "2                                  8.013877   \n",
       "3                                  7.977324   \n",
       "4                                  7.894242   \n",
       "\n",
       "   secondary_cleaner.state.floatbank5_b_level  \\\n",
       "0                                 -500.470978   \n",
       "1                                 -500.582168   \n",
       "2                                 -500.517572   \n",
       "3                                 -500.255908   \n",
       "4                                 -500.356035   \n",
       "\n",
       "   secondary_cleaner.state.floatbank6_a_air  \\\n",
       "0                                 14.151341   \n",
       "1                                 13.998353   \n",
       "2                                 14.028663   \n",
       "3                                 14.005551   \n",
       "4                                 13.996647   \n",
       "\n",
       "   secondary_cleaner.state.floatbank6_a_level  \n",
       "0                                 -605.841980  \n",
       "1                                 -599.787184  \n",
       "2                                 -601.427363  \n",
       "3                                 -599.996129  \n",
       "4                                 -601.496691  \n",
       "\n",
       "[5 rows x 87 columns]"
      ]
     },
     "metadata": {},
     "output_type": "display_data"
    },
    {
     "name": "stdout",
     "output_type": "stream",
     "text": [
      "<class 'pandas.core.frame.DataFrame'>\n",
      "RangeIndex: 19439 entries, 0 to 19438\n",
      "Data columns (total 87 columns):\n",
      " #   Column                                              Non-Null Count  Dtype  \n",
      "---  ------                                              --------------  -----  \n",
      " 0   date                                                19439 non-null  object \n",
      " 1   final.output.concentrate_ag                         19438 non-null  float64\n",
      " 2   final.output.concentrate_pb                         19438 non-null  float64\n",
      " 3   final.output.concentrate_sol                        19228 non-null  float64\n",
      " 4   final.output.concentrate_au                         19439 non-null  float64\n",
      " 5   final.output.recovery                               19439 non-null  float64\n",
      " 6   final.output.tail_ag                                19438 non-null  float64\n",
      " 7   final.output.tail_pb                                19338 non-null  float64\n",
      " 8   final.output.tail_sol                               19433 non-null  float64\n",
      " 9   final.output.tail_au                                19439 non-null  float64\n",
      " 10  primary_cleaner.input.sulfate                       19415 non-null  float64\n",
      " 11  primary_cleaner.input.depressant                    19402 non-null  float64\n",
      " 12  primary_cleaner.input.feed_size                     19439 non-null  float64\n",
      " 13  primary_cleaner.input.xanthate                      19335 non-null  float64\n",
      " 14  primary_cleaner.output.concentrate_ag               19439 non-null  float64\n",
      " 15  primary_cleaner.output.concentrate_pb               19323 non-null  float64\n",
      " 16  primary_cleaner.output.concentrate_sol              19069 non-null  float64\n",
      " 17  primary_cleaner.output.concentrate_au               19439 non-null  float64\n",
      " 18  primary_cleaner.output.tail_ag                      19435 non-null  float64\n",
      " 19  primary_cleaner.output.tail_pb                      19418 non-null  float64\n",
      " 20  primary_cleaner.output.tail_sol                     19377 non-null  float64\n",
      " 21  primary_cleaner.output.tail_au                      19439 non-null  float64\n",
      " 22  primary_cleaner.state.floatbank8_a_air              19435 non-null  float64\n",
      " 23  primary_cleaner.state.floatbank8_a_level            19438 non-null  float64\n",
      " 24  primary_cleaner.state.floatbank8_b_air              19435 non-null  float64\n",
      " 25  primary_cleaner.state.floatbank8_b_level            19438 non-null  float64\n",
      " 26  primary_cleaner.state.floatbank8_c_air              19437 non-null  float64\n",
      " 27  primary_cleaner.state.floatbank8_c_level            19438 non-null  float64\n",
      " 28  primary_cleaner.state.floatbank8_d_air              19436 non-null  float64\n",
      " 29  primary_cleaner.state.floatbank8_d_level            19438 non-null  float64\n",
      " 30  rougher.calculation.sulfate_to_au_concentrate       19437 non-null  float64\n",
      " 31  rougher.calculation.floatbank10_sulfate_to_au_feed  19437 non-null  float64\n",
      " 32  rougher.calculation.floatbank11_sulfate_to_au_feed  19437 non-null  float64\n",
      " 33  rougher.calculation.au_pb_ratio                     19439 non-null  float64\n",
      " 34  rougher.input.feed_ag                               19439 non-null  float64\n",
      " 35  rougher.input.feed_pb                               19339 non-null  float64\n",
      " 36  rougher.input.feed_rate                             19428 non-null  float64\n",
      " 37  rougher.input.feed_size                             19294 non-null  float64\n",
      " 38  rougher.input.feed_sol                              19340 non-null  float64\n",
      " 39  rougher.input.feed_au                               19439 non-null  float64\n",
      " 40  rougher.input.floatbank10_sulfate                   19405 non-null  float64\n",
      " 41  rougher.input.floatbank10_xanthate                  19431 non-null  float64\n",
      " 42  rougher.input.floatbank11_sulfate                   19395 non-null  float64\n",
      " 43  rougher.input.floatbank11_xanthate                  18986 non-null  float64\n",
      " 44  rougher.output.concentrate_ag                       19439 non-null  float64\n",
      " 45  rougher.output.concentrate_pb                       19439 non-null  float64\n",
      " 46  rougher.output.concentrate_sol                      19416 non-null  float64\n",
      " 47  rougher.output.concentrate_au                       19439 non-null  float64\n",
      " 48  rougher.output.recovery                             19439 non-null  float64\n",
      " 49  rougher.output.tail_ag                              19438 non-null  float64\n",
      " 50  rougher.output.tail_pb                              19439 non-null  float64\n",
      " 51  rougher.output.tail_sol                             19439 non-null  float64\n",
      " 52  rougher.output.tail_au                              19439 non-null  float64\n",
      " 53  rougher.state.floatbank10_a_air                     19438 non-null  float64\n",
      " 54  rougher.state.floatbank10_a_level                   19438 non-null  float64\n",
      " 55  rougher.state.floatbank10_b_air                     19438 non-null  float64\n",
      " 56  rougher.state.floatbank10_b_level                   19438 non-null  float64\n",
      " 57  rougher.state.floatbank10_c_air                     19438 non-null  float64\n",
      " 58  rougher.state.floatbank10_c_level                   19438 non-null  float64\n",
      " 59  rougher.state.floatbank10_d_air                     19439 non-null  float64\n",
      " 60  rougher.state.floatbank10_d_level                   19439 non-null  float64\n",
      " 61  rougher.state.floatbank10_e_air                     19003 non-null  float64\n",
      " 62  rougher.state.floatbank10_e_level                   19439 non-null  float64\n",
      " 63  rougher.state.floatbank10_f_air                     19439 non-null  float64\n",
      " 64  rougher.state.floatbank10_f_level                   19439 non-null  float64\n",
      " 65  secondary_cleaner.output.tail_ag                    19437 non-null  float64\n",
      " 66  secondary_cleaner.output.tail_pb                    19427 non-null  float64\n",
      " 67  secondary_cleaner.output.tail_sol                   17691 non-null  float64\n",
      " 68  secondary_cleaner.output.tail_au                    19439 non-null  float64\n",
      " 69  secondary_cleaner.state.floatbank2_a_air            19219 non-null  float64\n",
      " 70  secondary_cleaner.state.floatbank2_a_level          19438 non-null  float64\n",
      " 71  secondary_cleaner.state.floatbank2_b_air            19416 non-null  float64\n",
      " 72  secondary_cleaner.state.floatbank2_b_level          19438 non-null  float64\n",
      " 73  secondary_cleaner.state.floatbank3_a_air            19426 non-null  float64\n",
      " 74  secondary_cleaner.state.floatbank3_a_level          19438 non-null  float64\n",
      " 75  secondary_cleaner.state.floatbank3_b_air            19438 non-null  float64\n",
      " 76  secondary_cleaner.state.floatbank3_b_level          19438 non-null  float64\n",
      " 77  secondary_cleaner.state.floatbank4_a_air            19433 non-null  float64\n",
      " 78  secondary_cleaner.state.floatbank4_a_level          19438 non-null  float64\n",
      " 79  secondary_cleaner.state.floatbank4_b_air            19438 non-null  float64\n",
      " 80  secondary_cleaner.state.floatbank4_b_level          19438 non-null  float64\n",
      " 81  secondary_cleaner.state.floatbank5_a_air            19438 non-null  float64\n",
      " 82  secondary_cleaner.state.floatbank5_a_level          19438 non-null  float64\n",
      " 83  secondary_cleaner.state.floatbank5_b_air            19438 non-null  float64\n",
      " 84  secondary_cleaner.state.floatbank5_b_level          19438 non-null  float64\n",
      " 85  secondary_cleaner.state.floatbank6_a_air            19437 non-null  float64\n",
      " 86  secondary_cleaner.state.floatbank6_a_level          19438 non-null  float64\n",
      "dtypes: float64(86), object(1)\n",
      "memory usage: 12.9+ MB\n"
     ]
    }
   ],
   "source": [
    "# ознакамливаюсь с датасетом gold_recovery_full_new\n",
    "display(df_full.head(5))\n",
    "df_full.info()"
   ]
  },
  {
   "cell_type": "code",
   "execution_count": 4,
   "id": "5420f51c",
   "metadata": {},
   "outputs": [
    {
     "data": {
      "text/html": [
       "<div>\n",
       "<style scoped>\n",
       "    .dataframe tbody tr th:only-of-type {\n",
       "        vertical-align: middle;\n",
       "    }\n",
       "\n",
       "    .dataframe tbody tr th {\n",
       "        vertical-align: top;\n",
       "    }\n",
       "\n",
       "    .dataframe thead th {\n",
       "        text-align: right;\n",
       "    }\n",
       "</style>\n",
       "<table border=\"1\" class=\"dataframe\">\n",
       "  <thead>\n",
       "    <tr style=\"text-align: right;\">\n",
       "      <th></th>\n",
       "      <th>date</th>\n",
       "      <th>primary_cleaner.input.sulfate</th>\n",
       "      <th>primary_cleaner.input.depressant</th>\n",
       "      <th>primary_cleaner.input.feed_size</th>\n",
       "      <th>primary_cleaner.input.xanthate</th>\n",
       "      <th>primary_cleaner.state.floatbank8_a_air</th>\n",
       "      <th>primary_cleaner.state.floatbank8_a_level</th>\n",
       "      <th>primary_cleaner.state.floatbank8_b_air</th>\n",
       "      <th>primary_cleaner.state.floatbank8_b_level</th>\n",
       "      <th>primary_cleaner.state.floatbank8_c_air</th>\n",
       "      <th>...</th>\n",
       "      <th>secondary_cleaner.state.floatbank4_a_air</th>\n",
       "      <th>secondary_cleaner.state.floatbank4_a_level</th>\n",
       "      <th>secondary_cleaner.state.floatbank4_b_air</th>\n",
       "      <th>secondary_cleaner.state.floatbank4_b_level</th>\n",
       "      <th>secondary_cleaner.state.floatbank5_a_air</th>\n",
       "      <th>secondary_cleaner.state.floatbank5_a_level</th>\n",
       "      <th>secondary_cleaner.state.floatbank5_b_air</th>\n",
       "      <th>secondary_cleaner.state.floatbank5_b_level</th>\n",
       "      <th>secondary_cleaner.state.floatbank6_a_air</th>\n",
       "      <th>secondary_cleaner.state.floatbank6_a_level</th>\n",
       "    </tr>\n",
       "  </thead>\n",
       "  <tbody>\n",
       "    <tr>\n",
       "      <th>0</th>\n",
       "      <td>2016-09-01 00:59:59</td>\n",
       "      <td>210.800909</td>\n",
       "      <td>14.993118</td>\n",
       "      <td>8.080000</td>\n",
       "      <td>1.005021</td>\n",
       "      <td>1398.981301</td>\n",
       "      <td>-500.225577</td>\n",
       "      <td>1399.144926</td>\n",
       "      <td>-499.919735</td>\n",
       "      <td>1400.102998</td>\n",
       "      <td>...</td>\n",
       "      <td>12.023554</td>\n",
       "      <td>-497.795834</td>\n",
       "      <td>8.016656</td>\n",
       "      <td>-501.289139</td>\n",
       "      <td>7.946562</td>\n",
       "      <td>-432.317850</td>\n",
       "      <td>4.872511</td>\n",
       "      <td>-500.037437</td>\n",
       "      <td>26.705889</td>\n",
       "      <td>-499.709414</td>\n",
       "    </tr>\n",
       "    <tr>\n",
       "      <th>1</th>\n",
       "      <td>2016-09-01 01:59:59</td>\n",
       "      <td>215.392455</td>\n",
       "      <td>14.987471</td>\n",
       "      <td>8.080000</td>\n",
       "      <td>0.990469</td>\n",
       "      <td>1398.777912</td>\n",
       "      <td>-500.057435</td>\n",
       "      <td>1398.055362</td>\n",
       "      <td>-499.778182</td>\n",
       "      <td>1396.151033</td>\n",
       "      <td>...</td>\n",
       "      <td>12.058140</td>\n",
       "      <td>-498.695773</td>\n",
       "      <td>8.130979</td>\n",
       "      <td>-499.634209</td>\n",
       "      <td>7.958270</td>\n",
       "      <td>-525.839648</td>\n",
       "      <td>4.878850</td>\n",
       "      <td>-500.162375</td>\n",
       "      <td>25.019940</td>\n",
       "      <td>-499.819438</td>\n",
       "    </tr>\n",
       "    <tr>\n",
       "      <th>2</th>\n",
       "      <td>2016-09-01 02:59:59</td>\n",
       "      <td>215.259946</td>\n",
       "      <td>12.884934</td>\n",
       "      <td>7.786667</td>\n",
       "      <td>0.996043</td>\n",
       "      <td>1398.493666</td>\n",
       "      <td>-500.868360</td>\n",
       "      <td>1398.860436</td>\n",
       "      <td>-499.764529</td>\n",
       "      <td>1398.075709</td>\n",
       "      <td>...</td>\n",
       "      <td>11.962366</td>\n",
       "      <td>-498.767484</td>\n",
       "      <td>8.096893</td>\n",
       "      <td>-500.827423</td>\n",
       "      <td>8.071056</td>\n",
       "      <td>-500.801673</td>\n",
       "      <td>4.905125</td>\n",
       "      <td>-499.828510</td>\n",
       "      <td>24.994862</td>\n",
       "      <td>-500.622559</td>\n",
       "    </tr>\n",
       "    <tr>\n",
       "      <th>3</th>\n",
       "      <td>2016-09-01 03:59:59</td>\n",
       "      <td>215.336236</td>\n",
       "      <td>12.006805</td>\n",
       "      <td>7.640000</td>\n",
       "      <td>0.863514</td>\n",
       "      <td>1399.618111</td>\n",
       "      <td>-498.863574</td>\n",
       "      <td>1397.440120</td>\n",
       "      <td>-499.211024</td>\n",
       "      <td>1400.129303</td>\n",
       "      <td>...</td>\n",
       "      <td>12.033091</td>\n",
       "      <td>-498.350935</td>\n",
       "      <td>8.074946</td>\n",
       "      <td>-499.474407</td>\n",
       "      <td>7.897085</td>\n",
       "      <td>-500.868509</td>\n",
       "      <td>4.931400</td>\n",
       "      <td>-499.963623</td>\n",
       "      <td>24.948919</td>\n",
       "      <td>-498.709987</td>\n",
       "    </tr>\n",
       "    <tr>\n",
       "      <th>4</th>\n",
       "      <td>2016-09-01 04:59:59</td>\n",
       "      <td>199.099327</td>\n",
       "      <td>10.682530</td>\n",
       "      <td>7.530000</td>\n",
       "      <td>0.805575</td>\n",
       "      <td>1401.268123</td>\n",
       "      <td>-500.808305</td>\n",
       "      <td>1398.128818</td>\n",
       "      <td>-499.504543</td>\n",
       "      <td>1402.172226</td>\n",
       "      <td>...</td>\n",
       "      <td>12.025367</td>\n",
       "      <td>-500.786497</td>\n",
       "      <td>8.054678</td>\n",
       "      <td>-500.397500</td>\n",
       "      <td>8.107890</td>\n",
       "      <td>-509.526725</td>\n",
       "      <td>4.957674</td>\n",
       "      <td>-500.360026</td>\n",
       "      <td>25.003331</td>\n",
       "      <td>-500.856333</td>\n",
       "    </tr>\n",
       "  </tbody>\n",
       "</table>\n",
       "<p>5 rows × 53 columns</p>\n",
       "</div>"
      ],
      "text/plain": [
       "                  date  primary_cleaner.input.sulfate  \\\n",
       "0  2016-09-01 00:59:59                     210.800909   \n",
       "1  2016-09-01 01:59:59                     215.392455   \n",
       "2  2016-09-01 02:59:59                     215.259946   \n",
       "3  2016-09-01 03:59:59                     215.336236   \n",
       "4  2016-09-01 04:59:59                     199.099327   \n",
       "\n",
       "   primary_cleaner.input.depressant  primary_cleaner.input.feed_size  \\\n",
       "0                         14.993118                         8.080000   \n",
       "1                         14.987471                         8.080000   \n",
       "2                         12.884934                         7.786667   \n",
       "3                         12.006805                         7.640000   \n",
       "4                         10.682530                         7.530000   \n",
       "\n",
       "   primary_cleaner.input.xanthate  primary_cleaner.state.floatbank8_a_air  \\\n",
       "0                        1.005021                             1398.981301   \n",
       "1                        0.990469                             1398.777912   \n",
       "2                        0.996043                             1398.493666   \n",
       "3                        0.863514                             1399.618111   \n",
       "4                        0.805575                             1401.268123   \n",
       "\n",
       "   primary_cleaner.state.floatbank8_a_level  \\\n",
       "0                               -500.225577   \n",
       "1                               -500.057435   \n",
       "2                               -500.868360   \n",
       "3                               -498.863574   \n",
       "4                               -500.808305   \n",
       "\n",
       "   primary_cleaner.state.floatbank8_b_air  \\\n",
       "0                             1399.144926   \n",
       "1                             1398.055362   \n",
       "2                             1398.860436   \n",
       "3                             1397.440120   \n",
       "4                             1398.128818   \n",
       "\n",
       "   primary_cleaner.state.floatbank8_b_level  \\\n",
       "0                               -499.919735   \n",
       "1                               -499.778182   \n",
       "2                               -499.764529   \n",
       "3                               -499.211024   \n",
       "4                               -499.504543   \n",
       "\n",
       "   primary_cleaner.state.floatbank8_c_air  ...  \\\n",
       "0                             1400.102998  ...   \n",
       "1                             1396.151033  ...   \n",
       "2                             1398.075709  ...   \n",
       "3                             1400.129303  ...   \n",
       "4                             1402.172226  ...   \n",
       "\n",
       "   secondary_cleaner.state.floatbank4_a_air  \\\n",
       "0                                 12.023554   \n",
       "1                                 12.058140   \n",
       "2                                 11.962366   \n",
       "3                                 12.033091   \n",
       "4                                 12.025367   \n",
       "\n",
       "   secondary_cleaner.state.floatbank4_a_level  \\\n",
       "0                                 -497.795834   \n",
       "1                                 -498.695773   \n",
       "2                                 -498.767484   \n",
       "3                                 -498.350935   \n",
       "4                                 -500.786497   \n",
       "\n",
       "   secondary_cleaner.state.floatbank4_b_air  \\\n",
       "0                                  8.016656   \n",
       "1                                  8.130979   \n",
       "2                                  8.096893   \n",
       "3                                  8.074946   \n",
       "4                                  8.054678   \n",
       "\n",
       "   secondary_cleaner.state.floatbank4_b_level  \\\n",
       "0                                 -501.289139   \n",
       "1                                 -499.634209   \n",
       "2                                 -500.827423   \n",
       "3                                 -499.474407   \n",
       "4                                 -500.397500   \n",
       "\n",
       "   secondary_cleaner.state.floatbank5_a_air  \\\n",
       "0                                  7.946562   \n",
       "1                                  7.958270   \n",
       "2                                  8.071056   \n",
       "3                                  7.897085   \n",
       "4                                  8.107890   \n",
       "\n",
       "   secondary_cleaner.state.floatbank5_a_level  \\\n",
       "0                                 -432.317850   \n",
       "1                                 -525.839648   \n",
       "2                                 -500.801673   \n",
       "3                                 -500.868509   \n",
       "4                                 -509.526725   \n",
       "\n",
       "   secondary_cleaner.state.floatbank5_b_air  \\\n",
       "0                                  4.872511   \n",
       "1                                  4.878850   \n",
       "2                                  4.905125   \n",
       "3                                  4.931400   \n",
       "4                                  4.957674   \n",
       "\n",
       "   secondary_cleaner.state.floatbank5_b_level  \\\n",
       "0                                 -500.037437   \n",
       "1                                 -500.162375   \n",
       "2                                 -499.828510   \n",
       "3                                 -499.963623   \n",
       "4                                 -500.360026   \n",
       "\n",
       "   secondary_cleaner.state.floatbank6_a_air  \\\n",
       "0                                 26.705889   \n",
       "1                                 25.019940   \n",
       "2                                 24.994862   \n",
       "3                                 24.948919   \n",
       "4                                 25.003331   \n",
       "\n",
       "   secondary_cleaner.state.floatbank6_a_level  \n",
       "0                                 -499.709414  \n",
       "1                                 -499.819438  \n",
       "2                                 -500.622559  \n",
       "3                                 -498.709987  \n",
       "4                                 -500.856333  \n",
       "\n",
       "[5 rows x 53 columns]"
      ]
     },
     "metadata": {},
     "output_type": "display_data"
    },
    {
     "name": "stdout",
     "output_type": "stream",
     "text": [
      "<class 'pandas.core.frame.DataFrame'>\n",
      "RangeIndex: 5290 entries, 0 to 5289\n",
      "Data columns (total 53 columns):\n",
      " #   Column                                      Non-Null Count  Dtype  \n",
      "---  ------                                      --------------  -----  \n",
      " 0   date                                        5290 non-null   object \n",
      " 1   primary_cleaner.input.sulfate               5286 non-null   float64\n",
      " 2   primary_cleaner.input.depressant            5285 non-null   float64\n",
      " 3   primary_cleaner.input.feed_size             5290 non-null   float64\n",
      " 4   primary_cleaner.input.xanthate              5286 non-null   float64\n",
      " 5   primary_cleaner.state.floatbank8_a_air      5290 non-null   float64\n",
      " 6   primary_cleaner.state.floatbank8_a_level    5290 non-null   float64\n",
      " 7   primary_cleaner.state.floatbank8_b_air      5290 non-null   float64\n",
      " 8   primary_cleaner.state.floatbank8_b_level    5290 non-null   float64\n",
      " 9   primary_cleaner.state.floatbank8_c_air      5290 non-null   float64\n",
      " 10  primary_cleaner.state.floatbank8_c_level    5290 non-null   float64\n",
      " 11  primary_cleaner.state.floatbank8_d_air      5290 non-null   float64\n",
      " 12  primary_cleaner.state.floatbank8_d_level    5290 non-null   float64\n",
      " 13  rougher.input.feed_ag                       5290 non-null   float64\n",
      " 14  rougher.input.feed_pb                       5290 non-null   float64\n",
      " 15  rougher.input.feed_rate                     5287 non-null   float64\n",
      " 16  rougher.input.feed_size                     5289 non-null   float64\n",
      " 17  rougher.input.feed_sol                      5269 non-null   float64\n",
      " 18  rougher.input.feed_au                       5290 non-null   float64\n",
      " 19  rougher.input.floatbank10_sulfate           5285 non-null   float64\n",
      " 20  rougher.input.floatbank10_xanthate          5290 non-null   float64\n",
      " 21  rougher.input.floatbank11_sulfate           5282 non-null   float64\n",
      " 22  rougher.input.floatbank11_xanthate          5265 non-null   float64\n",
      " 23  rougher.state.floatbank10_a_air             5290 non-null   float64\n",
      " 24  rougher.state.floatbank10_a_level           5290 non-null   float64\n",
      " 25  rougher.state.floatbank10_b_air             5290 non-null   float64\n",
      " 26  rougher.state.floatbank10_b_level           5290 non-null   float64\n",
      " 27  rougher.state.floatbank10_c_air             5290 non-null   float64\n",
      " 28  rougher.state.floatbank10_c_level           5290 non-null   float64\n",
      " 29  rougher.state.floatbank10_d_air             5290 non-null   float64\n",
      " 30  rougher.state.floatbank10_d_level           5290 non-null   float64\n",
      " 31  rougher.state.floatbank10_e_air             5290 non-null   float64\n",
      " 32  rougher.state.floatbank10_e_level           5290 non-null   float64\n",
      " 33  rougher.state.floatbank10_f_air             5290 non-null   float64\n",
      " 34  rougher.state.floatbank10_f_level           5290 non-null   float64\n",
      " 35  secondary_cleaner.state.floatbank2_a_air    5287 non-null   float64\n",
      " 36  secondary_cleaner.state.floatbank2_a_level  5290 non-null   float64\n",
      " 37  secondary_cleaner.state.floatbank2_b_air    5288 non-null   float64\n",
      " 38  secondary_cleaner.state.floatbank2_b_level  5290 non-null   float64\n",
      " 39  secondary_cleaner.state.floatbank3_a_air    5281 non-null   float64\n",
      " 40  secondary_cleaner.state.floatbank3_a_level  5290 non-null   float64\n",
      " 41  secondary_cleaner.state.floatbank3_b_air    5290 non-null   float64\n",
      " 42  secondary_cleaner.state.floatbank3_b_level  5290 non-null   float64\n",
      " 43  secondary_cleaner.state.floatbank4_a_air    5290 non-null   float64\n",
      " 44  secondary_cleaner.state.floatbank4_a_level  5290 non-null   float64\n",
      " 45  secondary_cleaner.state.floatbank4_b_air    5290 non-null   float64\n",
      " 46  secondary_cleaner.state.floatbank4_b_level  5290 non-null   float64\n",
      " 47  secondary_cleaner.state.floatbank5_a_air    5290 non-null   float64\n",
      " 48  secondary_cleaner.state.floatbank5_a_level  5290 non-null   float64\n",
      " 49  secondary_cleaner.state.floatbank5_b_air    5290 non-null   float64\n",
      " 50  secondary_cleaner.state.floatbank5_b_level  5290 non-null   float64\n",
      " 51  secondary_cleaner.state.floatbank6_a_air    5290 non-null   float64\n",
      " 52  secondary_cleaner.state.floatbank6_a_level  5290 non-null   float64\n",
      "dtypes: float64(52), object(1)\n",
      "memory usage: 2.1+ MB\n"
     ]
    }
   ],
   "source": [
    "# ознакамливаюсь с датасетом gold_recovery_test_new\n",
    "display(df_test.head(5))\n",
    "df_test.info()"
   ]
  },
  {
   "cell_type": "code",
   "execution_count": 5,
   "id": "d9772af7",
   "metadata": {
    "scrolled": false
   },
   "outputs": [
    {
     "data": {
      "text/html": [
       "<div>\n",
       "<style scoped>\n",
       "    .dataframe tbody tr th:only-of-type {\n",
       "        vertical-align: middle;\n",
       "    }\n",
       "\n",
       "    .dataframe tbody tr th {\n",
       "        vertical-align: top;\n",
       "    }\n",
       "\n",
       "    .dataframe thead th {\n",
       "        text-align: right;\n",
       "    }\n",
       "</style>\n",
       "<table border=\"1\" class=\"dataframe\">\n",
       "  <thead>\n",
       "    <tr style=\"text-align: right;\">\n",
       "      <th></th>\n",
       "      <th>date</th>\n",
       "      <th>final.output.concentrate_ag</th>\n",
       "      <th>final.output.concentrate_pb</th>\n",
       "      <th>final.output.concentrate_sol</th>\n",
       "      <th>final.output.concentrate_au</th>\n",
       "      <th>final.output.recovery</th>\n",
       "      <th>final.output.tail_ag</th>\n",
       "      <th>final.output.tail_pb</th>\n",
       "      <th>final.output.tail_sol</th>\n",
       "      <th>final.output.tail_au</th>\n",
       "      <th>...</th>\n",
       "      <th>secondary_cleaner.state.floatbank4_a_air</th>\n",
       "      <th>secondary_cleaner.state.floatbank4_a_level</th>\n",
       "      <th>secondary_cleaner.state.floatbank4_b_air</th>\n",
       "      <th>secondary_cleaner.state.floatbank4_b_level</th>\n",
       "      <th>secondary_cleaner.state.floatbank5_a_air</th>\n",
       "      <th>secondary_cleaner.state.floatbank5_a_level</th>\n",
       "      <th>secondary_cleaner.state.floatbank5_b_air</th>\n",
       "      <th>secondary_cleaner.state.floatbank5_b_level</th>\n",
       "      <th>secondary_cleaner.state.floatbank6_a_air</th>\n",
       "      <th>secondary_cleaner.state.floatbank6_a_level</th>\n",
       "    </tr>\n",
       "  </thead>\n",
       "  <tbody>\n",
       "    <tr>\n",
       "      <th>0</th>\n",
       "      <td>2016-01-15 00:00:00</td>\n",
       "      <td>6.055403</td>\n",
       "      <td>9.889648</td>\n",
       "      <td>5.507324</td>\n",
       "      <td>42.192020</td>\n",
       "      <td>70.541216</td>\n",
       "      <td>10.411962</td>\n",
       "      <td>0.895447</td>\n",
       "      <td>16.904297</td>\n",
       "      <td>2.143149</td>\n",
       "      <td>...</td>\n",
       "      <td>14.016835</td>\n",
       "      <td>-502.488007</td>\n",
       "      <td>12.099931</td>\n",
       "      <td>-504.715942</td>\n",
       "      <td>9.925633</td>\n",
       "      <td>-498.310211</td>\n",
       "      <td>8.079666</td>\n",
       "      <td>-500.470978</td>\n",
       "      <td>14.151341</td>\n",
       "      <td>-605.841980</td>\n",
       "    </tr>\n",
       "    <tr>\n",
       "      <th>1</th>\n",
       "      <td>2016-01-15 01:00:00</td>\n",
       "      <td>6.029369</td>\n",
       "      <td>9.968944</td>\n",
       "      <td>5.257781</td>\n",
       "      <td>42.701629</td>\n",
       "      <td>69.266198</td>\n",
       "      <td>10.462676</td>\n",
       "      <td>0.927452</td>\n",
       "      <td>16.634514</td>\n",
       "      <td>2.224930</td>\n",
       "      <td>...</td>\n",
       "      <td>13.992281</td>\n",
       "      <td>-505.503262</td>\n",
       "      <td>11.950531</td>\n",
       "      <td>-501.331529</td>\n",
       "      <td>10.039245</td>\n",
       "      <td>-500.169983</td>\n",
       "      <td>7.984757</td>\n",
       "      <td>-500.582168</td>\n",
       "      <td>13.998353</td>\n",
       "      <td>-599.787184</td>\n",
       "    </tr>\n",
       "    <tr>\n",
       "      <th>2</th>\n",
       "      <td>2016-01-15 02:00:00</td>\n",
       "      <td>6.055926</td>\n",
       "      <td>10.213995</td>\n",
       "      <td>5.383759</td>\n",
       "      <td>42.657501</td>\n",
       "      <td>68.116445</td>\n",
       "      <td>10.507046</td>\n",
       "      <td>0.953716</td>\n",
       "      <td>16.208849</td>\n",
       "      <td>2.257889</td>\n",
       "      <td>...</td>\n",
       "      <td>14.015015</td>\n",
       "      <td>-502.520901</td>\n",
       "      <td>11.912783</td>\n",
       "      <td>-501.133383</td>\n",
       "      <td>10.070913</td>\n",
       "      <td>-500.129135</td>\n",
       "      <td>8.013877</td>\n",
       "      <td>-500.517572</td>\n",
       "      <td>14.028663</td>\n",
       "      <td>-601.427363</td>\n",
       "    </tr>\n",
       "    <tr>\n",
       "      <th>3</th>\n",
       "      <td>2016-01-15 03:00:00</td>\n",
       "      <td>6.047977</td>\n",
       "      <td>9.977019</td>\n",
       "      <td>4.858634</td>\n",
       "      <td>42.689819</td>\n",
       "      <td>68.347543</td>\n",
       "      <td>10.422762</td>\n",
       "      <td>0.883763</td>\n",
       "      <td>16.532835</td>\n",
       "      <td>2.146849</td>\n",
       "      <td>...</td>\n",
       "      <td>14.036510</td>\n",
       "      <td>-500.857308</td>\n",
       "      <td>11.999550</td>\n",
       "      <td>-501.193686</td>\n",
       "      <td>9.970366</td>\n",
       "      <td>-499.201640</td>\n",
       "      <td>7.977324</td>\n",
       "      <td>-500.255908</td>\n",
       "      <td>14.005551</td>\n",
       "      <td>-599.996129</td>\n",
       "    </tr>\n",
       "    <tr>\n",
       "      <th>4</th>\n",
       "      <td>2016-01-15 04:00:00</td>\n",
       "      <td>6.148599</td>\n",
       "      <td>10.142511</td>\n",
       "      <td>4.939416</td>\n",
       "      <td>42.774141</td>\n",
       "      <td>66.927016</td>\n",
       "      <td>10.360302</td>\n",
       "      <td>0.792826</td>\n",
       "      <td>16.525686</td>\n",
       "      <td>2.055292</td>\n",
       "      <td>...</td>\n",
       "      <td>14.027298</td>\n",
       "      <td>-499.838632</td>\n",
       "      <td>11.953070</td>\n",
       "      <td>-501.053894</td>\n",
       "      <td>9.925709</td>\n",
       "      <td>-501.686727</td>\n",
       "      <td>7.894242</td>\n",
       "      <td>-500.356035</td>\n",
       "      <td>13.996647</td>\n",
       "      <td>-601.496691</td>\n",
       "    </tr>\n",
       "  </tbody>\n",
       "</table>\n",
       "<p>5 rows × 87 columns</p>\n",
       "</div>"
      ],
      "text/plain": [
       "                  date  final.output.concentrate_ag  \\\n",
       "0  2016-01-15 00:00:00                     6.055403   \n",
       "1  2016-01-15 01:00:00                     6.029369   \n",
       "2  2016-01-15 02:00:00                     6.055926   \n",
       "3  2016-01-15 03:00:00                     6.047977   \n",
       "4  2016-01-15 04:00:00                     6.148599   \n",
       "\n",
       "   final.output.concentrate_pb  final.output.concentrate_sol  \\\n",
       "0                     9.889648                      5.507324   \n",
       "1                     9.968944                      5.257781   \n",
       "2                    10.213995                      5.383759   \n",
       "3                     9.977019                      4.858634   \n",
       "4                    10.142511                      4.939416   \n",
       "\n",
       "   final.output.concentrate_au  final.output.recovery  final.output.tail_ag  \\\n",
       "0                    42.192020              70.541216             10.411962   \n",
       "1                    42.701629              69.266198             10.462676   \n",
       "2                    42.657501              68.116445             10.507046   \n",
       "3                    42.689819              68.347543             10.422762   \n",
       "4                    42.774141              66.927016             10.360302   \n",
       "\n",
       "   final.output.tail_pb  final.output.tail_sol  final.output.tail_au  ...  \\\n",
       "0              0.895447              16.904297              2.143149  ...   \n",
       "1              0.927452              16.634514              2.224930  ...   \n",
       "2              0.953716              16.208849              2.257889  ...   \n",
       "3              0.883763              16.532835              2.146849  ...   \n",
       "4              0.792826              16.525686              2.055292  ...   \n",
       "\n",
       "   secondary_cleaner.state.floatbank4_a_air  \\\n",
       "0                                 14.016835   \n",
       "1                                 13.992281   \n",
       "2                                 14.015015   \n",
       "3                                 14.036510   \n",
       "4                                 14.027298   \n",
       "\n",
       "   secondary_cleaner.state.floatbank4_a_level  \\\n",
       "0                                 -502.488007   \n",
       "1                                 -505.503262   \n",
       "2                                 -502.520901   \n",
       "3                                 -500.857308   \n",
       "4                                 -499.838632   \n",
       "\n",
       "   secondary_cleaner.state.floatbank4_b_air  \\\n",
       "0                                 12.099931   \n",
       "1                                 11.950531   \n",
       "2                                 11.912783   \n",
       "3                                 11.999550   \n",
       "4                                 11.953070   \n",
       "\n",
       "   secondary_cleaner.state.floatbank4_b_level  \\\n",
       "0                                 -504.715942   \n",
       "1                                 -501.331529   \n",
       "2                                 -501.133383   \n",
       "3                                 -501.193686   \n",
       "4                                 -501.053894   \n",
       "\n",
       "   secondary_cleaner.state.floatbank5_a_air  \\\n",
       "0                                  9.925633   \n",
       "1                                 10.039245   \n",
       "2                                 10.070913   \n",
       "3                                  9.970366   \n",
       "4                                  9.925709   \n",
       "\n",
       "   secondary_cleaner.state.floatbank5_a_level  \\\n",
       "0                                 -498.310211   \n",
       "1                                 -500.169983   \n",
       "2                                 -500.129135   \n",
       "3                                 -499.201640   \n",
       "4                                 -501.686727   \n",
       "\n",
       "   secondary_cleaner.state.floatbank5_b_air  \\\n",
       "0                                  8.079666   \n",
       "1                                  7.984757   \n",
       "2                                  8.013877   \n",
       "3                                  7.977324   \n",
       "4                                  7.894242   \n",
       "\n",
       "   secondary_cleaner.state.floatbank5_b_level  \\\n",
       "0                                 -500.470978   \n",
       "1                                 -500.582168   \n",
       "2                                 -500.517572   \n",
       "3                                 -500.255908   \n",
       "4                                 -500.356035   \n",
       "\n",
       "   secondary_cleaner.state.floatbank6_a_air  \\\n",
       "0                                 14.151341   \n",
       "1                                 13.998353   \n",
       "2                                 14.028663   \n",
       "3                                 14.005551   \n",
       "4                                 13.996647   \n",
       "\n",
       "   secondary_cleaner.state.floatbank6_a_level  \n",
       "0                                 -605.841980  \n",
       "1                                 -599.787184  \n",
       "2                                 -601.427363  \n",
       "3                                 -599.996129  \n",
       "4                                 -601.496691  \n",
       "\n",
       "[5 rows x 87 columns]"
      ]
     },
     "metadata": {},
     "output_type": "display_data"
    },
    {
     "name": "stdout",
     "output_type": "stream",
     "text": [
      "<class 'pandas.core.frame.DataFrame'>\n",
      "RangeIndex: 14149 entries, 0 to 14148\n",
      "Data columns (total 87 columns):\n",
      " #   Column                                              Non-Null Count  Dtype  \n",
      "---  ------                                              --------------  -----  \n",
      " 0   date                                                14149 non-null  object \n",
      " 1   final.output.concentrate_ag                         14148 non-null  float64\n",
      " 2   final.output.concentrate_pb                         14148 non-null  float64\n",
      " 3   final.output.concentrate_sol                        13938 non-null  float64\n",
      " 4   final.output.concentrate_au                         14149 non-null  float64\n",
      " 5   final.output.recovery                               14149 non-null  float64\n",
      " 6   final.output.tail_ag                                14149 non-null  float64\n",
      " 7   final.output.tail_pb                                14049 non-null  float64\n",
      " 8   final.output.tail_sol                               14144 non-null  float64\n",
      " 9   final.output.tail_au                                14149 non-null  float64\n",
      " 10  primary_cleaner.input.sulfate                       14129 non-null  float64\n",
      " 11  primary_cleaner.input.depressant                    14117 non-null  float64\n",
      " 12  primary_cleaner.input.feed_size                     14149 non-null  float64\n",
      " 13  primary_cleaner.input.xanthate                      14049 non-null  float64\n",
      " 14  primary_cleaner.output.concentrate_ag               14149 non-null  float64\n",
      " 15  primary_cleaner.output.concentrate_pb               14063 non-null  float64\n",
      " 16  primary_cleaner.output.concentrate_sol              13863 non-null  float64\n",
      " 17  primary_cleaner.output.concentrate_au               14149 non-null  float64\n",
      " 18  primary_cleaner.output.tail_ag                      14148 non-null  float64\n",
      " 19  primary_cleaner.output.tail_pb                      14134 non-null  float64\n",
      " 20  primary_cleaner.output.tail_sol                     14103 non-null  float64\n",
      " 21  primary_cleaner.output.tail_au                      14149 non-null  float64\n",
      " 22  primary_cleaner.state.floatbank8_a_air              14145 non-null  float64\n",
      " 23  primary_cleaner.state.floatbank8_a_level            14148 non-null  float64\n",
      " 24  primary_cleaner.state.floatbank8_b_air              14145 non-null  float64\n",
      " 25  primary_cleaner.state.floatbank8_b_level            14148 non-null  float64\n",
      " 26  primary_cleaner.state.floatbank8_c_air              14147 non-null  float64\n",
      " 27  primary_cleaner.state.floatbank8_c_level            14148 non-null  float64\n",
      " 28  primary_cleaner.state.floatbank8_d_air              14146 non-null  float64\n",
      " 29  primary_cleaner.state.floatbank8_d_level            14148 non-null  float64\n",
      " 30  rougher.calculation.sulfate_to_au_concentrate       14148 non-null  float64\n",
      " 31  rougher.calculation.floatbank10_sulfate_to_au_feed  14148 non-null  float64\n",
      " 32  rougher.calculation.floatbank11_sulfate_to_au_feed  14148 non-null  float64\n",
      " 33  rougher.calculation.au_pb_ratio                     14149 non-null  float64\n",
      " 34  rougher.input.feed_ag                               14149 non-null  float64\n",
      " 35  rougher.input.feed_pb                               14049 non-null  float64\n",
      " 36  rougher.input.feed_rate                             14141 non-null  float64\n",
      " 37  rougher.input.feed_size                             14005 non-null  float64\n",
      " 38  rougher.input.feed_sol                              14071 non-null  float64\n",
      " 39  rougher.input.feed_au                               14149 non-null  float64\n",
      " 40  rougher.input.floatbank10_sulfate                   14120 non-null  float64\n",
      " 41  rougher.input.floatbank10_xanthate                  14141 non-null  float64\n",
      " 42  rougher.input.floatbank11_sulfate                   14113 non-null  float64\n",
      " 43  rougher.input.floatbank11_xanthate                  13721 non-null  float64\n",
      " 44  rougher.output.concentrate_ag                       14149 non-null  float64\n",
      " 45  rougher.output.concentrate_pb                       14149 non-null  float64\n",
      " 46  rougher.output.concentrate_sol                      14127 non-null  float64\n",
      " 47  rougher.output.concentrate_au                       14149 non-null  float64\n",
      " 48  rougher.output.recovery                             14149 non-null  float64\n",
      " 49  rougher.output.tail_ag                              14148 non-null  float64\n",
      " 50  rougher.output.tail_pb                              14149 non-null  float64\n",
      " 51  rougher.output.tail_sol                             14149 non-null  float64\n",
      " 52  rougher.output.tail_au                              14149 non-null  float64\n",
      " 53  rougher.state.floatbank10_a_air                     14148 non-null  float64\n",
      " 54  rougher.state.floatbank10_a_level                   14148 non-null  float64\n",
      " 55  rougher.state.floatbank10_b_air                     14148 non-null  float64\n",
      " 56  rougher.state.floatbank10_b_level                   14148 non-null  float64\n",
      " 57  rougher.state.floatbank10_c_air                     14148 non-null  float64\n",
      " 58  rougher.state.floatbank10_c_level                   14148 non-null  float64\n",
      " 59  rougher.state.floatbank10_d_air                     14149 non-null  float64\n",
      " 60  rougher.state.floatbank10_d_level                   14149 non-null  float64\n",
      " 61  rougher.state.floatbank10_e_air                     13713 non-null  float64\n",
      " 62  rougher.state.floatbank10_e_level                   14149 non-null  float64\n",
      " 63  rougher.state.floatbank10_f_air                     14149 non-null  float64\n",
      " 64  rougher.state.floatbank10_f_level                   14149 non-null  float64\n",
      " 65  secondary_cleaner.output.tail_ag                    14147 non-null  float64\n",
      " 66  secondary_cleaner.output.tail_pb                    14139 non-null  float64\n",
      " 67  secondary_cleaner.output.tail_sol                   12544 non-null  float64\n",
      " 68  secondary_cleaner.output.tail_au                    14149 non-null  float64\n",
      " 69  secondary_cleaner.state.floatbank2_a_air            13932 non-null  float64\n",
      " 70  secondary_cleaner.state.floatbank2_a_level          14148 non-null  float64\n",
      " 71  secondary_cleaner.state.floatbank2_b_air            14128 non-null  float64\n",
      " 72  secondary_cleaner.state.floatbank2_b_level          14148 non-null  float64\n",
      " 73  secondary_cleaner.state.floatbank3_a_air            14145 non-null  float64\n",
      " 74  secondary_cleaner.state.floatbank3_a_level          14148 non-null  float64\n",
      " 75  secondary_cleaner.state.floatbank3_b_air            14148 non-null  float64\n",
      " 76  secondary_cleaner.state.floatbank3_b_level          14148 non-null  float64\n",
      " 77  secondary_cleaner.state.floatbank4_a_air            14143 non-null  float64\n",
      " 78  secondary_cleaner.state.floatbank4_a_level          14148 non-null  float64\n",
      " 79  secondary_cleaner.state.floatbank4_b_air            14148 non-null  float64\n",
      " 80  secondary_cleaner.state.floatbank4_b_level          14148 non-null  float64\n",
      " 81  secondary_cleaner.state.floatbank5_a_air            14148 non-null  float64\n",
      " 82  secondary_cleaner.state.floatbank5_a_level          14148 non-null  float64\n",
      " 83  secondary_cleaner.state.floatbank5_b_air            14148 non-null  float64\n",
      " 84  secondary_cleaner.state.floatbank5_b_level          14148 non-null  float64\n",
      " 85  secondary_cleaner.state.floatbank6_a_air            14147 non-null  float64\n",
      " 86  secondary_cleaner.state.floatbank6_a_level          14148 non-null  float64\n",
      "dtypes: float64(86), object(1)\n",
      "memory usage: 9.4+ MB\n"
     ]
    }
   ],
   "source": [
    "# ознакамливаюсь с датасетом gold_recovery_train_new\n",
    "display(df_train.head(5))\n",
    "df_train.info()"
   ]
  },
  {
   "cell_type": "markdown",
   "id": "312fa854",
   "metadata": {},
   "source": [
    "<font color='blue'><b>Комментарий ревьюера: </b></font> ✔️\\\n",
    "<font color='green'>Данные загружены корректно, первичный осмотр проведен.</font>"
   ]
  },
  {
   "cell_type": "markdown",
   "id": "2ea32874",
   "metadata": {},
   "source": [
    "### Проверка рассчета эфективности обогащения"
   ]
  },
  {
   "cell_type": "code",
   "execution_count": 6,
   "id": "5d9ce8b9",
   "metadata": {},
   "outputs": [],
   "source": [
    "# создаю функцию для рассчета эффективности обогащения\n",
    "def recovery(row):\n",
    "    (input_au, output_au, output_tail) = (row['rougher.input.feed_au'], row['rougher.output.concentrate_au'], row['rougher.output.tail_au'])\n",
    "    recovery_metric = (output_au * (input_au - output_tail)) / (input_au * (output_au - output_tail)) * 100\n",
    "    return recovery_metric"
   ]
  },
  {
   "cell_type": "code",
   "execution_count": 7,
   "id": "c5658ae9",
   "metadata": {},
   "outputs": [],
   "source": [
    "# рассчитываю эффективность обогащения и добавляю данные отдельным столбцом в датасет\n",
    "df_train['rougher.output.recovery.calculated'] = df_train.apply(recovery, axis = 1)"
   ]
  },
  {
   "cell_type": "code",
   "execution_count": 8,
   "id": "97958d47",
   "metadata": {},
   "outputs": [
    {
     "data": {
      "text/html": [
       "<div>\n",
       "<style scoped>\n",
       "    .dataframe tbody tr th:only-of-type {\n",
       "        vertical-align: middle;\n",
       "    }\n",
       "\n",
       "    .dataframe tbody tr th {\n",
       "        vertical-align: top;\n",
       "    }\n",
       "\n",
       "    .dataframe thead th {\n",
       "        text-align: right;\n",
       "    }\n",
       "</style>\n",
       "<table border=\"1\" class=\"dataframe\">\n",
       "  <thead>\n",
       "    <tr style=\"text-align: right;\">\n",
       "      <th></th>\n",
       "      <th>rougher.output.recovery.calculated</th>\n",
       "      <th>rougher.output.recovery</th>\n",
       "    </tr>\n",
       "  </thead>\n",
       "  <tbody>\n",
       "    <tr>\n",
       "      <th>0</th>\n",
       "      <td>87.107763</td>\n",
       "      <td>87.107763</td>\n",
       "    </tr>\n",
       "    <tr>\n",
       "      <th>1</th>\n",
       "      <td>86.843261</td>\n",
       "      <td>86.843261</td>\n",
       "    </tr>\n",
       "    <tr>\n",
       "      <th>2</th>\n",
       "      <td>86.842308</td>\n",
       "      <td>86.842308</td>\n",
       "    </tr>\n",
       "    <tr>\n",
       "      <th>3</th>\n",
       "      <td>87.226430</td>\n",
       "      <td>87.226430</td>\n",
       "    </tr>\n",
       "    <tr>\n",
       "      <th>4</th>\n",
       "      <td>86.688794</td>\n",
       "      <td>86.688794</td>\n",
       "    </tr>\n",
       "    <tr>\n",
       "      <th>...</th>\n",
       "      <td>...</td>\n",
       "      <td>...</td>\n",
       "    </tr>\n",
       "    <tr>\n",
       "      <th>14144</th>\n",
       "      <td>89.574376</td>\n",
       "      <td>89.574376</td>\n",
       "    </tr>\n",
       "    <tr>\n",
       "      <th>14145</th>\n",
       "      <td>87.724007</td>\n",
       "      <td>87.724007</td>\n",
       "    </tr>\n",
       "    <tr>\n",
       "      <th>14146</th>\n",
       "      <td>88.890579</td>\n",
       "      <td>88.890579</td>\n",
       "    </tr>\n",
       "    <tr>\n",
       "      <th>14147</th>\n",
       "      <td>89.858126</td>\n",
       "      <td>89.858126</td>\n",
       "    </tr>\n",
       "    <tr>\n",
       "      <th>14148</th>\n",
       "      <td>89.514960</td>\n",
       "      <td>89.514960</td>\n",
       "    </tr>\n",
       "  </tbody>\n",
       "</table>\n",
       "<p>14149 rows × 2 columns</p>\n",
       "</div>"
      ],
      "text/plain": [
       "       rougher.output.recovery.calculated  rougher.output.recovery\n",
       "0                               87.107763                87.107763\n",
       "1                               86.843261                86.843261\n",
       "2                               86.842308                86.842308\n",
       "3                               87.226430                87.226430\n",
       "4                               86.688794                86.688794\n",
       "...                                   ...                      ...\n",
       "14144                           89.574376                89.574376\n",
       "14145                           87.724007                87.724007\n",
       "14146                           88.890579                88.890579\n",
       "14147                           89.858126                89.858126\n",
       "14148                           89.514960                89.514960\n",
       "\n",
       "[14149 rows x 2 columns]"
      ]
     },
     "metadata": {},
     "output_type": "display_data"
    }
   ],
   "source": [
    "# просматриваю исходное значение и расчитанное\n",
    "display(df_train[['rougher.output.recovery.calculated','rougher.output.recovery']])"
   ]
  },
  {
   "cell_type": "code",
   "execution_count": 9,
   "id": "0f5e13b9",
   "metadata": {},
   "outputs": [
    {
     "data": {
      "text/plain": [
       "9.73512347450521e-15"
      ]
     },
     "execution_count": 9,
     "metadata": {},
     "output_type": "execute_result"
    }
   ],
   "source": [
    "# вычисляю MAE между моими расчётами и значением признака\n",
    "mean_absolute_error(df_train['rougher.output.recovery'], df_train['rougher.output.recovery.calculated'])"
   ]
  },
  {
   "cell_type": "markdown",
   "id": "d7a433ef",
   "metadata": {},
   "source": [
    "MAE имеет очень малое отклонение. Эффективность обогащения рассчитана правильно"
   ]
  },
  {
   "cell_type": "markdown",
   "id": "a2c5bb6d",
   "metadata": {},
   "source": [
    "### Анализ признаков, недоступных в тестовой выборке"
   ]
  },
  {
   "cell_type": "code",
   "execution_count": 10,
   "id": "02179c50",
   "metadata": {},
   "outputs": [
    {
     "data": {
      "text/plain": [
       "Index(['final.output.concentrate_ag', 'final.output.concentrate_pb',\n",
       "       'final.output.concentrate_sol', 'final.output.concentrate_au',\n",
       "       'final.output.recovery', 'final.output.tail_ag', 'final.output.tail_pb',\n",
       "       'final.output.tail_sol', 'final.output.tail_au',\n",
       "       'primary_cleaner.output.concentrate_ag',\n",
       "       'primary_cleaner.output.concentrate_pb',\n",
       "       'primary_cleaner.output.concentrate_sol',\n",
       "       'primary_cleaner.output.concentrate_au',\n",
       "       'primary_cleaner.output.tail_ag', 'primary_cleaner.output.tail_pb',\n",
       "       'primary_cleaner.output.tail_sol', 'primary_cleaner.output.tail_au',\n",
       "       'rougher.calculation.sulfate_to_au_concentrate',\n",
       "       'rougher.calculation.floatbank10_sulfate_to_au_feed',\n",
       "       'rougher.calculation.floatbank11_sulfate_to_au_feed',\n",
       "       'rougher.calculation.au_pb_ratio', 'rougher.output.concentrate_ag',\n",
       "       'rougher.output.concentrate_pb', 'rougher.output.concentrate_sol',\n",
       "       'rougher.output.concentrate_au', 'rougher.output.recovery',\n",
       "       'rougher.output.tail_ag', 'rougher.output.tail_pb',\n",
       "       'rougher.output.tail_sol', 'rougher.output.tail_au',\n",
       "       'secondary_cleaner.output.tail_ag', 'secondary_cleaner.output.tail_pb',\n",
       "       'secondary_cleaner.output.tail_sol', 'secondary_cleaner.output.tail_au',\n",
       "       'rougher.output.recovery.calculated'],\n",
       "      dtype='object')"
      ]
     },
     "execution_count": 10,
     "metadata": {},
     "output_type": "execute_result"
    }
   ],
   "source": [
    "# вычисляю каких признаков нет в тестовой выборке по сравнению с тренировочной\n",
    "test_absent_columns = df_train.columns.drop(df_test.columns)\n",
    "test_absent_columns"
   ]
  },
  {
   "cell_type": "markdown",
   "id": "21f113ee",
   "metadata": {},
   "source": [
    "Пропущено 34 признака. Отсутствуют все этапы на которых были получены параметры продукта из сырья: rougher.output, rougher.calculation, final.output, primary_cleaner.output и secondary_cleaner.output. Эти данные будут получены по результатам технологического процесса. Это говорит нам о том, что мы должны удалить из тренировочной выборки эти признаки для построения можели, которую можно будет проверить."
   ]
  },
  {
   "cell_type": "markdown",
   "id": "828cff51",
   "metadata": {},
   "source": [
    "### Предобработка данных"
   ]
  },
  {
   "cell_type": "markdown",
   "id": "d3d7ff59",
   "metadata": {},
   "source": [
    "Проверим наличие дубликатов"
   ]
  },
  {
   "cell_type": "code",
   "execution_count": 11,
   "id": "4406c9f3",
   "metadata": {},
   "outputs": [
    {
     "data": {
      "text/plain": [
       "0"
      ]
     },
     "execution_count": 11,
     "metadata": {},
     "output_type": "execute_result"
    }
   ],
   "source": [
    "df_full.duplicated().sum()"
   ]
  },
  {
   "cell_type": "code",
   "execution_count": 12,
   "id": "3cdfb3e8",
   "metadata": {
    "scrolled": true
   },
   "outputs": [
    {
     "data": {
      "text/plain": [
       "0"
      ]
     },
     "execution_count": 12,
     "metadata": {},
     "output_type": "execute_result"
    }
   ],
   "source": [
    "df_train.duplicated().sum()"
   ]
  },
  {
   "cell_type": "code",
   "execution_count": 13,
   "id": "1d63cf11",
   "metadata": {
    "scrolled": true
   },
   "outputs": [
    {
     "data": {
      "text/plain": [
       "0"
      ]
     },
     "execution_count": 13,
     "metadata": {},
     "output_type": "execute_result"
    }
   ],
   "source": [
    "df_test.duplicated().sum()"
   ]
  },
  {
   "cell_type": "markdown",
   "id": "ad30c92f",
   "metadata": {},
   "source": [
    "Удалим признаки в обучающей выборке, которых нет в тестовой выборке, но сохраним целевые признаки для дальнейшего обучения модели."
   ]
  },
  {
   "cell_type": "code",
   "execution_count": 14,
   "id": "03991e5d",
   "metadata": {},
   "outputs": [],
   "source": [
    "test_absent_columns = test_absent_columns.drop(['final.output.recovery', 'rougher.output.recovery'])"
   ]
  },
  {
   "cell_type": "code",
   "execution_count": 15,
   "id": "4e8801ee",
   "metadata": {},
   "outputs": [
    {
     "data": {
      "text/plain": [
       "Index(['final.output.concentrate_ag', 'final.output.concentrate_pb',\n",
       "       'final.output.concentrate_sol', 'final.output.concentrate_au',\n",
       "       'final.output.tail_ag', 'final.output.tail_pb', 'final.output.tail_sol',\n",
       "       'final.output.tail_au', 'primary_cleaner.output.concentrate_ag',\n",
       "       'primary_cleaner.output.concentrate_pb',\n",
       "       'primary_cleaner.output.concentrate_sol',\n",
       "       'primary_cleaner.output.concentrate_au',\n",
       "       'primary_cleaner.output.tail_ag', 'primary_cleaner.output.tail_pb',\n",
       "       'primary_cleaner.output.tail_sol', 'primary_cleaner.output.tail_au',\n",
       "       'rougher.calculation.sulfate_to_au_concentrate',\n",
       "       'rougher.calculation.floatbank10_sulfate_to_au_feed',\n",
       "       'rougher.calculation.floatbank11_sulfate_to_au_feed',\n",
       "       'rougher.calculation.au_pb_ratio', 'rougher.output.concentrate_ag',\n",
       "       'rougher.output.concentrate_pb', 'rougher.output.concentrate_sol',\n",
       "       'rougher.output.concentrate_au', 'rougher.output.tail_ag',\n",
       "       'rougher.output.tail_pb', 'rougher.output.tail_sol',\n",
       "       'rougher.output.tail_au', 'secondary_cleaner.output.tail_ag',\n",
       "       'secondary_cleaner.output.tail_pb', 'secondary_cleaner.output.tail_sol',\n",
       "       'secondary_cleaner.output.tail_au',\n",
       "       'rougher.output.recovery.calculated'],\n",
       "      dtype='object')"
      ]
     },
     "execution_count": 15,
     "metadata": {},
     "output_type": "execute_result"
    }
   ],
   "source": [
    "test_absent_columns"
   ]
  },
  {
   "cell_type": "code",
   "execution_count": 16,
   "id": "19b14b2b",
   "metadata": {},
   "outputs": [],
   "source": [
    "df_train = df_train.drop(test_absent_columns, axis=1)"
   ]
  },
  {
   "cell_type": "markdown",
   "id": "b7a80420",
   "metadata": {},
   "source": [
    "Проверим наличие пропусков в данных"
   ]
  },
  {
   "cell_type": "code",
   "execution_count": 17,
   "id": "92e541f9",
   "metadata": {
    "scrolled": true
   },
   "outputs": [
    {
     "data": {
      "text/plain": [
       "1705"
      ]
     },
     "metadata": {},
     "output_type": "display_data"
    }
   ],
   "source": [
    "display(df_train.isna().sum().sum())"
   ]
  },
  {
   "cell_type": "code",
   "execution_count": 18,
   "id": "ad6b2f70",
   "metadata": {
    "scrolled": true
   },
   "outputs": [
    {
     "data": {
      "text/plain": [
       "90"
      ]
     },
     "metadata": {},
     "output_type": "display_data"
    }
   ],
   "source": [
    "display(df_test.isna().sum().sum())"
   ]
  },
  {
   "cell_type": "code",
   "execution_count": 19,
   "id": "bc013275",
   "metadata": {},
   "outputs": [
    {
     "data": {
      "text/plain": [
       "4481"
      ]
     },
     "metadata": {},
     "output_type": "display_data"
    }
   ],
   "source": [
    "display(df_full.isna().sum().sum())"
   ]
  },
  {
   "cell_type": "markdown",
   "id": "f32f2189",
   "metadata": {},
   "source": [
    "Так как соседние по времени параметры часто похожи, сделаем замену пропусков в данных."
   ]
  },
  {
   "cell_type": "code",
   "execution_count": 20,
   "id": "69c1ed5d",
   "metadata": {},
   "outputs": [],
   "source": [
    "df_train = df_train.fillna(method = 'backfill')\n",
    "df_test = df_test.fillna(method = 'backfill')\n",
    "df_full = df_full.fillna(method = 'backfill')"
   ]
  },
  {
   "cell_type": "markdown",
   "id": "ef2c9a10",
   "metadata": {},
   "source": [
    "Добавим в тестовую выборку значения целевых признаков"
   ]
  },
  {
   "cell_type": "code",
   "execution_count": 21,
   "id": "d0525bb4",
   "metadata": {},
   "outputs": [],
   "source": [
    "df_target = df_full[['date','final.output.recovery', 'rougher.output.recovery']]"
   ]
  },
  {
   "cell_type": "code",
   "execution_count": 22,
   "id": "c917b151",
   "metadata": {},
   "outputs": [],
   "source": [
    "df_test = df_test.merge(df_target, how = 'left', on = 'date')"
   ]
  },
  {
   "cell_type": "markdown",
   "id": "17e11bcc",
   "metadata": {},
   "source": [
    "## Анализ данных"
   ]
  },
  {
   "cell_type": "markdown",
   "id": "151c167e",
   "metadata": {},
   "source": [
    "### Изучение изменения концентрации металлов (Au, Ag, Pb) на различных этапах очистки"
   ]
  },
  {
   "cell_type": "code",
   "execution_count": 23,
   "id": "f8327e00",
   "metadata": {},
   "outputs": [
    {
     "name": "stdout",
     "output_type": "stream",
     "text": [
      "<class 'pandas.core.frame.DataFrame'>\n",
      "RangeIndex: 19439 entries, 0 to 19438\n",
      "Data columns (total 87 columns):\n",
      " #   Column                                              Non-Null Count  Dtype  \n",
      "---  ------                                              --------------  -----  \n",
      " 0   date                                                19439 non-null  object \n",
      " 1   final.output.concentrate_ag                         19439 non-null  float64\n",
      " 2   final.output.concentrate_pb                         19439 non-null  float64\n",
      " 3   final.output.concentrate_sol                        19439 non-null  float64\n",
      " 4   final.output.concentrate_au                         19439 non-null  float64\n",
      " 5   final.output.recovery                               19439 non-null  float64\n",
      " 6   final.output.tail_ag                                19439 non-null  float64\n",
      " 7   final.output.tail_pb                                19439 non-null  float64\n",
      " 8   final.output.tail_sol                               19439 non-null  float64\n",
      " 9   final.output.tail_au                                19439 non-null  float64\n",
      " 10  primary_cleaner.input.sulfate                       19439 non-null  float64\n",
      " 11  primary_cleaner.input.depressant                    19439 non-null  float64\n",
      " 12  primary_cleaner.input.feed_size                     19439 non-null  float64\n",
      " 13  primary_cleaner.input.xanthate                      19439 non-null  float64\n",
      " 14  primary_cleaner.output.concentrate_ag               19439 non-null  float64\n",
      " 15  primary_cleaner.output.concentrate_pb               19439 non-null  float64\n",
      " 16  primary_cleaner.output.concentrate_sol              19439 non-null  float64\n",
      " 17  primary_cleaner.output.concentrate_au               19439 non-null  float64\n",
      " 18  primary_cleaner.output.tail_ag                      19439 non-null  float64\n",
      " 19  primary_cleaner.output.tail_pb                      19439 non-null  float64\n",
      " 20  primary_cleaner.output.tail_sol                     19439 non-null  float64\n",
      " 21  primary_cleaner.output.tail_au                      19439 non-null  float64\n",
      " 22  primary_cleaner.state.floatbank8_a_air              19439 non-null  float64\n",
      " 23  primary_cleaner.state.floatbank8_a_level            19439 non-null  float64\n",
      " 24  primary_cleaner.state.floatbank8_b_air              19439 non-null  float64\n",
      " 25  primary_cleaner.state.floatbank8_b_level            19439 non-null  float64\n",
      " 26  primary_cleaner.state.floatbank8_c_air              19439 non-null  float64\n",
      " 27  primary_cleaner.state.floatbank8_c_level            19439 non-null  float64\n",
      " 28  primary_cleaner.state.floatbank8_d_air              19439 non-null  float64\n",
      " 29  primary_cleaner.state.floatbank8_d_level            19439 non-null  float64\n",
      " 30  rougher.calculation.sulfate_to_au_concentrate       19439 non-null  float64\n",
      " 31  rougher.calculation.floatbank10_sulfate_to_au_feed  19439 non-null  float64\n",
      " 32  rougher.calculation.floatbank11_sulfate_to_au_feed  19439 non-null  float64\n",
      " 33  rougher.calculation.au_pb_ratio                     19439 non-null  float64\n",
      " 34  rougher.input.feed_ag                               19439 non-null  float64\n",
      " 35  rougher.input.feed_pb                               19439 non-null  float64\n",
      " 36  rougher.input.feed_rate                             19439 non-null  float64\n",
      " 37  rougher.input.feed_size                             19439 non-null  float64\n",
      " 38  rougher.input.feed_sol                              19439 non-null  float64\n",
      " 39  rougher.input.feed_au                               19439 non-null  float64\n",
      " 40  rougher.input.floatbank10_sulfate                   19439 non-null  float64\n",
      " 41  rougher.input.floatbank10_xanthate                  19439 non-null  float64\n",
      " 42  rougher.input.floatbank11_sulfate                   19439 non-null  float64\n",
      " 43  rougher.input.floatbank11_xanthate                  19439 non-null  float64\n",
      " 44  rougher.output.concentrate_ag                       19439 non-null  float64\n",
      " 45  rougher.output.concentrate_pb                       19439 non-null  float64\n",
      " 46  rougher.output.concentrate_sol                      19439 non-null  float64\n",
      " 47  rougher.output.concentrate_au                       19439 non-null  float64\n",
      " 48  rougher.output.recovery                             19439 non-null  float64\n",
      " 49  rougher.output.tail_ag                              19439 non-null  float64\n",
      " 50  rougher.output.tail_pb                              19439 non-null  float64\n",
      " 51  rougher.output.tail_sol                             19439 non-null  float64\n",
      " 52  rougher.output.tail_au                              19439 non-null  float64\n",
      " 53  rougher.state.floatbank10_a_air                     19439 non-null  float64\n",
      " 54  rougher.state.floatbank10_a_level                   19439 non-null  float64\n",
      " 55  rougher.state.floatbank10_b_air                     19439 non-null  float64\n",
      " 56  rougher.state.floatbank10_b_level                   19439 non-null  float64\n",
      " 57  rougher.state.floatbank10_c_air                     19439 non-null  float64\n",
      " 58  rougher.state.floatbank10_c_level                   19439 non-null  float64\n",
      " 59  rougher.state.floatbank10_d_air                     19439 non-null  float64\n",
      " 60  rougher.state.floatbank10_d_level                   19439 non-null  float64\n",
      " 61  rougher.state.floatbank10_e_air                     19439 non-null  float64\n",
      " 62  rougher.state.floatbank10_e_level                   19439 non-null  float64\n",
      " 63  rougher.state.floatbank10_f_air                     19439 non-null  float64\n",
      " 64  rougher.state.floatbank10_f_level                   19439 non-null  float64\n",
      " 65  secondary_cleaner.output.tail_ag                    19439 non-null  float64\n",
      " 66  secondary_cleaner.output.tail_pb                    19439 non-null  float64\n",
      " 67  secondary_cleaner.output.tail_sol                   19439 non-null  float64\n",
      " 68  secondary_cleaner.output.tail_au                    19439 non-null  float64\n",
      " 69  secondary_cleaner.state.floatbank2_a_air            19439 non-null  float64\n",
      " 70  secondary_cleaner.state.floatbank2_a_level          19439 non-null  float64\n",
      " 71  secondary_cleaner.state.floatbank2_b_air            19439 non-null  float64\n",
      " 72  secondary_cleaner.state.floatbank2_b_level          19439 non-null  float64\n",
      " 73  secondary_cleaner.state.floatbank3_a_air            19439 non-null  float64\n",
      " 74  secondary_cleaner.state.floatbank3_a_level          19439 non-null  float64\n",
      " 75  secondary_cleaner.state.floatbank3_b_air            19439 non-null  float64\n",
      " 76  secondary_cleaner.state.floatbank3_b_level          19439 non-null  float64\n",
      " 77  secondary_cleaner.state.floatbank4_a_air            19439 non-null  float64\n",
      " 78  secondary_cleaner.state.floatbank4_a_level          19439 non-null  float64\n",
      " 79  secondary_cleaner.state.floatbank4_b_air            19439 non-null  float64\n",
      " 80  secondary_cleaner.state.floatbank4_b_level          19439 non-null  float64\n",
      " 81  secondary_cleaner.state.floatbank5_a_air            19439 non-null  float64\n",
      " 82  secondary_cleaner.state.floatbank5_a_level          19439 non-null  float64\n",
      " 83  secondary_cleaner.state.floatbank5_b_air            19439 non-null  float64\n",
      " 84  secondary_cleaner.state.floatbank5_b_level          19439 non-null  float64\n",
      " 85  secondary_cleaner.state.floatbank6_a_air            19439 non-null  float64\n",
      " 86  secondary_cleaner.state.floatbank6_a_level          19439 non-null  float64\n",
      "dtypes: float64(86), object(1)\n",
      "memory usage: 12.9+ MB\n"
     ]
    }
   ],
   "source": [
    "df_full.info()"
   ]
  },
  {
   "cell_type": "code",
   "execution_count": 24,
   "id": "d902a690",
   "metadata": {},
   "outputs": [
    {
     "data": {
      "image/png": "[encoded data removed]",
      "text/plain": [
       "<Figure size 1440x720 with 1 Axes>"
      ]
     },
     "metadata": {
      "needs_background": "light"
     },
     "output_type": "display_data"
    }
   ],
   "source": [
    "plt.figure(figsize=[20,10])\n",
    "\n",
    "plt.hist(df_full['final.output.concentrate_au'], bins=100, label = 'final.output', alpha=.5)\n",
    "plt.hist(df_full['primary_cleaner.output.concentrate_au'], bins=100, label = 'primary_cleaner.output', alpha=.5)\n",
    "plt.hist(df_full['rougher.output.concentrate_au'], bins=100, label = 'rougher.output', alpha=.5)\n",
    "plt.hist(df_full['rougher.input.feed_au'], bins=100, label = 'rougher.input', alpha=.5)\n",
    "\n",
    "plt.xlabel(\"Концентрация золота на выходе этапа\")\n",
    "plt.ylabel(\"Количество результатов\")\n",
    "\n",
    "plt.legend(loc='upper left', fontsize='x-large')\n",
    "\n",
    "plt.title(\"Гистограмма распределения концентрации золота\")\n",
    "plt.show()"
   ]
  },
  {
   "cell_type": "code",
   "execution_count": 25,
   "id": "773d6bb0",
   "metadata": {},
   "outputs": [
    {
     "data": {
      "image/png": "[encoded data removed]",
      "text/plain": [
       "<Figure size 1440x720 with 1 Axes>"
      ]
     },
     "metadata": {
      "needs_background": "light"
     },
     "output_type": "display_data"
    }
   ],
   "source": [
    "plt.figure(figsize=[20,10])\n",
    "\n",
    "plt.hist(df_full['final.output.concentrate_ag'], bins=100, label = 'final.output', alpha=.5)\n",
    "plt.hist(df_full['primary_cleaner.output.concentrate_ag'], bins=100, label = 'primary_cleaner.output', alpha=.5)\n",
    "plt.hist(df_full['rougher.output.concentrate_ag'], bins=100, label = 'rougher.output', alpha=.5)\n",
    "plt.hist(df_full['rougher.input.feed_ag'], bins=100, label = 'rougher.input', alpha=.5)\n",
    "\n",
    "plt.xlabel(\"Концентрация золота на выходе этапа\")\n",
    "plt.ylabel(\"Количество результатов\")\n",
    "\n",
    "plt.legend(loc='upper left', fontsize='x-large')\n",
    "\n",
    "plt.title(\"Гистограмма распределения концентрации серебра\")\n",
    "plt.show()"
   ]
  },
  {
   "cell_type": "code",
   "execution_count": 26,
   "id": "1fa1c014",
   "metadata": {},
   "outputs": [
    {
     "data": {
      "image/png": "[encoded data removed]",
      "text/plain": [
       "<Figure size 1440x720 with 1 Axes>"
      ]
     },
     "metadata": {
      "needs_background": "light"
     },
     "output_type": "display_data"
    }
   ],
   "source": [
    "plt.figure(figsize=[20,10])\n",
    "\n",
    "plt.hist(df_full['final.output.concentrate_pb'], bins=100, label = 'final.output', alpha=.5)\n",
    "plt.hist(df_full['primary_cleaner.output.concentrate_pb'], bins=100, label = 'primary_cleaner.output', alpha=.5)\n",
    "plt.hist(df_full['rougher.output.concentrate_pb'], bins=100, label = 'rougher.output', alpha=.5)\n",
    "plt.hist(df_full['rougher.input.feed_pb'], bins=100, label = 'rougher.input', alpha=.5)\n",
    "\n",
    "plt.xlabel(\"Концентрация золота на выходе этапа\")\n",
    "plt.ylabel(\"Количество результатов\")\n",
    "\n",
    "plt.legend(loc='upper left', fontsize='x-large')\n",
    "\n",
    "plt.title(\"Гистограмма распределения концентрации свинца\")\n",
    "plt.show()"
   ]
  },
  {
   "cell_type": "markdown",
   "id": "014047a0",
   "metadata": {},
   "source": [
    "Можно сделать вывод, что с каждым этапом очистки концентрация золота заметно увеличивается, в то время как концентрация серебра во время флотации увеличивается и дальше наоборот снижается. Свинец показывает значительное увеличение во время флотации, а далее небольшое увелечение концентрации."
   ]
  },
  {
   "cell_type": "markdown",
   "id": "07e81c67",
   "metadata": {},
   "source": [
    "### Сравнение распределения размеров гранул сырья на обучающей и тестовой выборках."
   ]
  },
  {
   "cell_type": "code",
   "execution_count": 27,
   "id": "43ff5a86",
   "metadata": {},
   "outputs": [
    {
     "data": {
      "image/png": "[encoded data removed]",
      "text/plain": [
       "<Figure size 1440x720 with 1 Axes>"
      ]
     },
     "metadata": {
      "needs_background": "light"
     },
     "output_type": "display_data"
    }
   ],
   "source": [
    "plt.figure(figsize=[20,10])\n",
    "\n",
    "plt.hist(df_train['rougher.input.feed_size'], bins=100, label = 'train', alpha=.5)\n",
    "plt.hist(df_test['rougher.input.feed_size'], bins=100, label = 'test', alpha=.5)\n",
    "\n",
    "plt.xlabel(\"Размеры гранул\")\n",
    "plt.ylabel(\"Количество результатов\")\n",
    "\n",
    "plt.legend(loc='upper left', fontsize='x-large')\n",
    "\n",
    "plt.title(\"Гистограмма распределения размеров гранул сырья\")\n",
    "plt.show()"
   ]
  },
  {
   "cell_type": "markdown",
   "id": "d96bc43a",
   "metadata": {},
   "source": [
    "Распределение гранул до флотации похоже на нормальное со смещением вправо как в обучающей, так и в тестовой выбрке. Существует много выбросов после размера гранул 100."
   ]
  },
  {
   "cell_type": "code",
   "execution_count": 28,
   "id": "1041a209",
   "metadata": {},
   "outputs": [
    {
     "data": {
      "image/png": "[encoded data removed]",
      "text/plain": [
       "<Figure size 1440x720 with 1 Axes>"
      ]
     },
     "metadata": {
      "needs_background": "light"
     },
     "output_type": "display_data"
    }
   ],
   "source": [
    "plt.figure(figsize=[20,10])\n",
    "\n",
    "plt.hist(df_train['primary_cleaner.input.feed_size'], bins=100, label = 'train', alpha=.5)\n",
    "plt.hist(df_test['primary_cleaner.input.feed_size'], bins=100, label = 'test', alpha=.5)\n",
    "\n",
    "plt.xlabel(\"Размеры гранул\")\n",
    "plt.ylabel(\"Количество результатов\")\n",
    "\n",
    "plt.legend(loc='upper left', fontsize='x-large')\n",
    "\n",
    "plt.title(\"Гистограмма распределения размеров гранул сырья\")\n",
    "plt.show()"
   ]
  },
  {
   "cell_type": "markdown",
   "id": "f1c434ac",
   "metadata": {},
   "source": [
    "Размеры гранул перед первичной очисткой обладают нормальным распределением. Можель можно обучать."
   ]
  },
  {
   "cell_type": "markdown",
   "id": "4d852dc5",
   "metadata": {},
   "source": [
    "### Исследование суммарной концентрации всех веществ на разных стадиях: в сырье, в черновом и финальном концентратах.\n"
   ]
  },
  {
   "cell_type": "code",
   "execution_count": 29,
   "id": "c9ac7fe0",
   "metadata": {},
   "outputs": [],
   "source": [
    "# расчитываю сумарную концентрацию на разных этапах\n",
    "primary_concentrate = df_full['primary_cleaner.output.concentrate_ag'] + df_full['primary_cleaner.output.concentrate_pb'] + df_full['primary_cleaner.output.concentrate_au'] + df_full['primary_cleaner.output.concentrate_sol']\n",
    "rougher_concentrate = df_full['rougher.input.feed_ag'] + df_full['rougher.input.feed_pb'] + df_full['rougher.input.feed_au'] + df_full['rougher.input.feed_sol']\n",
    "final_concentrate = df_full['final.output.concentrate_ag'] + df_full['final.output.concentrate_pb'] + df_full['final.output.concentrate_au'] + df_full['final.output.concentrate_sol']"
   ]
  },
  {
   "cell_type": "code",
   "execution_count": 30,
   "id": "43ba8550",
   "metadata": {},
   "outputs": [
    {
     "data": {
      "image/png": "[encoded data removed]",
      "text/plain": [
       "<Figure size 1440x720 with 1 Axes>"
      ]
     },
     "metadata": {
      "needs_background": "light"
     },
     "output_type": "display_data"
    }
   ],
   "source": [
    "plt.figure(figsize=[20,10])\n",
    "\n",
    "plt.hist(rougher_concentrate, bins=100, label = 'rougher', alpha=.5)\n",
    "plt.hist(primary_concentrate, bins=100, label = 'primary cleaner', alpha=.5)\n",
    "plt.hist(final_concentrate, bins=100, label = 'final', alpha=.5)\n",
    "\n",
    "plt.xlabel(\"Cуммарная концентрация всех веществ\")\n",
    "plt.ylabel(\"Количество результатов\")\n",
    "\n",
    "plt.legend(loc='upper left', fontsize='x-large')\n",
    "\n",
    "plt.title(\"Гистограмма распределения суммарной концентрации всех веществ на разных стадиях\")\n",
    "\n",
    "plt.show()"
   ]
  },
  {
   "cell_type": "markdown",
   "id": "99fdb38b",
   "metadata": {},
   "source": [
    "Исследование показало, что в данных присутствует много нолевых значений. Концентрация любого этемента на каком то этапе может быть нолевой, но суммарная нолевой быть не может, так как какие то элементы должны присутствовать. По этому я приняла решение удалить строки с нолевыми значениями."
   ]
  },
  {
   "cell_type": "code",
   "execution_count": 31,
   "id": "b015f602",
   "metadata": {},
   "outputs": [],
   "source": [
    "rows_to_delete_full = df_full.query('@primary_concentrate == 0 or @rougher_concentrate == 0 or @final_concentrate == 0').index\n",
    "rows_to_delete_test = df_test.query('@primary_concentrate == 0 or @rougher_concentrate == 0 or @final_concentrate == 0').index\n",
    "rows_to_delete_train = df_train.query('@primary_concentrate == 0 or @rougher_concentrate == 0 or @final_concentrate == 0').index"
   ]
  },
  {
   "cell_type": "code",
   "execution_count": 32,
   "id": "2b07205f",
   "metadata": {},
   "outputs": [],
   "source": [
    "df_full = df_full.drop(rows_to_delete_full, axis=0)\n",
    "df_test = df_test.drop(rows_to_delete_test, axis=0)\n",
    "df_train = df_train.drop(rows_to_delete_train, axis=0)"
   ]
  },
  {
   "cell_type": "markdown",
   "id": "97e8788f",
   "metadata": {},
   "source": [
    "## Построение модели"
   ]
  },
  {
   "cell_type": "markdown",
   "id": "5428fb04",
   "metadata": {},
   "source": [
    "### Создание функции для вычисления итоговой sMAPE"
   ]
  },
  {
   "cell_type": "code",
   "execution_count": 33,
   "id": "d0824a23",
   "metadata": {},
   "outputs": [],
   "source": [
    "def sMAPE(true, pred):\n",
    "    return 100/len(true) * np.sum(2 * np.abs(pred - true) / (np.abs(true) + np.abs(pred)))\n",
    "scorer = make_scorer(sMAPE, greater_is_better=False)"
   ]
  },
  {
   "cell_type": "code",
   "execution_count": 34,
   "id": "4cf6abcf",
   "metadata": {},
   "outputs": [],
   "source": [
    "def total_sMAPE(sMAPE_rougher,sMAPE_final):\n",
    "    return (0.25 * sMAPE_rougher + 0.75 * sMAPE_final)"
   ]
  },
  {
   "cell_type": "markdown",
   "id": "ee361852",
   "metadata": {},
   "source": [
    "### Обучение модели"
   ]
  },
  {
   "cell_type": "markdown",
   "id": "f7e989a2",
   "metadata": {},
   "source": [
    "#### Для целевого признака 'final.output.recovery'"
   ]
  },
  {
   "cell_type": "markdown",
   "id": "e81bad78",
   "metadata": {},
   "source": [
    "Выделим целевые признаки в выборках"
   ]
  },
  {
   "cell_type": "code",
   "execution_count": 35,
   "id": "4a4a927f",
   "metadata": {},
   "outputs": [],
   "source": [
    "target_train_final = df_train['final.output.recovery']\n",
    "target_test_final = df_test['final.output.recovery']\n",
    "features_train_final = df_train.drop(['final.output.recovery', 'rougher.output.recovery', 'date'], axis = 1)\n",
    "features_test_final = df_test.drop(['final.output.recovery', 'rougher.output.recovery', 'date'], axis = 1)"
   ]
  },
  {
   "cell_type": "markdown",
   "id": "61e46a8a",
   "metadata": {},
   "source": [
    "Обучаю константную модель и оцениваю качество кросс-валидацией"
   ]
  },
  {
   "cell_type": "code",
   "execution_count": 36,
   "id": "4b66de87",
   "metadata": {},
   "outputs": [
    {
     "name": "stdout",
     "output_type": "stream",
     "text": [
      "sMAPE =  -11.058801174160369\n"
     ]
    }
   ],
   "source": [
    "dummy = DummyRegressor(strategy = 'median')\n",
    "scores =  cross_val_score(dummy, features_train_final, target_train_final, cv=5, scoring=scorer)\n",
    "final_score = scores.mean()\n",
    "print('sMAPE = ', final_score)"
   ]
  },
  {
   "cell_type": "markdown",
   "id": "738b048b",
   "metadata": {},
   "source": [
    "Обучаю модель LinearRegression и оцениваю качество кросс-валидацией"
   ]
  },
  {
   "cell_type": "code",
   "execution_count": 37,
   "id": "2eedbf07",
   "metadata": {},
   "outputs": [
    {
     "name": "stdout",
     "output_type": "stream",
     "text": [
      "sMAPE =  -11.844927885977938\n"
     ]
    }
   ],
   "source": [
    "model = LinearRegression()\n",
    "scores =  cross_val_score(model, features_train_final, target_train_final, cv=5, scoring=scorer)\n",
    "final_score = scores.mean()\n",
    "print('sMAPE = ', final_score)"
   ]
  },
  {
   "cell_type": "markdown",
   "id": "3e82b90f",
   "metadata": {},
   "source": [
    "Подбираю гиперпараметры для модели DecisionTree, обучаю модель и оцениваю качество кросс-валидацией"
   ]
  },
  {
   "cell_type": "code",
   "execution_count": 38,
   "id": "f7e31ef7",
   "metadata": {},
   "outputs": [
    {
     "data": {
      "text/plain": [
       "{'max_depth': 2}"
      ]
     },
     "execution_count": 38,
     "metadata": {},
     "output_type": "execute_result"
    }
   ],
   "source": [
    "model = DecisionTreeRegressor()\n",
    "parametrs = {'max_depth': range (1, 30, 1)}\n",
    "\n",
    "grid = GridSearchCV(model, parametrs, cv=5, scoring=scorer)\n",
    "grid.fit(features_train_final, target_train_final)\n",
    "\n",
    "grid.best_params_"
   ]
  },
  {
   "cell_type": "code",
   "execution_count": 39,
   "id": "ea6a7623",
   "metadata": {},
   "outputs": [
    {
     "name": "stdout",
     "output_type": "stream",
     "text": [
      "sMAPE =  -10.219306650555556\n"
     ]
    }
   ],
   "source": [
    "model = DecisionTreeRegressor(random_state = 12345, max_depth = 2)\n",
    "scores =  cross_val_score(model, features_train_final, target_train_final, cv=5, scoring=scorer)\n",
    "final_score = scores.mean()\n",
    "print('sMAPE = ', final_score)"
   ]
  },
  {
   "cell_type": "markdown",
   "id": "8d3ef561",
   "metadata": {},
   "source": [
    "Подбираю гиперпараметры для модели RandomForest, обучаю модель и оцениваю качество кросс-валидацией"
   ]
  },
  {
   "cell_type": "code",
   "execution_count": 40,
   "id": "14dc6e34",
   "metadata": {},
   "outputs": [
    {
     "data": {
      "text/plain": [
       "{'n_estimators': 24}"
      ]
     },
     "execution_count": 40,
     "metadata": {},
     "output_type": "execute_result"
    }
   ],
   "source": [
    "model = RandomForestRegressor()\n",
    "parametrs = {'n_estimators': range (1, 30, 1)}\n",
    "\n",
    "grid = GridSearchCV(model, parametrs, cv=5, scoring=scorer)\n",
    "grid.fit(features_train_final, target_train_final)\n",
    "grid.best_params_"
   ]
  },
  {
   "cell_type": "code",
   "execution_count": 41,
   "id": "31b157ba",
   "metadata": {},
   "outputs": [
    {
     "name": "stdout",
     "output_type": "stream",
     "text": [
      "sMAPE =  -11.399598201371155\n"
     ]
    }
   ],
   "source": [
    "model = RandomForestRegressor(random_state = 12345, n_estimators = 20)\n",
    "scores =  cross_val_score(model, features_train_final, target_train_final, cv=5, scoring=scorer)\n",
    "final_score = scores.mean()\n",
    "print('sMAPE = ', final_score)"
   ]
  },
  {
   "cell_type": "markdown",
   "id": "5345ba46",
   "metadata": {},
   "source": [
    "Лучшей моделью я считаю DecisionTree. Проверяю ее на тестовой выборке"
   ]
  },
  {
   "cell_type": "code",
   "execution_count": 42,
   "id": "98c7b063",
   "metadata": {},
   "outputs": [],
   "source": [
    "model = DecisionTreeRegressor(random_state = 12345, max_depth = 2)\n",
    "model.fit(features_train_final, target_train_final)\n",
    "predictions = model.predict(features_test_final)\n"
   ]
  },
  {
   "cell_type": "code",
   "execution_count": 43,
   "id": "3620ba25",
   "metadata": {},
   "outputs": [
    {
     "name": "stdout",
     "output_type": "stream",
     "text": [
      "sMAPE =  9.257159875105962\n"
     ]
    }
   ],
   "source": [
    "sMAPE_final = sMAPE(target_test_final, predictions)\n",
    "print('sMAPE = ', sMAPE_final)"
   ]
  },
  {
   "cell_type": "markdown",
   "id": "c0cd5de9",
   "metadata": {},
   "source": [
    "#### Для целевого признака 'rougher.output.recovery'"
   ]
  },
  {
   "cell_type": "markdown",
   "id": "c28a8009",
   "metadata": {},
   "source": [
    "Выделим целевые признаки в выборках"
   ]
  },
  {
   "cell_type": "code",
   "execution_count": 44,
   "id": "3df808b8",
   "metadata": {},
   "outputs": [],
   "source": [
    "target_train_rougher = df_train['rougher.output.recovery']\n",
    "target_test_rougher = df_test['rougher.output.recovery']\n",
    "features_train_rougher = df_train[df_train.drop('rougher.output.recovery', axis=1).columns[14:35]]\n",
    "features_test_rougher = df_test[df_train.drop('rougher.output.recovery', axis=1).columns[14:35]]"
   ]
  },
  {
   "cell_type": "markdown",
   "id": "f8fa583f",
   "metadata": {},
   "source": [
    "Обучаю константную модель и оцениваю качество кросс-валидацией"
   ]
  },
  {
   "cell_type": "code",
   "execution_count": 45,
   "id": "7f7b29c0",
   "metadata": {},
   "outputs": [
    {
     "name": "stdout",
     "output_type": "stream",
     "text": [
      "sMAPE =  -11.888308407258759\n"
     ]
    }
   ],
   "source": [
    "dummy = DummyRegressor(strategy = 'median')\n",
    "scores =  cross_val_score(dummy, features_train_rougher, target_train_rougher, cv=5, scoring=scorer)\n",
    "final_score = scores.mean()\n",
    "print('sMAPE = ', final_score)"
   ]
  },
  {
   "cell_type": "markdown",
   "id": "a5a928b1",
   "metadata": {},
   "source": [
    "Обучаю модель LinearRegression и оцениваю качество кросс-валидацией"
   ]
  },
  {
   "cell_type": "code",
   "execution_count": 46,
   "id": "6b388205",
   "metadata": {},
   "outputs": [
    {
     "name": "stdout",
     "output_type": "stream",
     "text": [
      "sMAPE =  -11.796502168882432\n"
     ]
    }
   ],
   "source": [
    "model = LinearRegression()\n",
    "scores =  cross_val_score(model, features_train_rougher, target_train_rougher, cv=5, scoring=scorer)\n",
    "final_score = scores.mean()\n",
    "print('sMAPE = ', final_score)"
   ]
  },
  {
   "cell_type": "markdown",
   "id": "7d7deaf1",
   "metadata": {},
   "source": [
    "Подбираю гиперпараметры для модели DecisionTree, обучаю модель и оцениваю качество кросс-валидацией"
   ]
  },
  {
   "cell_type": "code",
   "execution_count": 47,
   "id": "df020f09",
   "metadata": {},
   "outputs": [
    {
     "data": {
      "text/plain": [
       "{'max_depth': 3}"
      ]
     },
     "execution_count": 47,
     "metadata": {},
     "output_type": "execute_result"
    }
   ],
   "source": [
    "model = DecisionTreeRegressor()\n",
    "parametrs = {'max_depth': range (1, 30, 1)}\n",
    "\n",
    "grid = GridSearchCV(model, parametrs, cv=5, scoring=scorer)\n",
    "grid.fit(features_train_rougher, target_train_rougher)\n",
    "\n",
    "grid.best_params_"
   ]
  },
  {
   "cell_type": "code",
   "execution_count": 48,
   "id": "53c8839e",
   "metadata": {},
   "outputs": [
    {
     "name": "stdout",
     "output_type": "stream",
     "text": [
      "sMAPE =  -12.114754846205873\n"
     ]
    }
   ],
   "source": [
    "model = DecisionTreeRegressor(random_state = 12345, max_depth = 3)\n",
    "scores =  cross_val_score(model, features_train_rougher, target_train_rougher, cv=5, scoring=scorer)\n",
    "final_score = scores.mean()\n",
    "print('sMAPE = ', final_score)"
   ]
  },
  {
   "cell_type": "markdown",
   "id": "452265e0",
   "metadata": {},
   "source": [
    "Подбираю гиперпараметры для модели RandomForest, обучаю модель и оцениваю качество кросс-валидацией"
   ]
  },
  {
   "cell_type": "code",
   "execution_count": 49,
   "id": "03c00e6a",
   "metadata": {},
   "outputs": [
    {
     "data": {
      "text/plain": [
       "{'n_estimators': 19}"
      ]
     },
     "execution_count": 49,
     "metadata": {},
     "output_type": "execute_result"
    }
   ],
   "source": [
    "model = RandomForestRegressor()\n",
    "parametrs = {'n_estimators': range (1, 30, 1)}\n",
    "\n",
    "grid = GridSearchCV(model, parametrs, cv=5, scoring=scorer)\n",
    "grid.fit(features_train_rougher, target_train_rougher)\n",
    "grid.best_params_"
   ]
  },
  {
   "cell_type": "code",
   "execution_count": 50,
   "id": "a2759865",
   "metadata": {},
   "outputs": [
    {
     "name": "stdout",
     "output_type": "stream",
     "text": [
      "sMAPE =  -14.630167578982718\n"
     ]
    }
   ],
   "source": [
    "model = RandomForestRegressor(random_state = 12345, n_estimators = 17)\n",
    "scores =  cross_val_score(model, features_train_rougher, target_train_rougher, cv=5, scoring=scorer)\n",
    "final_score = scores.mean()\n",
    "print('sMAPE = ', final_score)"
   ]
  },
  {
   "cell_type": "markdown",
   "id": "718e5861",
   "metadata": {},
   "source": [
    "Лучшей моделью я считаю LinearRegression. Проверяю ее на тестовой выборке"
   ]
  },
  {
   "cell_type": "code",
   "execution_count": 51,
   "id": "5d41aba0",
   "metadata": {},
   "outputs": [
    {
     "ename": "TypeError",
     "evalue": "fit() missing 1 required positional argument: 'y'",
     "output_type": "error",
     "traceback": [
      "\u001b[0;31m---------------------------------------------------------------------------\u001b[0m",
      "\u001b[0;31mTypeError\u001b[0m                                 Traceback (most recent call last)",
      "\u001b[0;32m/tmp/ipykernel_43/1624722427.py\u001b[0m in \u001b[0;36m<module>\u001b[0;34m\u001b[0m\n\u001b[1;32m      1\u001b[0m \u001b[0mmodel\u001b[0m \u001b[0;34m=\u001b[0m \u001b[0mLinearRegression\u001b[0m\u001b[0;34m\u001b[0m\u001b[0;34m\u001b[0m\u001b[0m\n\u001b[0;32m----> 2\u001b[0;31m \u001b[0mmodel\u001b[0m\u001b[0;34m.\u001b[0m\u001b[0mfit\u001b[0m\u001b[0;34m(\u001b[0m\u001b[0mfeatures_train_rougher\u001b[0m\u001b[0;34m,\u001b[0m \u001b[0mtarget_train_rougher\u001b[0m\u001b[0;34m)\u001b[0m\u001b[0;34m\u001b[0m\u001b[0;34m\u001b[0m\u001b[0m\n\u001b[0m\u001b[1;32m      3\u001b[0m \u001b[0mpredictions\u001b[0m \u001b[0;34m=\u001b[0m \u001b[0mmodel\u001b[0m\u001b[0;34m.\u001b[0m\u001b[0mpredict\u001b[0m\u001b[0;34m(\u001b[0m\u001b[0mfeatures_test_rougher\u001b[0m\u001b[0;34m)\u001b[0m\u001b[0;34m\u001b[0m\u001b[0;34m\u001b[0m\u001b[0m\n",
      "\u001b[0;31mTypeError\u001b[0m: fit() missing 1 required positional argument: 'y'"
     ]
    }
   ],
   "source": [
    "model = LinearRegression\n",
    "model.fit(features_train_rougher, target_train_rougher)\n",
    "predictions = model.predict(features_test_rougher)"
   ]
  },
  {
   "cell_type": "code",
   "execution_count": null,
   "id": "2b659d2b",
   "metadata": {},
   "outputs": [],
   "source": [
    "sMAPE_rougher = sMAPE(target_test_rougher, predictions)\n",
    "print('sMAPE = ', sMAPE_rougher)"
   ]
  },
  {
   "cell_type": "markdown",
   "id": "49d9d94c",
   "metadata": {},
   "source": [
    "Расчитаю итоговую sMAPE"
   ]
  },
  {
   "cell_type": "code",
   "execution_count": null,
   "id": "d7d8e941",
   "metadata": {},
   "outputs": [],
   "source": [
    "total_sMAPE(sMAPE_rougher,sMAPE_final)"
   ]
  },
  {
   "cell_type": "markdown",
   "id": "d2c0a6e2",
   "metadata": {},
   "source": [
    "## Вывод"
   ]
  },
  {
   "cell_type": "markdown",
   "id": "600874a7",
   "metadata": {},
   "source": [
    "В этом проекте я подготовила прототип модели машинного обучения для «Цифры», которая должна предсказать коэффициент восстановления золота из золотосодержащей руды.    \n",
    "Для выполнения задания я использовала данные с параметрами добычи и очистки.\n",
    "Были выполнены следующие этапы:\n",
    "- Подготовка данных\n",
    "- Исследовательский анализ данных\n",
    "- Построена и обучена модель\n",
    "\n",
    "По итогу было решено использовать модель DecisionTree для предсказания эффективности обогащения финального концентрата, и константную модель для предсказания эффективности обогащения чернового концентрата.\n",
    "\n",
    "Итоговая метрика имеет значение 9.049%"
   ]
  }
 ],
 "metadata": {
  "ExecuteTimeLog": [
   {
    "duration": 64,
    "start_time": "2022-05-26T14:41:38.342Z"
   },
   {
    "duration": 58,
    "start_time": "2022-05-26T14:46:41.429Z"
   },
   {
    "duration": 1564,
    "start_time": "2022-05-26T14:48:07.162Z"
   },
   {
    "duration": 3383,
    "start_time": "2022-05-26T14:48:14.730Z"
   },
   {
    "duration": 45,
    "start_time": "2022-05-26T14:48:18.115Z"
   },
   {
    "duration": 36,
    "start_time": "2022-05-26T14:48:18.162Z"
   },
   {
    "duration": 38,
    "start_time": "2022-05-26T14:48:18.200Z"
   },
   {
    "duration": 3,
    "start_time": "2022-05-26T14:48:31.928Z"
   },
   {
    "duration": 262,
    "start_time": "2022-05-26T14:48:32.782Z"
   },
   {
    "duration": 20,
    "start_time": "2022-05-26T14:48:33.088Z"
   },
   {
    "duration": 6,
    "start_time": "2022-05-26T14:48:39.524Z"
   },
   {
    "duration": 5,
    "start_time": "2022-05-26T14:48:43.557Z"
   },
   {
    "duration": 94,
    "start_time": "2022-05-26T14:48:47.163Z"
   },
   {
    "duration": 139,
    "start_time": "2022-05-26T14:48:47.418Z"
   },
   {
    "duration": 27,
    "start_time": "2022-05-26T14:48:47.673Z"
   },
   {
    "duration": 4,
    "start_time": "2022-05-26T14:48:51.630Z"
   },
   {
    "duration": 6,
    "start_time": "2022-05-26T14:48:51.820Z"
   },
   {
    "duration": 7,
    "start_time": "2022-05-26T14:48:52.029Z"
   },
   {
    "duration": 7,
    "start_time": "2022-05-26T14:48:55.326Z"
   },
   {
    "duration": 6,
    "start_time": "2022-05-26T14:48:55.522Z"
   },
   {
    "duration": 9,
    "start_time": "2022-05-26T14:48:56.481Z"
   },
   {
    "duration": 23,
    "start_time": "2022-05-26T14:48:58.522Z"
   },
   {
    "duration": 4,
    "start_time": "2022-05-26T14:49:01.089Z"
   },
   {
    "duration": 13,
    "start_time": "2022-05-26T14:49:01.426Z"
   },
   {
    "duration": 634,
    "start_time": "2022-05-26T14:49:04.278Z"
   },
   {
    "duration": 600,
    "start_time": "2022-05-26T14:49:04.914Z"
   },
   {
    "duration": 728,
    "start_time": "2022-05-26T14:49:05.516Z"
   },
   {
    "duration": 32,
    "start_time": "2022-05-26T14:49:45.764Z"
   },
   {
    "duration": 18,
    "start_time": "2022-05-26T14:49:57.195Z"
   },
   {
    "duration": 21,
    "start_time": "2022-05-26T14:50:01.059Z"
   },
   {
    "duration": 856,
    "start_time": "2022-05-26T14:51:02.545Z"
   },
   {
    "duration": 959,
    "start_time": "2022-05-26T14:51:20.314Z"
   },
   {
    "duration": 898,
    "start_time": "2022-05-26T14:51:28.197Z"
   },
   {
    "duration": 927,
    "start_time": "2022-05-26T14:51:46.957Z"
   },
   {
    "duration": 21,
    "start_time": "2022-05-26T14:54:09.321Z"
   },
   {
    "duration": 471,
    "start_time": "2022-05-26T14:54:52.635Z"
   },
   {
    "duration": 29,
    "start_time": "2022-05-26T14:57:26.198Z"
   },
   {
    "duration": 124,
    "start_time": "2022-05-26T14:57:32.028Z"
   },
   {
    "duration": 22,
    "start_time": "2022-05-26T14:57:36.847Z"
   },
   {
    "duration": 132,
    "start_time": "2022-05-26T14:58:37.862Z"
   },
   {
    "duration": 612,
    "start_time": "2022-05-26T14:58:39.659Z"
   },
   {
    "duration": 29,
    "start_time": "2022-05-26T14:58:49.565Z"
   },
   {
    "duration": 17,
    "start_time": "2022-05-26T14:58:52.331Z"
   },
   {
    "duration": 3,
    "start_time": "2022-05-26T15:00:01.342Z"
   },
   {
    "duration": 3,
    "start_time": "2022-05-26T15:00:02.976Z"
   },
   {
    "duration": 8,
    "start_time": "2022-05-26T15:00:08.230Z"
   },
   {
    "duration": 34,
    "start_time": "2022-05-26T15:00:08.978Z"
   },
   {
    "duration": 1143,
    "start_time": "2022-05-26T15:00:11.829Z"
   },
   {
    "duration": 95523,
    "start_time": "2022-05-26T15:00:41.064Z"
   },
   {
    "duration": 669,
    "start_time": "2022-05-26T15:02:16.589Z"
   },
   {
    "duration": 1277,
    "start_time": "2022-05-26T15:04:59.149Z"
   },
   {
    "duration": 748,
    "start_time": "2022-05-26T15:05:00.428Z"
   },
   {
    "duration": 46,
    "start_time": "2022-05-26T15:05:01.178Z"
   },
   {
    "duration": 139,
    "start_time": "2022-05-26T15:05:01.226Z"
   },
   {
    "duration": 39,
    "start_time": "2022-05-26T15:05:01.367Z"
   },
   {
    "duration": 4,
    "start_time": "2022-05-26T15:05:01.407Z"
   },
   {
    "duration": 282,
    "start_time": "2022-05-26T15:05:01.413Z"
   },
   {
    "duration": 20,
    "start_time": "2022-05-26T15:05:01.697Z"
   },
   {
    "duration": 20,
    "start_time": "2022-05-26T15:05:01.719Z"
   },
   {
    "duration": 13,
    "start_time": "2022-05-26T15:05:01.742Z"
   },
   {
    "duration": 110,
    "start_time": "2022-05-26T15:05:01.757Z"
   },
   {
    "duration": 153,
    "start_time": "2022-05-26T15:05:01.869Z"
   },
   {
    "duration": 23,
    "start_time": "2022-05-26T15:05:02.025Z"
   },
   {
    "duration": 3,
    "start_time": "2022-05-26T15:05:02.065Z"
   },
   {
    "duration": 7,
    "start_time": "2022-05-26T15:05:02.070Z"
   },
   {
    "duration": 7,
    "start_time": "2022-05-26T15:05:02.078Z"
   },
   {
    "duration": 9,
    "start_time": "2022-05-26T15:05:02.087Z"
   },
   {
    "duration": 8,
    "start_time": "2022-05-26T15:05:02.098Z"
   },
   {
    "duration": 9,
    "start_time": "2022-05-26T15:05:02.108Z"
   },
   {
    "duration": 57,
    "start_time": "2022-05-26T15:05:02.119Z"
   },
   {
    "duration": 5,
    "start_time": "2022-05-26T15:05:02.178Z"
   },
   {
    "duration": 16,
    "start_time": "2022-05-26T15:05:02.184Z"
   },
   {
    "duration": 19,
    "start_time": "2022-05-26T15:05:02.202Z"
   },
   {
    "duration": 796,
    "start_time": "2022-05-26T15:05:02.223Z"
   },
   {
    "duration": 1268,
    "start_time": "2022-05-26T15:05:03.021Z"
   },
   {
    "duration": 1319,
    "start_time": "2022-05-26T15:05:04.291Z"
   },
   {
    "duration": 458,
    "start_time": "2022-05-26T15:05:05.612Z"
   },
   {
    "duration": 455,
    "start_time": "2022-05-26T15:05:06.074Z"
   },
   {
    "duration": 7,
    "start_time": "2022-05-26T15:05:06.530Z"
   },
   {
    "duration": 714,
    "start_time": "2022-05-26T15:05:06.539Z"
   },
   {
    "duration": 29,
    "start_time": "2022-05-26T15:05:07.255Z"
   },
   {
    "duration": 14,
    "start_time": "2022-05-26T15:05:07.286Z"
   },
   {
    "duration": 4,
    "start_time": "2022-05-26T15:05:07.301Z"
   },
   {
    "duration": 9,
    "start_time": "2022-05-26T15:05:07.306Z"
   },
   {
    "duration": 21,
    "start_time": "2022-05-26T15:05:07.316Z"
   },
   {
    "duration": 40,
    "start_time": "2022-05-26T15:05:07.339Z"
   },
   {
    "duration": 1585,
    "start_time": "2022-05-26T15:05:07.381Z"
   },
   {
    "duration": 1201,
    "start_time": "2022-05-26T15:05:43.184Z"
   },
   {
    "duration": 728,
    "start_time": "2022-05-26T15:05:44.387Z"
   },
   {
    "duration": 51,
    "start_time": "2022-05-26T15:05:45.116Z"
   },
   {
    "duration": 121,
    "start_time": "2022-05-26T15:05:45.169Z"
   },
   {
    "duration": 37,
    "start_time": "2022-05-26T15:05:45.293Z"
   },
   {
    "duration": 4,
    "start_time": "2022-05-26T15:05:45.332Z"
   },
   {
    "duration": 268,
    "start_time": "2022-05-26T15:05:45.338Z"
   },
   {
    "duration": 18,
    "start_time": "2022-05-26T15:05:45.608Z"
   },
   {
    "duration": 6,
    "start_time": "2022-05-26T15:05:45.628Z"
   },
   {
    "duration": 29,
    "start_time": "2022-05-26T15:05:45.636Z"
   },
   {
    "duration": 99,
    "start_time": "2022-05-26T15:05:45.667Z"
   },
   {
    "duration": 132,
    "start_time": "2022-05-26T15:05:45.768Z"
   },
   {
    "duration": 21,
    "start_time": "2022-05-26T15:05:45.902Z"
   },
   {
    "duration": 3,
    "start_time": "2022-05-26T15:05:45.926Z"
   },
   {
    "duration": 7,
    "start_time": "2022-05-26T15:05:45.931Z"
   },
   {
    "duration": 29,
    "start_time": "2022-05-26T15:05:45.939Z"
   },
   {
    "duration": 10,
    "start_time": "2022-05-26T15:05:45.970Z"
   },
   {
    "duration": 6,
    "start_time": "2022-05-26T15:05:45.982Z"
   },
   {
    "duration": 10,
    "start_time": "2022-05-26T15:05:45.990Z"
   },
   {
    "duration": 24,
    "start_time": "2022-05-26T15:05:46.002Z"
   },
   {
    "duration": 37,
    "start_time": "2022-05-26T15:05:46.028Z"
   },
   {
    "duration": 13,
    "start_time": "2022-05-26T15:05:46.067Z"
   },
   {
    "duration": 18,
    "start_time": "2022-05-26T15:05:46.081Z"
   },
   {
    "duration": 745,
    "start_time": "2022-05-26T15:05:46.101Z"
   },
   {
    "duration": 749,
    "start_time": "2022-05-26T15:05:46.848Z"
   },
   {
    "duration": 871,
    "start_time": "2022-05-26T15:05:47.598Z"
   },
   {
    "duration": 474,
    "start_time": "2022-05-26T15:05:48.471Z"
   },
   {
    "duration": 522,
    "start_time": "2022-05-26T15:05:48.947Z"
   },
   {
    "duration": 8,
    "start_time": "2022-05-26T15:05:49.470Z"
   },
   {
    "duration": 737,
    "start_time": "2022-05-26T15:05:49.479Z"
   },
   {
    "duration": 29,
    "start_time": "2022-05-26T15:05:50.218Z"
   },
   {
    "duration": 31,
    "start_time": "2022-05-26T15:05:50.248Z"
   },
   {
    "duration": 4,
    "start_time": "2022-05-26T15:05:50.281Z"
   },
   {
    "duration": 4,
    "start_time": "2022-05-26T15:05:50.287Z"
   },
   {
    "duration": 9,
    "start_time": "2022-05-26T15:05:50.292Z"
   },
   {
    "duration": 31,
    "start_time": "2022-05-26T15:05:50.302Z"
   },
   {
    "duration": 1135,
    "start_time": "2022-05-26T15:05:50.334Z"
   },
   {
    "duration": 97072,
    "start_time": "2022-05-26T15:05:51.471Z"
   },
   {
    "duration": 729,
    "start_time": "2022-05-26T15:07:28.545Z"
   },
   {
    "duration": 1334,
    "start_time": "2022-05-26T15:51:13.454Z"
   },
   {
    "duration": 764,
    "start_time": "2022-05-26T15:51:14.790Z"
   },
   {
    "duration": 49,
    "start_time": "2022-05-26T15:51:15.556Z"
   },
   {
    "duration": 143,
    "start_time": "2022-05-26T15:51:15.607Z"
   },
   {
    "duration": 42,
    "start_time": "2022-05-26T15:51:15.752Z"
   },
   {
    "duration": 5,
    "start_time": "2022-05-26T15:51:15.796Z"
   },
   {
    "duration": 289,
    "start_time": "2022-05-26T15:51:15.804Z"
   },
   {
    "duration": 20,
    "start_time": "2022-05-26T15:51:16.095Z"
   },
   {
    "duration": 5,
    "start_time": "2022-05-26T15:51:16.117Z"
   },
   {
    "duration": 9,
    "start_time": "2022-05-26T15:51:16.125Z"
   },
   {
    "duration": 133,
    "start_time": "2022-05-26T15:51:16.135Z"
   },
   {
    "duration": 152,
    "start_time": "2022-05-26T15:51:16.269Z"
   },
   {
    "duration": 24,
    "start_time": "2022-05-26T15:51:16.422Z"
   },
   {
    "duration": 5,
    "start_time": "2022-05-26T15:51:16.464Z"
   },
   {
    "duration": 11,
    "start_time": "2022-05-26T15:51:16.472Z"
   },
   {
    "duration": 7,
    "start_time": "2022-05-26T15:51:16.485Z"
   },
   {
    "duration": 13,
    "start_time": "2022-05-26T15:51:16.494Z"
   },
   {
    "duration": 8,
    "start_time": "2022-05-26T15:51:16.509Z"
   },
   {
    "duration": 47,
    "start_time": "2022-05-26T15:51:16.519Z"
   },
   {
    "duration": 27,
    "start_time": "2022-05-26T15:51:16.568Z"
   },
   {
    "duration": 12,
    "start_time": "2022-05-26T15:51:16.598Z"
   },
   {
    "duration": 25,
    "start_time": "2022-05-26T15:51:16.612Z"
   },
   {
    "duration": 39,
    "start_time": "2022-05-26T15:51:16.639Z"
   },
   {
    "duration": 839,
    "start_time": "2022-05-26T15:51:16.680Z"
   },
   {
    "duration": 829,
    "start_time": "2022-05-26T15:51:17.521Z"
   },
   {
    "duration": 1039,
    "start_time": "2022-05-26T15:51:18.352Z"
   },
   {
    "duration": 503,
    "start_time": "2022-05-26T15:51:19.393Z"
   },
   {
    "duration": 503,
    "start_time": "2022-05-26T15:51:19.902Z"
   },
   {
    "duration": 10,
    "start_time": "2022-05-26T15:51:20.408Z"
   },
   {
    "duration": 798,
    "start_time": "2022-05-26T15:51:20.420Z"
   },
   {
    "duration": 30,
    "start_time": "2022-05-26T15:51:21.221Z"
   },
   {
    "duration": 22,
    "start_time": "2022-05-26T15:51:21.266Z"
   },
   {
    "duration": 4,
    "start_time": "2022-05-26T15:51:21.290Z"
   },
   {
    "duration": 6,
    "start_time": "2022-05-26T15:51:21.296Z"
   },
   {
    "duration": 15,
    "start_time": "2022-05-26T15:51:21.304Z"
   },
   {
    "duration": 51,
    "start_time": "2022-05-26T15:51:21.322Z"
   },
   {
    "duration": 1498,
    "start_time": "2022-05-26T15:51:21.375Z"
   },
   {
    "duration": 99940,
    "start_time": "2022-05-26T15:51:22.875Z"
   },
   {
    "duration": 721,
    "start_time": "2022-05-26T15:53:02.818Z"
   },
   {
    "duration": 1318573,
    "start_time": "2022-05-26T15:53:03.541Z"
   },
   {
    "duration": 59631,
    "start_time": "2022-05-26T16:15:02.116Z"
   },
   {
    "duration": 186,
    "start_time": "2022-05-26T16:16:01.749Z"
   },
   {
    "duration": 8,
    "start_time": "2022-05-26T16:16:01.937Z"
   },
   {
    "duration": 24,
    "start_time": "2022-05-26T16:16:01.947Z"
   },
   {
    "duration": 34,
    "start_time": "2022-05-26T16:16:01.973Z"
   },
   {
    "duration": 758,
    "start_time": "2022-05-26T16:16:02.009Z"
   },
   {
    "duration": 38292,
    "start_time": "2022-05-26T16:16:02.773Z"
   },
   {
    "duration": 416,
    "start_time": "2022-05-26T16:16:41.068Z"
   },
   {
    "duration": 1272,
    "start_time": "2022-05-26T17:28:49.887Z"
   },
   {
    "duration": 845,
    "start_time": "2022-05-26T17:28:51.161Z"
   },
   {
    "duration": 64,
    "start_time": "2022-05-26T17:28:52.008Z"
   },
   {
    "duration": 124,
    "start_time": "2022-05-26T17:28:52.074Z"
   },
   {
    "duration": 37,
    "start_time": "2022-05-26T17:28:52.200Z"
   },
   {
    "duration": 3,
    "start_time": "2022-05-26T17:28:52.239Z"
   },
   {
    "duration": 283,
    "start_time": "2022-05-26T17:28:52.244Z"
   },
   {
    "duration": 19,
    "start_time": "2022-05-26T17:28:52.529Z"
   },
   {
    "duration": 34,
    "start_time": "2022-05-26T17:28:52.550Z"
   },
   {
    "duration": 15,
    "start_time": "2022-05-26T17:28:52.586Z"
   },
   {
    "duration": 113,
    "start_time": "2022-05-26T17:28:52.603Z"
   },
   {
    "duration": 162,
    "start_time": "2022-05-26T17:28:52.719Z"
   },
   {
    "duration": 31,
    "start_time": "2022-05-26T17:28:52.883Z"
   },
   {
    "duration": 5,
    "start_time": "2022-05-26T17:28:52.918Z"
   },
   {
    "duration": 11,
    "start_time": "2022-05-26T17:28:52.924Z"
   },
   {
    "duration": 11,
    "start_time": "2022-05-26T17:28:52.936Z"
   },
   {
    "duration": 12,
    "start_time": "2022-05-26T17:28:52.949Z"
   },
   {
    "duration": 19,
    "start_time": "2022-05-26T17:28:52.968Z"
   },
   {
    "duration": 10,
    "start_time": "2022-05-26T17:28:52.988Z"
   },
   {
    "duration": 22,
    "start_time": "2022-05-26T17:28:53.000Z"
   },
   {
    "duration": 5,
    "start_time": "2022-05-26T17:28:53.023Z"
   },
   {
    "duration": 14,
    "start_time": "2022-05-26T17:28:53.030Z"
   },
   {
    "duration": 36,
    "start_time": "2022-05-26T17:28:53.046Z"
   },
   {
    "duration": 814,
    "start_time": "2022-05-26T17:28:53.084Z"
   },
   {
    "duration": 784,
    "start_time": "2022-05-26T17:28:53.900Z"
   },
   {
    "duration": 932,
    "start_time": "2022-05-26T17:28:54.687Z"
   },
   {
    "duration": 514,
    "start_time": "2022-05-26T17:28:55.621Z"
   },
   {
    "duration": 499,
    "start_time": "2022-05-26T17:28:56.137Z"
   },
   {
    "duration": 7,
    "start_time": "2022-05-26T17:28:56.638Z"
   },
   {
    "duration": 769,
    "start_time": "2022-05-26T17:28:56.647Z"
   },
   {
    "duration": 30,
    "start_time": "2022-05-26T17:28:57.418Z"
   },
   {
    "duration": 34,
    "start_time": "2022-05-26T17:28:57.450Z"
   },
   {
    "duration": 5,
    "start_time": "2022-05-26T17:28:57.486Z"
   },
   {
    "duration": 7,
    "start_time": "2022-05-26T17:28:57.493Z"
   },
   {
    "duration": 11,
    "start_time": "2022-05-26T17:28:57.502Z"
   },
   {
    "duration": 28,
    "start_time": "2022-05-26T17:28:57.514Z"
   },
   {
    "duration": 2034,
    "start_time": "2022-05-26T17:28:57.544Z"
   },
   {
    "duration": 102261,
    "start_time": "2022-05-26T17:28:59.587Z"
   },
   {
    "duration": 726,
    "start_time": "2022-05-26T17:30:41.851Z"
   },
   {
    "duration": 61,
    "start_time": "2022-05-27T18:40:15.069Z"
   },
   {
    "duration": 3362,
    "start_time": "2022-05-27T18:40:22.729Z"
   },
   {
    "duration": 2696,
    "start_time": "2022-05-27T18:40:26.093Z"
   },
   {
    "duration": 47,
    "start_time": "2022-05-27T18:40:28.790Z"
   },
   {
    "duration": 52,
    "start_time": "2022-05-27T18:40:28.840Z"
   },
   {
    "duration": 34,
    "start_time": "2022-05-27T18:40:28.894Z"
   },
   {
    "duration": 3,
    "start_time": "2022-05-27T18:40:28.930Z"
   },
   {
    "duration": 331,
    "start_time": "2022-05-27T18:40:28.948Z"
   },
   {
    "duration": 51,
    "start_time": "2022-05-27T18:40:29.281Z"
   },
   {
    "duration": 21,
    "start_time": "2022-05-27T18:40:29.334Z"
   },
   {
    "duration": 17,
    "start_time": "2022-05-27T18:40:29.357Z"
   },
   {
    "duration": 96,
    "start_time": "2022-05-27T18:40:29.375Z"
   },
   {
    "duration": 129,
    "start_time": "2022-05-27T18:40:29.473Z"
   },
   {
    "duration": 20,
    "start_time": "2022-05-27T18:40:29.604Z"
   },
   {
    "duration": 23,
    "start_time": "2022-05-27T18:40:29.625Z"
   },
   {
    "duration": 17,
    "start_time": "2022-05-27T18:40:29.652Z"
   },
   {
    "duration": 6,
    "start_time": "2022-05-27T18:40:29.672Z"
   },
   {
    "duration": 9,
    "start_time": "2022-05-27T18:40:29.680Z"
   },
   {
    "duration": 6,
    "start_time": "2022-05-27T18:40:29.690Z"
   },
   {
    "duration": 15,
    "start_time": "2022-05-27T18:40:29.698Z"
   },
   {
    "duration": 45,
    "start_time": "2022-05-27T18:40:29.715Z"
   },
   {
    "duration": 5,
    "start_time": "2022-05-27T18:40:29.761Z"
   },
   {
    "duration": 15,
    "start_time": "2022-05-27T18:40:29.767Z"
   },
   {
    "duration": 19,
    "start_time": "2022-05-27T18:40:29.784Z"
   },
   {
    "duration": 856,
    "start_time": "2022-05-27T18:40:29.808Z"
   },
   {
    "duration": 907,
    "start_time": "2022-05-27T18:40:30.665Z"
   },
   {
    "duration": 795,
    "start_time": "2022-05-27T18:40:31.574Z"
   },
   {
    "duration": 454,
    "start_time": "2022-05-27T18:40:32.370Z"
   },
   {
    "duration": 647,
    "start_time": "2022-05-27T18:40:32.828Z"
   },
   {
    "duration": 9,
    "start_time": "2022-05-27T18:40:33.476Z"
   },
   {
    "duration": 622,
    "start_time": "2022-05-27T18:40:33.486Z"
   },
   {
    "duration": 36,
    "start_time": "2022-05-27T18:40:34.110Z"
   },
   {
    "duration": 24,
    "start_time": "2022-05-27T18:40:34.151Z"
   },
   {
    "duration": 4,
    "start_time": "2022-05-27T18:40:34.178Z"
   },
   {
    "duration": 4,
    "start_time": "2022-05-27T18:40:34.184Z"
   },
   {
    "duration": 18,
    "start_time": "2022-05-27T18:40:34.190Z"
   },
   {
    "duration": 47,
    "start_time": "2022-05-27T18:40:34.213Z"
   },
   {
    "duration": 4805,
    "start_time": "2022-05-27T18:40:34.267Z"
   },
   {
    "duration": 100294,
    "start_time": "2022-05-27T18:40:39.084Z"
   },
   {
    "duration": 739,
    "start_time": "2022-05-27T18:42:19.380Z"
   },
   {
    "duration": 1331042,
    "start_time": "2022-05-27T18:42:20.121Z"
   },
   {
    "duration": 57381,
    "start_time": "2022-05-27T19:04:31.165Z"
   },
   {
    "duration": 162,
    "start_time": "2022-05-27T19:05:28.556Z"
   },
   {
    "duration": 5,
    "start_time": "2022-05-27T19:05:28.720Z"
   },
   {
    "duration": 17,
    "start_time": "2022-05-27T19:05:28.727Z"
   },
   {
    "duration": 29,
    "start_time": "2022-05-27T19:05:28.746Z"
   },
   {
    "duration": 669,
    "start_time": "2022-05-27T19:05:28.777Z"
   },
   {
    "duration": 38867,
    "start_time": "2022-05-27T19:05:29.448Z"
   },
   {
    "duration": 424,
    "start_time": "2022-05-27T19:06:08.316Z"
   },
   {
    "duration": 494939,
    "start_time": "2022-05-27T19:06:08.746Z"
   },
   {
    "duration": 18742,
    "start_time": "2022-05-27T19:14:23.687Z"
   },
   {
    "duration": 128,
    "start_time": "2022-05-27T19:14:42.430Z"
   },
   {
    "duration": 0,
    "start_time": "2022-05-27T19:14:42.560Z"
   },
   {
    "duration": 0,
    "start_time": "2022-05-27T19:14:42.561Z"
   }
  ],
  "kernelspec": {
   "display_name": "Python 3 (ipykernel)",
   "language": "python",
   "name": "python3"
  },
  "language_info": {
   "codemirror_mode": {
    "name": "ipython",
    "version": 3
   },
   "file_extension": ".py",
   "mimetype": "text/x-python",
   "name": "python",
   "nbconvert_exporter": "python",
   "pygments_lexer": "ipython3",
   "version": "3.9.13"
  },
  "toc": {
   "base_numbering": 1,
   "nav_menu": {},
   "number_sections": true,
   "sideBar": true,
   "skip_h1_title": true,
   "title_cell": "Table of Contents",
   "title_sidebar": "Contents",
   "toc_cell": true,
   "toc_position": {
    "height": "calc(100% - 180px)",
    "left": "10px",
    "top": "150px",
    "width": "234px"
   },
   "toc_section_display": true,
   "toc_window_display": true
  }
 },
 "nbformat": 4,
 "nbformat_minor": 5
}
