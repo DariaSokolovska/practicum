{
 "cells": [
  {
   "cell_type": "markdown",
   "metadata": {
    "toc": true
   },
   "source": [
    "<h1>Содержание<span class=\"tocSkip\"></span></h1>\n",
    "<div class=\"toc\"><ul class=\"toc-item\"><li><span><a href=\"#Подготовка-данных\" data-toc-modified-id=\"Подготовка-данных-1\"><span class=\"toc-item-num\">1&nbsp;&nbsp;</span>Подготовка данных</a></span></li><li><span><a href=\"#Исследование-задачи\" data-toc-modified-id=\"Исследование-задачи-2\"><span class=\"toc-item-num\">2&nbsp;&nbsp;</span>Исследование задачи</a></span><ul class=\"toc-item\"><li><span><a href=\"#Разделение-на-выборки\" data-toc-modified-id=\"Разделение-на-выборки-2.1\"><span class=\"toc-item-num\">2.1&nbsp;&nbsp;</span>Разделение на выборки</a></span></li><li><span><a href=\"#Изучение-дизбаланса-классов\" data-toc-modified-id=\"Изучение-дизбаланса-классов-2.2\"><span class=\"toc-item-num\">2.2&nbsp;&nbsp;</span>Изучение дизбаланса классов</a></span></li><li><span><a href=\"#Обучение-модели-без-учета-дисбаланса\" data-toc-modified-id=\"Обучение-модели-без-учета-дисбаланса-2.3\"><span class=\"toc-item-num\">2.3&nbsp;&nbsp;</span>Обучение модели без учета дисбаланса</a></span><ul class=\"toc-item\"><li><span><a href=\"#DecisionTree\" data-toc-modified-id=\"DecisionTree-2.3.1\"><span class=\"toc-item-num\">2.3.1&nbsp;&nbsp;</span>DecisionTree</a></span></li><li><span><a href=\"#RandomForest\" data-toc-modified-id=\"RandomForest-2.3.2\"><span class=\"toc-item-num\">2.3.2&nbsp;&nbsp;</span>RandomForest</a></span></li><li><span><a href=\"#Логистическая-регрессия\" data-toc-modified-id=\"Логистическая-регрессия-2.3.3\"><span class=\"toc-item-num\">2.3.3&nbsp;&nbsp;</span>Логистическая регрессия</a></span></li><li><span><a href=\"#Accuracy,-precision,-recall,-F-метрика\" data-toc-modified-id=\"Accuracy,-precision,-recall,-F-метрика-2.3.4\"><span class=\"toc-item-num\">2.3.4&nbsp;&nbsp;</span>Accuracy, precision, recall, F-метрика</a></span></li><li><span><a href=\"#ROC-AUC\" data-toc-modified-id=\"ROC-AUC-2.3.5\"><span class=\"toc-item-num\">2.3.5&nbsp;&nbsp;</span>ROC-AUC</a></span></li></ul></li><li><span><a href=\"#Вывод\" data-toc-modified-id=\"Вывод-2.4\"><span class=\"toc-item-num\">2.4&nbsp;&nbsp;</span>Вывод</a></span></li></ul></li><li><span><a href=\"#Борьба-с-дисбалансом\" data-toc-modified-id=\"Борьба-с-дисбалансом-3\"><span class=\"toc-item-num\">3&nbsp;&nbsp;</span>Борьба с дисбалансом</a></span><ul class=\"toc-item\"><li><span><a href=\"#Взвешивание-классов\" data-toc-modified-id=\"Взвешивание-классов-3.1\"><span class=\"toc-item-num\">3.1&nbsp;&nbsp;</span>Взвешивание классов</a></span></li><li><span><a href=\"#Увеличение-выборки\" data-toc-modified-id=\"Увеличение-выборки-3.2\"><span class=\"toc-item-num\">3.2&nbsp;&nbsp;</span>Увеличение выборки</a></span></li><li><span><a href=\"#Уменьшение-выборки\" data-toc-modified-id=\"Уменьшение-выборки-3.3\"><span class=\"toc-item-num\">3.3&nbsp;&nbsp;</span>Уменьшение выборки</a></span></li><li><span><a href=\"#Вывод\" data-toc-modified-id=\"Вывод-3.4\"><span class=\"toc-item-num\">3.4&nbsp;&nbsp;</span>Вывод</a></span></li></ul></li><li><span><a href=\"#Тестирование-модели\" data-toc-modified-id=\"Тестирование-модели-4\"><span class=\"toc-item-num\">4&nbsp;&nbsp;</span>Тестирование модели</a></span></li><li><span><a href=\"#Вывод\" data-toc-modified-id=\"Вывод-5\"><span class=\"toc-item-num\">5&nbsp;&nbsp;</span>Вывод</a></span></li></ul></div>"
   ]
  },
  {
   "cell_type": "markdown",
   "metadata": {},
   "source": [
    "# Отток клиентов"
   ]
  },
  {
   "cell_type": "markdown",
   "metadata": {},
   "source": [
    "Из «Бета-Банка» стали уходить клиенты. Каждый месяц. Немного, но заметно. Банковские маркетологи посчитали: сохранять текущих клиентов дешевле, чем привлекать новых.\n",
    "\n",
    "Нужно спрогнозировать, уйдёт клиент из банка в ближайшее время или нет. \n",
    "\n",
    "Необходимо построить модель с предельно большим значением *F1*-меры. \n"
   ]
  },
  {
   "cell_type": "markdown",
   "metadata": {},
   "source": [
    "## Подготовка данных"
   ]
  },
  {
   "cell_type": "code",
   "execution_count": 1,
   "metadata": {},
   "outputs": [],
   "source": [
    "import pandas as pd\n",
    "from sklearn.model_selection import train_test_split\n",
    "from sklearn.linear_model import LogisticRegression\n",
    "from sklearn.tree import DecisionTreeClassifier\n",
    "from sklearn.ensemble import RandomForestClassifier\n",
    "from sklearn.naive_bayes import GaussianNB\n",
    "from sklearn.metrics import f1_score, precision_score, recall_score, accuracy_score, roc_auc_score, roc_curve\n",
    "from sklearn.utils import shuffle\n",
    "import matplotlib.pyplot as plt\n",
    "import numpy as np\n",
    "from sklearn.model_selection import GridSearchCV"
   ]
  },
  {
   "cell_type": "code",
   "execution_count": 2,
   "metadata": {},
   "outputs": [],
   "source": [
    "df = pd.read_csv('/datasets/Churn.csv')"
   ]
  },
  {
   "cell_type": "code",
   "execution_count": 3,
   "metadata": {},
   "outputs": [
    {
     "data": {
      "text/html": [
       "<div>\n",
       "<style scoped>\n",
       "    .dataframe tbody tr th:only-of-type {\n",
       "        vertical-align: middle;\n",
       "    }\n",
       "\n",
       "    .dataframe tbody tr th {\n",
       "        vertical-align: top;\n",
       "    }\n",
       "\n",
       "    .dataframe thead th {\n",
       "        text-align: right;\n",
       "    }\n",
       "</style>\n",
       "<table border=\"1\" class=\"dataframe\">\n",
       "  <thead>\n",
       "    <tr style=\"text-align: right;\">\n",
       "      <th></th>\n",
       "      <th>RowNumber</th>\n",
       "      <th>CustomerId</th>\n",
       "      <th>Surname</th>\n",
       "      <th>CreditScore</th>\n",
       "      <th>Geography</th>\n",
       "      <th>Gender</th>\n",
       "      <th>Age</th>\n",
       "      <th>Tenure</th>\n",
       "      <th>Balance</th>\n",
       "      <th>NumOfProducts</th>\n",
       "      <th>HasCrCard</th>\n",
       "      <th>IsActiveMember</th>\n",
       "      <th>EstimatedSalary</th>\n",
       "      <th>Exited</th>\n",
       "    </tr>\n",
       "  </thead>\n",
       "  <tbody>\n",
       "    <tr>\n",
       "      <th>0</th>\n",
       "      <td>1</td>\n",
       "      <td>15634602</td>\n",
       "      <td>Hargrave</td>\n",
       "      <td>619</td>\n",
       "      <td>France</td>\n",
       "      <td>Female</td>\n",
       "      <td>42</td>\n",
       "      <td>2.0</td>\n",
       "      <td>0.00</td>\n",
       "      <td>1</td>\n",
       "      <td>1</td>\n",
       "      <td>1</td>\n",
       "      <td>101348.88</td>\n",
       "      <td>1</td>\n",
       "    </tr>\n",
       "    <tr>\n",
       "      <th>1</th>\n",
       "      <td>2</td>\n",
       "      <td>15647311</td>\n",
       "      <td>Hill</td>\n",
       "      <td>608</td>\n",
       "      <td>Spain</td>\n",
       "      <td>Female</td>\n",
       "      <td>41</td>\n",
       "      <td>1.0</td>\n",
       "      <td>83807.86</td>\n",
       "      <td>1</td>\n",
       "      <td>0</td>\n",
       "      <td>1</td>\n",
       "      <td>112542.58</td>\n",
       "      <td>0</td>\n",
       "    </tr>\n",
       "    <tr>\n",
       "      <th>2</th>\n",
       "      <td>3</td>\n",
       "      <td>15619304</td>\n",
       "      <td>Onio</td>\n",
       "      <td>502</td>\n",
       "      <td>France</td>\n",
       "      <td>Female</td>\n",
       "      <td>42</td>\n",
       "      <td>8.0</td>\n",
       "      <td>159660.80</td>\n",
       "      <td>3</td>\n",
       "      <td>1</td>\n",
       "      <td>0</td>\n",
       "      <td>113931.57</td>\n",
       "      <td>1</td>\n",
       "    </tr>\n",
       "    <tr>\n",
       "      <th>3</th>\n",
       "      <td>4</td>\n",
       "      <td>15701354</td>\n",
       "      <td>Boni</td>\n",
       "      <td>699</td>\n",
       "      <td>France</td>\n",
       "      <td>Female</td>\n",
       "      <td>39</td>\n",
       "      <td>1.0</td>\n",
       "      <td>0.00</td>\n",
       "      <td>2</td>\n",
       "      <td>0</td>\n",
       "      <td>0</td>\n",
       "      <td>93826.63</td>\n",
       "      <td>0</td>\n",
       "    </tr>\n",
       "    <tr>\n",
       "      <th>4</th>\n",
       "      <td>5</td>\n",
       "      <td>15737888</td>\n",
       "      <td>Mitchell</td>\n",
       "      <td>850</td>\n",
       "      <td>Spain</td>\n",
       "      <td>Female</td>\n",
       "      <td>43</td>\n",
       "      <td>2.0</td>\n",
       "      <td>125510.82</td>\n",
       "      <td>1</td>\n",
       "      <td>1</td>\n",
       "      <td>1</td>\n",
       "      <td>79084.10</td>\n",
       "      <td>0</td>\n",
       "    </tr>\n",
       "  </tbody>\n",
       "</table>\n",
       "</div>"
      ],
      "text/plain": [
       "   RowNumber  CustomerId   Surname  CreditScore Geography  Gender  Age  \\\n",
       "0          1    15634602  Hargrave          619    France  Female   42   \n",
       "1          2    15647311      Hill          608     Spain  Female   41   \n",
       "2          3    15619304      Onio          502    France  Female   42   \n",
       "3          4    15701354      Boni          699    France  Female   39   \n",
       "4          5    15737888  Mitchell          850     Spain  Female   43   \n",
       "\n",
       "   Tenure    Balance  NumOfProducts  HasCrCard  IsActiveMember  \\\n",
       "0     2.0       0.00              1          1               1   \n",
       "1     1.0   83807.86              1          0               1   \n",
       "2     8.0  159660.80              3          1               0   \n",
       "3     1.0       0.00              2          0               0   \n",
       "4     2.0  125510.82              1          1               1   \n",
       "\n",
       "   EstimatedSalary  Exited  \n",
       "0        101348.88       1  \n",
       "1        112542.58       0  \n",
       "2        113931.57       1  \n",
       "3         93826.63       0  \n",
       "4         79084.10       0  "
      ]
     },
     "metadata": {},
     "output_type": "display_data"
    }
   ],
   "source": [
    "display(df.head())"
   ]
  },
  {
   "cell_type": "markdown",
   "metadata": {},
   "source": [
    "Изучив несколько строк датасета я пришла к выводу, что можно убрать несколько столбцов из датафрейма: \tRowNumber(дублирует индекс), Surname и CustomerId (не нужны для исследования). Также необходимо привести в порядок заголовки столбцов"
   ]
  },
  {
   "cell_type": "code",
   "execution_count": 4,
   "metadata": {},
   "outputs": [],
   "source": [
    "df.columns = df.columns.str.lower()\n",
    "df.rename(columns = {'сreditscore' : 'сredit_score', 'numofproducts' : 'num_of_products', \n",
    "                     'hascrcard' : 'has_cr_card', 'isactivemember' : 'is_active_member', \n",
    "                     'estimatedsalary' : 'estimated_salary'}, inplace = True)"
   ]
  },
  {
   "cell_type": "code",
   "execution_count": 5,
   "metadata": {},
   "outputs": [],
   "source": [
    "df = df.drop(['rownumber', 'surname', 'customerid'], axis = 1)"
   ]
  },
  {
   "cell_type": "code",
   "execution_count": 6,
   "metadata": {},
   "outputs": [
    {
     "name": "stdout",
     "output_type": "stream",
     "text": [
      "<class 'pandas.core.frame.DataFrame'>\n",
      "RangeIndex: 10000 entries, 0 to 9999\n",
      "Data columns (total 11 columns):\n",
      " #   Column            Non-Null Count  Dtype  \n",
      "---  ------            --------------  -----  \n",
      " 0   creditscore       10000 non-null  int64  \n",
      " 1   geography         10000 non-null  object \n",
      " 2   gender            10000 non-null  object \n",
      " 3   age               10000 non-null  int64  \n",
      " 4   tenure            9091 non-null   float64\n",
      " 5   balance           10000 non-null  float64\n",
      " 6   num_of_products   10000 non-null  int64  \n",
      " 7   has_cr_card       10000 non-null  int64  \n",
      " 8   is_active_member  10000 non-null  int64  \n",
      " 9   estimated_salary  10000 non-null  float64\n",
      " 10  exited            10000 non-null  int64  \n",
      "dtypes: float64(3), int64(6), object(2)\n",
      "memory usage: 859.5+ KB\n",
      "None\n"
     ]
    }
   ],
   "source": [
    "print(df.info())"
   ]
  },
  {
   "cell_type": "markdown",
   "metadata": {},
   "source": [
    "Изучив глубже датасет я обнаружила, что в столбце 'tenure' нет всех значений. Необходимо дополнительно изучить данный столбец, чтобы принять решение о дальнеййших действиях"
   ]
  },
  {
   "cell_type": "code",
   "execution_count": 7,
   "metadata": {},
   "outputs": [
    {
     "data": {
      "text/plain": [
       "array([ 2.,  1.,  8.,  7.,  4.,  6.,  3., 10.,  5.,  9.,  0., nan])"
      ]
     },
     "execution_count": 7,
     "metadata": {},
     "output_type": "execute_result"
    }
   ],
   "source": [
    "df['tenure'].unique()"
   ]
  },
  {
   "cell_type": "markdown",
   "metadata": {},
   "source": [
    "Отсутствеющие данные составляют 9% всех данных. В данной ситуации я вижу 2 варианта: заменить пропущенные значения медианным, либо удалить эти строки. Так как данный критерий (количество лет в банке) я считаю важным для обучения модели, я удалю данные строки."
   ]
  },
  {
   "cell_type": "code",
   "execution_count": 8,
   "metadata": {},
   "outputs": [],
   "source": [
    "df = df.dropna(subset = ['tenure'])"
   ]
  },
  {
   "cell_type": "markdown",
   "metadata": {},
   "source": [
    "Также необходимо выполнить проверку на наличие дубликатов"
   ]
  },
  {
   "cell_type": "code",
   "execution_count": 9,
   "metadata": {},
   "outputs": [
    {
     "name": "stdout",
     "output_type": "stream",
     "text": [
      "Количесвто дубликатов: 0\n"
     ]
    }
   ],
   "source": [
    "print(\"Количесвто дубликатов:\",df.duplicated().sum())"
   ]
  },
  {
   "cell_type": "markdown",
   "metadata": {},
   "source": [
    "Так как есть стоблбцы с категориальными значениям, создадим датафрейм, созданный по методу прямого кодирования с защитой от дамми-ловушки."
   ]
  },
  {
   "cell_type": "code",
   "execution_count": 10,
   "metadata": {},
   "outputs": [
    {
     "name": "stdout",
     "output_type": "stream",
     "text": [
      "<class 'pandas.core.frame.DataFrame'>\n",
      "Int64Index: 9091 entries, 0 to 9998\n",
      "Data columns (total 12 columns):\n",
      " #   Column             Non-Null Count  Dtype  \n",
      "---  ------             --------------  -----  \n",
      " 0   creditscore        9091 non-null   int64  \n",
      " 1   age                9091 non-null   int64  \n",
      " 2   tenure             9091 non-null   float64\n",
      " 3   balance            9091 non-null   float64\n",
      " 4   num_of_products    9091 non-null   int64  \n",
      " 5   has_cr_card        9091 non-null   int64  \n",
      " 6   is_active_member   9091 non-null   int64  \n",
      " 7   estimated_salary   9091 non-null   float64\n",
      " 8   exited             9091 non-null   int64  \n",
      " 9   geography_Germany  9091 non-null   uint8  \n",
      " 10  geography_Spain    9091 non-null   uint8  \n",
      " 11  gender_Male        9091 non-null   uint8  \n",
      "dtypes: float64(3), int64(6), uint8(3)\n",
      "memory usage: 736.9 KB\n"
     ]
    }
   ],
   "source": [
    "ohe_df = pd.get_dummies(df, drop_first=True)\n",
    "ohe_df.info()"
   ]
  },
  {
   "cell_type": "markdown",
   "metadata": {},
   "source": [
    "## Исследование задачи"
   ]
  },
  {
   "cell_type": "markdown",
   "metadata": {},
   "source": [
    "### Разделение на выборки"
   ]
  },
  {
   "cell_type": "markdown",
   "metadata": {},
   "source": [
    "Для начала необходимо разделить данные на 3 выборки: обучающую, валидационную и тестовую"
   ]
  },
  {
   "cell_type": "code",
   "execution_count": 11,
   "metadata": {},
   "outputs": [
    {
     "name": "stdout",
     "output_type": "stream",
     "text": [
      "(5454, 11)\n",
      "(1819, 11)\n",
      "(1818, 11)\n"
     ]
    }
   ],
   "source": [
    "features = ohe_df.drop('exited', axis=1)\n",
    "target = ohe_df['exited']\n",
    "\n",
    "features_train, features_valid, target_train, target_valid = train_test_split(features, target, test_size = 0.4, random_state = 12345)\n",
    "features_test, features_valid, target_test, target_valid = train_test_split(features_valid, target_valid, test_size = 0.5, random_state = 12345)\n",
    "\n",
    "print(features_train.shape)\n",
    "print(features_valid.shape)\n",
    "print(features_test.shape)"
   ]
  },
  {
   "cell_type": "markdown",
   "metadata": {},
   "source": [
    "### Изучение дизбаланса классов"
   ]
  },
  {
   "cell_type": "code",
   "execution_count": 12,
   "metadata": {},
   "outputs": [
    {
     "data": {
      "text/plain": [
       "0    0.796062\n",
       "1    0.203938\n",
       "Name: exited, dtype: float64"
      ]
     },
     "execution_count": 12,
     "metadata": {},
     "output_type": "execute_result"
    }
   ],
   "source": [
    "target.value_counts(normalize=True)"
   ]
  },
  {
   "cell_type": "code",
   "execution_count": 13,
   "metadata": {},
   "outputs": [
    {
     "data": {
      "image/png": "[encoded data removed]",
      "text/plain": [
       "<Figure size 432x288 with 1 Axes>"
      ]
     },
     "metadata": {
      "needs_background": "light"
     },
     "output_type": "display_data"
    }
   ],
   "source": [
    "target.value_counts(normalize=True).plot(kind = 'bar')\n",
    "plt.xlabel(\"Классы\")\n",
    "plt.ylabel(\"Доля значений в датафрейме\")\n",
    "plt.title(\"Дизбаланс классов\")\n",
    "plt.show()"
   ]
  },
  {
   "cell_type": "markdown",
   "metadata": {},
   "source": [
    "Соотношение классов примерно 1:4"
   ]
  },
  {
   "cell_type": "markdown",
   "metadata": {},
   "source": [
    "### Обучение модели без учета дисбаланса             "
   ]
  },
  {
   "cell_type": "markdown",
   "metadata": {},
   "source": [
    "#### DecisionTree"
   ]
  },
  {
   "cell_type": "code",
   "execution_count": 14,
   "metadata": {},
   "outputs": [
    {
     "name": "stdout",
     "output_type": "stream",
     "text": [
      "Лучшая глубина 7 , F1-score 0.5534804753820034\n"
     ]
    }
   ],
   "source": [
    "best_depth = 0\n",
    "best_f1 = 0\n",
    "for depth in range(2, 20):\n",
    "    model = DecisionTreeClassifier(random_state=12345, max_depth=depth)\n",
    "    model.fit(features_train, target_train)\n",
    "    predicted_valid = model.predict(features_valid)\n",
    "    f1 = f1_score(target_valid, predicted_valid)\n",
    "    if f1 > best_f1:\n",
    "        best_depth = depth\n",
    "        best_f1 = f1\n",
    "print('Лучшая глубина', best_depth, ',', 'F1-score', best_f1)"
   ]
  },
  {
   "cell_type": "markdown",
   "metadata": {},
   "source": [
    "#### RandomForest"
   ]
  },
  {
   "cell_type": "code",
   "execution_count": 15,
   "metadata": {},
   "outputs": [
    {
     "name": "stdout",
     "output_type": "stream",
     "text": [
      "Лучшее количество деревьев 21 , F1-score 0.5783132530120482\n"
     ]
    }
   ],
   "source": [
    "# сначала рассмотрим количество деревьев с 1 до 150 с шагом в 10\n",
    "best_est = 0\n",
    "best_f1 = 0\n",
    "for est in range (1, 150, 10):\n",
    "    model = RandomForestClassifier(n_estimators = est, random_state = 12345)\n",
    "    model.fit(features_train, target_train)\n",
    "    predicted_valid = model.predict(features_valid)\n",
    "    f1 = f1_score(target_valid, predicted_valid)\n",
    "    if f1 > best_f1:\n",
    "        best_est = est\n",
    "        best_f1 = f1\n",
    "print('Лучшее количество деревьев', best_est, ',', 'F1-score', best_f1)"
   ]
  },
  {
   "cell_type": "markdown",
   "metadata": {},
   "source": [
    "Так как лучшее значение было выявлено при количестве деревьев 21, я рассмотрю подробнее интервал с 10 до 30 с интервалом 1, что бы выявить лечшее количество деревьев."
   ]
  },
  {
   "cell_type": "code",
   "execution_count": 1,
   "metadata": {},
   "outputs": [
    {
     "ename": "NameError",
     "evalue": "name 'RandomForestClassifier' is not defined",
     "output_type": "error",
     "traceback": [
      "\u001b[0;31m---------------------------------------------------------------------------\u001b[0m",
      "\u001b[0;31mNameError\u001b[0m                                 Traceback (most recent call last)",
      "\u001b[0;32m/tmp/ipykernel_37/296564284.py\u001b[0m in \u001b[0;36m<module>\u001b[0;34m\u001b[0m\n\u001b[1;32m      2\u001b[0m \u001b[0mbest_f1\u001b[0m \u001b[0;34m=\u001b[0m \u001b[0;36m0\u001b[0m\u001b[0;34m\u001b[0m\u001b[0;34m\u001b[0m\u001b[0m\n\u001b[1;32m      3\u001b[0m \u001b[0;32mfor\u001b[0m \u001b[0mest\u001b[0m \u001b[0;32min\u001b[0m \u001b[0mrange\u001b[0m \u001b[0;34m(\u001b[0m\u001b[0;36m10\u001b[0m\u001b[0;34m,\u001b[0m \u001b[0;36m30\u001b[0m\u001b[0;34m,\u001b[0m \u001b[0;36m1\u001b[0m\u001b[0;34m)\u001b[0m\u001b[0;34m:\u001b[0m\u001b[0;34m\u001b[0m\u001b[0;34m\u001b[0m\u001b[0m\n\u001b[0;32m----> 4\u001b[0;31m     \u001b[0mmodel\u001b[0m \u001b[0;34m=\u001b[0m \u001b[0mRandomForestClassifier\u001b[0m\u001b[0;34m(\u001b[0m\u001b[0mn_estimators\u001b[0m \u001b[0;34m=\u001b[0m \u001b[0mest\u001b[0m\u001b[0;34m,\u001b[0m \u001b[0mrandom_state\u001b[0m \u001b[0;34m=\u001b[0m \u001b[0;36m12345\u001b[0m\u001b[0;34m)\u001b[0m\u001b[0;34m\u001b[0m\u001b[0;34m\u001b[0m\u001b[0m\n\u001b[0m\u001b[1;32m      5\u001b[0m     \u001b[0mmodel\u001b[0m\u001b[0;34m.\u001b[0m\u001b[0mfit\u001b[0m\u001b[0;34m(\u001b[0m\u001b[0mfeatures_train\u001b[0m\u001b[0;34m,\u001b[0m \u001b[0mtarget_train\u001b[0m\u001b[0;34m)\u001b[0m\u001b[0;34m\u001b[0m\u001b[0;34m\u001b[0m\u001b[0m\n\u001b[1;32m      6\u001b[0m     \u001b[0mpredicted_valid\u001b[0m \u001b[0;34m=\u001b[0m \u001b[0mmodel\u001b[0m\u001b[0;34m.\u001b[0m\u001b[0mpredict\u001b[0m\u001b[0;34m(\u001b[0m\u001b[0mfeatures_valid\u001b[0m\u001b[0;34m)\u001b[0m\u001b[0;34m\u001b[0m\u001b[0;34m\u001b[0m\u001b[0m\n",
      "\u001b[0;31mNameError\u001b[0m: name 'RandomForestClassifier' is not defined"
     ]
    }
   ],
   "source": [
    "best_est = 0\n",
    "best_f1 = 0\n",
    "for est in range (10, 30, 1):\n",
    "    model = RandomForestClassifier(n_estimators = est, random_state = 12345)\n",
    "    model.fit(features_train, target_train)\n",
    "    predicted_valid = model.predict(features_valid)\n",
    "    f1 = f1_score(target_valid, predicted_valid)\n",
    "    if f1 > best_f1:\n",
    "        best_est = est\n",
    "        best_f1 = f1\n",
    "        \n",
    "string = f\"Лучшее количество деревьев ${best_est}\"\n",
    "\n",
    "print(string)\n",
    "\n",
    "print(f\"text ${best_est} text 2 ${1+1}\")\n",
    "print('Лучшее количество деревьев', best_est, ',', 'F1-score', best_f1)"
   ]
  },
  {
   "cell_type": "markdown",
   "metadata": {},
   "source": [
    "#### Логистическая регрессия"
   ]
  },
  {
   "cell_type": "code",
   "execution_count": 17,
   "metadata": {},
   "outputs": [
    {
     "name": "stdout",
     "output_type": "stream",
     "text": [
      "F1 0.07310704960835508\n"
     ]
    }
   ],
   "source": [
    "model = LogisticRegression(random_state = 12345)\n",
    "model.fit(features_train, target_train)\n",
    "predicted_valid = model.predict(features_valid)\n",
    "f1 = f1_score(target_valid, predicted_valid)\n",
    "print('F1', f1)"
   ]
  },
  {
   "cell_type": "markdown",
   "metadata": {},
   "source": [
    "####  Accuracy, precision, recall, F-метрика"
   ]
  },
  {
   "cell_type": "code",
   "execution_count": 18,
   "metadata": {},
   "outputs": [],
   "source": [
    "def metrics (features, target, features_valid, target_valid, max_depth, n_estimators):\n",
    "    \n",
    "    model = DecisionTreeClassifier(random_state=12345, max_depth=max_depth)\n",
    "    model.fit(features, target)\n",
    "    predicted_valid = model.predict(features_valid)\n",
    "    print('DecisionTree')\n",
    "    print('Точность попадания по классам', accuracy_score(target_valid, predicted_valid))\n",
    "    print('Precision', precision_score(target_valid, predicted_valid))\n",
    "    print('Recall', recall_score(target_valid, predicted_valid))\n",
    "    print('F1', f1_score(target_valid, predicted_valid))\n",
    "    print()\n",
    "    \n",
    "    model = RandomForestClassifier(random_state=12345, n_estimators=n_estimators)\n",
    "    model.fit(features, target)\n",
    "    predicted_valid = model.predict(features_valid)\n",
    "    print('RandomForest')\n",
    "    print('Точность попадания по классам', accuracy_score(target_valid, predicted_valid))\n",
    "    print('Precision', precision_score(target_valid, predicted_valid))\n",
    "    print('Recall', recall_score(target_valid, predicted_valid))\n",
    "    print('F1', f1_score(target_valid, predicted_valid))\n",
    "    print()\n",
    "\n",
    "    model = LogisticRegression(random_state=12345, solver='liblinear')\n",
    "    model.fit(features, target)\n",
    "    predicted_valid = model.predict(features_valid)\n",
    "    print('Логистическая регрессия')\n",
    "    print('Точность попадания по классам', accuracy_score(target_valid, predicted_valid))\n",
    "    print('Precision', precision_score(target_valid, predicted_valid))\n",
    "    print('Recall', recall_score(target_valid, predicted_valid))\n",
    "    print('F1', f1_score(target_valid, predicted_valid))\n",
    "    print()"
   ]
  },
  {
   "cell_type": "code",
   "execution_count": 19,
   "metadata": {},
   "outputs": [
    {
     "name": "stdout",
     "output_type": "stream",
     "text": [
      "DecisionTree\n",
      "Точность попадания по классам 0.8554150632215503\n",
      "Precision 0.6848739495798319\n",
      "Recall 0.46438746438746437\n",
      "F1 0.5534804753820034\n",
      "\n",
      "RandomForest\n",
      "Точность попадания по классам 0.8669598680593733\n",
      "Precision 0.7224489795918367\n",
      "Recall 0.5042735042735043\n",
      "F1 0.5939597315436241\n",
      "\n",
      "Логистическая регрессия\n",
      "Точность попадания по классам 0.805937328202309\n",
      "Precision 0.46875\n",
      "Recall 0.042735042735042736\n",
      "F1 0.07832898172323761\n",
      "\n"
     ]
    }
   ],
   "source": [
    "metrics (features_train, target_train, features_valid, target_valid, 7, 13)"
   ]
  },
  {
   "cell_type": "markdown",
   "metadata": {},
   "source": [
    "#### ROC-AUC"
   ]
  },
  {
   "cell_type": "code",
   "execution_count": 20,
   "metadata": {},
   "outputs": [
    {
     "name": "stdout",
     "output_type": "stream",
     "text": [
      "RandomForestClassifier AUC-ROC  0.8248464876530271\n"
     ]
    },
    {
     "data": {
      "image/png": "[encoded data removed]",
      "text/plain": [
       "<Figure size 864x648 with 1 Axes>"
      ]
     },
     "metadata": {
      "needs_background": "light"
     },
     "output_type": "display_data"
    }
   ],
   "source": [
    "plt.figure(figsize=[12,9])\n",
    "\n",
    "plt.plot([0, 1], [0, 1], linestyle='--', label='RandomModel')\n",
    "\n",
    "model = RandomForestClassifier(random_state=12345, n_estimators=13)\n",
    "model.fit(features_train, target_train)\n",
    "probabilities_valid = model.predict_proba(features_valid)\n",
    "probabilities_one_valid = probabilities_valid[:, 1]\n",
    "fpr, tpr, thresholds = roc_curve(target_valid, probabilities_one_valid)\n",
    "auc_roc = roc_auc_score(target_valid, probabilities_one_valid)\n",
    "print('RandomForestClassifier AUC-ROC ',auc_roc)\n",
    "plt.plot(fpr, tpr, label='RandomForestClassifier')\n",
    "\n",
    "plt.xlim([0,1])\n",
    "plt.ylim([0,1])\n",
    "\n",
    "plt.xlabel(\"False Positive Rate\")\n",
    "plt.ylabel(\"True Positive Rate\")\n",
    "\n",
    "plt.legend(loc='lower right')\n",
    "\n",
    "plt.title(\"ROC-кривая\")\n",
    "plt.show()"
   ]
  },
  {
   "cell_type": "markdown",
   "metadata": {},
   "source": [
    "### Вывод"
   ]
  },
  {
   "cell_type": "markdown",
   "metadata": {},
   "source": [
    "Изучив результаты можно сказать, что метрики лучше у модели RandomForest с значением n_estimators=13."
   ]
  },
  {
   "cell_type": "markdown",
   "metadata": {},
   "source": [
    "## Борьба с дисбалансом"
   ]
  },
  {
   "cell_type": "markdown",
   "metadata": {},
   "source": [
    "Для борьбы с дисбалансом существует 3 метода:\n",
    "\n",
    "- С взвешенными классами\n",
    "- С уменьшенной выборкой\n",
    "- С увеличенной выборкой"
   ]
  },
  {
   "cell_type": "markdown",
   "metadata": {},
   "source": [
    "### Взвешивание классов"
   ]
  },
  {
   "cell_type": "code",
   "execution_count": 21,
   "metadata": {},
   "outputs": [
    {
     "name": "stdout",
     "output_type": "stream",
     "text": [
      "DecisionTree\n",
      "Точность попадания по классам 0.736668499175371\n",
      "Precision 0.4069767441860465\n",
      "Recall 0.7977207977207977\n",
      "F1 0.5389797882579404\n",
      "\n",
      "RandomForest\n",
      "Точность попадания по классам 0.8587135788894997\n",
      "Precision 0.7136363636363636\n",
      "Recall 0.4472934472934473\n",
      "F1 0.5499124343257442\n",
      "\n",
      "Логистическая регрессия\n",
      "Точность попадания по классам 0.7108301264431006\n",
      "Precision 0.3711340206185567\n",
      "Recall 0.717948717948718\n",
      "F1 0.4893203883495145\n",
      "\n"
     ]
    }
   ],
   "source": [
    "model = DecisionTreeClassifier(random_state=12345, max_depth=7, class_weight='balanced')\n",
    "model.fit(features_train, target_train)\n",
    "predicted_valid = model.predict(features_valid)\n",
    "print('DecisionTree')\n",
    "print('Точность попадания по классам', accuracy_score(target_valid, predicted_valid))\n",
    "print('Precision', precision_score(target_valid, predicted_valid))\n",
    "print('Recall', recall_score(target_valid, predicted_valid))\n",
    "print('F1', f1_score(target_valid, predicted_valid))\n",
    "print()\n",
    "\n",
    "model = RandomForestClassifier(random_state=12345, n_estimators=13, class_weight='balanced')\n",
    "model.fit(features_train, target_train)\n",
    "predicted_valid = model.predict(features_valid)\n",
    "print('RandomForest')\n",
    "print('Точность попадания по классам', accuracy_score(target_valid, predicted_valid))\n",
    "print('Precision', precision_score(target_valid, predicted_valid))\n",
    "print('Recall', recall_score(target_valid, predicted_valid))\n",
    "print('F1', f1_score(target_valid, predicted_valid))\n",
    "print()\n",
    "\n",
    "model = LogisticRegression(random_state=12345, solver='liblinear', class_weight='balanced')\n",
    "model.fit(features_train, target_train)\n",
    "predicted_valid = model.predict(features_valid)\n",
    "print('Логистическая регрессия')\n",
    "print('Точность попадания по классам', accuracy_score(target_valid, predicted_valid))\n",
    "print('Precision', precision_score(target_valid, predicted_valid))\n",
    "print('Recall', recall_score(target_valid, predicted_valid))\n",
    "print('F1', f1_score(target_valid, predicted_valid))\n",
    "print()"
   ]
  },
  {
   "cell_type": "markdown",
   "metadata": {},
   "source": [
    "Вывод:\n",
    "- Точность упала у всех моделей\n",
    "- Precision упала у всех моделей\n",
    "- Recall выросла у логистической регрессии и решающего дерева\n",
    "- F1 выросла у логистической регрессии\n"
   ]
  },
  {
   "cell_type": "markdown",
   "metadata": {},
   "source": [
    "### Увеличение выборки"
   ]
  },
  {
   "cell_type": "code",
   "execution_count": 22,
   "metadata": {},
   "outputs": [],
   "source": [
    "def upsampled (features, target, repeat):\n",
    "    features_zeros = features[target == 0]\n",
    "    features_ones = features[target == 1]\n",
    "    target_zeros = target[target == 0]\n",
    "    target_ones = target[target == 1]\n",
    "    \n",
    "    features_upsampled = pd.concat([features_zeros] + [features_ones] * repeat)\n",
    "    target_upsampled = pd.concat([target_zeros] + [target_ones] * repeat)\n",
    "    \n",
    "    features_upsampled, target_upsampled = shuffle(features_upsampled, target_upsampled, random_state = 12345)\n",
    "    \n",
    "    return features_upsampled, target_upsampled"
   ]
  },
  {
   "cell_type": "code",
   "execution_count": 23,
   "metadata": {},
   "outputs": [
    {
     "name": "stdout",
     "output_type": "stream",
     "text": [
      "1    4504\n",
      "0    4328\n",
      "Name: exited, dtype: int64\n"
     ]
    }
   ],
   "source": [
    "features_upsampled, target_upsampled = upsampled(features_train, target_train, 4)\n",
    "print(target_upsampled.value_counts())"
   ]
  },
  {
   "cell_type": "code",
   "execution_count": 24,
   "metadata": {},
   "outputs": [
    {
     "name": "stdout",
     "output_type": "stream",
     "text": [
      "DecisionTree\n",
      "Точность попадания по классам 0.7361187465640462\n",
      "Precision 0.40638606676342526\n",
      "Recall 0.7977207977207977\n",
      "F1 0.5384615384615384\n",
      "\n",
      "RandomForest\n",
      "Точность попадания по классам 0.8438702583837273\n",
      "Precision 0.6006006006006006\n",
      "Recall 0.5698005698005698\n",
      "F1 0.5847953216374269\n",
      "\n",
      "Логистическая регрессия\n",
      "Точность попадания по классам 0.6470588235294118\n",
      "Precision 0.3107932379713914\n",
      "Recall 0.6809116809116809\n",
      "F1 0.42678571428571427\n",
      "\n"
     ]
    }
   ],
   "source": [
    "metrics(features_upsampled, target_upsampled, features_valid, target_valid, 7, 13)"
   ]
  },
  {
   "cell_type": "markdown",
   "metadata": {},
   "source": [
    "Вывод:\n",
    "- Точность упала у всех моделей\n",
    "- Precision упала у всех моделей\n",
    "- Recall выросла у всех моделей\n",
    "- F1 выросла у логистической регрессии"
   ]
  },
  {
   "cell_type": "markdown",
   "metadata": {},
   "source": [
    "### Уменьшение выборки"
   ]
  },
  {
   "cell_type": "code",
   "execution_count": 25,
   "metadata": {},
   "outputs": [],
   "source": [
    "def downsampled (features, target, fraction):\n",
    "    features_zeros = features[target == 0]\n",
    "    features_ones = features[target == 1]\n",
    "    target_zeros = target[target == 0]\n",
    "    target_ones = target[target == 1]\n",
    "    \n",
    "    features_downsampled = pd.concat([features_zeros.sample(frac = fraction, random_state = 12345)] + [features_ones])\n",
    "    target_downsampled = pd.concat([target_zeros.sample(frac = fraction, random_state = 12345)] + [target_ones])\n",
    "    \n",
    "    features_downsampled, target_downsampled = shuffle(features_downsampled, target_downsampled, random_state = 12345)\n",
    "    \n",
    "    return features_downsampled, target_downsampled"
   ]
  },
  {
   "cell_type": "code",
   "execution_count": 26,
   "metadata": {},
   "outputs": [
    {
     "name": "stdout",
     "output_type": "stream",
     "text": [
      "1    1126\n",
      "0    1082\n",
      "Name: exited, dtype: int64\n"
     ]
    }
   ],
   "source": [
    "features_downsampled, target_downsampled = downsampled(features_train, target_train, 0.25)\n",
    "print(target_downsampled.value_counts())"
   ]
  },
  {
   "cell_type": "code",
   "execution_count": 27,
   "metadata": {},
   "outputs": [
    {
     "name": "stdout",
     "output_type": "stream",
     "text": [
      "DecisionTree\n",
      "Точность попадания по классам 0.7493128092358439\n",
      "Precision 0.4200913242009132\n",
      "Recall 0.7863247863247863\n",
      "F1 0.5476190476190476\n",
      "\n",
      "RandomForest\n",
      "Точность попадания по классам 0.7443650357339198\n",
      "Precision 0.4117647058823529\n",
      "Recall 0.7578347578347578\n",
      "F1 0.5336008024072216\n",
      "\n",
      "Логистическая регрессия\n",
      "Точность попадания по классам 0.640461792193513\n",
      "Precision 0.30451612903225805\n",
      "Recall 0.6723646723646723\n",
      "F1 0.4191829484902309\n",
      "\n"
     ]
    }
   ],
   "source": [
    "metrics(features_downsampled, target_downsampled, features_valid, target_valid, 7, 13)"
   ]
  },
  {
   "cell_type": "markdown",
   "metadata": {},
   "source": [
    "Вывод:\n",
    "- Точность упала у всех моделей\n",
    "- Precision упала у всех моделей\n",
    "- Recall выросла у всех моделей\n",
    "- F1 выросла у логистической регрессии"
   ]
  },
  {
   "cell_type": "markdown",
   "metadata": {},
   "source": [
    "### Вывод"
   ]
  },
  {
   "cell_type": "markdown",
   "metadata": {},
   "source": [
    "Лучшей моделью по F-мере осталась модель, обученная на изначальных данных с дисбалансом. Разница в значениях f1 модели,обученной на изначальных данных с дисбалансом, и модели, сбалансированной увеличением выборки, всего 0.01. Не смотря на то, что на больших данных лучше будет работать сбалансированная модель, на имеющихся сейчас данных лучше работает модель, обученная на изначальных данных с дисбалансом."
   ]
  },
  {
   "cell_type": "markdown",
   "metadata": {},
   "source": [
    "## Тестирование модели"
   ]
  },
  {
   "cell_type": "code",
   "execution_count": 28,
   "metadata": {},
   "outputs": [
    {
     "name": "stdout",
     "output_type": "stream",
     "text": [
      "Точность попадания по классам 0.8602860286028603\n",
      "Precision 0.735632183908046\n",
      "Recall 0.5092838196286472\n",
      "F1 0.6018808777429467\n",
      "\n"
     ]
    }
   ],
   "source": [
    "model = RandomForestClassifier(random_state=12345, n_estimators=13)\n",
    "model.fit(features_train, target_train)\n",
    "predicted_test = model.predict(features_test)\n",
    "print('Точность попадания по классам', accuracy_score(target_test, predicted_test))\n",
    "print('Precision', precision_score(target_test, predicted_test))\n",
    "print('Recall', recall_score(target_test, predicted_test))\n",
    "print('F1', f1_score(target_test, predicted_test))\n",
    "print()"
   ]
  },
  {
   "cell_type": "markdown",
   "metadata": {},
   "source": [
    "Выведем ROC-кривую и AUC-ROC для лучшей модели."
   ]
  },
  {
   "cell_type": "code",
   "execution_count": 29,
   "metadata": {},
   "outputs": [
    {
     "name": "stdout",
     "output_type": "stream",
     "text": [
      "RandomForestClassifier AUC-ROC  0.8376348579033497\n"
     ]
    },
    {
     "data": {
      "image/png": "[encoded data removed]",
      "text/plain": [
       "<Figure size 864x648 with 1 Axes>"
      ]
     },
     "metadata": {
      "needs_background": "light"
     },
     "output_type": "display_data"
    }
   ],
   "source": [
    "plt.figure(figsize=[12,9])\n",
    "\n",
    "plt.plot([0, 1], [0, 1], linestyle='--', label='RandomModel')\n",
    "\n",
    "model = RandomForestClassifier(random_state=12345, n_estimators=13)\n",
    "model.fit(features_train, target_train)\n",
    "probabilities_test = model.predict_proba(features_test)\n",
    "probabilities_one_test = probabilities_test[:, 1]\n",
    "fpr, tpr, thresholds = roc_curve(target_test, probabilities_one_test)\n",
    "auc_roc = roc_auc_score(target_test, probabilities_one_test)\n",
    "print('RandomForestClassifier AUC-ROC ',auc_roc)\n",
    "plt.plot(fpr, tpr, label='RandomForestClassifier')\n",
    "\n",
    "plt.xlim([0,1])\n",
    "plt.ylim([0,1])\n",
    "\n",
    "plt.xlabel(\"False Positive Rate\")\n",
    "plt.ylabel(\"True Positive Rate\")\n",
    "\n",
    "plt.legend(loc='lower right')\n",
    "\n",
    "plt.title(\"ROC-кривая\")\n",
    "plt.show()"
   ]
  },
  {
   "cell_type": "markdown",
   "metadata": {},
   "source": [
    "## Вывод"
   ]
  },
  {
   "cell_type": "markdown",
   "metadata": {},
   "source": [
    "Лучшей можелью можно считать модель:\n",
    "- Основанную на RandomForest\n",
    "- Значение 'n_estimators' - 125\n",
    "- Дисбаланс выровнен методам увеличения выборки\n",
    "Такая можель показывает F1 метрику: 0.6217008797653959, ROC-AUC: 0.86\n"
   ]
  },
  {
   "cell_type": "markdown",
   "metadata": {},
   "source": [
    "# Чек-лист готовности проекта"
   ]
  },
  {
   "cell_type": "markdown",
   "metadata": {},
   "source": [
    "Поставьте 'x' в выполненных пунктах. Далее нажмите Shift+Enter."
   ]
  },
  {
   "cell_type": "markdown",
   "metadata": {},
   "source": [
    "- [x]  Jupyter Notebook открыт\n",
    "- [ ]  Весь код выполняется без ошибок\n",
    "- [ ]  Ячейки с кодом расположены в порядке исполнения\n",
    "- [ ]  Выполнен шаг 1: данные подготовлены\n",
    "- [ ]  Выполнен шаг 2: задача исследована\n",
    "    - [ ]  Исследован баланс классов\n",
    "    - [ ]  Изучены модели без учёта дисбаланса\n",
    "    - [ ]  Написаны выводы по результатам исследования\n",
    "- [ ]  Выполнен шаг 3: учтён дисбаланс\n",
    "    - [ ]  Применено несколько способов борьбы с дисбалансом\n",
    "    - [ ]  Написаны выводы по результатам исследования\n",
    "- [ ]  Выполнен шаг 4: проведено тестирование\n",
    "- [ ]  Удалось достичь *F1*-меры не менее 0.59\n",
    "- [ ]  Исследована метрика *AUC-ROC*"
   ]
  }
 ],
 "metadata": {
  "ExecuteTimeLog": [
   {
    "duration": 532,
    "start_time": "2022-04-26T09:46:11.153Z"
   },
   {
    "duration": 37,
    "start_time": "2022-04-26T09:46:37.838Z"
   },
   {
    "duration": 35,
    "start_time": "2022-04-26T09:46:59.210Z"
   },
   {
    "duration": 25,
    "start_time": "2022-04-26T09:47:13.352Z"
   },
   {
    "duration": 28,
    "start_time": "2022-04-26T09:47:17.241Z"
   },
   {
    "duration": 12,
    "start_time": "2022-04-26T09:47:24.588Z"
   },
   {
    "duration": 18,
    "start_time": "2022-04-26T09:48:43.093Z"
   },
   {
    "duration": 20,
    "start_time": "2022-04-26T09:49:36.666Z"
   },
   {
    "duration": 19,
    "start_time": "2022-04-26T09:49:43.733Z"
   },
   {
    "duration": 17,
    "start_time": "2022-04-26T09:49:48.633Z"
   },
   {
    "duration": 6,
    "start_time": "2022-04-26T09:52:17.474Z"
   },
   {
    "duration": 18,
    "start_time": "2022-04-26T09:52:19.233Z"
   },
   {
    "duration": 95,
    "start_time": "2022-04-26T09:54:41.766Z"
   },
   {
    "duration": 13,
    "start_time": "2022-04-26T09:54:45.830Z"
   },
   {
    "duration": 4,
    "start_time": "2022-04-26T09:55:26.874Z"
   },
   {
    "duration": 4,
    "start_time": "2022-04-26T09:55:29.376Z"
   },
   {
    "duration": 668,
    "start_time": "2022-04-26T09:55:36.172Z"
   },
   {
    "duration": 46,
    "start_time": "2022-04-26T09:55:36.844Z"
   },
   {
    "duration": 42,
    "start_time": "2022-04-26T09:55:36.892Z"
   },
   {
    "duration": 5,
    "start_time": "2022-04-26T09:55:36.937Z"
   },
   {
    "duration": 125,
    "start_time": "2022-04-26T09:55:36.945Z"
   },
   {
    "duration": 0,
    "start_time": "2022-04-26T09:55:37.072Z"
   },
   {
    "duration": 5,
    "start_time": "2022-04-26T09:55:47.051Z"
   },
   {
    "duration": 18,
    "start_time": "2022-04-26T09:55:49.584Z"
   },
   {
    "duration": 6,
    "start_time": "2022-04-26T09:56:59.262Z"
   },
   {
    "duration": 14,
    "start_time": "2022-04-26T10:02:05.055Z"
   },
   {
    "duration": 17,
    "start_time": "2022-04-26T10:02:13.327Z"
   },
   {
    "duration": 21,
    "start_time": "2022-04-26T10:03:00.542Z"
   },
   {
    "duration": 13,
    "start_time": "2022-04-26T10:03:47.724Z"
   },
   {
    "duration": 710,
    "start_time": "2022-04-26T10:13:07.729Z"
   },
   {
    "duration": 50,
    "start_time": "2022-04-26T10:13:08.443Z"
   },
   {
    "duration": 41,
    "start_time": "2022-04-26T10:13:08.496Z"
   },
   {
    "duration": 6,
    "start_time": "2022-04-26T10:13:08.540Z"
   },
   {
    "duration": 9,
    "start_time": "2022-04-26T10:13:08.549Z"
   },
   {
    "duration": 47,
    "start_time": "2022-04-26T10:13:08.560Z"
   },
   {
    "duration": 9,
    "start_time": "2022-04-26T10:13:08.609Z"
   },
   {
    "duration": 10,
    "start_time": "2022-04-26T10:13:08.620Z"
   },
   {
    "duration": 16,
    "start_time": "2022-04-26T10:13:08.633Z"
   },
   {
    "duration": 33,
    "start_time": "2022-04-26T18:09:04.898Z"
   },
   {
    "duration": 169,
    "start_time": "2022-04-26T18:14:34.818Z"
   },
   {
    "duration": 9,
    "start_time": "2022-04-26T18:14:57.263Z"
   },
   {
    "duration": 1836,
    "start_time": "2022-04-26T18:16:35.571Z"
   },
   {
    "duration": 12,
    "start_time": "2022-04-26T18:17:52.621Z"
   },
   {
    "duration": 15,
    "start_time": "2022-04-26T18:18:58.385Z"
   },
   {
    "duration": 104,
    "start_time": "2022-04-26T18:19:16.338Z"
   },
   {
    "duration": 13,
    "start_time": "2022-04-26T18:19:20.185Z"
   },
   {
    "duration": 14,
    "start_time": "2022-04-26T18:19:44.015Z"
   },
   {
    "duration": 15,
    "start_time": "2022-04-26T18:19:54.595Z"
   },
   {
    "duration": 14,
    "start_time": "2022-04-26T18:20:29.820Z"
   },
   {
    "duration": 8,
    "start_time": "2022-04-26T18:23:35.920Z"
   },
   {
    "duration": 14,
    "start_time": "2022-04-26T18:27:16.419Z"
   },
   {
    "duration": 69,
    "start_time": "2022-04-26T18:27:47.471Z"
   },
   {
    "duration": 965,
    "start_time": "2022-04-26T18:27:53.298Z"
   },
   {
    "duration": 1036,
    "start_time": "2022-04-26T18:28:15.562Z"
   },
   {
    "duration": 1199,
    "start_time": "2022-04-26T18:30:40.129Z"
   },
   {
    "duration": 903,
    "start_time": "2022-04-26T18:31:02.446Z"
   },
   {
    "duration": 1324,
    "start_time": "2022-04-26T18:31:29.434Z"
   },
   {
    "duration": 1037,
    "start_time": "2022-04-26T18:31:59.758Z"
   },
   {
    "duration": 1262,
    "start_time": "2022-04-26T18:32:15.408Z"
   },
   {
    "duration": 954,
    "start_time": "2022-04-26T18:32:19.895Z"
   },
   {
    "duration": 908,
    "start_time": "2022-04-26T18:32:27.133Z"
   },
   {
    "duration": 1377,
    "start_time": "2022-04-26T18:32:53.154Z"
   },
   {
    "duration": 24,
    "start_time": "2022-04-26T18:39:43.862Z"
   },
   {
    "duration": 16,
    "start_time": "2022-04-26T18:39:48.389Z"
   },
   {
    "duration": 10189,
    "start_time": "2022-04-26T18:40:17.012Z"
   },
   {
    "duration": 10827,
    "start_time": "2022-04-26T18:40:49.857Z"
   },
   {
    "duration": 9805,
    "start_time": "2022-04-26T18:41:06.701Z"
   },
   {
    "duration": 5465,
    "start_time": "2022-04-26T18:43:27.947Z"
   },
   {
    "duration": 188,
    "start_time": "2022-04-26T18:45:23.325Z"
   },
   {
    "duration": 12,
    "start_time": "2022-04-26T18:46:44.795Z"
   },
   {
    "duration": 207,
    "start_time": "2022-04-26T18:47:13.889Z"
   },
   {
    "duration": 412,
    "start_time": "2022-04-26T18:49:50.086Z"
   },
   {
    "duration": 193,
    "start_time": "2022-04-26T18:51:05.266Z"
   },
   {
    "duration": 20,
    "start_time": "2022-04-26T18:55:57.922Z"
   },
   {
    "duration": 645,
    "start_time": "2022-04-26T18:56:34.837Z"
   },
   {
    "duration": 754,
    "start_time": "2022-04-26T18:56:40.183Z"
   },
   {
    "duration": 924,
    "start_time": "2022-04-26T18:56:50.149Z"
   },
   {
    "duration": 935,
    "start_time": "2022-04-26T18:57:14.845Z"
   },
   {
    "duration": 898,
    "start_time": "2022-04-26T18:57:49.707Z"
   },
   {
    "duration": 723,
    "start_time": "2022-04-26T18:58:01.731Z"
   },
   {
    "duration": 4,
    "start_time": "2022-04-26T19:05:18.262Z"
   },
   {
    "duration": 419,
    "start_time": "2022-04-26T19:06:17.177Z"
   },
   {
    "duration": 5,
    "start_time": "2022-04-26T19:12:00.373Z"
   },
   {
    "duration": 37,
    "start_time": "2022-04-26T19:13:31.255Z"
   },
   {
    "duration": 12,
    "start_time": "2022-04-26T19:13:37.132Z"
   },
   {
    "duration": 6,
    "start_time": "2022-04-26T19:14:03.683Z"
   },
   {
    "duration": 32,
    "start_time": "2022-04-26T19:14:05.284Z"
   },
   {
    "duration": 6,
    "start_time": "2022-04-26T19:14:11.848Z"
   },
   {
    "duration": 17,
    "start_time": "2022-04-26T19:14:13.718Z"
   },
   {
    "duration": 19,
    "start_time": "2022-04-26T19:18:34.339Z"
   },
   {
    "duration": 6,
    "start_time": "2022-04-26T19:19:21.757Z"
   },
   {
    "duration": 18,
    "start_time": "2022-04-26T19:19:23.216Z"
   },
   {
    "duration": 27,
    "start_time": "2022-04-26T19:19:23.892Z"
   },
   {
    "duration": 632,
    "start_time": "2022-04-26T19:19:40.067Z"
   },
   {
    "duration": 177,
    "start_time": "2022-04-26T19:22:53.115Z"
   },
   {
    "duration": 8,
    "start_time": "2022-04-26T19:23:24.343Z"
   },
   {
    "duration": 21,
    "start_time": "2022-04-26T19:24:45.108Z"
   },
   {
    "duration": 324,
    "start_time": "2022-04-26T19:25:26.477Z"
   },
   {
    "duration": 2027,
    "start_time": "2022-04-26T19:26:27.781Z"
   },
   {
    "duration": 159,
    "start_time": "2022-04-26T19:26:29.814Z"
   },
   {
    "duration": 29,
    "start_time": "2022-04-26T19:26:29.975Z"
   },
   {
    "duration": 5,
    "start_time": "2022-04-26T19:26:30.008Z"
   },
   {
    "duration": 11,
    "start_time": "2022-04-26T19:26:30.015Z"
   },
   {
    "duration": 55,
    "start_time": "2022-04-26T19:26:30.028Z"
   },
   {
    "duration": 11,
    "start_time": "2022-04-26T19:26:30.086Z"
   },
   {
    "duration": 24,
    "start_time": "2022-04-26T19:26:30.099Z"
   },
   {
    "duration": 29,
    "start_time": "2022-04-26T19:26:30.126Z"
   },
   {
    "duration": 52,
    "start_time": "2022-04-26T19:26:30.159Z"
   },
   {
    "duration": 20,
    "start_time": "2022-04-26T19:26:30.214Z"
   },
   {
    "duration": 21,
    "start_time": "2022-04-26T19:26:30.237Z"
   },
   {
    "duration": 1304,
    "start_time": "2022-04-26T19:26:30.293Z"
   },
   {
    "duration": 11398,
    "start_time": "2022-04-26T19:26:31.600Z"
   },
   {
    "duration": 3907,
    "start_time": "2022-04-26T19:26:43.000Z"
   },
   {
    "duration": 298,
    "start_time": "2022-04-26T19:26:46.910Z"
   },
   {
    "duration": 406,
    "start_time": "2022-04-26T19:26:47.298Z"
   },
   {
    "duration": 703,
    "start_time": "2022-04-26T19:26:47.793Z"
   },
   {
    "duration": 396,
    "start_time": "2022-04-26T19:26:48.498Z"
   },
   {
    "duration": 13,
    "start_time": "2022-04-26T19:26:48.897Z"
   },
   {
    "duration": 23,
    "start_time": "2022-04-26T19:26:48.995Z"
   },
   {
    "duration": 385,
    "start_time": "2022-04-26T19:26:49.021Z"
   },
   {
    "duration": 87,
    "start_time": "2022-04-26T19:26:49.408Z"
   },
   {
    "duration": 23,
    "start_time": "2022-04-26T19:26:49.497Z"
   },
   {
    "duration": 285,
    "start_time": "2022-04-26T19:26:49.522Z"
   },
   {
    "duration": 173,
    "start_time": "2022-04-26T19:43:47.465Z"
   },
   {
    "duration": 171,
    "start_time": "2022-04-26T19:46:40.710Z"
   },
   {
    "duration": 416,
    "start_time": "2022-04-26T19:48:34.062Z"
   },
   {
    "duration": 735,
    "start_time": "2022-04-26T19:48:49.746Z"
   },
   {
    "duration": 73,
    "start_time": "2022-04-27T05:36:56.882Z"
   },
   {
    "duration": 9,
    "start_time": "2022-04-27T05:37:24.126Z"
   },
   {
    "duration": 3020,
    "start_time": "2022-04-27T05:37:30.932Z"
   },
   {
    "duration": 2056,
    "start_time": "2022-04-27T05:37:40.939Z"
   },
   {
    "duration": 37,
    "start_time": "2022-04-27T05:37:42.997Z"
   },
   {
    "duration": 25,
    "start_time": "2022-04-27T05:37:43.036Z"
   },
   {
    "duration": 4,
    "start_time": "2022-04-27T05:37:43.064Z"
   },
   {
    "duration": 6,
    "start_time": "2022-04-27T05:37:43.081Z"
   },
   {
    "duration": 22,
    "start_time": "2022-04-27T05:37:43.089Z"
   },
   {
    "duration": 6,
    "start_time": "2022-04-27T05:37:43.113Z"
   },
   {
    "duration": 13,
    "start_time": "2022-04-27T05:37:43.121Z"
   },
   {
    "duration": 13,
    "start_time": "2022-04-27T05:37:43.136Z"
   },
   {
    "duration": 27,
    "start_time": "2022-04-27T05:37:43.184Z"
   },
   {
    "duration": 15,
    "start_time": "2022-04-27T05:37:43.213Z"
   },
   {
    "duration": 8,
    "start_time": "2022-04-27T05:37:43.230Z"
   },
   {
    "duration": 1971,
    "start_time": "2022-04-27T05:41:16.330Z"
   },
   {
    "duration": 33,
    "start_time": "2022-04-27T05:41:18.304Z"
   },
   {
    "duration": 25,
    "start_time": "2022-04-27T05:41:18.339Z"
   },
   {
    "duration": 5,
    "start_time": "2022-04-27T05:41:18.381Z"
   },
   {
    "duration": 10,
    "start_time": "2022-04-27T05:41:18.389Z"
   },
   {
    "duration": 20,
    "start_time": "2022-04-27T05:41:18.401Z"
   },
   {
    "duration": 6,
    "start_time": "2022-04-27T05:41:18.423Z"
   },
   {
    "duration": 11,
    "start_time": "2022-04-27T05:41:18.431Z"
   },
   {
    "duration": 47,
    "start_time": "2022-04-27T05:41:18.444Z"
   },
   {
    "duration": 28,
    "start_time": "2022-04-27T05:41:18.493Z"
   },
   {
    "duration": 14,
    "start_time": "2022-04-27T05:41:18.523Z"
   },
   {
    "duration": 7,
    "start_time": "2022-04-27T05:41:18.540Z"
   },
   {
    "duration": 1891,
    "start_time": "2022-04-27T05:47:59.228Z"
   },
   {
    "duration": 37,
    "start_time": "2022-04-27T05:48:01.122Z"
   },
   {
    "duration": 31,
    "start_time": "2022-04-27T05:48:01.162Z"
   },
   {
    "duration": 5,
    "start_time": "2022-04-27T05:48:01.196Z"
   },
   {
    "duration": 19,
    "start_time": "2022-04-27T05:48:01.206Z"
   },
   {
    "duration": 28,
    "start_time": "2022-04-27T05:48:01.227Z"
   },
   {
    "duration": 26,
    "start_time": "2022-04-27T05:48:01.258Z"
   },
   {
    "duration": 11,
    "start_time": "2022-04-27T05:48:01.287Z"
   },
   {
    "duration": 14,
    "start_time": "2022-04-27T05:48:01.300Z"
   },
   {
    "duration": 66,
    "start_time": "2022-04-27T05:48:01.316Z"
   },
   {
    "duration": 16,
    "start_time": "2022-04-27T05:48:01.385Z"
   },
   {
    "duration": 12,
    "start_time": "2022-04-27T05:48:01.403Z"
   },
   {
    "duration": 8,
    "start_time": "2022-04-27T05:48:01.417Z"
   },
   {
    "duration": 1906,
    "start_time": "2022-04-27T05:48:32.125Z"
   },
   {
    "duration": 33,
    "start_time": "2022-04-27T05:48:34.034Z"
   },
   {
    "duration": 32,
    "start_time": "2022-04-27T05:48:34.070Z"
   },
   {
    "duration": 5,
    "start_time": "2022-04-27T05:48:34.104Z"
   },
   {
    "duration": 9,
    "start_time": "2022-04-27T05:48:34.112Z"
   },
   {
    "duration": 19,
    "start_time": "2022-04-27T05:48:34.124Z"
   },
   {
    "duration": 37,
    "start_time": "2022-04-27T05:48:34.145Z"
   },
   {
    "duration": 9,
    "start_time": "2022-04-27T05:48:34.184Z"
   },
   {
    "duration": 13,
    "start_time": "2022-04-27T05:48:34.195Z"
   },
   {
    "duration": 26,
    "start_time": "2022-04-27T05:48:34.210Z"
   },
   {
    "duration": 53,
    "start_time": "2022-04-27T05:48:34.238Z"
   },
   {
    "duration": 8,
    "start_time": "2022-04-27T05:48:34.294Z"
   },
   {
    "duration": 5,
    "start_time": "2022-04-27T05:48:34.305Z"
   },
   {
    "duration": 4,
    "start_time": "2022-04-27T05:48:34.316Z"
   },
   {
    "duration": 404742,
    "start_time": "2022-04-27T05:48:34.323Z"
   },
   {
    "duration": 16,
    "start_time": "2022-04-27T05:55:19.067Z"
   },
   {
    "duration": 953,
    "start_time": "2022-04-27T05:55:19.086Z"
   },
   {
    "duration": 9965,
    "start_time": "2022-04-27T05:55:20.042Z"
   },
   {
    "duration": 3796,
    "start_time": "2022-04-27T05:55:30.010Z"
   },
   {
    "duration": 579,
    "start_time": "2022-04-27T05:55:33.809Z"
   },
   {
    "duration": 408,
    "start_time": "2022-04-27T05:55:34.481Z"
   },
   {
    "duration": 790,
    "start_time": "2022-04-27T05:55:34.891Z"
   },
   {
    "duration": 399,
    "start_time": "2022-04-27T05:55:35.683Z"
   },
   {
    "duration": 5,
    "start_time": "2022-04-27T05:55:36.085Z"
   },
   {
    "duration": 22,
    "start_time": "2022-04-27T05:55:36.092Z"
   },
   {
    "duration": 566,
    "start_time": "2022-04-27T05:55:36.116Z"
   },
   {
    "duration": 6,
    "start_time": "2022-04-27T05:55:36.684Z"
   },
   {
    "duration": 24,
    "start_time": "2022-04-27T05:55:36.692Z"
   },
   {
    "duration": 166,
    "start_time": "2022-04-27T05:55:36.718Z"
   },
   {
    "duration": 982,
    "start_time": "2022-04-27T05:55:36.888Z"
   },
   {
    "duration": 147,
    "start_time": "2022-04-27T05:55:37.872Z"
   },
   {
    "duration": 5,
    "start_time": "2022-04-27T06:01:31.498Z"
   },
   {
    "duration": 4,
    "start_time": "2022-04-27T06:01:32.337Z"
   },
   {
    "duration": 2424,
    "start_time": "2022-04-27T06:06:59.212Z"
   },
   {
    "duration": 51,
    "start_time": "2022-04-27T06:07:01.640Z"
   },
   {
    "duration": 25,
    "start_time": "2022-04-27T06:07:01.693Z"
   },
   {
    "duration": 4,
    "start_time": "2022-04-27T06:07:01.720Z"
   },
   {
    "duration": 15,
    "start_time": "2022-04-27T06:07:01.727Z"
   },
   {
    "duration": 40,
    "start_time": "2022-04-27T06:07:01.745Z"
   },
   {
    "duration": 9,
    "start_time": "2022-04-27T06:07:01.788Z"
   },
   {
    "duration": 74,
    "start_time": "2022-04-27T06:07:01.800Z"
   },
   {
    "duration": 59,
    "start_time": "2022-04-27T06:07:01.876Z"
   },
   {
    "duration": 39,
    "start_time": "2022-04-27T06:07:01.938Z"
   },
   {
    "duration": 19,
    "start_time": "2022-04-27T06:07:01.980Z"
   },
   {
    "duration": 15,
    "start_time": "2022-04-27T06:07:02.002Z"
   },
   {
    "duration": 1018,
    "start_time": "2022-04-27T06:07:02.019Z"
   },
   {
    "duration": 4,
    "start_time": "2022-04-27T06:07:03.041Z"
   },
   {
    "duration": 190,
    "start_time": "2022-04-27T06:07:03.047Z"
   },
   {
    "duration": 0,
    "start_time": "2022-04-27T06:07:03.239Z"
   },
   {
    "duration": 0,
    "start_time": "2022-04-27T06:07:03.241Z"
   },
   {
    "duration": 0,
    "start_time": "2022-04-27T06:07:03.242Z"
   },
   {
    "duration": 0,
    "start_time": "2022-04-27T06:07:03.244Z"
   },
   {
    "duration": 0,
    "start_time": "2022-04-27T06:07:03.245Z"
   },
   {
    "duration": 0,
    "start_time": "2022-04-27T06:07:03.247Z"
   },
   {
    "duration": 0,
    "start_time": "2022-04-27T06:07:03.248Z"
   },
   {
    "duration": 0,
    "start_time": "2022-04-27T06:07:03.250Z"
   },
   {
    "duration": 0,
    "start_time": "2022-04-27T06:07:03.251Z"
   },
   {
    "duration": 0,
    "start_time": "2022-04-27T06:07:03.253Z"
   },
   {
    "duration": 0,
    "start_time": "2022-04-27T06:07:03.284Z"
   },
   {
    "duration": 0,
    "start_time": "2022-04-27T06:07:03.285Z"
   },
   {
    "duration": 0,
    "start_time": "2022-04-27T06:07:03.286Z"
   },
   {
    "duration": 0,
    "start_time": "2022-04-27T06:07:03.288Z"
   },
   {
    "duration": 0,
    "start_time": "2022-04-27T06:07:03.292Z"
   },
   {
    "duration": 0,
    "start_time": "2022-04-27T06:07:03.294Z"
   },
   {
    "duration": 4,
    "start_time": "2022-04-27T06:07:12.507Z"
   },
   {
    "duration": 1931,
    "start_time": "2022-04-27T06:07:37.774Z"
   },
   {
    "duration": 32,
    "start_time": "2022-04-27T06:07:39.708Z"
   },
   {
    "duration": 39,
    "start_time": "2022-04-27T06:07:39.742Z"
   },
   {
    "duration": 6,
    "start_time": "2022-04-27T06:07:39.787Z"
   },
   {
    "duration": 12,
    "start_time": "2022-04-27T06:07:39.797Z"
   },
   {
    "duration": 19,
    "start_time": "2022-04-27T06:07:39.811Z"
   },
   {
    "duration": 7,
    "start_time": "2022-04-27T06:07:39.832Z"
   },
   {
    "duration": 11,
    "start_time": "2022-04-27T06:07:39.841Z"
   },
   {
    "duration": 16,
    "start_time": "2022-04-27T06:07:39.881Z"
   },
   {
    "duration": 27,
    "start_time": "2022-04-27T06:07:39.901Z"
   },
   {
    "duration": 15,
    "start_time": "2022-04-27T06:07:39.930Z"
   },
   {
    "duration": 44,
    "start_time": "2022-04-27T06:07:39.947Z"
   },
   {
    "duration": 1063,
    "start_time": "2022-04-27T06:07:39.994Z"
   },
   {
    "duration": 5,
    "start_time": "2022-04-27T06:07:41.060Z"
   },
   {
    "duration": 4,
    "start_time": "2022-04-27T06:07:41.082Z"
   },
   {
    "duration": 1963,
    "start_time": "2022-04-27T06:12:09.252Z"
   },
   {
    "duration": 37,
    "start_time": "2022-04-27T06:12:11.218Z"
   },
   {
    "duration": 33,
    "start_time": "2022-04-27T06:12:11.257Z"
   },
   {
    "duration": 15,
    "start_time": "2022-04-27T06:12:11.294Z"
   },
   {
    "duration": 11,
    "start_time": "2022-04-27T06:12:11.311Z"
   },
   {
    "duration": 20,
    "start_time": "2022-04-27T06:12:11.324Z"
   },
   {
    "duration": 6,
    "start_time": "2022-04-27T06:12:11.346Z"
   },
   {
    "duration": 35,
    "start_time": "2022-04-27T06:12:11.354Z"
   },
   {
    "duration": 20,
    "start_time": "2022-04-27T06:12:11.392Z"
   },
   {
    "duration": 27,
    "start_time": "2022-04-27T06:12:11.416Z"
   },
   {
    "duration": 43,
    "start_time": "2022-04-27T06:12:11.445Z"
   },
   {
    "duration": 9,
    "start_time": "2022-04-27T06:12:11.490Z"
   },
   {
    "duration": 964,
    "start_time": "2022-04-27T06:12:11.502Z"
   },
   {
    "duration": 19,
    "start_time": "2022-04-27T06:12:12.468Z"
   },
   {
    "duration": 9,
    "start_time": "2022-04-27T06:12:12.490Z"
   },
   {
    "duration": 0,
    "start_time": "2022-04-27T06:12:12.502Z"
   },
   {
    "duration": 0,
    "start_time": "2022-04-27T06:12:12.503Z"
   },
   {
    "duration": 0,
    "start_time": "2022-04-27T06:12:12.504Z"
   },
   {
    "duration": 0,
    "start_time": "2022-04-27T06:12:12.505Z"
   },
   {
    "duration": 0,
    "start_time": "2022-04-27T06:12:12.507Z"
   },
   {
    "duration": 0,
    "start_time": "2022-04-27T06:12:12.509Z"
   },
   {
    "duration": 0,
    "start_time": "2022-04-27T06:12:12.510Z"
   },
   {
    "duration": 0,
    "start_time": "2022-04-27T06:12:12.511Z"
   },
   {
    "duration": 0,
    "start_time": "2022-04-27T06:12:12.513Z"
   },
   {
    "duration": 0,
    "start_time": "2022-04-27T06:12:12.514Z"
   },
   {
    "duration": 0,
    "start_time": "2022-04-27T06:12:12.515Z"
   },
   {
    "duration": 0,
    "start_time": "2022-04-27T06:12:12.517Z"
   },
   {
    "duration": 0,
    "start_time": "2022-04-27T06:12:12.518Z"
   },
   {
    "duration": 0,
    "start_time": "2022-04-27T06:12:12.519Z"
   },
   {
    "duration": 0,
    "start_time": "2022-04-27T06:12:12.521Z"
   },
   {
    "duration": 0,
    "start_time": "2022-04-27T06:12:12.522Z"
   },
   {
    "duration": 4,
    "start_time": "2022-04-27T06:12:21.795Z"
   },
   {
    "duration": 1987,
    "start_time": "2022-04-27T06:12:28.755Z"
   },
   {
    "duration": 32,
    "start_time": "2022-04-27T06:12:30.744Z"
   },
   {
    "duration": 27,
    "start_time": "2022-04-27T06:12:30.778Z"
   },
   {
    "duration": 4,
    "start_time": "2022-04-27T06:12:30.808Z"
   },
   {
    "duration": 24,
    "start_time": "2022-04-27T06:12:30.815Z"
   },
   {
    "duration": 31,
    "start_time": "2022-04-27T06:12:30.842Z"
   },
   {
    "duration": 16,
    "start_time": "2022-04-27T06:12:30.875Z"
   },
   {
    "duration": 14,
    "start_time": "2022-04-27T06:12:30.894Z"
   },
   {
    "duration": 17,
    "start_time": "2022-04-27T06:12:30.911Z"
   },
   {
    "duration": 27,
    "start_time": "2022-04-27T06:12:30.930Z"
   },
   {
    "duration": 39,
    "start_time": "2022-04-27T06:12:30.959Z"
   },
   {
    "duration": 11,
    "start_time": "2022-04-27T06:12:31.001Z"
   },
   {
    "duration": 978,
    "start_time": "2022-04-27T06:12:31.014Z"
   },
   {
    "duration": 4,
    "start_time": "2022-04-27T06:12:31.999Z"
   },
   {
    "duration": 15,
    "start_time": "2022-04-27T06:12:32.005Z"
   },
   {
    "duration": 195,
    "start_time": "2022-04-27T06:12:32.022Z"
   },
   {
    "duration": 0,
    "start_time": "2022-04-27T06:12:32.219Z"
   },
   {
    "duration": 0,
    "start_time": "2022-04-27T06:12:32.221Z"
   },
   {
    "duration": 0,
    "start_time": "2022-04-27T06:12:32.223Z"
   },
   {
    "duration": 0,
    "start_time": "2022-04-27T06:12:32.224Z"
   },
   {
    "duration": 1,
    "start_time": "2022-04-27T06:12:32.225Z"
   },
   {
    "duration": 0,
    "start_time": "2022-04-27T06:12:32.227Z"
   },
   {
    "duration": 0,
    "start_time": "2022-04-27T06:12:32.228Z"
   },
   {
    "duration": 0,
    "start_time": "2022-04-27T06:12:32.230Z"
   },
   {
    "duration": 0,
    "start_time": "2022-04-27T06:12:32.231Z"
   },
   {
    "duration": 0,
    "start_time": "2022-04-27T06:12:32.233Z"
   },
   {
    "duration": 0,
    "start_time": "2022-04-27T06:12:32.235Z"
   },
   {
    "duration": 0,
    "start_time": "2022-04-27T06:12:32.236Z"
   },
   {
    "duration": 0,
    "start_time": "2022-04-27T06:12:32.238Z"
   },
   {
    "duration": 0,
    "start_time": "2022-04-27T06:12:32.239Z"
   },
   {
    "duration": 0,
    "start_time": "2022-04-27T06:12:32.241Z"
   },
   {
    "duration": 4,
    "start_time": "2022-04-27T06:14:18.223Z"
   },
   {
    "duration": 15,
    "start_time": "2022-04-27T06:14:19.364Z"
   },
   {
    "duration": 11,
    "start_time": "2022-04-27T06:14:20.222Z"
   },
   {
    "duration": 1880,
    "start_time": "2022-04-27T06:20:37.126Z"
   },
   {
    "duration": 36,
    "start_time": "2022-04-27T06:20:39.009Z"
   },
   {
    "duration": 25,
    "start_time": "2022-04-27T06:20:39.047Z"
   },
   {
    "duration": 4,
    "start_time": "2022-04-27T06:20:39.081Z"
   },
   {
    "duration": 10,
    "start_time": "2022-04-27T06:20:39.088Z"
   },
   {
    "duration": 20,
    "start_time": "2022-04-27T06:20:39.100Z"
   },
   {
    "duration": 6,
    "start_time": "2022-04-27T06:20:39.122Z"
   },
   {
    "duration": 10,
    "start_time": "2022-04-27T06:20:39.130Z"
   },
   {
    "duration": 45,
    "start_time": "2022-04-27T06:20:39.142Z"
   },
   {
    "duration": 26,
    "start_time": "2022-04-27T06:20:39.190Z"
   },
   {
    "duration": 15,
    "start_time": "2022-04-27T06:20:39.218Z"
   },
   {
    "duration": 7,
    "start_time": "2022-04-27T06:20:39.235Z"
   },
   {
    "duration": 982,
    "start_time": "2022-04-27T06:20:39.244Z"
   },
   {
    "duration": 3,
    "start_time": "2022-04-27T06:20:40.231Z"
   },
   {
    "duration": 9,
    "start_time": "2022-04-27T06:20:40.236Z"
   },
   {
    "duration": 180,
    "start_time": "2022-04-27T06:20:40.248Z"
   },
   {
    "duration": 0,
    "start_time": "2022-04-27T06:20:40.430Z"
   },
   {
    "duration": 0,
    "start_time": "2022-04-27T06:20:40.432Z"
   },
   {
    "duration": 0,
    "start_time": "2022-04-27T06:20:40.433Z"
   },
   {
    "duration": 0,
    "start_time": "2022-04-27T06:20:40.434Z"
   },
   {
    "duration": 0,
    "start_time": "2022-04-27T06:20:40.435Z"
   },
   {
    "duration": 0,
    "start_time": "2022-04-27T06:20:40.437Z"
   },
   {
    "duration": 0,
    "start_time": "2022-04-27T06:20:40.438Z"
   },
   {
    "duration": 0,
    "start_time": "2022-04-27T06:20:40.439Z"
   },
   {
    "duration": 0,
    "start_time": "2022-04-27T06:20:40.440Z"
   },
   {
    "duration": 0,
    "start_time": "2022-04-27T06:20:40.442Z"
   },
   {
    "duration": 0,
    "start_time": "2022-04-27T06:20:40.443Z"
   },
   {
    "duration": 0,
    "start_time": "2022-04-27T06:20:40.444Z"
   },
   {
    "duration": 0,
    "start_time": "2022-04-27T06:20:40.445Z"
   },
   {
    "duration": 0,
    "start_time": "2022-04-27T06:20:40.446Z"
   },
   {
    "duration": 0,
    "start_time": "2022-04-27T06:20:40.447Z"
   },
   {
    "duration": 13,
    "start_time": "2022-04-27T06:23:40.597Z"
   },
   {
    "duration": 4,
    "start_time": "2022-04-27T06:23:58.535Z"
   },
   {
    "duration": 17,
    "start_time": "2022-04-27T06:24:00.935Z"
   },
   {
    "duration": 4,
    "start_time": "2022-04-27T06:24:09.034Z"
   },
   {
    "duration": 2189,
    "start_time": "2022-04-27T06:25:20.448Z"
   },
   {
    "duration": 35,
    "start_time": "2022-04-27T06:25:22.639Z"
   },
   {
    "duration": 24,
    "start_time": "2022-04-27T06:25:22.681Z"
   },
   {
    "duration": 4,
    "start_time": "2022-04-27T06:25:22.707Z"
   },
   {
    "duration": 7,
    "start_time": "2022-04-27T06:25:22.714Z"
   },
   {
    "duration": 21,
    "start_time": "2022-04-27T06:25:22.723Z"
   },
   {
    "duration": 39,
    "start_time": "2022-04-27T06:25:22.747Z"
   },
   {
    "duration": 12,
    "start_time": "2022-04-27T06:25:22.788Z"
   },
   {
    "duration": 12,
    "start_time": "2022-04-27T06:25:22.802Z"
   },
   {
    "duration": 26,
    "start_time": "2022-04-27T06:25:22.817Z"
   },
   {
    "duration": 50,
    "start_time": "2022-04-27T06:25:22.845Z"
   },
   {
    "duration": 8,
    "start_time": "2022-04-27T06:25:22.897Z"
   },
   {
    "duration": 1022,
    "start_time": "2022-04-27T06:25:22.907Z"
   },
   {
    "duration": 5,
    "start_time": "2022-04-27T06:25:23.934Z"
   },
   {
    "duration": 7,
    "start_time": "2022-04-27T06:25:23.940Z"
   },
   {
    "duration": 2094,
    "start_time": "2022-04-27T06:27:34.666Z"
   },
   {
    "duration": 34,
    "start_time": "2022-04-27T06:27:36.763Z"
   },
   {
    "duration": 24,
    "start_time": "2022-04-27T06:27:36.800Z"
   },
   {
    "duration": 4,
    "start_time": "2022-04-27T06:27:36.826Z"
   },
   {
    "duration": 9,
    "start_time": "2022-04-27T06:27:36.832Z"
   },
   {
    "duration": 17,
    "start_time": "2022-04-27T06:27:36.882Z"
   },
   {
    "duration": 13,
    "start_time": "2022-04-27T06:27:36.902Z"
   },
   {
    "duration": 11,
    "start_time": "2022-04-27T06:27:36.917Z"
   },
   {
    "duration": 56,
    "start_time": "2022-04-27T06:27:36.931Z"
   },
   {
    "duration": 34,
    "start_time": "2022-04-27T06:27:36.992Z"
   },
   {
    "duration": 18,
    "start_time": "2022-04-27T06:27:37.028Z"
   },
   {
    "duration": 38,
    "start_time": "2022-04-27T06:27:37.049Z"
   },
   {
    "duration": 1078,
    "start_time": "2022-04-27T06:27:37.090Z"
   },
   {
    "duration": 11,
    "start_time": "2022-04-27T06:27:38.170Z"
   },
   {
    "duration": 5,
    "start_time": "2022-04-27T06:27:38.183Z"
   },
   {
    "duration": 65,
    "start_time": "2022-04-27T09:31:27.821Z"
   },
   {
    "duration": 1823,
    "start_time": "2022-04-27T09:31:35.365Z"
   },
   {
    "duration": 42,
    "start_time": "2022-04-27T09:31:37.190Z"
   },
   {
    "duration": 27,
    "start_time": "2022-04-27T09:31:37.236Z"
   },
   {
    "duration": 7,
    "start_time": "2022-04-27T09:31:37.265Z"
   },
   {
    "duration": 8,
    "start_time": "2022-04-27T09:31:37.274Z"
   },
   {
    "duration": 18,
    "start_time": "2022-04-27T09:31:37.284Z"
   },
   {
    "duration": 9,
    "start_time": "2022-04-27T09:31:37.305Z"
   },
   {
    "duration": 27,
    "start_time": "2022-04-27T09:31:37.315Z"
   },
   {
    "duration": 33,
    "start_time": "2022-04-27T09:31:37.344Z"
   },
   {
    "duration": 19,
    "start_time": "2022-04-27T09:31:37.379Z"
   },
   {
    "duration": 13,
    "start_time": "2022-04-27T09:31:37.400Z"
   },
   {
    "duration": 7,
    "start_time": "2022-04-27T09:31:37.415Z"
   },
   {
    "duration": 769,
    "start_time": "2022-04-27T09:31:37.424Z"
   },
   {
    "duration": 2,
    "start_time": "2022-04-27T09:31:38.196Z"
   },
   {
    "duration": 5,
    "start_time": "2022-04-27T09:31:38.200Z"
   },
   {
    "duration": 1077650,
    "start_time": "2022-04-27T09:31:38.207Z"
   },
   {
    "duration": 4,
    "start_time": "2022-04-27T09:49:35.861Z"
   },
   {
    "duration": 7769,
    "start_time": "2022-04-27T09:49:35.867Z"
   },
   {
    "duration": 2940,
    "start_time": "2022-04-27T09:49:43.638Z"
   },
   {
    "duration": 1664,
    "start_time": "2022-04-27T09:49:46.580Z"
   },
   {
    "duration": 396,
    "start_time": "2022-04-27T09:49:48.246Z"
   },
   {
    "duration": 617,
    "start_time": "2022-04-27T09:49:48.648Z"
   },
   {
    "duration": 190,
    "start_time": "2022-04-27T09:49:49.267Z"
   },
   {
    "duration": 72,
    "start_time": "2022-04-27T09:49:49.463Z"
   },
   {
    "duration": 108,
    "start_time": "2022-04-27T09:49:49.542Z"
   },
   {
    "duration": 296,
    "start_time": "2022-04-27T09:49:49.657Z"
   },
   {
    "duration": 6,
    "start_time": "2022-04-27T09:49:49.955Z"
   },
   {
    "duration": 117,
    "start_time": "2022-04-27T09:49:49.963Z"
   },
   {
    "duration": 159,
    "start_time": "2022-04-27T09:49:50.081Z"
   },
   {
    "duration": 671,
    "start_time": "2022-04-27T09:49:50.242Z"
   },
   {
    "duration": 163,
    "start_time": "2022-04-27T09:49:50.915Z"
   },
   {
    "duration": 84,
    "start_time": "2022-04-27T17:18:38.983Z"
   },
   {
    "duration": 2535,
    "start_time": "2022-04-27T17:18:49.633Z"
   },
   {
    "duration": 33,
    "start_time": "2022-04-27T17:18:52.171Z"
   },
   {
    "duration": 40,
    "start_time": "2022-04-27T17:18:52.206Z"
   },
   {
    "duration": 4,
    "start_time": "2022-04-27T17:18:52.250Z"
   },
   {
    "duration": 23,
    "start_time": "2022-04-27T17:18:52.256Z"
   },
   {
    "duration": 28,
    "start_time": "2022-04-27T17:18:52.282Z"
   },
   {
    "duration": 20,
    "start_time": "2022-04-27T17:18:52.312Z"
   },
   {
    "duration": 24,
    "start_time": "2022-04-27T17:18:52.334Z"
   },
   {
    "duration": 28,
    "start_time": "2022-04-27T17:18:52.360Z"
   },
   {
    "duration": 57,
    "start_time": "2022-04-27T17:18:52.392Z"
   },
   {
    "duration": 20,
    "start_time": "2022-04-27T17:18:52.452Z"
   },
   {
    "duration": 13,
    "start_time": "2022-04-27T17:18:52.474Z"
   },
   {
    "duration": 1292,
    "start_time": "2022-04-27T17:18:52.489Z"
   },
   {
    "duration": 6,
    "start_time": "2022-04-27T17:18:53.784Z"
   },
   {
    "duration": 11,
    "start_time": "2022-04-27T17:18:53.792Z"
   },
   {
    "duration": 2076,
    "start_time": "2022-04-27T17:20:00.183Z"
   },
   {
    "duration": 33,
    "start_time": "2022-04-27T17:20:02.262Z"
   },
   {
    "duration": 43,
    "start_time": "2022-04-27T17:20:02.297Z"
   },
   {
    "duration": 18,
    "start_time": "2022-04-27T17:20:02.343Z"
   },
   {
    "duration": 19,
    "start_time": "2022-04-27T17:20:02.366Z"
   },
   {
    "duration": 31,
    "start_time": "2022-04-27T17:20:02.388Z"
   },
   {
    "duration": 11,
    "start_time": "2022-04-27T17:20:02.422Z"
   },
   {
    "duration": 29,
    "start_time": "2022-04-27T17:20:02.436Z"
   },
   {
    "duration": 24,
    "start_time": "2022-04-27T17:20:02.468Z"
   },
   {
    "duration": 46,
    "start_time": "2022-04-27T17:20:02.496Z"
   },
   {
    "duration": 17,
    "start_time": "2022-04-27T17:20:02.545Z"
   },
   {
    "duration": 8,
    "start_time": "2022-04-27T17:20:02.565Z"
   },
   {
    "duration": 996,
    "start_time": "2022-04-27T17:20:02.576Z"
   },
   {
    "duration": 4,
    "start_time": "2022-04-27T17:20:03.577Z"
   },
   {
    "duration": 27,
    "start_time": "2022-04-27T17:20:03.583Z"
   },
   {
    "duration": 2271,
    "start_time": "2022-04-27T17:21:34.785Z"
   },
   {
    "duration": 42,
    "start_time": "2022-04-27T17:21:37.059Z"
   },
   {
    "duration": 33,
    "start_time": "2022-04-27T17:21:38.031Z"
   },
   {
    "duration": 5,
    "start_time": "2022-04-27T17:21:40.904Z"
   },
   {
    "duration": 7,
    "start_time": "2022-04-27T17:21:42.645Z"
   },
   {
    "duration": 17,
    "start_time": "2022-04-27T17:21:44.882Z"
   },
   {
    "duration": 7,
    "start_time": "2022-04-27T17:21:49.491Z"
   },
   {
    "duration": 12,
    "start_time": "2022-04-27T17:21:51.966Z"
   },
   {
    "duration": 13,
    "start_time": "2022-04-27T17:21:55.558Z"
   },
   {
    "duration": 39,
    "start_time": "2022-04-27T17:21:57.654Z"
   },
   {
    "duration": 16,
    "start_time": "2022-04-27T17:22:01.351Z"
   },
   {
    "duration": 8,
    "start_time": "2022-04-27T17:22:04.910Z"
   },
   {
    "duration": 994,
    "start_time": "2022-04-27T17:22:07.423Z"
   },
   {
    "duration": 8,
    "start_time": "2022-04-27T17:22:30.736Z"
   },
   {
    "duration": 4,
    "start_time": "2022-04-27T17:22:32.119Z"
   },
   {
    "duration": 65312,
    "start_time": "2022-04-27T17:22:33.193Z"
   },
   {
    "duration": 6,
    "start_time": "2022-04-27T17:23:45.741Z"
   },
   {
    "duration": 193,
    "start_time": "2022-04-27T17:24:08.296Z"
   },
   {
    "duration": 152,
    "start_time": "2022-04-27T17:24:36.515Z"
   },
   {
    "duration": 4,
    "start_time": "2022-04-27T17:25:06.155Z"
   },
   {
    "duration": 4,
    "start_time": "2022-04-27T17:25:06.993Z"
   },
   {
    "duration": 2620,
    "start_time": "2022-04-27T17:26:21.904Z"
   },
   {
    "duration": 39,
    "start_time": "2022-04-27T17:26:24.529Z"
   },
   {
    "duration": 25,
    "start_time": "2022-04-27T17:26:24.571Z"
   },
   {
    "duration": 7,
    "start_time": "2022-04-27T17:26:24.599Z"
   },
   {
    "duration": 13,
    "start_time": "2022-04-27T17:26:24.628Z"
   },
   {
    "duration": 26,
    "start_time": "2022-04-27T17:26:24.644Z"
   },
   {
    "duration": 8,
    "start_time": "2022-04-27T17:26:24.672Z"
   },
   {
    "duration": 12,
    "start_time": "2022-04-27T17:26:24.683Z"
   },
   {
    "duration": 48,
    "start_time": "2022-04-27T17:26:24.698Z"
   },
   {
    "duration": 38,
    "start_time": "2022-04-27T17:26:24.751Z"
   },
   {
    "duration": 39,
    "start_time": "2022-04-27T17:26:24.791Z"
   },
   {
    "duration": 9,
    "start_time": "2022-04-27T17:26:24.833Z"
   },
   {
    "duration": 994,
    "start_time": "2022-04-27T17:26:24.845Z"
   },
   {
    "duration": 5,
    "start_time": "2022-04-27T17:26:25.845Z"
   },
   {
    "duration": 9,
    "start_time": "2022-04-27T17:26:25.852Z"
   },
   {
    "duration": 207436,
    "start_time": "2022-04-27T17:26:25.864Z"
   },
   {
    "duration": 6,
    "start_time": "2022-04-27T17:29:53.302Z"
   },
   {
    "duration": 204,
    "start_time": "2022-04-27T17:29:53.329Z"
   },
   {
    "duration": 166,
    "start_time": "2022-04-27T17:29:53.536Z"
   },
   {
    "duration": 10854,
    "start_time": "2022-04-27T17:29:53.704Z"
   },
   {
    "duration": 4153,
    "start_time": "2022-04-27T17:30:04.561Z"
   },
   {
    "duration": 839,
    "start_time": "2022-04-27T17:30:08.716Z"
   },
   {
    "duration": 569,
    "start_time": "2022-04-27T17:30:09.565Z"
   },
   {
    "duration": 839,
    "start_time": "2022-04-27T17:30:10.143Z"
   },
   {
    "duration": 444,
    "start_time": "2022-04-27T17:30:10.985Z"
   },
   {
    "duration": 12,
    "start_time": "2022-04-27T17:30:11.434Z"
   },
   {
    "duration": 28,
    "start_time": "2022-04-27T17:30:11.450Z"
   },
   {
    "duration": 501,
    "start_time": "2022-04-27T17:30:11.526Z"
   },
   {
    "duration": 8,
    "start_time": "2022-04-27T17:30:12.030Z"
   },
   {
    "duration": 29,
    "start_time": "2022-04-27T17:30:12.046Z"
   },
   {
    "duration": 353,
    "start_time": "2022-04-27T17:30:12.078Z"
   },
   {
    "duration": 897,
    "start_time": "2022-04-27T17:30:12.440Z"
   },
   {
    "duration": 159,
    "start_time": "2022-04-27T17:30:13.340Z"
   },
   {
    "duration": 0,
    "start_time": "2022-04-27T17:30:13.502Z"
   },
   {
    "duration": 215,
    "start_time": "2022-04-27T17:30:19.833Z"
   },
   {
    "duration": 216,
    "start_time": "2022-04-27T17:30:36.891Z"
   },
   {
    "duration": 182,
    "start_time": "2022-04-27T17:31:06.887Z"
   },
   {
    "duration": 150,
    "start_time": "2022-04-27T17:31:15.550Z"
   },
   {
    "duration": 4,
    "start_time": "2022-04-27T17:31:44.683Z"
   },
   {
    "duration": 5,
    "start_time": "2022-04-27T17:31:54.903Z"
   },
   {
    "duration": 14463,
    "start_time": "2022-04-27T17:32:08.638Z"
   },
   {
    "duration": 13,
    "start_time": "2022-04-27T17:32:26.531Z"
   },
   {
    "duration": 231,
    "start_time": "2022-04-27T17:32:34.920Z"
   },
   {
    "duration": 2260,
    "start_time": "2022-04-27T17:33:29.316Z"
   },
   {
    "duration": 46,
    "start_time": "2022-04-27T17:33:31.579Z"
   },
   {
    "duration": 34,
    "start_time": "2022-04-27T17:33:31.628Z"
   },
   {
    "duration": 7,
    "start_time": "2022-04-27T17:33:31.665Z"
   },
   {
    "duration": 13,
    "start_time": "2022-04-27T17:33:31.675Z"
   },
   {
    "duration": 54,
    "start_time": "2022-04-27T17:33:31.690Z"
   },
   {
    "duration": 8,
    "start_time": "2022-04-27T17:33:31.748Z"
   },
   {
    "duration": 11,
    "start_time": "2022-04-27T17:33:31.759Z"
   },
   {
    "duration": 17,
    "start_time": "2022-04-27T17:33:31.773Z"
   },
   {
    "duration": 60,
    "start_time": "2022-04-27T17:33:31.794Z"
   },
   {
    "duration": 15,
    "start_time": "2022-04-27T17:33:31.857Z"
   },
   {
    "duration": 39,
    "start_time": "2022-04-27T17:33:31.874Z"
   },
   {
    "duration": 992,
    "start_time": "2022-04-27T17:33:31.916Z"
   },
   {
    "duration": 11456,
    "start_time": "2022-04-27T17:33:32.911Z"
   },
   {
    "duration": 4288,
    "start_time": "2022-04-27T17:33:44.370Z"
   },
   {
    "duration": 872,
    "start_time": "2022-04-27T17:33:48.662Z"
   },
   {
    "duration": 395,
    "start_time": "2022-04-27T17:33:49.537Z"
   },
   {
    "duration": 787,
    "start_time": "2022-04-27T17:33:49.939Z"
   },
   {
    "duration": 395,
    "start_time": "2022-04-27T17:33:50.729Z"
   },
   {
    "duration": 17,
    "start_time": "2022-04-27T17:33:51.130Z"
   },
   {
    "duration": 24,
    "start_time": "2022-04-27T17:33:51.151Z"
   },
   {
    "duration": 459,
    "start_time": "2022-04-27T17:33:51.178Z"
   },
   {
    "duration": 13,
    "start_time": "2022-04-27T17:33:51.640Z"
   },
   {
    "duration": 104,
    "start_time": "2022-04-27T17:33:51.656Z"
   },
   {
    "duration": 275,
    "start_time": "2022-04-27T17:33:51.763Z"
   },
   {
    "duration": 1054,
    "start_time": "2022-04-27T17:33:52.041Z"
   },
   {
    "duration": 186,
    "start_time": "2022-04-27T17:33:53.098Z"
   },
   {
    "duration": 479,
    "start_time": "2022-04-27T17:38:49.445Z"
   },
   {
    "duration": 405,
    "start_time": "2022-04-27T17:39:29.150Z"
   },
   {
    "duration": 455,
    "start_time": "2022-04-27T17:40:19.981Z"
   },
   {
    "duration": 235,
    "start_time": "2022-04-27T17:51:56.173Z"
   },
   {
    "duration": 220,
    "start_time": "2022-04-27T17:52:22.216Z"
   },
   {
    "duration": 1528,
    "start_time": "2022-04-27T17:53:30.164Z"
   },
   {
    "duration": 633,
    "start_time": "2022-04-27T17:53:36.882Z"
   },
   {
    "duration": 417,
    "start_time": "2022-04-27T17:55:17.519Z"
   },
   {
    "duration": 423,
    "start_time": "2022-04-27T17:55:44.504Z"
   },
   {
    "duration": 2053,
    "start_time": "2022-04-27T18:06:47.225Z"
   },
   {
    "duration": 34,
    "start_time": "2022-04-27T18:06:49.280Z"
   },
   {
    "duration": 32,
    "start_time": "2022-04-27T18:06:49.324Z"
   },
   {
    "duration": 6,
    "start_time": "2022-04-27T18:06:49.360Z"
   },
   {
    "duration": 15,
    "start_time": "2022-04-27T18:06:49.369Z"
   },
   {
    "duration": 43,
    "start_time": "2022-04-27T18:06:49.386Z"
   },
   {
    "duration": 9,
    "start_time": "2022-04-27T18:06:49.432Z"
   },
   {
    "duration": 15,
    "start_time": "2022-04-27T18:06:49.444Z"
   },
   {
    "duration": 19,
    "start_time": "2022-04-27T18:06:49.461Z"
   },
   {
    "duration": 64,
    "start_time": "2022-04-27T18:06:49.485Z"
   },
   {
    "duration": 16,
    "start_time": "2022-04-27T18:06:49.552Z"
   },
   {
    "duration": 9,
    "start_time": "2022-04-27T18:06:49.571Z"
   },
   {
    "duration": 607,
    "start_time": "2022-04-27T18:06:49.582Z"
   },
   {
    "duration": 14803,
    "start_time": "2022-04-27T18:06:50.191Z"
   },
   {
    "duration": 6165,
    "start_time": "2022-04-27T18:07:04.997Z"
   },
   {
    "duration": 987,
    "start_time": "2022-04-27T18:07:11.164Z"
   },
   {
    "duration": 494,
    "start_time": "2022-04-27T18:07:12.154Z"
   },
   {
    "duration": 386,
    "start_time": "2022-04-27T18:07:12.651Z"
   },
   {
    "duration": 86,
    "start_time": "2022-04-27T18:07:13.041Z"
   },
   {
    "duration": 31,
    "start_time": "2022-04-27T18:07:13.130Z"
   },
   {
    "duration": 378,
    "start_time": "2022-04-27T18:07:13.164Z"
   },
   {
    "duration": 8,
    "start_time": "2022-04-27T18:07:13.628Z"
   },
   {
    "duration": 34,
    "start_time": "2022-04-27T18:07:13.638Z"
   },
   {
    "duration": 273,
    "start_time": "2022-04-27T18:07:13.675Z"
   },
   {
    "duration": 535,
    "start_time": "2022-04-27T18:07:13.950Z"
   },
   {
    "duration": 0,
    "start_time": "2022-04-27T18:07:14.487Z"
   },
   {
    "duration": 0,
    "start_time": "2022-04-27T18:07:14.489Z"
   },
   {
    "duration": 2252,
    "start_time": "2022-04-27T18:07:41.197Z"
   },
   {
    "duration": 33,
    "start_time": "2022-04-27T18:07:43.452Z"
   },
   {
    "duration": 48,
    "start_time": "2022-04-27T18:07:43.488Z"
   },
   {
    "duration": 12,
    "start_time": "2022-04-27T18:07:43.541Z"
   },
   {
    "duration": 45,
    "start_time": "2022-04-27T18:07:43.556Z"
   },
   {
    "duration": 60,
    "start_time": "2022-04-27T18:07:43.603Z"
   },
   {
    "duration": 18,
    "start_time": "2022-04-27T18:07:43.665Z"
   },
   {
    "duration": 51,
    "start_time": "2022-04-27T18:07:43.685Z"
   },
   {
    "duration": 24,
    "start_time": "2022-04-27T18:07:43.738Z"
   },
   {
    "duration": 49,
    "start_time": "2022-04-27T18:07:43.765Z"
   },
   {
    "duration": 28,
    "start_time": "2022-04-27T18:07:43.817Z"
   },
   {
    "duration": 14,
    "start_time": "2022-04-27T18:07:43.847Z"
   },
   {
    "duration": 604,
    "start_time": "2022-04-27T18:07:43.864Z"
   },
   {
    "duration": 17398,
    "start_time": "2022-04-27T18:07:44.473Z"
   },
   {
    "duration": 4441,
    "start_time": "2022-04-27T18:08:01.873Z"
   },
   {
    "duration": 1212,
    "start_time": "2022-04-27T18:08:06.316Z"
   },
   {
    "duration": 494,
    "start_time": "2022-04-27T18:08:07.531Z"
   },
   {
    "duration": 390,
    "start_time": "2022-04-27T18:08:08.035Z"
   },
   {
    "duration": 6,
    "start_time": "2022-04-27T18:08:08.429Z"
   },
   {
    "duration": 27,
    "start_time": "2022-04-27T18:08:08.444Z"
   },
   {
    "duration": 468,
    "start_time": "2022-04-27T18:08:08.474Z"
   },
   {
    "duration": 6,
    "start_time": "2022-04-27T18:08:09.026Z"
   },
   {
    "duration": 41,
    "start_time": "2022-04-27T18:08:09.036Z"
   },
   {
    "duration": 246,
    "start_time": "2022-04-27T18:08:09.079Z"
   },
   {
    "duration": 2761,
    "start_time": "2022-04-27T18:11:04.178Z"
   },
   {
    "duration": 94,
    "start_time": "2022-04-27T18:11:06.946Z"
   },
   {
    "duration": 101,
    "start_time": "2022-04-27T18:11:07.044Z"
   },
   {
    "duration": 5,
    "start_time": "2022-04-27T18:11:07.148Z"
   },
   {
    "duration": 15,
    "start_time": "2022-04-27T18:11:07.157Z"
   },
   {
    "duration": 65,
    "start_time": "2022-04-27T18:11:07.174Z"
   },
   {
    "duration": 8,
    "start_time": "2022-04-27T18:11:07.241Z"
   },
   {
    "duration": 19,
    "start_time": "2022-04-27T18:11:07.252Z"
   },
   {
    "duration": 77,
    "start_time": "2022-04-27T18:11:07.274Z"
   },
   {
    "duration": 80,
    "start_time": "2022-04-27T18:11:07.353Z"
   },
   {
    "duration": 19,
    "start_time": "2022-04-27T18:11:07.437Z"
   },
   {
    "duration": 7,
    "start_time": "2022-04-27T18:11:07.459Z"
   },
   {
    "duration": 1304,
    "start_time": "2022-04-27T18:11:07.468Z"
   },
   {
    "duration": 11728,
    "start_time": "2022-04-27T18:11:08.835Z"
   },
   {
    "duration": 4497,
    "start_time": "2022-04-27T18:11:20.566Z"
   },
   {
    "duration": 1186,
    "start_time": "2022-04-27T18:11:25.066Z"
   },
   {
    "duration": 411,
    "start_time": "2022-04-27T18:11:26.326Z"
   },
   {
    "duration": 486,
    "start_time": "2022-04-27T18:11:26.740Z"
   },
   {
    "duration": 9,
    "start_time": "2022-04-27T18:11:27.232Z"
   },
   {
    "duration": 31,
    "start_time": "2022-04-27T18:11:27.245Z"
   },
   {
    "duration": 376,
    "start_time": "2022-04-27T18:11:27.279Z"
   },
   {
    "duration": 10,
    "start_time": "2022-04-27T18:11:27.727Z"
   },
   {
    "duration": 101,
    "start_time": "2022-04-27T18:11:27.740Z"
   },
   {
    "duration": 194,
    "start_time": "2022-04-27T18:11:27.849Z"
   },
   {
    "duration": 17617,
    "start_time": "2022-04-27T18:11:28.046Z"
   },
   {
    "duration": 378,
    "start_time": "2022-04-27T18:11:45.666Z"
   },
   {
    "duration": 804,
    "start_time": "2022-04-27T18:11:46.130Z"
   },
   {
    "duration": 35096,
    "start_time": "2022-04-27T18:12:14.338Z"
   },
   {
    "duration": 2034,
    "start_time": "2022-04-27T18:13:37.602Z"
   },
   {
    "duration": 2001,
    "start_time": "2022-04-27T18:13:50.233Z"
   },
   {
    "duration": 2280,
    "start_time": "2022-04-27T18:16:05.858Z"
   },
   {
    "duration": 4729,
    "start_time": "2022-04-28T15:25:53.651Z"
   },
   {
    "duration": 98,
    "start_time": "2022-04-28T15:25:58.384Z"
   },
   {
    "duration": 85,
    "start_time": "2022-04-28T15:25:58.485Z"
   },
   {
    "duration": 50,
    "start_time": "2022-04-28T15:25:58.575Z"
   },
   {
    "duration": 31,
    "start_time": "2022-04-28T15:25:58.629Z"
   },
   {
    "duration": 65,
    "start_time": "2022-04-28T15:25:58.662Z"
   },
   {
    "duration": 10,
    "start_time": "2022-04-28T15:25:58.730Z"
   },
   {
    "duration": 42,
    "start_time": "2022-04-28T15:25:58.743Z"
   },
   {
    "duration": 29,
    "start_time": "2022-04-28T15:25:58.826Z"
   },
   {
    "duration": 78,
    "start_time": "2022-04-28T15:25:58.866Z"
   },
   {
    "duration": 20,
    "start_time": "2022-04-28T15:25:58.947Z"
   },
   {
    "duration": 10,
    "start_time": "2022-04-28T15:25:59.026Z"
   },
   {
    "duration": 1419,
    "start_time": "2022-04-28T15:25:59.040Z"
   },
   {
    "duration": 27166,
    "start_time": "2022-04-28T15:26:00.463Z"
   },
   {
    "duration": 10229,
    "start_time": "2022-04-28T15:26:27.637Z"
   },
   {
    "duration": 1361,
    "start_time": "2022-04-28T15:26:37.869Z"
   },
   {
    "duration": 817,
    "start_time": "2022-04-28T15:26:39.233Z"
   },
   {
    "duration": 895,
    "start_time": "2022-04-28T15:26:40.053Z"
   },
   {
    "duration": 8,
    "start_time": "2022-04-28T15:26:40.952Z"
   },
   {
    "duration": 54,
    "start_time": "2022-04-28T15:26:41.026Z"
   },
   {
    "duration": 1008,
    "start_time": "2022-04-28T15:26:41.123Z"
   },
   {
    "duration": 9,
    "start_time": "2022-04-28T15:26:42.134Z"
   },
   {
    "duration": 128,
    "start_time": "2022-04-28T15:26:42.146Z"
   },
   {
    "duration": 457,
    "start_time": "2022-04-28T15:26:42.277Z"
   },
   {
    "duration": 38120,
    "start_time": "2022-04-28T15:26:42.741Z"
   },
   {
    "duration": 89010,
    "start_time": "2022-04-28T15:27:20.864Z"
   },
   {
    "duration": 4683,
    "start_time": "2022-04-28T15:28:49.877Z"
   },
   {
    "duration": 6607,
    "start_time": "2022-04-28T15:28:54.566Z"
   },
   {
    "duration": 49,
    "start_time": "2022-04-28T18:16:02.190Z"
   },
   {
    "duration": 1636,
    "start_time": "2022-04-28T18:16:08.935Z"
   },
   {
    "duration": 61,
    "start_time": "2022-04-28T18:16:10.573Z"
   },
   {
    "duration": 16,
    "start_time": "2022-04-28T18:16:10.636Z"
   },
   {
    "duration": 3,
    "start_time": "2022-04-28T18:16:10.654Z"
   },
   {
    "duration": 22,
    "start_time": "2022-04-28T18:16:10.659Z"
   },
   {
    "duration": 24,
    "start_time": "2022-04-28T18:16:10.682Z"
   },
   {
    "duration": 5,
    "start_time": "2022-04-28T18:16:10.708Z"
   },
   {
    "duration": 9,
    "start_time": "2022-04-28T18:16:10.714Z"
   },
   {
    "duration": 11,
    "start_time": "2022-04-28T18:16:10.725Z"
   },
   {
    "duration": 22,
    "start_time": "2022-04-28T18:16:10.738Z"
   },
   {
    "duration": 24,
    "start_time": "2022-04-28T18:16:10.763Z"
   },
   {
    "duration": 11,
    "start_time": "2022-04-28T18:16:10.789Z"
   },
   {
    "duration": 407,
    "start_time": "2022-04-28T18:16:10.802Z"
   },
   {
    "duration": 6941,
    "start_time": "2022-04-28T18:16:11.212Z"
   },
   {
    "duration": 2579,
    "start_time": "2022-04-28T18:16:18.155Z"
   },
   {
    "duration": 958,
    "start_time": "2022-04-28T18:16:20.735Z"
   },
   {
    "duration": 391,
    "start_time": "2022-04-28T18:16:21.695Z"
   },
   {
    "duration": 306,
    "start_time": "2022-04-28T18:16:22.088Z"
   },
   {
    "duration": 85,
    "start_time": "2022-04-28T18:16:22.396Z"
   },
   {
    "duration": 38,
    "start_time": "2022-04-28T18:16:22.492Z"
   },
   {
    "duration": 263,
    "start_time": "2022-04-28T18:16:22.531Z"
   },
   {
    "duration": 12,
    "start_time": "2022-04-28T18:16:22.877Z"
   },
   {
    "duration": 17,
    "start_time": "2022-04-28T18:16:22.891Z"
   },
   {
    "duration": 168,
    "start_time": "2022-04-28T18:16:22.909Z"
   },
   {
    "duration": 11971,
    "start_time": "2022-04-28T18:16:23.078Z"
   },
   {
    "duration": 20959,
    "start_time": "2022-04-28T18:16:35.051Z"
   },
   {
    "duration": 1137,
    "start_time": "2022-04-28T18:16:56.012Z"
   },
   {
    "duration": 1278,
    "start_time": "2022-04-28T18:16:57.151Z"
   },
   {
    "duration": 5,
    "start_time": "2022-04-28T18:21:16.071Z"
   },
   {
    "duration": 202,
    "start_time": "2022-04-28T18:24:16.286Z"
   },
   {
    "duration": 81,
    "start_time": "2022-04-28T18:24:31.354Z"
   },
   {
    "duration": 83,
    "start_time": "2022-04-28T18:24:35.853Z"
   },
   {
    "duration": 91,
    "start_time": "2022-04-28T18:25:53.049Z"
   },
   {
    "duration": 5,
    "start_time": "2022-04-28T18:26:47.090Z"
   },
   {
    "duration": 7,
    "start_time": "2022-04-28T18:26:50.849Z"
   },
   {
    "duration": 115,
    "start_time": "2022-04-28T18:32:37.945Z"
   },
   {
    "duration": 118,
    "start_time": "2022-04-28T18:32:49.648Z"
   },
   {
    "duration": 107,
    "start_time": "2022-04-28T18:32:54.405Z"
   },
   {
    "duration": 112,
    "start_time": "2022-04-28T18:34:18.231Z"
   },
   {
    "duration": 83,
    "start_time": "2022-04-28T18:35:18.705Z"
   },
   {
    "duration": 477,
    "start_time": "2022-04-28T18:36:48.722Z"
   },
   {
    "duration": 617,
    "start_time": "2022-04-28T18:37:03.217Z"
   },
   {
    "duration": 500,
    "start_time": "2022-04-28T18:37:36.785Z"
   },
   {
    "duration": 1440,
    "start_time": "2022-04-28T18:37:49.159Z"
   },
   {
    "duration": 25,
    "start_time": "2022-04-28T18:37:50.600Z"
   },
   {
    "duration": 17,
    "start_time": "2022-04-28T18:37:50.627Z"
   },
   {
    "duration": 6,
    "start_time": "2022-04-28T18:37:50.645Z"
   },
   {
    "duration": 39,
    "start_time": "2022-04-28T18:37:50.653Z"
   },
   {
    "duration": 12,
    "start_time": "2022-04-28T18:37:50.694Z"
   },
   {
    "duration": 15,
    "start_time": "2022-04-28T18:37:50.708Z"
   },
   {
    "duration": 19,
    "start_time": "2022-04-28T18:37:50.725Z"
   },
   {
    "duration": 242,
    "start_time": "2022-04-28T18:37:50.746Z"
   },
   {
    "duration": 146,
    "start_time": "2022-04-28T18:37:50.990Z"
   },
   {
    "duration": 6,
    "start_time": "2022-04-28T18:37:51.138Z"
   },
   {
    "duration": 143,
    "start_time": "2022-04-28T18:37:51.146Z"
   },
   {
    "duration": 7545,
    "start_time": "2022-04-28T18:37:51.290Z"
   },
   {
    "duration": 72121,
    "start_time": "2022-04-28T18:37:58.838Z"
   },
   {
    "duration": 27839,
    "start_time": "2022-04-28T18:39:10.961Z"
   },
   {
    "duration": 4572,
    "start_time": "2022-04-28T18:39:38.802Z"
   },
   {
    "duration": 2005,
    "start_time": "2022-04-28T18:39:43.376Z"
   },
   {
    "duration": 2152,
    "start_time": "2022-04-28T18:39:45.383Z"
   },
   {
    "duration": 0,
    "start_time": "2022-04-28T18:39:47.537Z"
   },
   {
    "duration": 0,
    "start_time": "2022-04-28T18:39:47.538Z"
   },
   {
    "duration": 0,
    "start_time": "2022-04-28T18:39:47.539Z"
   },
   {
    "duration": 0,
    "start_time": "2022-04-28T18:39:47.540Z"
   },
   {
    "duration": 0,
    "start_time": "2022-04-28T18:39:47.541Z"
   },
   {
    "duration": 0,
    "start_time": "2022-04-28T18:39:47.542Z"
   },
   {
    "duration": 0,
    "start_time": "2022-04-28T18:39:47.543Z"
   },
   {
    "duration": 0,
    "start_time": "2022-04-28T18:39:47.544Z"
   },
   {
    "duration": 0,
    "start_time": "2022-04-28T18:39:47.545Z"
   },
   {
    "duration": 0,
    "start_time": "2022-04-28T18:39:47.546Z"
   },
   {
    "duration": 0,
    "start_time": "2022-04-28T18:39:47.547Z"
   },
   {
    "duration": 2037,
    "start_time": "2022-04-28T18:43:31.623Z"
   },
   {
    "duration": 2194,
    "start_time": "2022-04-28T18:44:40.165Z"
   },
   {
    "duration": 1359,
    "start_time": "2022-04-28T18:45:08.622Z"
   },
   {
    "duration": 25,
    "start_time": "2022-04-28T18:45:09.983Z"
   },
   {
    "duration": 19,
    "start_time": "2022-04-28T18:45:10.010Z"
   },
   {
    "duration": 5,
    "start_time": "2022-04-28T18:45:10.030Z"
   },
   {
    "duration": 19,
    "start_time": "2022-04-28T18:45:10.037Z"
   },
   {
    "duration": 6,
    "start_time": "2022-04-28T18:45:10.073Z"
   },
   {
    "duration": 11,
    "start_time": "2022-04-28T18:45:10.081Z"
   },
   {
    "duration": 12,
    "start_time": "2022-04-28T18:45:10.094Z"
   },
   {
    "duration": 265,
    "start_time": "2022-04-28T18:45:10.108Z"
   },
   {
    "duration": 141,
    "start_time": "2022-04-28T18:45:10.375Z"
   },
   {
    "duration": 6,
    "start_time": "2022-04-28T18:45:10.518Z"
   },
   {
    "duration": 162,
    "start_time": "2022-04-28T18:45:10.526Z"
   },
   {
    "duration": 6687,
    "start_time": "2022-04-28T18:45:10.690Z"
   },
   {
    "duration": 74539,
    "start_time": "2022-04-28T18:45:17.380Z"
   },
   {
    "duration": 31380,
    "start_time": "2022-04-28T18:46:31.921Z"
   },
   {
    "duration": 4070,
    "start_time": "2022-04-28T18:47:03.303Z"
   },
   {
    "duration": 2004,
    "start_time": "2022-04-28T18:47:07.382Z"
   },
   {
    "duration": 2611,
    "start_time": "2022-04-28T18:47:09.475Z"
   },
   {
    "duration": 1898,
    "start_time": "2022-04-28T18:47:12.089Z"
   },
   {
    "duration": 104,
    "start_time": "2022-04-28T18:47:14.076Z"
   },
   {
    "duration": 107,
    "start_time": "2022-04-28T18:47:14.183Z"
   },
   {
    "duration": 3085,
    "start_time": "2022-04-28T18:47:14.292Z"
   },
   {
    "duration": 13,
    "start_time": "2022-04-28T18:47:17.379Z"
   },
   {
    "duration": 69,
    "start_time": "2022-04-28T18:47:17.475Z"
   },
   {
    "duration": 831,
    "start_time": "2022-04-28T18:47:17.546Z"
   },
   {
    "duration": 1425,
    "start_time": "2022-04-28T18:48:31.039Z"
   },
   {
    "duration": 38,
    "start_time": "2022-04-28T18:48:32.466Z"
   },
   {
    "duration": 16,
    "start_time": "2022-04-28T18:48:32.505Z"
   },
   {
    "duration": 5,
    "start_time": "2022-04-28T18:48:32.523Z"
   },
   {
    "duration": 26,
    "start_time": "2022-04-28T18:48:32.531Z"
   },
   {
    "duration": 13,
    "start_time": "2022-04-28T18:48:32.559Z"
   },
   {
    "duration": 35,
    "start_time": "2022-04-28T18:48:32.574Z"
   },
   {
    "duration": 23,
    "start_time": "2022-04-28T18:48:32.611Z"
   },
   {
    "duration": 265,
    "start_time": "2022-04-28T18:48:32.636Z"
   },
   {
    "duration": 152,
    "start_time": "2022-04-28T18:48:32.902Z"
   },
   {
    "duration": 6,
    "start_time": "2022-04-28T18:48:33.055Z"
   },
   {
    "duration": 151,
    "start_time": "2022-04-28T18:48:33.062Z"
   },
   {
    "duration": 6680,
    "start_time": "2022-04-28T18:48:33.215Z"
   },
   {
    "duration": 77597,
    "start_time": "2022-04-28T18:48:39.898Z"
   },
   {
    "duration": 29119,
    "start_time": "2022-04-28T18:49:57.497Z"
   },
   {
    "duration": 5389,
    "start_time": "2022-04-28T18:50:26.618Z"
   },
   {
    "duration": 2065,
    "start_time": "2022-04-28T18:50:32.009Z"
   },
   {
    "duration": 8989,
    "start_time": "2022-04-28T18:50:34.076Z"
   },
   {
    "duration": 1817,
    "start_time": "2022-04-28T18:50:43.066Z"
   },
   {
    "duration": 4,
    "start_time": "2022-04-28T18:50:44.972Z"
   },
   {
    "duration": 125,
    "start_time": "2022-04-28T18:50:44.978Z"
   },
   {
    "duration": 2770,
    "start_time": "2022-04-28T18:50:45.105Z"
   },
   {
    "duration": 95,
    "start_time": "2022-04-28T18:50:47.877Z"
   },
   {
    "duration": 54,
    "start_time": "2022-04-28T18:50:47.975Z"
   },
   {
    "duration": 760,
    "start_time": "2022-04-28T18:50:48.031Z"
   },
   {
    "duration": 14390,
    "start_time": "2022-04-28T18:50:48.875Z"
   },
   {
    "duration": 14427,
    "start_time": "2022-04-28T18:51:03.267Z"
   },
   {
    "duration": 7,
    "start_time": "2022-04-28T18:54:31.964Z"
   },
   {
    "duration": 2875,
    "start_time": "2022-04-28T18:57:01.099Z"
   },
   {
    "duration": 6,
    "start_time": "2022-04-28T18:57:31.148Z"
   },
   {
    "duration": 1678,
    "start_time": "2022-04-28T18:58:03.497Z"
   },
   {
    "duration": 86,
    "start_time": "2022-04-28T18:59:58.029Z"
   },
   {
    "duration": 75,
    "start_time": "2022-04-28T19:00:43.310Z"
   },
   {
    "duration": 2937,
    "start_time": "2022-04-28T19:01:19.538Z"
   },
   {
    "duration": 89,
    "start_time": "2022-04-28T19:01:47.618Z"
   },
   {
    "duration": 839,
    "start_time": "2022-04-28T19:02:20.948Z"
   },
   {
    "duration": 1708,
    "start_time": "2022-04-28T19:02:59.951Z"
   },
   {
    "duration": 31,
    "start_time": "2022-04-28T19:03:01.661Z"
   },
   {
    "duration": 18,
    "start_time": "2022-04-28T19:03:01.694Z"
   },
   {
    "duration": 5,
    "start_time": "2022-04-28T19:03:01.714Z"
   },
   {
    "duration": 16,
    "start_time": "2022-04-28T19:03:01.721Z"
   },
   {
    "duration": 6,
    "start_time": "2022-04-28T19:03:01.739Z"
   },
   {
    "duration": 39,
    "start_time": "2022-04-28T19:03:01.746Z"
   },
   {
    "duration": 17,
    "start_time": "2022-04-28T19:03:01.787Z"
   },
   {
    "duration": 263,
    "start_time": "2022-04-28T19:03:01.806Z"
   },
   {
    "duration": 157,
    "start_time": "2022-04-28T19:03:02.073Z"
   },
   {
    "duration": 7,
    "start_time": "2022-04-28T19:03:02.231Z"
   },
   {
    "duration": 169,
    "start_time": "2022-04-28T19:03:02.240Z"
   },
   {
    "duration": 7585,
    "start_time": "2022-04-28T19:03:02.411Z"
   },
   {
    "duration": 72599,
    "start_time": "2022-04-28T19:03:09.999Z"
   },
   {
    "duration": 28490,
    "start_time": "2022-04-28T19:04:22.600Z"
   },
   {
    "duration": 4492,
    "start_time": "2022-04-28T19:04:51.092Z"
   },
   {
    "duration": 93,
    "start_time": "2022-04-28T19:04:55.587Z"
   },
   {
    "duration": 1802,
    "start_time": "2022-04-28T19:04:55.682Z"
   },
   {
    "duration": 9174,
    "start_time": "2022-04-28T19:04:57.488Z"
   },
   {
    "duration": 2016,
    "start_time": "2022-04-28T19:05:06.664Z"
   },
   {
    "duration": 91,
    "start_time": "2022-04-28T19:05:08.686Z"
   },
   {
    "duration": 117,
    "start_time": "2022-04-28T19:05:08.783Z"
   },
   {
    "duration": 3073,
    "start_time": "2022-04-28T19:05:08.902Z"
   },
   {
    "duration": 5,
    "start_time": "2022-04-28T19:05:11.978Z"
   },
   {
    "duration": 106,
    "start_time": "2022-04-28T19:05:11.986Z"
   },
   {
    "duration": 798,
    "start_time": "2022-04-28T19:05:12.094Z"
   },
   {
    "duration": 14922,
    "start_time": "2022-04-28T19:05:12.978Z"
   },
   {
    "duration": 15505,
    "start_time": "2022-04-28T19:05:27.902Z"
   },
   {
    "duration": 1446,
    "start_time": "2022-04-28T19:05:58.360Z"
   },
   {
    "duration": 25,
    "start_time": "2022-04-28T19:05:59.808Z"
   },
   {
    "duration": 17,
    "start_time": "2022-04-28T19:05:59.834Z"
   },
   {
    "duration": 5,
    "start_time": "2022-04-28T19:05:59.853Z"
   },
   {
    "duration": 27,
    "start_time": "2022-04-28T19:05:59.860Z"
   },
   {
    "duration": 5,
    "start_time": "2022-04-28T19:05:59.889Z"
   },
   {
    "duration": 12,
    "start_time": "2022-04-28T19:05:59.896Z"
   },
   {
    "duration": 12,
    "start_time": "2022-04-28T19:05:59.909Z"
   },
   {
    "duration": 271,
    "start_time": "2022-04-28T19:05:59.922Z"
   },
   {
    "duration": 151,
    "start_time": "2022-04-28T19:06:00.194Z"
   },
   {
    "duration": 6,
    "start_time": "2022-04-28T19:06:00.347Z"
   },
   {
    "duration": 152,
    "start_time": "2022-04-28T19:06:00.354Z"
   },
   {
    "duration": 6855,
    "start_time": "2022-04-28T19:06:00.507Z"
   },
   {
    "duration": 74526,
    "start_time": "2022-04-28T19:06:07.365Z"
   },
   {
    "duration": 96212,
    "start_time": "2022-04-28T19:07:21.893Z"
   },
   {
    "duration": 4069,
    "start_time": "2022-04-28T19:08:58.107Z"
   },
   {
    "duration": 7,
    "start_time": "2022-04-28T19:09:02.272Z"
   },
   {
    "duration": 1803,
    "start_time": "2022-04-28T19:09:02.282Z"
   },
   {
    "duration": 8711,
    "start_time": "2022-04-28T19:09:04.087Z"
   },
   {
    "duration": 1781,
    "start_time": "2022-04-28T19:09:12.799Z"
   },
   {
    "duration": 8,
    "start_time": "2022-04-28T19:09:14.582Z"
   },
   {
    "duration": 203,
    "start_time": "2022-04-28T19:09:14.596Z"
   },
   {
    "duration": 2780,
    "start_time": "2022-04-28T19:09:14.801Z"
   },
   {
    "duration": 89,
    "start_time": "2022-04-28T19:09:17.587Z"
   },
   {
    "duration": 99,
    "start_time": "2022-04-28T19:09:17.678Z"
   },
   {
    "duration": 803,
    "start_time": "2022-04-28T19:09:17.780Z"
   },
   {
    "duration": 13959,
    "start_time": "2022-04-28T19:09:18.674Z"
   },
   {
    "duration": 14190,
    "start_time": "2022-04-28T19:09:32.635Z"
   },
   {
    "duration": 5453,
    "start_time": "2022-04-28T19:09:46.828Z"
   },
   {
    "duration": 5889,
    "start_time": "2022-04-28T19:12:05.087Z"
   },
   {
    "duration": 74625,
    "start_time": "2022-04-28T19:13:17.515Z"
   },
   {
    "duration": 1427,
    "start_time": "2022-04-28T19:15:27.790Z"
   },
   {
    "duration": 25,
    "start_time": "2022-04-28T19:15:29.219Z"
   },
   {
    "duration": 18,
    "start_time": "2022-04-28T19:15:29.246Z"
   },
   {
    "duration": 7,
    "start_time": "2022-04-28T19:15:29.280Z"
   },
   {
    "duration": 18,
    "start_time": "2022-04-28T19:15:29.288Z"
   },
   {
    "duration": 5,
    "start_time": "2022-04-28T19:15:29.308Z"
   },
   {
    "duration": 9,
    "start_time": "2022-04-28T19:15:29.314Z"
   },
   {
    "duration": 11,
    "start_time": "2022-04-28T19:15:29.325Z"
   },
   {
    "duration": 272,
    "start_time": "2022-04-28T19:15:29.338Z"
   },
   {
    "duration": 141,
    "start_time": "2022-04-28T19:15:29.613Z"
   },
   {
    "duration": 6,
    "start_time": "2022-04-28T19:15:29.756Z"
   },
   {
    "duration": 138,
    "start_time": "2022-04-28T19:15:29.781Z"
   },
   {
    "duration": 7870,
    "start_time": "2022-04-28T19:15:29.921Z"
   },
   {
    "duration": 74136,
    "start_time": "2022-04-28T19:15:37.792Z"
   },
   {
    "duration": 1401,
    "start_time": "2022-04-28T19:17:42.588Z"
   },
   {
    "duration": 31,
    "start_time": "2022-04-28T19:17:43.991Z"
   },
   {
    "duration": 18,
    "start_time": "2022-04-28T19:17:44.024Z"
   },
   {
    "duration": 5,
    "start_time": "2022-04-28T19:17:44.044Z"
   },
   {
    "duration": 11,
    "start_time": "2022-04-28T19:17:44.052Z"
   },
   {
    "duration": 19,
    "start_time": "2022-04-28T19:17:44.065Z"
   },
   {
    "duration": 5,
    "start_time": "2022-04-28T19:17:44.086Z"
   },
   {
    "duration": 7,
    "start_time": "2022-04-28T19:17:44.093Z"
   },
   {
    "duration": 10,
    "start_time": "2022-04-28T19:17:44.101Z"
   },
   {
    "duration": 19,
    "start_time": "2022-04-28T19:17:44.113Z"
   },
   {
    "duration": 52,
    "start_time": "2022-04-28T19:17:44.134Z"
   },
   {
    "duration": 9,
    "start_time": "2022-04-28T19:17:44.188Z"
   },
   {
    "duration": 149,
    "start_time": "2022-04-28T19:17:44.198Z"
   },
   {
    "duration": 380,
    "start_time": "2022-04-28T19:17:44.350Z"
   },
   {
    "duration": 7661,
    "start_time": "2022-04-28T19:17:44.732Z"
   },
   {
    "duration": 9526,
    "start_time": "2022-04-28T19:17:52.395Z"
   },
   {
    "duration": 1563,
    "start_time": "2022-04-28T19:18:01.923Z"
   },
   {
    "duration": 96,
    "start_time": "2022-04-28T19:18:03.488Z"
   },
   {
    "duration": 502,
    "start_time": "2022-04-28T19:18:03.586Z"
   },
   {
    "duration": 1129,
    "start_time": "2022-04-28T19:18:04.093Z"
   },
   {
    "duration": 257,
    "start_time": "2022-04-28T19:18:05.224Z"
   },
   {
    "duration": 90,
    "start_time": "2022-04-28T19:18:05.490Z"
   },
   {
    "duration": 16,
    "start_time": "2022-04-28T19:18:05.586Z"
   },
   {
    "duration": 277,
    "start_time": "2022-04-28T19:18:05.604Z"
   },
   {
    "duration": 6,
    "start_time": "2022-04-28T19:18:05.883Z"
   },
   {
    "duration": 113,
    "start_time": "2022-04-28T19:18:05.891Z"
   },
   {
    "duration": 180,
    "start_time": "2022-04-28T19:18:06.006Z"
   },
   {
    "duration": 1161,
    "start_time": "2022-04-28T19:18:06.189Z"
   },
   {
    "duration": 1254,
    "start_time": "2022-04-28T19:18:07.352Z"
   },
   {
    "duration": 2664,
    "start_time": "2022-04-28T19:18:26.788Z"
   },
   {
    "duration": 175,
    "start_time": "2022-04-28T19:19:09.915Z"
   },
   {
    "duration": 1429,
    "start_time": "2022-04-28T19:19:48.808Z"
   },
   {
    "duration": 24,
    "start_time": "2022-04-28T19:19:50.239Z"
   },
   {
    "duration": 21,
    "start_time": "2022-04-28T19:19:50.265Z"
   },
   {
    "duration": 9,
    "start_time": "2022-04-28T19:19:50.289Z"
   },
   {
    "duration": 13,
    "start_time": "2022-04-28T19:19:50.300Z"
   },
   {
    "duration": 16,
    "start_time": "2022-04-28T19:19:50.314Z"
   },
   {
    "duration": 5,
    "start_time": "2022-04-28T19:19:50.331Z"
   },
   {
    "duration": 8,
    "start_time": "2022-04-28T19:19:50.338Z"
   },
   {
    "duration": 31,
    "start_time": "2022-04-28T19:19:50.348Z"
   },
   {
    "duration": 28,
    "start_time": "2022-04-28T19:19:50.383Z"
   },
   {
    "duration": 10,
    "start_time": "2022-04-28T19:19:50.412Z"
   },
   {
    "duration": 7,
    "start_time": "2022-04-28T19:19:50.424Z"
   },
   {
    "duration": 162,
    "start_time": "2022-04-28T19:19:50.432Z"
   },
   {
    "duration": 411,
    "start_time": "2022-04-28T19:19:50.596Z"
   },
   {
    "duration": 8308,
    "start_time": "2022-04-28T19:19:51.008Z"
   },
   {
    "duration": 2881,
    "start_time": "2022-04-28T19:19:59.318Z"
   },
   {
    "duration": 1185,
    "start_time": "2022-04-28T19:20:02.201Z"
   },
   {
    "duration": 96,
    "start_time": "2022-04-28T19:20:03.390Z"
   },
   {
    "duration": 290,
    "start_time": "2022-04-28T19:20:03.488Z"
   },
   {
    "duration": 1152,
    "start_time": "2022-04-28T19:20:03.781Z"
   },
   {
    "duration": 245,
    "start_time": "2022-04-28T19:20:04.935Z"
   },
   {
    "duration": 7,
    "start_time": "2022-04-28T19:20:05.186Z"
   },
   {
    "duration": 29,
    "start_time": "2022-04-28T19:20:05.274Z"
   },
   {
    "duration": 284,
    "start_time": "2022-04-28T19:20:05.305Z"
   },
   {
    "duration": 85,
    "start_time": "2022-04-28T19:20:05.591Z"
   },
   {
    "duration": 31,
    "start_time": "2022-04-28T19:20:05.684Z"
   },
   {
    "duration": 166,
    "start_time": "2022-04-28T19:20:05.717Z"
   },
   {
    "duration": 1246,
    "start_time": "2022-04-28T19:20:05.890Z"
   },
   {
    "duration": 1418,
    "start_time": "2022-04-28T19:20:07.137Z"
   },
   {
    "duration": 253,
    "start_time": "2022-04-28T19:21:11.294Z"
   },
   {
    "duration": 128,
    "start_time": "2022-04-28T19:23:37.933Z"
   },
   {
    "duration": 300,
    "start_time": "2022-04-28T19:23:39.493Z"
   },
   {
    "duration": 52,
    "start_time": "2022-04-28T19:24:11.267Z"
   },
   {
    "duration": 93,
    "start_time": "2022-04-28T19:24:46.865Z"
   },
   {
    "duration": 347,
    "start_time": "2022-04-28T19:25:35.079Z"
   },
   {
    "duration": 81,
    "start_time": "2022-04-28T19:29:58.826Z"
   },
   {
    "duration": 78,
    "start_time": "2022-04-28T19:30:36.724Z"
   },
   {
    "duration": 1361,
    "start_time": "2022-04-28T19:31:02.395Z"
   },
   {
    "duration": 26,
    "start_time": "2022-04-28T19:31:03.758Z"
   },
   {
    "duration": 18,
    "start_time": "2022-04-28T19:31:03.785Z"
   },
   {
    "duration": 5,
    "start_time": "2022-04-28T19:31:03.805Z"
   },
   {
    "duration": 6,
    "start_time": "2022-04-28T19:31:03.813Z"
   },
   {
    "duration": 16,
    "start_time": "2022-04-28T19:31:03.820Z"
   },
   {
    "duration": 6,
    "start_time": "2022-04-28T19:31:03.837Z"
   },
   {
    "duration": 8,
    "start_time": "2022-04-28T19:31:03.874Z"
   },
   {
    "duration": 10,
    "start_time": "2022-04-28T19:31:03.884Z"
   },
   {
    "duration": 20,
    "start_time": "2022-04-28T19:31:03.896Z"
   },
   {
    "duration": 12,
    "start_time": "2022-04-28T19:31:03.918Z"
   },
   {
    "duration": 44,
    "start_time": "2022-04-28T19:31:03.932Z"
   },
   {
    "duration": 165,
    "start_time": "2022-04-28T19:31:03.978Z"
   },
   {
    "duration": 386,
    "start_time": "2022-04-28T19:31:04.146Z"
   },
   {
    "duration": 6487,
    "start_time": "2022-04-28T19:31:04.534Z"
   },
   {
    "duration": 2407,
    "start_time": "2022-04-28T19:31:11.023Z"
   },
   {
    "duration": 448,
    "start_time": "2022-04-28T19:31:13.432Z"
   },
   {
    "duration": 100,
    "start_time": "2022-04-28T19:31:13.882Z"
   },
   {
    "duration": 201,
    "start_time": "2022-04-28T19:31:14.074Z"
   },
   {
    "duration": 350,
    "start_time": "2022-04-28T19:31:14.277Z"
   },
   {
    "duration": 250,
    "start_time": "2022-04-28T19:31:14.629Z"
   },
   {
    "duration": 94,
    "start_time": "2022-04-28T19:31:14.881Z"
   },
   {
    "duration": 29,
    "start_time": "2022-04-28T19:31:14.977Z"
   },
   {
    "duration": 275,
    "start_time": "2022-04-28T19:31:15.009Z"
   },
   {
    "duration": 5,
    "start_time": "2022-04-28T19:31:15.374Z"
   },
   {
    "duration": 22,
    "start_time": "2022-04-28T19:31:15.381Z"
   },
   {
    "duration": 172,
    "start_time": "2022-04-28T19:31:15.405Z"
   },
   {
    "duration": 199,
    "start_time": "2022-04-28T19:31:15.579Z"
   },
   {
    "duration": 287,
    "start_time": "2022-04-28T19:31:15.780Z"
   },
   {
    "duration": 54,
    "start_time": "2022-05-02T16:54:10.554Z"
   }
  ],
  "kernelspec": {
   "display_name": "Python 3 (ipykernel)",
   "language": "python",
   "name": "python3"
  },
  "language_info": {
   "codemirror_mode": {
    "name": "ipython",
    "version": 3
   },
   "file_extension": ".py",
   "mimetype": "text/x-python",
   "name": "python",
   "nbconvert_exporter": "python",
   "pygments_lexer": "ipython3",
   "version": "3.9.13"
  },
  "toc": {
   "base_numbering": 1,
   "nav_menu": {},
   "number_sections": true,
   "sideBar": true,
   "skip_h1_title": true,
   "title_cell": "Содержание",
   "title_sidebar": "Contents",
   "toc_cell": true,
   "toc_position": {
    "height": "calc(100% - 180px)",
    "left": "10px",
    "top": "150px",
    "width": "310px"
   },
   "toc_section_display": true,
   "toc_window_display": true
  }
 },
 "nbformat": 4,
 "nbformat_minor": 2
}
