{
 "cells": [
  {
   "cell_type": "markdown",
   "id": "bd656e37",
   "metadata": {
    "toc": true
   },
   "source": [
    "<h1>Table of Contents<span class=\"tocSkip\"></span></h1>\n",
    "<div class=\"toc\"><ul class=\"toc-item\"><li><span><a href=\"#Загрузка-и-подготовка-данных\" data-toc-modified-id=\"Загрузка-и-подготовка-данных-1\"><span class=\"toc-item-num\">1&nbsp;&nbsp;</span>Загрузка и подготовка данных</a></span></li><li><span><a href=\"#Обучение-моделей\" data-toc-modified-id=\"Обучение-моделей-2\"><span class=\"toc-item-num\">2&nbsp;&nbsp;</span>Обучение моделей</a></span><ul class=\"toc-item\"><li><span><a href=\"#LinearRegression\" data-toc-modified-id=\"LinearRegression-2.1\"><span class=\"toc-item-num\">2.1&nbsp;&nbsp;</span>LinearRegression</a></span></li><li><span><a href=\"#LGBMRegressor\" data-toc-modified-id=\"LGBMRegressor-2.2\"><span class=\"toc-item-num\">2.2&nbsp;&nbsp;</span>LGBMRegressor</a></span></li><li><span><a href=\"#DecisionTree\" data-toc-modified-id=\"DecisionTree-2.3\"><span class=\"toc-item-num\">2.3&nbsp;&nbsp;</span>DecisionTree</a></span></li><li><span><a href=\"#RandomForest\" data-toc-modified-id=\"RandomForest-2.4\"><span class=\"toc-item-num\">2.4&nbsp;&nbsp;</span>RandomForest</a></span></li></ul></li><li><span><a href=\"#Анализ-скорости-работы-и-качества-моделей\" data-toc-modified-id=\"Анализ-скорости-работы-и-качества-моделей-3\"><span class=\"toc-item-num\">3&nbsp;&nbsp;</span>Анализ скорости работы и качества моделей</a></span></li></ul></div>"
   ]
  },
  {
   "cell_type": "markdown",
   "id": "0f3d623d",
   "metadata": {},
   "source": [
    "Сервис по продаже автомобилей с пробегом «Не бит, не крашен» разрабатывает приложение для привлечения новых клиентов. В нём можно быстро узнать рыночную стоимость своего автомобиля. В вашем распоряжении исторические данные: технические характеристики, комплектации и цены автомобилей. Вам нужно построить модель для определения стоимости.\n",
    "Заказчику важны:\n",
    "качество предсказания;\n",
    "скорость предсказания;\n",
    "время обучения."
   ]
  },
  {
   "cell_type": "markdown",
   "id": "3bb6a094",
   "metadata": {},
   "source": [
    "## Загрузка и подготовка данных"
   ]
  },
  {
   "cell_type": "code",
   "execution_count": 1,
   "id": "40e3f2ad",
   "metadata": {},
   "outputs": [
    {
     "name": "stdout",
     "output_type": "stream",
     "text": [
      "Collecting package metadata (current_repodata.json): done\n",
      "Solving environment: done\n",
      "\n",
      "# All requested packages already installed.\n",
      "\n",
      "\n",
      "Note: you may need to restart the kernel to use updated packages.\n"
     ]
    }
   ],
   "source": [
    "conda install lightgbm"
   ]
  },
  {
   "cell_type": "code",
   "execution_count": 2,
   "id": "5d89ec60",
   "metadata": {},
   "outputs": [],
   "source": [
    "# импортируем библиотеки\n",
    "import pandas as pd\n",
    "import matplotlib.pyplot as plt\n",
    "import lightgbm\n",
    "from sklearn.preprocessing import OrdinalEncoder\n",
    "from sklearn.model_selection import train_test_split\n",
    "from sklearn.metrics import mean_squared_error\n",
    "from sklearn.metrics import make_scorer\n",
    "from sklearn.model_selection import cross_val_score\n",
    "from sklearn.model_selection import GridSearchCV\n",
    "from sklearn.linear_model import LinearRegression\n",
    "from sklearn.tree import DecisionTreeRegressor\n",
    "from sklearn.ensemble import RandomForestRegressor\n",
    "from sklearn.datasets import make_regression\n",
    "from sklearn.model_selection import RepeatedKFold\n",
    "from lightgbm import LGBMRegressor"
   ]
  },
  {
   "cell_type": "code",
   "execution_count": 3,
   "id": "2ce1a310",
   "metadata": {},
   "outputs": [],
   "source": [
    "# загружаем данные\n",
    "try:\n",
    "    df = pd.read_csv('/Users/dariasokolovska/Downloads/autos.csv')\n",
    "except:\n",
    "    df = pd.read_csv('/datasets/autos.csv')"
   ]
  },
  {
   "cell_type": "code",
   "execution_count": 4,
   "id": "bf096f42",
   "metadata": {},
   "outputs": [
    {
     "data": {
      "text/html": [
       "<div>\n",
       "<style scoped>\n",
       "    .dataframe tbody tr th:only-of-type {\n",
       "        vertical-align: middle;\n",
       "    }\n",
       "\n",
       "    .dataframe tbody tr th {\n",
       "        vertical-align: top;\n",
       "    }\n",
       "\n",
       "    .dataframe thead th {\n",
       "        text-align: right;\n",
       "    }\n",
       "</style>\n",
       "<table border=\"1\" class=\"dataframe\">\n",
       "  <thead>\n",
       "    <tr style=\"text-align: right;\">\n",
       "      <th></th>\n",
       "      <th>DateCrawled</th>\n",
       "      <th>Price</th>\n",
       "      <th>VehicleType</th>\n",
       "      <th>RegistrationYear</th>\n",
       "      <th>Gearbox</th>\n",
       "      <th>Power</th>\n",
       "      <th>Model</th>\n",
       "      <th>Kilometer</th>\n",
       "      <th>RegistrationMonth</th>\n",
       "      <th>FuelType</th>\n",
       "      <th>Brand</th>\n",
       "      <th>NotRepaired</th>\n",
       "      <th>DateCreated</th>\n",
       "      <th>NumberOfPictures</th>\n",
       "      <th>PostalCode</th>\n",
       "      <th>LastSeen</th>\n",
       "    </tr>\n",
       "  </thead>\n",
       "  <tbody>\n",
       "    <tr>\n",
       "      <th>0</th>\n",
       "      <td>2016-03-24 11:52:17</td>\n",
       "      <td>480</td>\n",
       "      <td>NaN</td>\n",
       "      <td>1993</td>\n",
       "      <td>manual</td>\n",
       "      <td>0</td>\n",
       "      <td>golf</td>\n",
       "      <td>150000</td>\n",
       "      <td>0</td>\n",
       "      <td>petrol</td>\n",
       "      <td>volkswagen</td>\n",
       "      <td>NaN</td>\n",
       "      <td>2016-03-24 00:00:00</td>\n",
       "      <td>0</td>\n",
       "      <td>70435</td>\n",
       "      <td>2016-04-07 03:16:57</td>\n",
       "    </tr>\n",
       "    <tr>\n",
       "      <th>1</th>\n",
       "      <td>2016-03-24 10:58:45</td>\n",
       "      <td>18300</td>\n",
       "      <td>coupe</td>\n",
       "      <td>2011</td>\n",
       "      <td>manual</td>\n",
       "      <td>190</td>\n",
       "      <td>NaN</td>\n",
       "      <td>125000</td>\n",
       "      <td>5</td>\n",
       "      <td>gasoline</td>\n",
       "      <td>audi</td>\n",
       "      <td>yes</td>\n",
       "      <td>2016-03-24 00:00:00</td>\n",
       "      <td>0</td>\n",
       "      <td>66954</td>\n",
       "      <td>2016-04-07 01:46:50</td>\n",
       "    </tr>\n",
       "    <tr>\n",
       "      <th>2</th>\n",
       "      <td>2016-03-14 12:52:21</td>\n",
       "      <td>9800</td>\n",
       "      <td>suv</td>\n",
       "      <td>2004</td>\n",
       "      <td>auto</td>\n",
       "      <td>163</td>\n",
       "      <td>grand</td>\n",
       "      <td>125000</td>\n",
       "      <td>8</td>\n",
       "      <td>gasoline</td>\n",
       "      <td>jeep</td>\n",
       "      <td>NaN</td>\n",
       "      <td>2016-03-14 00:00:00</td>\n",
       "      <td>0</td>\n",
       "      <td>90480</td>\n",
       "      <td>2016-04-05 12:47:46</td>\n",
       "    </tr>\n",
       "    <tr>\n",
       "      <th>3</th>\n",
       "      <td>2016-03-17 16:54:04</td>\n",
       "      <td>1500</td>\n",
       "      <td>small</td>\n",
       "      <td>2001</td>\n",
       "      <td>manual</td>\n",
       "      <td>75</td>\n",
       "      <td>golf</td>\n",
       "      <td>150000</td>\n",
       "      <td>6</td>\n",
       "      <td>petrol</td>\n",
       "      <td>volkswagen</td>\n",
       "      <td>no</td>\n",
       "      <td>2016-03-17 00:00:00</td>\n",
       "      <td>0</td>\n",
       "      <td>91074</td>\n",
       "      <td>2016-03-17 17:40:17</td>\n",
       "    </tr>\n",
       "    <tr>\n",
       "      <th>4</th>\n",
       "      <td>2016-03-31 17:25:20</td>\n",
       "      <td>3600</td>\n",
       "      <td>small</td>\n",
       "      <td>2008</td>\n",
       "      <td>manual</td>\n",
       "      <td>69</td>\n",
       "      <td>fabia</td>\n",
       "      <td>90000</td>\n",
       "      <td>7</td>\n",
       "      <td>gasoline</td>\n",
       "      <td>skoda</td>\n",
       "      <td>no</td>\n",
       "      <td>2016-03-31 00:00:00</td>\n",
       "      <td>0</td>\n",
       "      <td>60437</td>\n",
       "      <td>2016-04-06 10:17:21</td>\n",
       "    </tr>\n",
       "    <tr>\n",
       "      <th>...</th>\n",
       "      <td>...</td>\n",
       "      <td>...</td>\n",
       "      <td>...</td>\n",
       "      <td>...</td>\n",
       "      <td>...</td>\n",
       "      <td>...</td>\n",
       "      <td>...</td>\n",
       "      <td>...</td>\n",
       "      <td>...</td>\n",
       "      <td>...</td>\n",
       "      <td>...</td>\n",
       "      <td>...</td>\n",
       "      <td>...</td>\n",
       "      <td>...</td>\n",
       "      <td>...</td>\n",
       "      <td>...</td>\n",
       "    </tr>\n",
       "    <tr>\n",
       "      <th>354364</th>\n",
       "      <td>2016-03-21 09:50:58</td>\n",
       "      <td>0</td>\n",
       "      <td>NaN</td>\n",
       "      <td>2005</td>\n",
       "      <td>manual</td>\n",
       "      <td>0</td>\n",
       "      <td>colt</td>\n",
       "      <td>150000</td>\n",
       "      <td>7</td>\n",
       "      <td>petrol</td>\n",
       "      <td>mitsubishi</td>\n",
       "      <td>yes</td>\n",
       "      <td>2016-03-21 00:00:00</td>\n",
       "      <td>0</td>\n",
       "      <td>2694</td>\n",
       "      <td>2016-03-21 10:42:49</td>\n",
       "    </tr>\n",
       "    <tr>\n",
       "      <th>354365</th>\n",
       "      <td>2016-03-14 17:48:27</td>\n",
       "      <td>2200</td>\n",
       "      <td>NaN</td>\n",
       "      <td>2005</td>\n",
       "      <td>NaN</td>\n",
       "      <td>0</td>\n",
       "      <td>NaN</td>\n",
       "      <td>20000</td>\n",
       "      <td>1</td>\n",
       "      <td>NaN</td>\n",
       "      <td>sonstige_autos</td>\n",
       "      <td>NaN</td>\n",
       "      <td>2016-03-14 00:00:00</td>\n",
       "      <td>0</td>\n",
       "      <td>39576</td>\n",
       "      <td>2016-04-06 00:46:52</td>\n",
       "    </tr>\n",
       "    <tr>\n",
       "      <th>354366</th>\n",
       "      <td>2016-03-05 19:56:21</td>\n",
       "      <td>1199</td>\n",
       "      <td>convertible</td>\n",
       "      <td>2000</td>\n",
       "      <td>auto</td>\n",
       "      <td>101</td>\n",
       "      <td>fortwo</td>\n",
       "      <td>125000</td>\n",
       "      <td>3</td>\n",
       "      <td>petrol</td>\n",
       "      <td>smart</td>\n",
       "      <td>no</td>\n",
       "      <td>2016-03-05 00:00:00</td>\n",
       "      <td>0</td>\n",
       "      <td>26135</td>\n",
       "      <td>2016-03-11 18:17:12</td>\n",
       "    </tr>\n",
       "    <tr>\n",
       "      <th>354367</th>\n",
       "      <td>2016-03-19 18:57:12</td>\n",
       "      <td>9200</td>\n",
       "      <td>bus</td>\n",
       "      <td>1996</td>\n",
       "      <td>manual</td>\n",
       "      <td>102</td>\n",
       "      <td>transporter</td>\n",
       "      <td>150000</td>\n",
       "      <td>3</td>\n",
       "      <td>gasoline</td>\n",
       "      <td>volkswagen</td>\n",
       "      <td>no</td>\n",
       "      <td>2016-03-19 00:00:00</td>\n",
       "      <td>0</td>\n",
       "      <td>87439</td>\n",
       "      <td>2016-04-07 07:15:26</td>\n",
       "    </tr>\n",
       "    <tr>\n",
       "      <th>354368</th>\n",
       "      <td>2016-03-20 19:41:08</td>\n",
       "      <td>3400</td>\n",
       "      <td>wagon</td>\n",
       "      <td>2002</td>\n",
       "      <td>manual</td>\n",
       "      <td>100</td>\n",
       "      <td>golf</td>\n",
       "      <td>150000</td>\n",
       "      <td>6</td>\n",
       "      <td>gasoline</td>\n",
       "      <td>volkswagen</td>\n",
       "      <td>NaN</td>\n",
       "      <td>2016-03-20 00:00:00</td>\n",
       "      <td>0</td>\n",
       "      <td>40764</td>\n",
       "      <td>2016-03-24 12:45:21</td>\n",
       "    </tr>\n",
       "  </tbody>\n",
       "</table>\n",
       "<p>354369 rows × 16 columns</p>\n",
       "</div>"
      ],
      "text/plain": [
       "                DateCrawled  Price  VehicleType  RegistrationYear Gearbox  \\\n",
       "0       2016-03-24 11:52:17    480          NaN              1993  manual   \n",
       "1       2016-03-24 10:58:45  18300        coupe              2011  manual   \n",
       "2       2016-03-14 12:52:21   9800          suv              2004    auto   \n",
       "3       2016-03-17 16:54:04   1500        small              2001  manual   \n",
       "4       2016-03-31 17:25:20   3600        small              2008  manual   \n",
       "...                     ...    ...          ...               ...     ...   \n",
       "354364  2016-03-21 09:50:58      0          NaN              2005  manual   \n",
       "354365  2016-03-14 17:48:27   2200          NaN              2005     NaN   \n",
       "354366  2016-03-05 19:56:21   1199  convertible              2000    auto   \n",
       "354367  2016-03-19 18:57:12   9200          bus              1996  manual   \n",
       "354368  2016-03-20 19:41:08   3400        wagon              2002  manual   \n",
       "\n",
       "        Power        Model  Kilometer  RegistrationMonth  FuelType  \\\n",
       "0           0         golf     150000                  0    petrol   \n",
       "1         190          NaN     125000                  5  gasoline   \n",
       "2         163        grand     125000                  8  gasoline   \n",
       "3          75         golf     150000                  6    petrol   \n",
       "4          69        fabia      90000                  7  gasoline   \n",
       "...       ...          ...        ...                ...       ...   \n",
       "354364      0         colt     150000                  7    petrol   \n",
       "354365      0          NaN      20000                  1       NaN   \n",
       "354366    101       fortwo     125000                  3    petrol   \n",
       "354367    102  transporter     150000                  3  gasoline   \n",
       "354368    100         golf     150000                  6  gasoline   \n",
       "\n",
       "                 Brand NotRepaired          DateCreated  NumberOfPictures  \\\n",
       "0           volkswagen         NaN  2016-03-24 00:00:00                 0   \n",
       "1                 audi         yes  2016-03-24 00:00:00                 0   \n",
       "2                 jeep         NaN  2016-03-14 00:00:00                 0   \n",
       "3           volkswagen          no  2016-03-17 00:00:00                 0   \n",
       "4                skoda          no  2016-03-31 00:00:00                 0   \n",
       "...                ...         ...                  ...               ...   \n",
       "354364      mitsubishi         yes  2016-03-21 00:00:00                 0   \n",
       "354365  sonstige_autos         NaN  2016-03-14 00:00:00                 0   \n",
       "354366           smart          no  2016-03-05 00:00:00                 0   \n",
       "354367      volkswagen          no  2016-03-19 00:00:00                 0   \n",
       "354368      volkswagen         NaN  2016-03-20 00:00:00                 0   \n",
       "\n",
       "        PostalCode             LastSeen  \n",
       "0            70435  2016-04-07 03:16:57  \n",
       "1            66954  2016-04-07 01:46:50  \n",
       "2            90480  2016-04-05 12:47:46  \n",
       "3            91074  2016-03-17 17:40:17  \n",
       "4            60437  2016-04-06 10:17:21  \n",
       "...            ...                  ...  \n",
       "354364        2694  2016-03-21 10:42:49  \n",
       "354365       39576  2016-04-06 00:46:52  \n",
       "354366       26135  2016-03-11 18:17:12  \n",
       "354367       87439  2016-04-07 07:15:26  \n",
       "354368       40764  2016-03-24 12:45:21  \n",
       "\n",
       "[354369 rows x 16 columns]"
      ]
     },
     "execution_count": 4,
     "metadata": {},
     "output_type": "execute_result"
    }
   ],
   "source": [
    "# смотрим на датасет\n",
    "df"
   ]
  },
  {
   "cell_type": "code",
   "execution_count": 5,
   "id": "e7102de0",
   "metadata": {},
   "outputs": [
    {
     "name": "stdout",
     "output_type": "stream",
     "text": [
      "<class 'pandas.core.frame.DataFrame'>\n",
      "RangeIndex: 354369 entries, 0 to 354368\n",
      "Data columns (total 16 columns):\n",
      " #   Column             Non-Null Count   Dtype \n",
      "---  ------             --------------   ----- \n",
      " 0   DateCrawled        354369 non-null  object\n",
      " 1   Price              354369 non-null  int64 \n",
      " 2   VehicleType        316879 non-null  object\n",
      " 3   RegistrationYear   354369 non-null  int64 \n",
      " 4   Gearbox            334536 non-null  object\n",
      " 5   Power              354369 non-null  int64 \n",
      " 6   Model              334664 non-null  object\n",
      " 7   Kilometer          354369 non-null  int64 \n",
      " 8   RegistrationMonth  354369 non-null  int64 \n",
      " 9   FuelType           321474 non-null  object\n",
      " 10  Brand              354369 non-null  object\n",
      " 11  NotRepaired        283215 non-null  object\n",
      " 12  DateCreated        354369 non-null  object\n",
      " 13  NumberOfPictures   354369 non-null  int64 \n",
      " 14  PostalCode         354369 non-null  int64 \n",
      " 15  LastSeen           354369 non-null  object\n",
      "dtypes: int64(7), object(9)\n",
      "memory usage: 43.3+ MB\n"
     ]
    }
   ],
   "source": [
    "# изучаем даные\n",
    "df.info()"
   ]
  },
  {
   "cell_type": "code",
   "execution_count": 6,
   "id": "1ccaad3a",
   "metadata": {},
   "outputs": [],
   "source": [
    "# приводим в порядок названия столбцов\n",
    "df.columns = df.columns.str.lower()\n",
    "df.rename(columns = {'datecrawled' : 'date_crawled',\n",
    "                    'vehicletype' : 'vehicle_type',\n",
    "                    'registrationyear' : 'registration_year',\n",
    "                    'registrationmonth' : 'registration_month',\n",
    "                    'fueltype' : 'fuel_type',\n",
    "                    'notrepaired' : 'not_repaired',\n",
    "                    'datecreated' : 'date_created',\n",
    "                    'numberofpictures' : 'number_of_pictures',\n",
    "                    'postalcode' : 'postal_code',\n",
    "                    'lastseen' : 'last_seen'}, inplace = True)"
   ]
  },
  {
   "cell_type": "code",
   "execution_count": 7,
   "id": "6f04f781",
   "metadata": {},
   "outputs": [
    {
     "data": {
      "text/plain": [
       "date_crawled              0\n",
       "price                     0\n",
       "vehicle_type          37490\n",
       "registration_year         0\n",
       "gearbox               19833\n",
       "power                     0\n",
       "model                 19705\n",
       "kilometer                 0\n",
       "registration_month        0\n",
       "fuel_type             32895\n",
       "brand                     0\n",
       "not_repaired          71154\n",
       "date_created              0\n",
       "number_of_pictures        0\n",
       "postal_code               0\n",
       "last_seen                 0\n",
       "dtype: int64"
      ]
     },
     "execution_count": 7,
     "metadata": {},
     "output_type": "execute_result"
    }
   ],
   "source": [
    "# проверяем данные на наличие пропусков\n",
    "df.isnull().sum()"
   ]
  },
  {
   "cell_type": "markdown",
   "id": "0eddb60a",
   "metadata": {},
   "source": [
    "В данных есть пропуски, необходимо подробнее их рассмотреть. "
   ]
  },
  {
   "cell_type": "code",
   "execution_count": 8,
   "id": "2ac9d815",
   "metadata": {},
   "outputs": [
    {
     "data": {
      "text/html": [
       "<div>\n",
       "<style scoped>\n",
       "    .dataframe tbody tr th:only-of-type {\n",
       "        vertical-align: middle;\n",
       "    }\n",
       "\n",
       "    .dataframe tbody tr th {\n",
       "        vertical-align: top;\n",
       "    }\n",
       "\n",
       "    .dataframe thead th {\n",
       "        text-align: right;\n",
       "    }\n",
       "</style>\n",
       "<table border=\"1\" class=\"dataframe\">\n",
       "  <thead>\n",
       "    <tr style=\"text-align: right;\">\n",
       "      <th></th>\n",
       "      <th>vehicle_type</th>\n",
       "      <th>gearbox</th>\n",
       "      <th>fuel_type</th>\n",
       "      <th>model</th>\n",
       "      <th>brand</th>\n",
       "    </tr>\n",
       "  </thead>\n",
       "  <tbody>\n",
       "    <tr>\n",
       "      <th>0</th>\n",
       "      <td>suv</td>\n",
       "      <td>auto</td>\n",
       "      <td>gasoline</td>\n",
       "      <td>grand</td>\n",
       "      <td>jeep</td>\n",
       "    </tr>\n",
       "    <tr>\n",
       "      <th>372</th>\n",
       "      <td>suv</td>\n",
       "      <td>auto</td>\n",
       "      <td>petrol</td>\n",
       "      <td>grand</td>\n",
       "      <td>jeep</td>\n",
       "    </tr>\n",
       "    <tr>\n",
       "      <th>633</th>\n",
       "      <td>suv</td>\n",
       "      <td>manual</td>\n",
       "      <td>lpg</td>\n",
       "      <td>wrangler</td>\n",
       "      <td>jeep</td>\n",
       "    </tr>\n",
       "    <tr>\n",
       "      <th>743</th>\n",
       "      <td>suv</td>\n",
       "      <td>auto</td>\n",
       "      <td>petrol</td>\n",
       "      <td>cherokee</td>\n",
       "      <td>jeep</td>\n",
       "    </tr>\n",
       "    <tr>\n",
       "      <th>933</th>\n",
       "      <td>suv</td>\n",
       "      <td>manual</td>\n",
       "      <td>petrol</td>\n",
       "      <td>wrangler</td>\n",
       "      <td>jeep</td>\n",
       "    </tr>\n",
       "    <tr>\n",
       "      <th>934</th>\n",
       "      <td>suv</td>\n",
       "      <td>auto</td>\n",
       "      <td>gasoline</td>\n",
       "      <td>other</td>\n",
       "      <td>jeep</td>\n",
       "    </tr>\n",
       "    <tr>\n",
       "      <th>942</th>\n",
       "      <td>suv</td>\n",
       "      <td>manual</td>\n",
       "      <td>gasoline</td>\n",
       "      <td>cherokee</td>\n",
       "      <td>jeep</td>\n",
       "    </tr>\n",
       "    <tr>\n",
       "      <th>1097</th>\n",
       "      <td>suv</td>\n",
       "      <td>auto</td>\n",
       "      <td>lpg</td>\n",
       "      <td>grand</td>\n",
       "      <td>jeep</td>\n",
       "    </tr>\n",
       "    <tr>\n",
       "      <th>1104</th>\n",
       "      <td>suv</td>\n",
       "      <td>manual</td>\n",
       "      <td>gasoline</td>\n",
       "      <td>other</td>\n",
       "      <td>jeep</td>\n",
       "    </tr>\n",
       "    <tr>\n",
       "      <th>1282</th>\n",
       "      <td>suv</td>\n",
       "      <td>manual</td>\n",
       "      <td>lpg</td>\n",
       "      <td>other</td>\n",
       "      <td>jeep</td>\n",
       "    </tr>\n",
       "    <tr>\n",
       "      <th>1331</th>\n",
       "      <td>suv</td>\n",
       "      <td>manual</td>\n",
       "      <td>petrol</td>\n",
       "      <td>other</td>\n",
       "      <td>jeep</td>\n",
       "    </tr>\n",
       "    <tr>\n",
       "      <th>1452</th>\n",
       "      <td>suv</td>\n",
       "      <td>auto</td>\n",
       "      <td>gasoline</td>\n",
       "      <td>cherokee</td>\n",
       "      <td>jeep</td>\n",
       "    </tr>\n",
       "    <tr>\n",
       "      <th>1732</th>\n",
       "      <td>suv</td>\n",
       "      <td>auto</td>\n",
       "      <td>lpg</td>\n",
       "      <td>cherokee</td>\n",
       "      <td>jeep</td>\n",
       "    </tr>\n",
       "    <tr>\n",
       "      <th>1828</th>\n",
       "      <td>suv</td>\n",
       "      <td>auto</td>\n",
       "      <td>petrol</td>\n",
       "      <td>wrangler</td>\n",
       "      <td>jeep</td>\n",
       "    </tr>\n",
       "    <tr>\n",
       "      <th>2109</th>\n",
       "      <td>suv</td>\n",
       "      <td>auto</td>\n",
       "      <td>petrol</td>\n",
       "      <td>other</td>\n",
       "      <td>jeep</td>\n",
       "    </tr>\n",
       "    <tr>\n",
       "      <th>2197</th>\n",
       "      <td>other</td>\n",
       "      <td>auto</td>\n",
       "      <td>petrol</td>\n",
       "      <td>other</td>\n",
       "      <td>jeep</td>\n",
       "    </tr>\n",
       "    <tr>\n",
       "      <th>2785</th>\n",
       "      <td>suv</td>\n",
       "      <td>manual</td>\n",
       "      <td>petrol</td>\n",
       "      <td>cherokee</td>\n",
       "      <td>jeep</td>\n",
       "    </tr>\n",
       "    <tr>\n",
       "      <th>2888</th>\n",
       "      <td>suv</td>\n",
       "      <td>auto</td>\n",
       "      <td>gasoline</td>\n",
       "      <td>wrangler</td>\n",
       "      <td>jeep</td>\n",
       "    </tr>\n",
       "    <tr>\n",
       "      <th>2970</th>\n",
       "      <td>suv</td>\n",
       "      <td>manual</td>\n",
       "      <td>gasoline</td>\n",
       "      <td>grand</td>\n",
       "      <td>jeep</td>\n",
       "    </tr>\n",
       "    <tr>\n",
       "      <th>3214</th>\n",
       "      <td>suv</td>\n",
       "      <td>manual</td>\n",
       "      <td>gasoline</td>\n",
       "      <td>wrangler</td>\n",
       "      <td>jeep</td>\n",
       "    </tr>\n",
       "    <tr>\n",
       "      <th>3557</th>\n",
       "      <td>suv</td>\n",
       "      <td>auto</td>\n",
       "      <td>lpg</td>\n",
       "      <td>other</td>\n",
       "      <td>jeep</td>\n",
       "    </tr>\n",
       "    <tr>\n",
       "      <th>3634</th>\n",
       "      <td>bus</td>\n",
       "      <td>manual</td>\n",
       "      <td>gasoline</td>\n",
       "      <td>other</td>\n",
       "      <td>jeep</td>\n",
       "    </tr>\n",
       "    <tr>\n",
       "      <th>3871</th>\n",
       "      <td>other</td>\n",
       "      <td>manual</td>\n",
       "      <td>lpg</td>\n",
       "      <td>wrangler</td>\n",
       "      <td>jeep</td>\n",
       "    </tr>\n",
       "  </tbody>\n",
       "</table>\n",
       "</div>"
      ],
      "text/plain": [
       "     vehicle_type gearbox fuel_type     model brand\n",
       "0             suv    auto  gasoline     grand  jeep\n",
       "372           suv    auto    petrol     grand  jeep\n",
       "633           suv  manual       lpg  wrangler  jeep\n",
       "743           suv    auto    petrol  cherokee  jeep\n",
       "933           suv  manual    petrol  wrangler  jeep\n",
       "934           suv    auto  gasoline     other  jeep\n",
       "942           suv  manual  gasoline  cherokee  jeep\n",
       "1097          suv    auto       lpg     grand  jeep\n",
       "1104          suv  manual  gasoline     other  jeep\n",
       "1282          suv  manual       lpg     other  jeep\n",
       "1331          suv  manual    petrol     other  jeep\n",
       "1452          suv    auto  gasoline  cherokee  jeep\n",
       "1732          suv    auto       lpg  cherokee  jeep\n",
       "1828          suv    auto    petrol  wrangler  jeep\n",
       "2109          suv    auto    petrol     other  jeep\n",
       "2197        other    auto    petrol     other  jeep\n",
       "2785          suv  manual    petrol  cherokee  jeep\n",
       "2888          suv    auto  gasoline  wrangler  jeep\n",
       "2970          suv  manual  gasoline     grand  jeep\n",
       "3214          suv  manual  gasoline  wrangler  jeep\n",
       "3557          suv    auto       lpg     other  jeep\n",
       "3634          bus  manual  gasoline     other  jeep\n",
       "3871        other  manual       lpg  wrangler  jeep"
      ]
     },
     "execution_count": 8,
     "metadata": {},
     "output_type": "execute_result"
    }
   ],
   "source": [
    "voc = df[['vehicle_type', 'gearbox', 'fuel_type', 'model', 'brand']]\n",
    "voc = voc.dropna()\n",
    "voc = voc.drop_duplicates().reset_index(drop= True)\n",
    "voc.query('brand == \"jeep\"')"
   ]
  },
  {
   "cell_type": "markdown",
   "id": "fbd71ca9",
   "metadata": {},
   "source": [
    "Выше я создала \"словарь\", в котором выписаны все вариации сочетаний моделей, брендова, типа топлива, копобки передач, и типа авто. Из него становится понятно, что одна и та же модель и марка авто может иметь несколько вариаций топлива и коробки передач. По этому выполнять замену пропусков по такому словарю я считаю не целесообразным. Подберем значение для замены в каждом случае отдельно."
   ]
  },
  {
   "cell_type": "markdown",
   "id": "e9d4a7bd",
   "metadata": {},
   "source": [
    "Столбец 'model' имеет значения 'прочее', именно ими заполню пропуски. Аналогично заполню столбец 'vehicle_type'. Столбец 'not_repaired' заполню значениями 'no', так как отсутствие данных о ремонте правильнее заменить значением отсутствующего ремонта."
   ]
  },
  {
   "cell_type": "code",
   "execution_count": 9,
   "id": "e9e75dab",
   "metadata": {},
   "outputs": [],
   "source": [
    "df['model'] = df['model'].fillna('other')\n",
    "df['not_repaired'] = df['not_repaired'].fillna('no')\n",
    "df['vehicle_type'] = df['vehicle_type'].fillna('other')"
   ]
  },
  {
   "cell_type": "markdown",
   "id": "39060503",
   "metadata": {},
   "source": [
    "Для столбцов 'gearbox' и 'fuel_type' выполню замену пропусков на самые часто встречаемые значения."
   ]
  },
  {
   "cell_type": "code",
   "execution_count": 10,
   "id": "12838320",
   "metadata": {},
   "outputs": [],
   "source": [
    "df['gearbox'].value_counts()\n",
    "df['gearbox'] = df['gearbox'].fillna('manual')"
   ]
  },
  {
   "cell_type": "code",
   "execution_count": 11,
   "id": "17b271fc",
   "metadata": {},
   "outputs": [],
   "source": [
    "df['fuel_type'].value_counts()\n",
    "df['fuel_type'] = df['fuel_type'].fillna('petrol')"
   ]
  },
  {
   "cell_type": "code",
   "execution_count": 12,
   "id": "1ad78313",
   "metadata": {},
   "outputs": [
    {
     "data": {
      "text/plain": [
       "5"
      ]
     },
     "execution_count": 12,
     "metadata": {},
     "output_type": "execute_result"
    }
   ],
   "source": [
    "# проверяем на наличие дубликатов\n",
    "df.duplicated().sum()"
   ]
  },
  {
   "cell_type": "code",
   "execution_count": 13,
   "id": "2d3b44bc",
   "metadata": {},
   "outputs": [],
   "source": [
    "# удаляем дубликаты\n",
    "df = df.drop_duplicates()"
   ]
  },
  {
   "cell_type": "markdown",
   "id": "d1652284",
   "metadata": {},
   "source": [
    "Выполняя подготовку данных к обучению, необходимо удалить столбцы, данные из которых не понадобятся для обучения. В нашем случае это столбцы с датами, количеством фото и почтовый индекс."
   ]
  },
  {
   "cell_type": "code",
   "execution_count": 14,
   "id": "ffe448a1",
   "metadata": {},
   "outputs": [],
   "source": [
    "df = df.drop(['number_of_pictures', 'date_crawled', 'date_created', 'last_seen', 'postal_code'], axis=1)"
   ]
  },
  {
   "cell_type": "markdown",
   "id": "51447251",
   "metadata": {},
   "source": [
    "Выполним проверку данных на выбросы"
   ]
  },
  {
   "cell_type": "code",
   "execution_count": 15,
   "id": "a879ea32",
   "metadata": {},
   "outputs": [
    {
     "data": {
      "text/html": [
       "<div>\n",
       "<style scoped>\n",
       "    .dataframe tbody tr th:only-of-type {\n",
       "        vertical-align: middle;\n",
       "    }\n",
       "\n",
       "    .dataframe tbody tr th {\n",
       "        vertical-align: top;\n",
       "    }\n",
       "\n",
       "    .dataframe thead th {\n",
       "        text-align: right;\n",
       "    }\n",
       "</style>\n",
       "<table border=\"1\" class=\"dataframe\">\n",
       "  <thead>\n",
       "    <tr style=\"text-align: right;\">\n",
       "      <th></th>\n",
       "      <th>price</th>\n",
       "      <th>registration_year</th>\n",
       "      <th>power</th>\n",
       "      <th>kilometer</th>\n",
       "      <th>registration_month</th>\n",
       "    </tr>\n",
       "  </thead>\n",
       "  <tbody>\n",
       "    <tr>\n",
       "      <th>count</th>\n",
       "      <td>354364.000000</td>\n",
       "      <td>354364.000000</td>\n",
       "      <td>354364.000000</td>\n",
       "      <td>354364.000000</td>\n",
       "      <td>354364.000000</td>\n",
       "    </tr>\n",
       "    <tr>\n",
       "      <th>mean</th>\n",
       "      <td>4416.655608</td>\n",
       "      <td>2004.234471</td>\n",
       "      <td>110.093723</td>\n",
       "      <td>128211.373051</td>\n",
       "      <td>5.714641</td>\n",
       "    </tr>\n",
       "    <tr>\n",
       "      <th>std</th>\n",
       "      <td>4514.159690</td>\n",
       "      <td>90.228593</td>\n",
       "      <td>189.851590</td>\n",
       "      <td>37905.136957</td>\n",
       "      <td>3.726433</td>\n",
       "    </tr>\n",
       "    <tr>\n",
       "      <th>min</th>\n",
       "      <td>0.000000</td>\n",
       "      <td>1000.000000</td>\n",
       "      <td>0.000000</td>\n",
       "      <td>5000.000000</td>\n",
       "      <td>0.000000</td>\n",
       "    </tr>\n",
       "    <tr>\n",
       "      <th>25%</th>\n",
       "      <td>1050.000000</td>\n",
       "      <td>1999.000000</td>\n",
       "      <td>69.000000</td>\n",
       "      <td>125000.000000</td>\n",
       "      <td>3.000000</td>\n",
       "    </tr>\n",
       "    <tr>\n",
       "      <th>50%</th>\n",
       "      <td>2700.000000</td>\n",
       "      <td>2003.000000</td>\n",
       "      <td>105.000000</td>\n",
       "      <td>150000.000000</td>\n",
       "      <td>6.000000</td>\n",
       "    </tr>\n",
       "    <tr>\n",
       "      <th>75%</th>\n",
       "      <td>6400.000000</td>\n",
       "      <td>2008.000000</td>\n",
       "      <td>143.000000</td>\n",
       "      <td>150000.000000</td>\n",
       "      <td>9.000000</td>\n",
       "    </tr>\n",
       "    <tr>\n",
       "      <th>max</th>\n",
       "      <td>20000.000000</td>\n",
       "      <td>9999.000000</td>\n",
       "      <td>20000.000000</td>\n",
       "      <td>150000.000000</td>\n",
       "      <td>12.000000</td>\n",
       "    </tr>\n",
       "  </tbody>\n",
       "</table>\n",
       "</div>"
      ],
      "text/plain": [
       "               price  registration_year          power      kilometer  \\\n",
       "count  354364.000000      354364.000000  354364.000000  354364.000000   \n",
       "mean     4416.655608        2004.234471     110.093723  128211.373051   \n",
       "std      4514.159690          90.228593     189.851590   37905.136957   \n",
       "min         0.000000        1000.000000       0.000000    5000.000000   \n",
       "25%      1050.000000        1999.000000      69.000000  125000.000000   \n",
       "50%      2700.000000        2003.000000     105.000000  150000.000000   \n",
       "75%      6400.000000        2008.000000     143.000000  150000.000000   \n",
       "max     20000.000000        9999.000000   20000.000000  150000.000000   \n",
       "\n",
       "       registration_month  \n",
       "count       354364.000000  \n",
       "mean             5.714641  \n",
       "std              3.726433  \n",
       "min              0.000000  \n",
       "25%              3.000000  \n",
       "50%              6.000000  \n",
       "75%              9.000000  \n",
       "max             12.000000  "
      ]
     },
     "execution_count": 15,
     "metadata": {},
     "output_type": "execute_result"
    }
   ],
   "source": [
    "df.describe()"
   ]
  },
  {
   "cell_type": "code",
   "execution_count": 16,
   "id": "ecd2860e",
   "metadata": {},
   "outputs": [
    {
     "data": {
      "image/png": "[encoded data removed]",
      "text/plain": [
       "<Figure size 432x288 with 1 Axes>"
      ]
     },
     "metadata": {
      "needs_background": "light"
     },
     "output_type": "display_data"
    }
   ],
   "source": [
    "df['price'].hist(bins=100, range=(0, 400))\n",
    "plt.xlabel('Цена')\n",
    "plt.ylabel('Количество обьявлений')\n",
    "plt.show()"
   ]
  },
  {
   "cell_type": "code",
   "execution_count": 17,
   "id": "2c40cfbf",
   "metadata": {},
   "outputs": [],
   "source": [
    "df = df.query('price >= 100')"
   ]
  },
  {
   "cell_type": "markdown",
   "id": "548153d6",
   "metadata": {},
   "source": [
    "Изучив гистограмму, я приняла решение, что значения ниже 100 евро это выбросы, и их необходимо отбросить."
   ]
  },
  {
   "cell_type": "code",
   "execution_count": 18,
   "id": "1df115f7",
   "metadata": {},
   "outputs": [
    {
     "data": {
      "image/png": "[encoded data removed]",
      "text/plain": [
       "<Figure size 432x288 with 1 Axes>"
      ]
     },
     "metadata": {
      "needs_background": "light"
     },
     "output_type": "display_data"
    }
   ],
   "source": [
    "df['registration_year'].hist(bins=100, range=(2016, 2022))\n",
    "plt.xlabel('Год регистрации')\n",
    "plt.ylabel('Количество обьявлений')\n",
    "plt.show()"
   ]
  },
  {
   "cell_type": "code",
   "execution_count": 19,
   "id": "aa8315ed",
   "metadata": {},
   "outputs": [],
   "source": [
    "df = df.query('registration_year >= 1960 & registration_year <= 2016')"
   ]
  },
  {
   "cell_type": "markdown",
   "id": "07f22069",
   "metadata": {},
   "source": [
    "Изучив гистограмму, я приняла решение, что значения ниже 1960 и выше 2016 года это выбросы, и их необходимо отбросит"
   ]
  },
  {
   "cell_type": "code",
   "execution_count": 20,
   "id": "af6e8c5d",
   "metadata": {},
   "outputs": [
    {
     "data": {
      "image/png": "[encoded data removed]",
      "text/plain": [
       "<Figure size 432x288 with 1 Axes>"
      ]
     },
     "metadata": {
      "needs_background": "light"
     },
     "output_type": "display_data"
    }
   ],
   "source": [
    "df['power'].hist(bins=100, range=(600, 610))\n",
    "plt.show()"
   ]
  },
  {
   "cell_type": "code",
   "execution_count": 21,
   "id": "c810bd7a",
   "metadata": {},
   "outputs": [],
   "source": [
    "df = df.query('power >= 34 & power <= 600')"
   ]
  },
  {
   "cell_type": "markdown",
   "id": "d8be7e61",
   "metadata": {},
   "source": [
    "Изучив гистограмму и дополнительные материалы, я приняла решение, что значения ниже 34 л.с. и выше 600 л.с. это выбросы, и их необходимо отбросит"
   ]
  },
  {
   "cell_type": "code",
   "execution_count": 22,
   "id": "07226621",
   "metadata": {},
   "outputs": [
    {
     "data": {
      "image/png": "[encoded data removed]",
      "text/plain": [
       "<Figure size 432x288 with 1 Axes>"
      ]
     },
     "metadata": {
      "needs_background": "light"
     },
     "output_type": "display_data"
    }
   ],
   "source": [
    "df['registration_month'].hist(bins=30)\n",
    "plt.show()"
   ]
  },
  {
   "cell_type": "code",
   "execution_count": 23,
   "id": "5a31a3fc",
   "metadata": {},
   "outputs": [],
   "source": [
    "df = df.query('registration_month != 0')"
   ]
  },
  {
   "cell_type": "markdown",
   "id": "d904af70",
   "metadata": {},
   "source": [
    "В данном столбце значения не могут быть 0, так как это обозначения месяца, и заменить их на любой другой мы не можем, я приняла решение удалить 0-е значения, так как это всего 6% значений"
   ]
  },
  {
   "cell_type": "code",
   "execution_count": 24,
   "id": "ceafbc36",
   "metadata": {},
   "outputs": [
    {
     "data": {
      "text/html": [
       "<div>\n",
       "<style scoped>\n",
       "    .dataframe tbody tr th:only-of-type {\n",
       "        vertical-align: middle;\n",
       "    }\n",
       "\n",
       "    .dataframe tbody tr th {\n",
       "        vertical-align: top;\n",
       "    }\n",
       "\n",
       "    .dataframe thead th {\n",
       "        text-align: right;\n",
       "    }\n",
       "</style>\n",
       "<table border=\"1\" class=\"dataframe\">\n",
       "  <thead>\n",
       "    <tr style=\"text-align: right;\">\n",
       "      <th></th>\n",
       "      <th>price</th>\n",
       "      <th>registration_year</th>\n",
       "      <th>power</th>\n",
       "      <th>kilometer</th>\n",
       "      <th>registration_month</th>\n",
       "    </tr>\n",
       "  </thead>\n",
       "  <tbody>\n",
       "    <tr>\n",
       "      <th>count</th>\n",
       "      <td>276848.000000</td>\n",
       "      <td>276848.000000</td>\n",
       "      <td>276848.000000</td>\n",
       "      <td>276848.000000</td>\n",
       "      <td>276848.000000</td>\n",
       "    </tr>\n",
       "    <tr>\n",
       "      <th>mean</th>\n",
       "      <td>5030.192864</td>\n",
       "      <td>2003.052234</td>\n",
       "      <td>121.616504</td>\n",
       "      <td>128001.249783</td>\n",
       "      <td>6.382101</td>\n",
       "    </tr>\n",
       "    <tr>\n",
       "      <th>std</th>\n",
       "      <td>4650.853438</td>\n",
       "      <td>6.266217</td>\n",
       "      <td>53.753729</td>\n",
       "      <td>36649.000725</td>\n",
       "      <td>3.347366</td>\n",
       "    </tr>\n",
       "    <tr>\n",
       "      <th>min</th>\n",
       "      <td>100.000000</td>\n",
       "      <td>1960.000000</td>\n",
       "      <td>34.000000</td>\n",
       "      <td>5000.000000</td>\n",
       "      <td>1.000000</td>\n",
       "    </tr>\n",
       "    <tr>\n",
       "      <th>25%</th>\n",
       "      <td>1450.000000</td>\n",
       "      <td>1999.000000</td>\n",
       "      <td>80.000000</td>\n",
       "      <td>125000.000000</td>\n",
       "      <td>4.000000</td>\n",
       "    </tr>\n",
       "    <tr>\n",
       "      <th>50%</th>\n",
       "      <td>3400.000000</td>\n",
       "      <td>2003.000000</td>\n",
       "      <td>114.000000</td>\n",
       "      <td>150000.000000</td>\n",
       "      <td>6.000000</td>\n",
       "    </tr>\n",
       "    <tr>\n",
       "      <th>75%</th>\n",
       "      <td>7299.000000</td>\n",
       "      <td>2007.000000</td>\n",
       "      <td>150.000000</td>\n",
       "      <td>150000.000000</td>\n",
       "      <td>9.000000</td>\n",
       "    </tr>\n",
       "    <tr>\n",
       "      <th>max</th>\n",
       "      <td>20000.000000</td>\n",
       "      <td>2016.000000</td>\n",
       "      <td>600.000000</td>\n",
       "      <td>150000.000000</td>\n",
       "      <td>12.000000</td>\n",
       "    </tr>\n",
       "  </tbody>\n",
       "</table>\n",
       "</div>"
      ],
      "text/plain": [
       "               price  registration_year          power      kilometer  \\\n",
       "count  276848.000000      276848.000000  276848.000000  276848.000000   \n",
       "mean     5030.192864        2003.052234     121.616504  128001.249783   \n",
       "std      4650.853438           6.266217      53.753729   36649.000725   \n",
       "min       100.000000        1960.000000      34.000000    5000.000000   \n",
       "25%      1450.000000        1999.000000      80.000000  125000.000000   \n",
       "50%      3400.000000        2003.000000     114.000000  150000.000000   \n",
       "75%      7299.000000        2007.000000     150.000000  150000.000000   \n",
       "max     20000.000000        2016.000000     600.000000  150000.000000   \n",
       "\n",
       "       registration_month  \n",
       "count       276848.000000  \n",
       "mean             6.382101  \n",
       "std              3.347366  \n",
       "min              1.000000  \n",
       "25%              4.000000  \n",
       "50%              6.000000  \n",
       "75%              9.000000  \n",
       "max             12.000000  "
      ]
     },
     "execution_count": 24,
     "metadata": {},
     "output_type": "execute_result"
    }
   ],
   "source": [
    "#КОД РЕВЬЮЕРА\n",
    "\n",
    "df.describe()"
   ]
  },
  {
   "cell_type": "markdown",
   "id": "5561c686",
   "metadata": {},
   "source": [
    "Подготовим данные для обучения"
   ]
  },
  {
   "cell_type": "code",
   "execution_count": 25,
   "id": "ae941fd7",
   "metadata": {},
   "outputs": [],
   "source": [
    "# выделяем целевые признаки в выборках\n",
    "target = df['price']\n",
    "features= df.drop(['price'], axis = 1)"
   ]
  },
  {
   "cell_type": "code",
   "execution_count": 26,
   "id": "88ee4f88",
   "metadata": {},
   "outputs": [],
   "source": [
    "# разбиваем данные на тестовую и обучающую выборки\n",
    "target_train, target_test, features_train, features_test = train_test_split(target, features, test_size=0.25, random_state=12345)"
   ]
  },
  {
   "cell_type": "code",
   "execution_count": 27,
   "id": "a80f3b57",
   "metadata": {},
   "outputs": [
    {
     "name": "stderr",
     "output_type": "stream",
     "text": [
      "/tmp/ipykernel_31/1633553815.py:4: SettingWithCopyWarning: \n",
      "A value is trying to be set on a copy of a slice from a DataFrame.\n",
      "Try using .loc[row_indexer,col_indexer] = value instead\n",
      "\n",
      "See the caveats in the documentation: https://pandas.pydata.org/pandas-docs/stable/user_guide/indexing.html#returning-a-view-versus-a-copy\n",
      "  features_test[['vehicle_type', 'gearbox', 'model', 'fuel_type', 'brand', 'not_repaired']] = enc.transform(features_test[['vehicle_type', 'gearbox', 'model', 'fuel_type', 'brand', 'not_repaired']])\n",
      "/opt/conda/lib/python3.9/site-packages/pandas/core/indexing.py:1738: SettingWithCopyWarning: \n",
      "A value is trying to be set on a copy of a slice from a DataFrame.\n",
      "Try using .loc[row_indexer,col_indexer] = value instead\n",
      "\n",
      "See the caveats in the documentation: https://pandas.pydata.org/pandas-docs/stable/user_guide/indexing.html#returning-a-view-versus-a-copy\n",
      "  self._setitem_single_column(loc, value[:, i].tolist(), pi)\n",
      "/tmp/ipykernel_31/1633553815.py:6: SettingWithCopyWarning: \n",
      "A value is trying to be set on a copy of a slice from a DataFrame.\n",
      "Try using .loc[row_indexer,col_indexer] = value instead\n",
      "\n",
      "See the caveats in the documentation: https://pandas.pydata.org/pandas-docs/stable/user_guide/indexing.html#returning-a-view-versus-a-copy\n",
      "  features_train[['vehicle_type', 'gearbox', 'model', 'fuel_type', 'brand', 'not_repaired']] = enc.transform(features_train[['vehicle_type', 'gearbox', 'model', 'fuel_type', 'brand', 'not_repaired']])\n",
      "/opt/conda/lib/python3.9/site-packages/pandas/core/indexing.py:1738: SettingWithCopyWarning: \n",
      "A value is trying to be set on a copy of a slice from a DataFrame.\n",
      "Try using .loc[row_indexer,col_indexer] = value instead\n",
      "\n",
      "See the caveats in the documentation: https://pandas.pydata.org/pandas-docs/stable/user_guide/indexing.html#returning-a-view-versus-a-copy\n",
      "  self._setitem_single_column(loc, value[:, i].tolist(), pi)\n"
     ]
    }
   ],
   "source": [
    "# вполняем кодирование категориальных значений в данных\n",
    "enc = OrdinalEncoder()\n",
    "enc.fit(features_test[['vehicle_type', 'gearbox', 'model', 'fuel_type', 'brand', 'not_repaired']])\n",
    "features_test[['vehicle_type', 'gearbox', 'model', 'fuel_type', 'brand', 'not_repaired']] = enc.transform(features_test[['vehicle_type', 'gearbox', 'model', 'fuel_type', 'brand', 'not_repaired']])\n",
    "enc.fit(features_train[['vehicle_type', 'gearbox', 'model', 'fuel_type', 'brand', 'not_repaired']])\n",
    "features_train[['vehicle_type', 'gearbox', 'model', 'fuel_type', 'brand', 'not_repaired']] = enc.transform(features_train[['vehicle_type', 'gearbox', 'model', 'fuel_type', 'brand', 'not_repaired']])"
   ]
  },
  {
   "cell_type": "markdown",
   "id": "91963091",
   "metadata": {},
   "source": [
    "Вывод:\n",
    "Изучив данные было выявлено несколько проблем: дубликаты, пропуски, выбросы. Данные были очищены, обработаны, и в итоге предобработаны для машинного обучения.    "
   ]
  },
  {
   "cell_type": "markdown",
   "id": "a5ece1d1",
   "metadata": {},
   "source": [
    "## Обучение моделей"
   ]
  },
  {
   "cell_type": "markdown",
   "id": "d8ef2815",
   "metadata": {},
   "source": [
    "### LinearRegression"
   ]
  },
  {
   "cell_type": "markdown",
   "id": "0a19744e",
   "metadata": {},
   "source": [
    "Обучаем модель LinearRegression и оцениваем качество "
   ]
  },
  {
   "cell_type": "code",
   "execution_count": 28,
   "id": "4e6b7517",
   "metadata": {},
   "outputs": [
    {
     "name": "stdout",
     "output_type": "stream",
     "text": [
      "sMAPE =  -2948.614278575844\n"
     ]
    }
   ],
   "source": [
    "model = LinearRegression()\n",
    "scores =  cross_val_score(model, features_train, target_train, cv = 20, scoring = 'neg_root_mean_squared_error')\n",
    "final_score = scores.mean()\n",
    "print('RMSE =', final_score)"
   ]
  },
  {
   "cell_type": "markdown",
   "id": "7c0bb529",
   "metadata": {},
   "source": [
    "Вычислим скорость предсказания"
   ]
  },
  {
   "cell_type": "code",
   "execution_count": 29,
   "id": "9e43e6cb",
   "metadata": {},
   "outputs": [
    {
     "name": "stdout",
     "output_type": "stream",
     "text": [
      "CPU times: user 86.7 ms, sys: 42.3 ms, total: 129 ms\n",
      "Wall time: 193 ms\n"
     ]
    },
    {
     "data": {
      "text/plain": [
       "LinearRegression()"
      ]
     },
     "execution_count": 29,
     "metadata": {},
     "output_type": "execute_result"
    }
   ],
   "source": [
    "%%time\n",
    "model.fit(features_train, target_train)"
   ]
  },
  {
   "cell_type": "code",
   "execution_count": 30,
   "id": "462e2616",
   "metadata": {},
   "outputs": [
    {
     "name": "stdout",
     "output_type": "stream",
     "text": [
      "CPU times: user 26.6 ms, sys: 845 µs, total: 27.5 ms\n",
      "Wall time: 7 ms\n"
     ]
    },
    {
     "data": {
      "text/plain": [
       "array([2554.50147061, 7449.05755705, 7439.62292175, ..., 4272.26427132,\n",
       "       1114.66999916, 3922.70373914])"
      ]
     },
     "execution_count": 30,
     "metadata": {},
     "output_type": "execute_result"
    }
   ],
   "source": [
    "%%time\n",
    "model.predict(features_test)"
   ]
  },
  {
   "cell_type": "markdown",
   "id": "3a099518",
   "metadata": {},
   "source": [
    "### LGBMRegressor"
   ]
  },
  {
   "cell_type": "markdown",
   "id": "f3d8fc0f",
   "metadata": {},
   "source": [
    "Обучаем модель LGBMRegressor и оцениваем качество "
   ]
  },
  {
   "cell_type": "code",
   "execution_count": 39,
   "id": "6663d615",
   "metadata": {},
   "outputs": [
    {
     "data": {
      "text/plain": [
       "{'max_depth': 10, 'n_estimators': 44}"
      ]
     },
     "execution_count": 39,
     "metadata": {},
     "output_type": "execute_result"
    }
   ],
   "source": [
    "model = LGBMRegressor()\n",
    "parametrs = {'max_depth': range (5, 15, 1),'n_estimators': range (35, 45, 1)}\n",
    "grid = GridSearchCV(model, parametrs, cv = 20, scoring = 'neg_root_mean_squared_error')\n",
    "grid.fit(features_train, target_train)\n",
    "grid.best_params_"
   ]
  },
  {
   "cell_type": "markdown",
   "id": "2db15ddf",
   "metadata": {},
   "source": [
    "Вычислим скорость предсказания"
   ]
  },
  {
   "cell_type": "code",
   "execution_count": 51,
   "id": "1b628988",
   "metadata": {},
   "outputs": [],
   "source": [
    "model = LGBMRegressor(random_state = 12345, max_depth = 10, n_estimators = 44)"
   ]
  },
  {
   "cell_type": "code",
   "execution_count": 45,
   "id": "d1ceee8c",
   "metadata": {},
   "outputs": [
    {
     "name": "stdout",
     "output_type": "stream",
     "text": [
      "CPU times: user 28.3 s, sys: 171 ms, total: 28.5 s\n",
      "Wall time: 28.7 s\n"
     ]
    },
    {
     "data": {
      "text/plain": [
       "LGBMRegressor(learning_rate=0.2, n_estimators=1000, random_state=12345)"
      ]
     },
     "execution_count": 45,
     "metadata": {},
     "output_type": "execute_result"
    }
   ],
   "source": [
    "%%time\n",
    "model.fit(features_train, target_train)"
   ]
  },
  {
   "cell_type": "code",
   "execution_count": 46,
   "id": "d52ab8a7",
   "metadata": {},
   "outputs": [
    {
     "name": "stdout",
     "output_type": "stream",
     "text": [
      "CPU times: user 5.92 s, sys: 10.1 ms, total: 5.93 s\n",
      "Wall time: 5.92 s\n"
     ]
    }
   ],
   "source": [
    "%%time\n",
    "prediction = model.predict(features_test)"
   ]
  },
  {
   "cell_type": "code",
   "execution_count": 47,
   "id": "fe750639",
   "metadata": {},
   "outputs": [
    {
     "name": "stdout",
     "output_type": "stream",
     "text": [
      "RMSE = 1510.8244361100071\n"
     ]
    }
   ],
   "source": [
    "print('RMSE =', mean_squared_error(target_test, prediction)**0.5)"
   ]
  },
  {
   "cell_type": "code",
   "execution_count": 44,
   "id": "7a33776d",
   "metadata": {},
   "outputs": [],
   "source": [
    "model = LGBMRegressor(random_state = 12345, learning_rate=0.2, n_estimators=1000)"
   ]
  },
  {
   "cell_type": "markdown",
   "id": "65257894",
   "metadata": {},
   "source": [
    "### DecisionTree"
   ]
  },
  {
   "cell_type": "markdown",
   "id": "ae72d17e",
   "metadata": {},
   "source": [
    "Подбираем гиперпараметры для модели DecisionTree, обучаем модель и оцениваем качество"
   ]
  },
  {
   "cell_type": "code",
   "execution_count": 32,
   "id": "d4f56f2e",
   "metadata": {},
   "outputs": [
    {
     "data": {
      "text/plain": [
       "{'max_depth': 19, 'min_samples_leaf': 9}"
      ]
     },
     "execution_count": 32,
     "metadata": {},
     "output_type": "execute_result"
    }
   ],
   "source": [
    "model = DecisionTreeRegressor()\n",
    "parametrs = {'max_depth': range (5, 20, 1),'min_samples_leaf': range (5, 15, 1)}\n",
    "grid = GridSearchCV(model, parametrs, cv = 20, scoring = 'neg_root_mean_squared_error')\n",
    "grid.fit(features_train, target_train)\n",
    "grid.best_params_"
   ]
  },
  {
   "cell_type": "code",
   "execution_count": 55,
   "id": "717f7d78",
   "metadata": {},
   "outputs": [],
   "source": [
    "model = DecisionTreeRegressor(random_state = 12345, max_depth = 19, min_samples_leaf = 9)"
   ]
  },
  {
   "cell_type": "code",
   "execution_count": 56,
   "id": "65d1b067",
   "metadata": {},
   "outputs": [
    {
     "name": "stdout",
     "output_type": "stream",
     "text": [
      "CPU times: user 605 ms, sys: 3.98 ms, total: 609 ms\n",
      "Wall time: 607 ms\n"
     ]
    },
    {
     "data": {
      "text/plain": [
       "DecisionTreeRegressor(max_depth=19, min_samples_leaf=9, random_state=12345)"
      ]
     },
     "execution_count": 56,
     "metadata": {},
     "output_type": "execute_result"
    }
   ],
   "source": [
    "%%time\n",
    "model.fit(features_train, target_train)"
   ]
  },
  {
   "cell_type": "code",
   "execution_count": 59,
   "id": "db8ac805",
   "metadata": {},
   "outputs": [
    {
     "name": "stdout",
     "output_type": "stream",
     "text": [
      "CPU times: user 20 ms, sys: 17 µs, total: 20 ms\n",
      "Wall time: 18.4 ms\n"
     ]
    }
   ],
   "source": [
    "%%time\n",
    "prediction = model.predict(features_test)"
   ]
  },
  {
   "cell_type": "code",
   "execution_count": 60,
   "id": "551878ec",
   "metadata": {},
   "outputs": [
    {
     "name": "stdout",
     "output_type": "stream",
     "text": [
      "RMSE = 1840.5268072454803\n"
     ]
    }
   ],
   "source": [
    "print('RMSE =', mean_squared_error(prediction, target_test)**0.5)"
   ]
  },
  {
   "cell_type": "markdown",
   "id": "af394a4e",
   "metadata": {},
   "source": [
    "### RandomForest"
   ]
  },
  {
   "cell_type": "markdown",
   "id": "6e75018c",
   "metadata": {},
   "source": [
    "Подбираем гиперпараметры для модели RandomForest, обучаем модель и оцениваем качество"
   ]
  },
  {
   "cell_type": "code",
   "execution_count": 33,
   "id": "f2947696",
   "metadata": {},
   "outputs": [
    {
     "data": {
      "text/plain": [
       "{'min_samples_leaf': 15, 'n_estimators': 9}"
      ]
     },
     "execution_count": 33,
     "metadata": {},
     "output_type": "execute_result"
    }
   ],
   "source": [
    "model = RandomForestRegressor()\n",
    "parametrs = {'n_estimators': range (1, 10, 1), 'min_samples_leaf': range (15, 25, 1)}\n",
    "grid = GridSearchCV(model, parametrs, cv = 20, scoring = 'neg_root_mean_squared_error')\n",
    "grid.fit(features_train, target_train)\n",
    "grid.best_params_"
   ]
  },
  {
   "cell_type": "code",
   "execution_count": 36,
   "id": "b906cbc2",
   "metadata": {},
   "outputs": [],
   "source": [
    "model = RandomForestRegressor(random_state = 12345, n_estimators = 9, min_samples_leaf = 15)"
   ]
  },
  {
   "cell_type": "code",
   "execution_count": 37,
   "id": "b6ddbc5e",
   "metadata": {},
   "outputs": [
    {
     "name": "stdout",
     "output_type": "stream",
     "text": [
      "CPU times: user 3.48 s, sys: 5.63 ms, total: 3.48 s\n",
      "Wall time: 3.48 s\n"
     ]
    },
    {
     "data": {
      "text/plain": [
       "RandomForestRegressor(min_samples_leaf=15, n_estimators=9, random_state=12345)"
      ]
     },
     "execution_count": 37,
     "metadata": {},
     "output_type": "execute_result"
    }
   ],
   "source": [
    "%%time\n",
    "model.fit(features_train, target_train)"
   ]
  },
  {
   "cell_type": "code",
   "execution_count": 38,
   "id": "f530bcd1",
   "metadata": {},
   "outputs": [
    {
     "name": "stdout",
     "output_type": "stream",
     "text": [
      "CPU times: user 101 ms, sys: 3.8 ms, total: 105 ms\n",
      "Wall time: 111 ms\n"
     ]
    }
   ],
   "source": [
    "%%time\n",
    "prediction = model.predict(features_test)"
   ]
  },
  {
   "cell_type": "code",
   "execution_count": 39,
   "id": "7c58b474",
   "metadata": {},
   "outputs": [
    {
     "name": "stdout",
     "output_type": "stream",
     "text": [
      "RMSE = 1677.9848841774717\n"
     ]
    }
   ],
   "source": [
    "print('RMSE =', mean_squared_error(prediction, target_test)**0.5)"
   ]
  },
  {
   "cell_type": "markdown",
   "id": "88fcc0e6",
   "metadata": {},
   "source": [
    "## Анализ скорости работы и качества моделей"
   ]
  },
  {
   "cell_type": "code",
   "execution_count": 65,
   "id": "b4eab2d6",
   "metadata": {},
   "outputs": [
    {
     "data": {
      "text/html": [
       "<div>\n",
       "<style scoped>\n",
       "    .dataframe tbody tr th:only-of-type {\n",
       "        vertical-align: middle;\n",
       "    }\n",
       "\n",
       "    .dataframe tbody tr th {\n",
       "        vertical-align: top;\n",
       "    }\n",
       "\n",
       "    .dataframe thead th {\n",
       "        text-align: right;\n",
       "    }\n",
       "</style>\n",
       "<table border=\"1\" class=\"dataframe\">\n",
       "  <thead>\n",
       "    <tr style=\"text-align: right;\">\n",
       "      <th></th>\n",
       "      <th>fit_time</th>\n",
       "      <th>predict_time</th>\n",
       "      <th>RMSE</th>\n",
       "    </tr>\n",
       "  </thead>\n",
       "  <tbody>\n",
       "    <tr>\n",
       "      <th>LinearRegression</th>\n",
       "      <td>128 ms.</td>\n",
       "      <td>27.5 ms.</td>\n",
       "      <td>2949</td>\n",
       "    </tr>\n",
       "    <tr>\n",
       "      <th>LGBMRegressor</th>\n",
       "      <td>2.21 s.</td>\n",
       "      <td>240 ms.</td>\n",
       "      <td>1847</td>\n",
       "    </tr>\n",
       "    <tr>\n",
       "      <th>DecisionTree</th>\n",
       "      <td>609 ms.</td>\n",
       "      <td>20 ms.</td>\n",
       "      <td>1840</td>\n",
       "    </tr>\n",
       "    <tr>\n",
       "      <th>RandomForest</th>\n",
       "      <td>3.57 s.</td>\n",
       "      <td>108 ms.</td>\n",
       "      <td>1726</td>\n",
       "    </tr>\n",
       "  </tbody>\n",
       "</table>\n",
       "</div>"
      ],
      "text/plain": [
       "                 fit_time predict_time  RMSE\n",
       "LinearRegression  128 ms.     27.5 ms.  2949\n",
       "LGBMRegressor     2.21 s.      240 ms.  1847\n",
       "DecisionTree      609 ms.       20 ms.  1840\n",
       "RandomForest      3.57 s.      108 ms.  1726"
      ]
     },
     "execution_count": 65,
     "metadata": {},
     "output_type": "execute_result"
    }
   ],
   "source": [
    "data = [['128 ms.', '27.5 ms.', 2949],\n",
    "        ['2.21 s.', '240 ms.', 1847],\n",
    "        ['609 ms.', '20 ms.', 1840],\n",
    "        ['3.57 s.', '108 ms.', 1726]]\n",
    "model = ['LinearRegression', 'LGBMRegressor', 'DecisionTree', 'RandomForest']\n",
    "\n",
    "pd.DataFrame(data = data, index = model, columns = ['fit_time', 'predict_time', 'RMSE'])"
   ]
  },
  {
   "cell_type": "markdown",
   "id": "568c1b88",
   "metadata": {},
   "source": [
    "По итогу обучения моделей мы получили данные, о качестве моделей, скорости предсказаний и времени обучения. Проанализировав полученные данные я могу рекомендавать заказчику использовать модель RandomForest для определения стоимости авто, так как она показывает не первый, но и не последний по скорости результат, и первый по качеству, что делает ее оптимальной среди всех моделей."
   ]
  }
 ],
 "metadata": {
  "ExecuteTimeLog": [
   {
    "duration": 1342,
    "start_time": "2022-06-23T20:34:21.862Z"
   },
   {
    "duration": 761,
    "start_time": "2022-06-23T20:34:23.205Z"
   },
   {
    "duration": 24,
    "start_time": "2022-06-23T20:34:26.133Z"
   },
   {
    "duration": 130,
    "start_time": "2022-06-23T20:34:26.538Z"
   },
   {
    "duration": 5,
    "start_time": "2022-06-23T20:34:27.029Z"
   },
   {
    "duration": 117,
    "start_time": "2022-06-23T20:34:27.378Z"
   },
   {
    "duration": 191,
    "start_time": "2022-06-23T20:34:27.754Z"
   },
   {
    "duration": 50,
    "start_time": "2022-06-23T20:34:28.810Z"
   },
   {
    "duration": 50,
    "start_time": "2022-06-23T20:34:29.489Z"
   },
   {
    "duration": 48,
    "start_time": "2022-06-23T20:34:29.930Z"
   },
   {
    "duration": 448,
    "start_time": "2022-06-23T20:34:30.418Z"
   },
   {
    "duration": 523,
    "start_time": "2022-06-23T20:34:31.098Z"
   },
   {
    "duration": 33,
    "start_time": "2022-06-23T20:34:32.534Z"
   },
   {
    "duration": 72,
    "start_time": "2022-06-23T20:34:32.834Z"
   },
   {
    "duration": 267,
    "start_time": "2022-06-23T20:34:33.488Z"
   },
   {
    "duration": 33,
    "start_time": "2022-06-23T20:34:33.757Z"
   },
   {
    "duration": 236,
    "start_time": "2022-06-23T20:34:33.934Z"
   },
   {
    "duration": 34,
    "start_time": "2022-06-23T20:34:34.194Z"
   },
   {
    "duration": 273,
    "start_time": "2022-06-23T20:34:34.766Z"
   },
   {
    "duration": 26,
    "start_time": "2022-06-23T20:34:35.193Z"
   },
   {
    "duration": 143,
    "start_time": "2022-06-23T20:34:36.038Z"
   },
   {
    "duration": 23,
    "start_time": "2022-06-23T20:34:36.185Z"
   },
   {
    "duration": 57,
    "start_time": "2022-06-23T20:34:36.789Z"
   },
   {
    "duration": 49,
    "start_time": "2022-06-24T04:35:03.393Z"
   },
   {
    "duration": 1748,
    "start_time": "2022-06-24T04:35:13.228Z"
   },
   {
    "duration": 1101,
    "start_time": "2022-06-24T04:35:14.978Z"
   },
   {
    "duration": 24,
    "start_time": "2022-06-24T04:35:16.081Z"
   },
   {
    "duration": 184,
    "start_time": "2022-06-24T04:35:16.107Z"
   },
   {
    "duration": 6,
    "start_time": "2022-06-24T04:35:16.292Z"
   },
   {
    "duration": 129,
    "start_time": "2022-06-24T04:35:17.220Z"
   },
   {
    "duration": 207,
    "start_time": "2022-06-24T04:35:19.680Z"
   },
   {
    "duration": 54,
    "start_time": "2022-06-24T04:35:23.429Z"
   },
   {
    "duration": 48,
    "start_time": "2022-06-24T04:35:24.315Z"
   },
   {
    "duration": 53,
    "start_time": "2022-06-24T04:35:24.747Z"
   },
   {
    "duration": 402,
    "start_time": "2022-06-24T04:35:25.671Z"
   },
   {
    "duration": 469,
    "start_time": "2022-06-24T04:35:27.889Z"
   },
   {
    "duration": 35,
    "start_time": "2022-06-24T04:35:29.827Z"
   },
   {
    "duration": 73,
    "start_time": "2022-06-24T04:35:30.787Z"
   },
   {
    "duration": 252,
    "start_time": "2022-06-24T04:35:32.841Z"
   },
   {
    "duration": 33,
    "start_time": "2022-06-24T04:35:33.303Z"
   },
   {
    "duration": 217,
    "start_time": "2022-06-24T04:35:37.459Z"
   },
   {
    "duration": 306,
    "start_time": "2022-06-24T04:35:55.838Z"
   },
   {
    "duration": 222,
    "start_time": "2022-06-24T04:36:14.906Z"
   },
   {
    "duration": 240,
    "start_time": "2022-06-24T04:36:29.738Z"
   },
   {
    "duration": 34,
    "start_time": "2022-06-24T04:37:03.190Z"
   },
   {
    "duration": 205,
    "start_time": "2022-06-24T04:37:20.387Z"
   },
   {
    "duration": 28,
    "start_time": "2022-06-24T04:37:22.835Z"
   },
   {
    "duration": 157,
    "start_time": "2022-06-24T04:37:24.271Z"
   },
   {
    "duration": 22,
    "start_time": "2022-06-24T04:37:30.938Z"
   },
   {
    "duration": 52,
    "start_time": "2022-06-24T04:37:32.831Z"
   },
   {
    "duration": 11,
    "start_time": "2022-06-24T04:39:29.846Z"
   },
   {
    "duration": 14,
    "start_time": "2022-06-24T04:39:33.609Z"
   },
   {
    "duration": 56,
    "start_time": "2022-06-24T04:39:34.449Z"
   },
   {
    "duration": 126,
    "start_time": "2022-06-24T04:39:35.012Z"
   },
   {
    "duration": 290,
    "start_time": "2022-06-24T04:39:52.746Z"
   },
   {
    "duration": 829,
    "start_time": "2022-06-24T04:40:16.540Z"
   },
   {
    "duration": 44,
    "start_time": "2022-06-24T04:40:55.140Z"
   },
   {
    "duration": 4527,
    "start_time": "2022-06-24T04:41:06.203Z"
   },
   {
    "duration": 78,
    "start_time": "2022-06-24T04:41:12.054Z"
   },
   {
    "duration": 11,
    "start_time": "2022-06-24T04:41:12.912Z"
   },
   {
    "duration": 308895,
    "start_time": "2022-06-24T04:46:23.460Z"
   },
   {
    "duration": 0,
    "start_time": "2022-06-24T04:51:32.356Z"
   },
   {
    "duration": 16,
    "start_time": "2022-06-24T04:51:34.509Z"
   },
   {
    "duration": 17,
    "start_time": "2022-06-24T04:52:37.668Z"
   },
   {
    "duration": 278539,
    "start_time": "2022-06-24T04:52:53.022Z"
   },
   {
    "duration": 303513,
    "start_time": "2022-06-24T04:57:34.154Z"
   },
   {
    "duration": 47,
    "start_time": "2022-06-24T06:00:39.050Z"
   },
   {
    "duration": 1369,
    "start_time": "2022-06-24T06:00:53.873Z"
   },
   {
    "duration": 852,
    "start_time": "2022-06-24T06:00:55.245Z"
   },
   {
    "duration": 33,
    "start_time": "2022-06-24T06:00:56.099Z"
   },
   {
    "duration": 173,
    "start_time": "2022-06-24T06:00:56.135Z"
   },
   {
    "duration": 5,
    "start_time": "2022-06-24T06:00:56.310Z"
   },
   {
    "duration": 177,
    "start_time": "2022-06-24T06:00:56.327Z"
   },
   {
    "duration": 222,
    "start_time": "2022-06-24T06:00:56.506Z"
   },
   {
    "duration": 57,
    "start_time": "2022-06-24T06:00:56.730Z"
   },
   {
    "duration": 60,
    "start_time": "2022-06-24T06:00:57.068Z"
   },
   {
    "duration": 53,
    "start_time": "2022-06-24T06:00:57.244Z"
   },
   {
    "duration": 449,
    "start_time": "2022-06-24T06:00:57.410Z"
   },
   {
    "duration": 480,
    "start_time": "2022-06-24T06:00:57.861Z"
   },
   {
    "duration": 35,
    "start_time": "2022-06-24T06:00:58.558Z"
   },
   {
    "duration": 72,
    "start_time": "2022-06-24T06:00:59.082Z"
   },
   {
    "duration": 281,
    "start_time": "2022-06-24T06:00:59.179Z"
   },
   {
    "duration": 30,
    "start_time": "2022-06-24T06:00:59.462Z"
   },
   {
    "duration": 246,
    "start_time": "2022-06-24T06:00:59.987Z"
   },
   {
    "duration": 34,
    "start_time": "2022-06-24T06:01:00.235Z"
   },
   {
    "duration": 311,
    "start_time": "2022-06-24T06:01:00.516Z"
   },
   {
    "duration": 26,
    "start_time": "2022-06-24T06:01:00.829Z"
   },
   {
    "duration": 168,
    "start_time": "2022-06-24T06:01:01.232Z"
   },
   {
    "duration": 23,
    "start_time": "2022-06-24T06:01:01.427Z"
   },
   {
    "duration": 64,
    "start_time": "2022-06-24T06:01:02.055Z"
   },
   {
    "duration": 14,
    "start_time": "2022-06-24T06:01:03.635Z"
   },
   {
    "duration": 61,
    "start_time": "2022-06-24T06:01:03.867Z"
   },
   {
    "duration": 861,
    "start_time": "2022-06-24T06:01:04.079Z"
   },
   {
    "duration": 4415,
    "start_time": "2022-06-24T06:01:05.616Z"
   },
   {
    "duration": 200,
    "start_time": "2022-06-24T06:01:10.033Z"
   },
   {
    "duration": 93,
    "start_time": "2022-06-24T06:01:10.235Z"
   },
   {
    "duration": 3447585,
    "start_time": "2022-06-24T06:01:14.653Z"
   },
   {
    "duration": 1494250,
    "start_time": "2022-06-24T06:58:42.240Z"
   },
   {
    "duration": 3637536,
    "start_time": "2022-06-24T07:23:36.492Z"
   },
   {
    "duration": 25755,
    "start_time": "2022-06-24T10:34:38.930Z"
   },
   {
    "duration": 88,
    "start_time": "2022-06-24T10:35:04.687Z"
   },
   {
    "duration": 4,
    "start_time": "2022-06-24T10:36:11.350Z"
   },
   {
    "duration": 2263,
    "start_time": "2022-06-24T10:36:12.481Z"
   },
   {
    "duration": 163,
    "start_time": "2022-06-24T10:36:16.572Z"
   },
   {
    "duration": 7973205,
    "start_time": "2022-06-24T10:36:41.828Z"
   },
   {
    "duration": 57,
    "start_time": "2022-06-24T12:49:35.035Z"
   },
   {
    "duration": 4,
    "start_time": "2022-06-24T15:45:58.191Z"
   },
   {
    "duration": 20194,
    "start_time": "2022-06-24T15:45:58.840Z"
   },
   {
    "duration": 296,
    "start_time": "2022-06-24T15:46:19.036Z"
   },
   {
    "duration": 5,
    "start_time": "2022-06-24T15:47:01.857Z"
   },
   {
    "duration": 4,
    "start_time": "2022-06-24T15:47:32.531Z"
   },
   {
    "duration": 5,
    "start_time": "2022-06-24T15:47:47.272Z"
   },
   {
    "duration": 3,
    "start_time": "2022-06-24T15:47:52.189Z"
   },
   {
    "duration": 662,
    "start_time": "2022-06-24T15:47:52.918Z"
   },
   {
    "duration": 24,
    "start_time": "2022-06-24T15:47:54.154Z"
   },
   {
    "duration": 4,
    "start_time": "2022-06-24T15:47:54.888Z"
   },
   {
    "duration": 3,
    "start_time": "2022-06-24T15:48:09.409Z"
   },
   {
    "duration": 2231,
    "start_time": "2022-06-24T15:48:09.900Z"
   },
   {
    "duration": 295,
    "start_time": "2022-06-24T15:48:12.133Z"
   },
   {
    "duration": 4,
    "start_time": "2022-06-24T15:48:12.430Z"
   },
   {
    "duration": 3,
    "start_time": "2022-06-24T15:48:41.822Z"
   },
   {
    "duration": 611,
    "start_time": "2022-06-24T15:48:42.802Z"
   },
   {
    "duration": 22,
    "start_time": "2022-06-24T15:48:43.485Z"
   },
   {
    "duration": 4,
    "start_time": "2022-06-24T15:48:44.031Z"
   },
   {
    "duration": 22,
    "start_time": "2022-06-24T15:49:12.532Z"
   },
   {
    "duration": 5,
    "start_time": "2022-06-24T15:49:12.814Z"
   },
   {
    "duration": 3,
    "start_time": "2022-06-24T15:49:43.736Z"
   },
   {
    "duration": 3573,
    "start_time": "2022-06-24T15:49:45.419Z"
   },
   {
    "duration": 118,
    "start_time": "2022-06-24T15:49:48.994Z"
   },
   {
    "duration": 4,
    "start_time": "2022-06-24T15:49:49.114Z"
   },
   {
    "duration": 9,
    "start_time": "2022-06-24T15:51:23.322Z"
   },
   {
    "duration": 51,
    "start_time": "2022-06-24T15:54:54.369Z"
   },
   {
    "duration": 1776,
    "start_time": "2022-06-25T11:29:13.070Z"
   },
   {
    "duration": 1327,
    "start_time": "2022-06-25T11:29:15.507Z"
   },
   {
    "duration": 24,
    "start_time": "2022-06-25T11:29:19.375Z"
   },
   {
    "duration": 143,
    "start_time": "2022-06-25T11:29:20.240Z"
   },
   {
    "duration": 11,
    "start_time": "2022-06-25T11:29:21.533Z"
   },
   {
    "duration": 146,
    "start_time": "2022-06-25T11:29:22.454Z"
   },
   {
    "duration": 214,
    "start_time": "2022-06-25T11:29:23.478Z"
   },
   {
    "duration": 52,
    "start_time": "2022-06-25T11:29:25.045Z"
   },
   {
    "duration": 59,
    "start_time": "2022-06-25T11:29:25.722Z"
   },
   {
    "duration": 57,
    "start_time": "2022-06-25T11:29:26.126Z"
   },
   {
    "duration": 432,
    "start_time": "2022-06-25T11:29:26.866Z"
   },
   {
    "duration": 455,
    "start_time": "2022-06-25T11:29:27.300Z"
   },
   {
    "duration": 34,
    "start_time": "2022-06-25T11:29:30.806Z"
   },
   {
    "duration": 85,
    "start_time": "2022-06-25T11:29:32.010Z"
   },
   {
    "duration": 305,
    "start_time": "2022-06-25T11:29:33.058Z"
   },
   {
    "duration": 45,
    "start_time": "2022-06-25T11:29:34.218Z"
   },
   {
    "duration": 278,
    "start_time": "2022-06-25T11:29:35.918Z"
   },
   {
    "duration": 40,
    "start_time": "2022-06-25T11:29:41.661Z"
   },
   {
    "duration": 324,
    "start_time": "2022-06-25T11:29:42.519Z"
   },
   {
    "duration": 37,
    "start_time": "2022-06-25T11:29:42.845Z"
   },
   {
    "duration": 227,
    "start_time": "2022-06-25T11:29:43.987Z"
   },
   {
    "duration": 29,
    "start_time": "2022-06-25T11:29:44.347Z"
   },
   {
    "duration": 56,
    "start_time": "2022-06-25T11:29:45.545Z"
   },
   {
    "duration": 47,
    "start_time": "2022-06-28T16:48:49.776Z"
   },
   {
    "duration": 1472,
    "start_time": "2022-06-28T16:48:55.614Z"
   },
   {
    "duration": 1196,
    "start_time": "2022-06-28T16:48:57.089Z"
   },
   {
    "duration": 23,
    "start_time": "2022-06-28T16:48:58.287Z"
   },
   {
    "duration": 138,
    "start_time": "2022-06-28T16:48:58.312Z"
   },
   {
    "duration": 19,
    "start_time": "2022-06-28T16:48:58.451Z"
   },
   {
    "duration": 129,
    "start_time": "2022-06-28T16:48:58.474Z"
   },
   {
    "duration": 232,
    "start_time": "2022-06-28T16:48:58.605Z"
   },
   {
    "duration": 58,
    "start_time": "2022-06-28T16:48:59.929Z"
   },
   {
    "duration": 49,
    "start_time": "2022-06-28T16:49:00.600Z"
   },
   {
    "duration": 56,
    "start_time": "2022-06-28T16:49:00.954Z"
   },
   {
    "duration": 421,
    "start_time": "2022-06-28T16:49:01.309Z"
   },
   {
    "duration": 476,
    "start_time": "2022-06-28T16:49:01.732Z"
   },
   {
    "duration": 34,
    "start_time": "2022-06-28T16:49:04.372Z"
   },
   {
    "duration": 76,
    "start_time": "2022-06-28T16:49:05.107Z"
   },
   {
    "duration": 276,
    "start_time": "2022-06-28T16:49:05.797Z"
   },
   {
    "duration": 32,
    "start_time": "2022-06-28T16:49:07.003Z"
   },
   {
    "duration": 249,
    "start_time": "2022-06-28T16:49:08.424Z"
   },
   {
    "duration": 32,
    "start_time": "2022-06-28T16:49:09.018Z"
   },
   {
    "duration": 291,
    "start_time": "2022-06-28T16:49:09.884Z"
   },
   {
    "duration": 27,
    "start_time": "2022-06-28T16:49:10.254Z"
   },
   {
    "duration": 165,
    "start_time": "2022-06-28T16:49:11.376Z"
   },
   {
    "duration": 32,
    "start_time": "2022-06-28T16:49:11.738Z"
   },
   {
    "duration": 67,
    "start_time": "2022-06-28T16:49:12.954Z"
   },
   {
    "duration": 13,
    "start_time": "2022-06-28T16:49:16.320Z"
   },
   {
    "duration": 55,
    "start_time": "2022-06-28T16:49:16.793Z"
   },
   {
    "duration": 1001,
    "start_time": "2022-06-28T16:49:17.358Z"
   },
   {
    "duration": 2,
    "start_time": "2022-06-28T16:49:22.268Z"
   },
   {
    "duration": 363530,
    "start_time": "2022-06-28T16:49:24.354Z"
   },
   {
    "duration": 5504,
    "start_time": "2022-06-28T16:55:27.885Z"
   },
   {
    "duration": 4,
    "start_time": "2022-06-28T16:55:33.391Z"
   },
   {
    "duration": 6,
    "start_time": "2022-06-28T16:55:33.397Z"
   },
   {
    "duration": 10562,
    "start_time": "2022-06-28T16:55:33.404Z"
   },
   {
    "duration": 264,
    "start_time": "2022-06-28T16:55:43.967Z"
   },
   {
    "duration": 4,
    "start_time": "2022-06-28T16:55:44.233Z"
   },
   {
    "duration": 2,
    "start_time": "2022-06-28T16:59:06.583Z"
   },
   {
    "duration": 3488,
    "start_time": "2022-06-28T16:59:07.035Z"
   },
   {
    "duration": 113,
    "start_time": "2022-06-28T16:59:10.525Z"
   },
   {
    "duration": 4,
    "start_time": "2022-06-28T16:59:10.640Z"
   },
   {
    "duration": 3,
    "start_time": "2022-06-28T17:02:25.190Z"
   },
   {
    "duration": 26329,
    "start_time": "2022-06-28T17:02:26.030Z"
   },
   {
    "duration": 5710,
    "start_time": "2022-06-28T17:02:52.361Z"
   },
   {
    "duration": 4,
    "start_time": "2022-06-28T17:02:58.073Z"
   },
   {
    "duration": 3,
    "start_time": "2022-06-28T17:04:52.067Z"
   },
   {
    "duration": 28684,
    "start_time": "2022-06-28T17:04:53.085Z"
   },
   {
    "duration": 5934,
    "start_time": "2022-06-28T17:05:21.771Z"
   },
   {
    "duration": 5,
    "start_time": "2022-06-28T17:05:27.758Z"
   }
  ],
  "kernelspec": {
   "display_name": "Python 3 (ipykernel)",
   "language": "python",
   "name": "python3"
  },
  "language_info": {
   "codemirror_mode": {
    "name": "ipython",
    "version": 3
   },
   "file_extension": ".py",
   "mimetype": "text/x-python",
   "name": "python",
   "nbconvert_exporter": "python",
   "pygments_lexer": "ipython3",
   "version": "3.9.13"
  },
  "toc": {
   "base_numbering": 1,
   "nav_menu": {},
   "number_sections": true,
   "sideBar": true,
   "skip_h1_title": true,
   "title_cell": "Table of Contents",
   "title_sidebar": "Contents",
   "toc_cell": true,
   "toc_position": {
    "height": "calc(100% - 180px)",
    "left": "10px",
    "top": "150px",
    "width": "166.390625px"
   },
   "toc_section_display": true,
   "toc_window_display": true
  }
 },
 "nbformat": 4,
 "nbformat_minor": 5
}
